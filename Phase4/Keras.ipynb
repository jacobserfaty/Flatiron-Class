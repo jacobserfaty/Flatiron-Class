{
 "cells": [
  {
   "cell_type": "markdown",
   "metadata": {
    "slideshow": {
     "slide_type": "slide"
    }
   },
   "source": [
    "<div style=\"color:white;\n",
    "           display:fill;\n",
    "           border-radius:5px;\n",
    "           background-color:#5642C5;\n",
    "           font-size:200%;\n",
    "           font-family:Arial;letter-spacing:0.5px\">\n",
    "\n",
    "<p width = 20%, style=\"padding: 10px;\n",
    "              color:white;\">\n",
    "Neural Networks: Keras and Tensorflow\n",
    "</p>\n",
    "</div>\n",
    "\n",
    "Data Science Cohort Live NYC October 2023\n",
    "<p>Phase 4</p>\n",
    "<br>\n",
    "<br>\n",
    "\n",
    "<div align = \"right\">\n",
    "<img src=\"Images/flatiron-school-logo.png\" align = \"right\" width=\"200\"/>\n",
    "</div>\n",
    "    \n",
    "    "
   ]
  },
  {
   "cell_type": "code",
   "execution_count": 1,
   "metadata": {
    "slideshow": {
     "slide_type": "skip"
    }
   },
   "outputs": [
    {
     "name": "stdout",
     "output_type": "stream",
     "text": [
      "Intel MKL WARNING: Support of Intel(R) Streaming SIMD Extensions 4.2 (Intel(R) SSE4.2) enabled only processors has been deprecated. Intel oneAPI Math Kernel Library 2025.0 will require Intel(R) Advanced Vector Extensions (Intel(R) AVX) instructions.\n",
      "Intel MKL WARNING: Support of Intel(R) Streaming SIMD Extensions 4.2 (Intel(R) SSE4.2) enabled only processors has been deprecated. Intel oneAPI Math Kernel Library 2025.0 will require Intel(R) Advanced Vector Extensions (Intel(R) AVX) instructions.\n"
     ]
    }
   ],
   "source": [
    "\n",
    "import numpy as np\n",
    "import pandas as pd\n",
    "from matplotlib import pyplot as plt\n",
    "import matplotlib.image as mpimg\n",
    "from sklearn.model_selection import train_test_split\n",
    "from sklearn.datasets import load_digits, load_sample_images\n",
    "\n",
    "from sklearn.preprocessing import OneHotEncoder\n",
    "from sklearn.metrics import accuracy_score, confusion_matrix, classification_report\n",
    "from sklearn.metrics import ConfusionMatrixDisplay\n",
    "#from sklearn.metrics import plot_confusion_matrix\n",
    "import seaborn as sns\n"
   ]
  },
  {
   "cell_type": "markdown",
   "metadata": {
    "slideshow": {
     "slide_type": "slide"
    }
   },
   "source": [
    "#### Neural Networks: Packages"
   ]
  },
  {
   "cell_type": "markdown",
   "metadata": {
    "slideshow": {
     "slide_type": "fragment"
    }
   },
   "source": [
    "When manually implementing:\n",
    "\n",
    "- have to keep track of forward and backwards propagation for each layer:\n",
    "    - equations and updates depends on specific layer activations\n",
    "- manage caching updates to gradients and weights/activations appropriately"
   ]
  },
  {
   "cell_type": "markdown",
   "metadata": {
    "slideshow": {
     "slide_type": "slide"
    }
   },
   "source": [
    "**Deep Learning frameworks take care of this for us**"
   ]
  },
  {
   "cell_type": "markdown",
   "metadata": {
    "slideshow": {
     "slide_type": "fragment"
    }
   },
   "source": [
    "In addition:\n",
    "\n",
    "- efficient matrix math for speedup.\n",
    "- use variants of gradient descent that are **much** faster/better."
   ]
  },
  {
   "cell_type": "markdown",
   "metadata": {
    "slideshow": {
     "slide_type": "slide"
    }
   },
   "source": [
    "Major frameworks:"
   ]
  },
  {
   "cell_type": "markdown",
   "metadata": {
    "cell_style": "split",
    "slideshow": {
     "slide_type": "fragment"
    }
   },
   "source": [
    "<img src = \"Images/kerastf.png\" >\n",
    "<center> Keras: high level API of Tensorflow. </center>\n",
    "\n",
    "- Keras: apt for quickly building/trying neural network architectures with standard layers/optimizers. Still build complex networks.\n",
    "- Tensorflow: for building more customized networks and more control of optimization."
   ]
  },
  {
   "cell_type": "markdown",
   "metadata": {
    "cell_style": "split",
    "slideshow": {
     "slide_type": "fragment"
    }
   },
   "source": [
    "<center><img src = \"Images/pytorch.png\" >\n",
    "More customizable than Keras. More pythonic than base Tensorflow. Nice functionalities for NLP. </center>\n"
   ]
  },
  {
   "cell_type": "markdown",
   "metadata": {
    "slideshow": {
     "slide_type": "slide"
    }
   },
   "source": [
    "We will use Keras."
   ]
  },
  {
   "cell_type": "code",
   "execution_count": 2,
   "metadata": {
    "slideshow": {
     "slide_type": "slide"
    }
   },
   "outputs": [
    {
     "name": "stderr",
     "output_type": "stream",
     "text": [
      "2023-10-17 14:54:55.921281: I tensorflow/core/platform/cpu_feature_guard.cc:182] This TensorFlow binary is optimized to use available CPU instructions in performance-critical operations.\n",
      "To enable the following instructions: SSE4.1 SSE4.2, in other operations, rebuild TensorFlow with the appropriate compiler flags.\n"
     ]
    }
   ],
   "source": [
    "from tensorflow import keras"
   ]
  },
  {
   "cell_type": "markdown",
   "metadata": {
    "cell_style": "center",
    "slideshow": {
     "slide_type": "slide"
    }
   },
   "source": [
    "Keras has two major neural network construction frameworks:\n",
    "- Sequential vs Functional API"
   ]
  },
  {
   "cell_type": "markdown",
   "metadata": {
    "cell_style": "split",
    "slideshow": {
     "slide_type": "fragment"
    }
   },
   "source": [
    "Sequential API:\n",
    "\n",
    "<img src = \"Images/sequentialvsfunctional.png\" >\n",
    "\n",
    "<center>Apt for simpler feedforward network topologies.</center>"
   ]
  },
  {
   "cell_type": "markdown",
   "metadata": {
    "cell_style": "split",
    "slideshow": {
     "slide_type": "fragment"
    }
   },
   "source": [
    "Functional API:\n",
    "\n",
    "<center><img src = \"Images/skipconnection.png\" ></center>\n",
    "\n",
    "Skip connections, branching, etc.\n"
   ]
  },
  {
   "cell_type": "markdown",
   "metadata": {
    "slideshow": {
     "slide_type": "slide"
    }
   },
   "source": [
    "#### The Sequential API"
   ]
  },
  {
   "cell_type": "markdown",
   "metadata": {
    "slideshow": {
     "slide_type": "slide"
    }
   },
   "source": [
    "Take in a simple and sufficiently interesting dataset:\n",
    "\n",
    "- demonstrate non-trivial decision boundary\n",
    "- show sequential API at work"
   ]
  },
  {
   "cell_type": "code",
   "execution_count": 3,
   "metadata": {
    "scrolled": false,
    "slideshow": {
     "slide_type": "slide"
    }
   },
   "outputs": [
    {
     "name": "stderr",
     "output_type": "stream",
     "text": [
      "/Users/jacobserfaty/opt/anaconda3/envs/new-learn/lib/python3.11/site-packages/seaborn/_oldcore.py:1498: FutureWarning: is_categorical_dtype is deprecated and will be removed in a future version. Use isinstance(dtype, CategoricalDtype) instead\n",
      "  if pd.api.types.is_categorical_dtype(vector):\n",
      "/Users/jacobserfaty/opt/anaconda3/envs/new-learn/lib/python3.11/site-packages/seaborn/_oldcore.py:1498: FutureWarning: is_categorical_dtype is deprecated and will be removed in a future version. Use isinstance(dtype, CategoricalDtype) instead\n",
      "  if pd.api.types.is_categorical_dtype(vector):\n",
      "/Users/jacobserfaty/opt/anaconda3/envs/new-learn/lib/python3.11/site-packages/seaborn/_oldcore.py:1498: FutureWarning: is_categorical_dtype is deprecated and will be removed in a future version. Use isinstance(dtype, CategoricalDtype) instead\n",
      "  if pd.api.types.is_categorical_dtype(vector):\n",
      "/Users/jacobserfaty/opt/anaconda3/envs/new-learn/lib/python3.11/site-packages/seaborn/_oldcore.py:1498: FutureWarning: is_categorical_dtype is deprecated and will be removed in a future version. Use isinstance(dtype, CategoricalDtype) instead\n",
      "  if pd.api.types.is_categorical_dtype(vector):\n",
      "/Users/jacobserfaty/opt/anaconda3/envs/new-learn/lib/python3.11/site-packages/seaborn/_oldcore.py:1498: FutureWarning: is_categorical_dtype is deprecated and will be removed in a future version. Use isinstance(dtype, CategoricalDtype) instead\n",
      "  if pd.api.types.is_categorical_dtype(vector):\n"
     ]
    },
    {
     "data": {
      "image/png": "[encoded data removed]",
      "text/plain": [
       "<Figure size 640x480 with 1 Axes>"
      ]
     },
     "metadata": {},
     "output_type": "display_data"
    }
   ],
   "source": [
    "# generate two moons dataset\n",
    "import seaborn as sns\n",
    "from sklearn.datasets import make_moons\n",
    "from matplotlib import pyplot\n",
    "from pandas import DataFrame\n",
    "# generate 2d classification dataset\n",
    "X, y = make_moons(n_samples=300, noise=0.2, random_state=10)\n",
    "# scatter plot, dots colored by class value\n",
    "df = DataFrame(dict(x=X[:,0], y=X[:,1], label=y))\n",
    "\n",
    "sns.scatterplot(x = 'x', y = 'y', hue = 'label', data = df )\n",
    "plt.show()"
   ]
  },
  {
   "cell_type": "markdown",
   "metadata": {
    "slideshow": {
     "slide_type": "slide"
    }
   },
   "source": [
    "Import Sequential object: use Sequential API to construct models"
   ]
  },
  {
   "cell_type": "code",
   "execution_count": 37,
   "metadata": {
    "slideshow": {
     "slide_type": "-"
    }
   },
   "outputs": [],
   "source": [
    "from tensorflow.keras.models import Sequential"
   ]
  },
  {
   "cell_type": "markdown",
   "metadata": {
    "cell_style": "split",
    "slideshow": {
     "slide_type": "slide"
    }
   },
   "source": [
    "We want to start defining layers in the model:\n",
    "    \n",
    "The most common layer type in neural networks: \n",
    "- the **densely** connected layer"
   ]
  },
  {
   "cell_type": "markdown",
   "metadata": {
    "cell_style": "split",
    "slideshow": {
     "slide_type": "-"
    }
   },
   "source": [
    "<img src = \"Images/dense_layer.png\" >"
   ]
  },
  {
   "cell_type": "code",
   "execution_count": 5,
   "metadata": {
    "slideshow": {
     "slide_type": "fragment"
    }
   },
   "outputs": [],
   "source": [
    "# creates densely connected layer object\n",
    "from tensorflow.keras.layers import Dense\n",
    "\n",
    "# defines input layer, not necessary in sequential API\n",
    "# but nice for visualizing network later\n",
    "from tensorflow.keras.layers import Input "
   ]
  },
  {
   "cell_type": "markdown",
   "metadata": {
    "slideshow": {
     "slide_type": "slide"
    }
   },
   "source": [
    "The Dense object constructor's basic arguments:\n",
    "- units: number of nodes in layer\n",
    "- activation: 'relu', 'tanh', 'sigmoid', 'softmax'\n"
   ]
  },
  {
   "cell_type": "markdown",
   "metadata": {
    "slideshow": {
     "slide_type": "slide"
    }
   },
   "source": [
    "Defining the model: a shallow neural network"
   ]
  },
  {
   "cell_type": "code",
   "execution_count": 6,
   "metadata": {
    "cell_style": "center",
    "slideshow": {
     "slide_type": "fragment"
    }
   },
   "outputs": [],
   "source": [
    "model = Sequential()\n",
    "model.add(Dense(50, input_dim=2, activation='relu')) # one hidden layer\n",
    "model.add(Dense(units=1, activation='sigmoid'))"
   ]
  },
  {
   "cell_type": "markdown",
   "metadata": {
    "slideshow": {
     "slide_type": "slide"
    }
   },
   "source": [
    "Building/compiling the model:\n",
    "\n",
    "- define objective function and optimizer\n",
    "- define metric to evaluate train/validation\n",
    "- build the network connections, weight matrices, initializes, etc."
   ]
  },
  {
   "cell_type": "code",
   "execution_count": 7,
   "metadata": {
    "slideshow": {
     "slide_type": "slide"
    }
   },
   "outputs": [],
   "source": [
    "model.compile(loss = 'binary_crossentropy', optimizer = 'adam', metrics = ['accuracy', 'AUC'])"
   ]
  },
  {
   "cell_type": "markdown",
   "metadata": {
    "cell_style": "split",
    "slideshow": {
     "slide_type": "fragment"
    }
   },
   "source": [
    "Some other loss functions:\n",
    "- multiclass: 'categorical_crossentropy'\n",
    "- regression: 'mean_squared_error'\n",
    "- regression: 'mean_absolute_error'"
   ]
  },
  {
   "cell_type": "markdown",
   "metadata": {
    "cell_style": "split",
    "slideshow": {
     "slide_type": "fragment"
    }
   },
   "source": [
    "The optimizer:\n",
    "\n",
    "- Adam Optimizer: \n",
    "    - smoothens learning process \n",
    "    - uses adaptive learning rate.\n",
    "\n",
    "A pretty good optimizer. Many other optimizers (NAdam, Adadelta)."
   ]
  },
  {
   "cell_type": "markdown",
   "metadata": {
    "cell_style": "center",
    "slideshow": {
     "slide_type": "slide"
    }
   },
   "source": [
    "#### Optimizers have hyperparameters.\n",
    "\n",
    "- Can help in training speed up / finding minimum\n",
    "\n",
    "model.compile(loss = 'binary_crossentropy', optimizer = opt, metrics = ['accuracy', 'AUC'])"
   ]
  },
  {
   "cell_type": "code",
   "execution_count": 8,
   "metadata": {
    "slideshow": {
     "slide_type": "fragment"
    }
   },
   "outputs": [],
   "source": [
    "from tensorflow.keras.optimizers import Adam"
   ]
  },
  {
   "cell_type": "code",
   "execution_count": 9,
   "metadata": {
    "cell_style": "center",
    "slideshow": {
     "slide_type": "fragment"
    }
   },
   "outputs": [],
   "source": [
    "opt = Adam(learning_rate = 0.01) # typical parameter"
   ]
  },
  {
   "cell_type": "code",
   "execution_count": 10,
   "metadata": {
    "slideshow": {
     "slide_type": "slide"
    }
   },
   "outputs": [],
   "source": [
    "model.compile(loss = 'binary_crossentropy', optimizer = 'adam', metrics = ['accuracy', 'AUC'])"
   ]
  },
  {
   "cell_type": "markdown",
   "metadata": {
    "slideshow": {
     "slide_type": "fragment"
    }
   },
   "source": [
    "Metrics: takes in list (calculates metrics in list at each epoch):"
   ]
  },
  {
   "cell_type": "markdown",
   "metadata": {
    "cell_style": "split",
    "slideshow": {
     "slide_type": "slide"
    }
   },
   "source": [
    "Regression:\n",
    "- 'mae'\n",
    "- 'mse'\n",
    "- 'rmse'"
   ]
  },
  {
   "cell_type": "markdown",
   "metadata": {
    "cell_style": "split",
    "slideshow": {
     "slide_type": "fragment"
    }
   },
   "source": [
    "Classification:\n",
    "- 'accuracy'\n",
    "- 'AUC'\n",
    "- 'fmeasure'\n",
    "etc."
   ]
  },
  {
   "cell_type": "markdown",
   "metadata": {
    "slideshow": {
     "slide_type": "slide"
    }
   },
   "source": [
    "Keras provides metrics callable as objects:\n",
    "- more metrics available\n",
    "- pass in arguments (probability threshold, etc.)\n",
    "- build your own metrics.\n",
    "\n",
    "See documentation for more information."
   ]
  },
  {
   "cell_type": "code",
   "execution_count": 11,
   "metadata": {
    "cell_style": "center",
    "slideshow": {
     "slide_type": "slide"
    }
   },
   "outputs": [
    {
     "name": "stdout",
     "output_type": "stream",
     "text": [
      "Model: \"sequential\"\n",
      "_________________________________________________________________\n",
      " Layer (type)                Output Shape              Param #   \n",
      "=================================================================\n",
      " dense (Dense)               (None, 50)                150       \n",
      "                                                                 \n",
      " dense_1 (Dense)             (None, 1)                 51        \n",
      "                                                                 \n",
      "=================================================================\n",
      "Total params: 201\n",
      "Trainable params: 201\n",
      "Non-trainable params: 0\n",
      "_________________________________________________________________\n"
     ]
    }
   ],
   "source": [
    "model.summary()"
   ]
  },
  {
   "cell_type": "markdown",
   "metadata": {
    "slideshow": {
     "slide_type": "slide"
    }
   },
   "source": [
    "Train test split the data"
   ]
  },
  {
   "cell_type": "code",
   "execution_count": 12,
   "metadata": {
    "slideshow": {
     "slide_type": "fragment"
    }
   },
   "outputs": [],
   "source": [
    "X_train, X_test, y_train, y_test = train_test_split(X, y, test_size = 0.2, random_state = 42) "
   ]
  },
  {
   "cell_type": "markdown",
   "metadata": {
    "slideshow": {
     "slide_type": "slide"
    }
   },
   "source": [
    "#### .fit() method"
   ]
  },
  {
   "cell_type": "markdown",
   "metadata": {
    "cell_style": "center",
    "slideshow": {
     "slide_type": "fragment"
    }
   },
   "source": [
    "- batch_size = # of points you train on in given forward/back-prop loop\n",
    "\n",
    "typical batch sizes: 1, 32, 64, 128, 256, 512"
   ]
  },
  {
   "cell_type": "markdown",
   "metadata": {
    "cell_style": "center",
    "slideshow": {
     "slide_type": "fragment"
    }
   },
   "source": [
    "Batch size:\n",
    "\n",
    "- Stochastic Gradient Descent: batch_size = 1\n",
    "- Minibatch Gradient Descent: batch_size = $n_{batch} < N_{train}$\n",
    "- Batch Gradient Descent: full training set fed in on each forward/back-prop loop"
   ]
  },
  {
   "cell_type": "markdown",
   "metadata": {
    "cell_style": "split",
    "slideshow": {
     "slide_type": "slide"
    }
   },
   "source": [
    "The intuition behind SGD, mini-batch:\n",
    "\n",
    "SGD: single point $i$\n",
    "$$ \\textbf{w}_{k+1} = \\textbf{w}_k - \\alpha \\nabla_{\\textbf{w}}L(y_i, \\hat{y}_i) $$\n",
    "\n",
    "- Using a single point may not be good enough to sample loss function and its gradient. Noisy descent. \n",
    "- Can go wrong direction.\n",
    "- Effectively looping one point at a time. Computationally inefficient."
   ]
  },
  {
   "cell_type": "markdown",
   "metadata": {
    "cell_style": "split",
    "slideshow": {
     "slide_type": "fragment"
    }
   },
   "source": [
    "Mini-batch gives you average of gradient over a sample of the training set: often good enough!\n",
    "\n",
    "$$ \\textbf{w}_{k+1} = \\textbf{w}_k - \\frac{\\alpha}{n_{batch}} \\sum_{i=1}^{n_{batch}} \\nabla_{\\textbf{w}}L(y_i, \\hat{y}_i) $$\n",
    "\n",
    "- Substantially smaller amount of data fed through: still make progress."
   ]
  },
  {
   "cell_type": "markdown",
   "metadata": {
    "cell_style": "split",
    "slideshow": {
     "slide_type": "slide"
    }
   },
   "source": [
    "Batch gradient descent: all training data.\n",
    "    \n",
    "- Will always lower objective on training.\n",
    "- But depending on dataset:\n",
    "- manipulating huge matrices just to make one gradient descent step."
   ]
  },
  {
   "cell_type": "markdown",
   "metadata": {
    "cell_style": "split",
    "slideshow": {
     "slide_type": "fragment"
    }
   },
   "source": [
    "<img src = \"Images/gradient_descent.png\" >"
   ]
  },
  {
   "cell_type": "markdown",
   "metadata": {
    "slideshow": {
     "slide_type": "slide"
    }
   },
   "source": [
    "#### Epochs\n",
    "- Number of times to cycle through **entire** training data.\n",
    "- Implies number of forward/backprop cycles is: $$ \\frac{N_{train}}{n_{batch}} \\times \\text{epochs} $$"
   ]
  },
  {
   "cell_type": "markdown",
   "metadata": {
    "slideshow": {
     "slide_type": "slide"
    }
   },
   "source": [
    "Can train through all epochs defined or:\n",
    "\n",
    "**Earlystopping callback on training**\n",
    "\n",
    "- Monitor training loss and set improvement threshold (min_delta)\n",
    "- Waiting certain number of epochs if no improvements (patience)\n",
    "- Terminate training"
   ]
  },
  {
   "cell_type": "code",
   "execution_count": 13,
   "metadata": {
    "slideshow": {
     "slide_type": "fragment"
    }
   },
   "outputs": [],
   "source": [
    "from tensorflow.keras.callbacks import EarlyStopping\n",
    "trainCallback = EarlyStopping(monitor='loss', min_delta = 1e-6, patience = 5)"
   ]
  },
  {
   "cell_type": "markdown",
   "metadata": {
    "slideshow": {
     "slide_type": "slide"
    }
   },
   "source": [
    "**Validation set**\n",
    "\n",
    "- can feed an external validation set \n",
    "- hold out a fraction of training set for validation\n",
    "- evaluates on train and validation at each epoch"
   ]
  },
  {
   "cell_type": "code",
   "execution_count": 14,
   "metadata": {
    "slideshow": {
     "slide_type": "slide"
    }
   },
   "outputs": [
    {
     "name": "stdout",
     "output_type": "stream",
     "text": [
      "Epoch 1/10000\n",
      "6/6 [==============================] - 1s 36ms/step - loss: 0.6879 - accuracy: 0.5208 - auc: 0.5589 - val_loss: 0.6922 - val_accuracy: 0.5000 - val_auc: 0.6920\n",
      "Epoch 2/10000\n",
      "6/6 [==============================] - 0s 6ms/step - loss: 0.6647 - accuracy: 0.6562 - auc: 0.7336 - val_loss: 0.6718 - val_accuracy: 0.5625 - val_auc: 0.8429\n",
      "Epoch 3/10000\n",
      "6/6 [==============================] - 0s 6ms/step - loss: 0.6426 - accuracy: 0.7083 - auc: 0.8460 - val_loss: 0.6523 - val_accuracy: 0.5833 - val_auc: 0.9509\n",
      "Epoch 4/10000\n",
      "6/6 [==============================] - 0s 6ms/step - loss: 0.6230 - accuracy: 0.7552 - auc: 0.9093 - val_loss: 0.6334 - val_accuracy: 0.6667 - val_auc: 0.9723\n",
      "Epoch 5/10000\n",
      "6/6 [==============================] - 0s 6ms/step - loss: 0.6032 - accuracy: 0.8021 - auc: 0.9409 - val_loss: 0.6158 - val_accuracy: 0.7292 - val_auc: 0.9705\n",
      "Epoch 6/10000\n",
      "6/6 [==============================] - 0s 6ms/step - loss: 0.5848 - accuracy: 0.8229 - auc: 0.9464 - val_loss: 0.5995 - val_accuracy: 0.7500 - val_auc: 0.9696\n",
      "Epoch 7/10000\n",
      "6/6 [==============================] - 0s 6ms/step - loss: 0.5688 - accuracy: 0.8229 - auc: 0.9427 - val_loss: 0.5833 - val_accuracy: 0.7708 - val_auc: 0.9670\n",
      "Epoch 8/10000\n",
      "6/6 [==============================] - 0s 6ms/step - loss: 0.5512 - accuracy: 0.8281 - auc: 0.9451 - val_loss: 0.5689 - val_accuracy: 0.8333 - val_auc: 0.9616\n",
      "Epoch 9/10000\n",
      "6/6 [==============================] - 0s 7ms/step - loss: 0.5362 - accuracy: 0.8281 - auc: 0.9441 - val_loss: 0.5552 - val_accuracy: 0.8125 - val_auc: 0.9589\n",
      "Epoch 10/10000\n",
      "6/6 [==============================] - 0s 6ms/step - loss: 0.5220 - accuracy: 0.8385 - auc: 0.9426 - val_loss: 0.5418 - val_accuracy: 0.8125 - val_auc: 0.9554\n",
      "Epoch 11/10000\n",
      "6/6 [==============================] - 0s 6ms/step - loss: 0.5084 - accuracy: 0.8594 - auc: 0.9401 - val_loss: 0.5295 - val_accuracy: 0.8125 - val_auc: 0.9527\n",
      "Epoch 12/10000\n",
      "6/6 [==============================] - 0s 6ms/step - loss: 0.4946 - accuracy: 0.8594 - auc: 0.9416 - val_loss: 0.5181 - val_accuracy: 0.8125 - val_auc: 0.9491\n",
      "Epoch 13/10000\n",
      "6/6 [==============================] - 0s 6ms/step - loss: 0.4828 - accuracy: 0.8646 - auc: 0.9405 - val_loss: 0.5070 - val_accuracy: 0.8125 - val_auc: 0.9473\n",
      "Epoch 14/10000\n",
      "6/6 [==============================] - 0s 6ms/step - loss: 0.4711 - accuracy: 0.8646 - auc: 0.9404 - val_loss: 0.4969 - val_accuracy: 0.8125 - val_auc: 0.9455\n",
      "Epoch 15/10000\n",
      "6/6 [==============================] - 0s 6ms/step - loss: 0.4602 - accuracy: 0.8646 - auc: 0.9409 - val_loss: 0.4873 - val_accuracy: 0.8125 - val_auc: 0.9464\n",
      "Epoch 16/10000\n",
      "6/6 [==============================] - 0s 6ms/step - loss: 0.4495 - accuracy: 0.8646 - auc: 0.9419 - val_loss: 0.4782 - val_accuracy: 0.8125 - val_auc: 0.9455\n",
      "Epoch 17/10000\n",
      "6/6 [==============================] - 0s 6ms/step - loss: 0.4401 - accuracy: 0.8646 - auc: 0.9416 - val_loss: 0.4695 - val_accuracy: 0.8125 - val_auc: 0.9455\n",
      "Epoch 18/10000\n",
      "6/6 [==============================] - 0s 6ms/step - loss: 0.4307 - accuracy: 0.8646 - auc: 0.9422 - val_loss: 0.4611 - val_accuracy: 0.8125 - val_auc: 0.9455\n",
      "Epoch 19/10000\n",
      "6/6 [==============================] - 0s 6ms/step - loss: 0.4222 - accuracy: 0.8646 - auc: 0.9420 - val_loss: 0.4532 - val_accuracy: 0.8125 - val_auc: 0.9446\n",
      "Epoch 20/10000\n",
      "6/6 [==============================] - 0s 6ms/step - loss: 0.4141 - accuracy: 0.8646 - auc: 0.9417 - val_loss: 0.4452 - val_accuracy: 0.8125 - val_auc: 0.9446\n",
      "Epoch 21/10000\n",
      "6/6 [==============================] - 0s 6ms/step - loss: 0.4069 - accuracy: 0.8646 - auc: 0.9410 - val_loss: 0.4374 - val_accuracy: 0.8125 - val_auc: 0.9446\n",
      "Epoch 22/10000\n",
      "6/6 [==============================] - 0s 6ms/step - loss: 0.3992 - accuracy: 0.8646 - auc: 0.9418 - val_loss: 0.4307 - val_accuracy: 0.8125 - val_auc: 0.9438\n",
      "Epoch 23/10000\n",
      "6/6 [==============================] - 0s 6ms/step - loss: 0.3931 - accuracy: 0.8646 - auc: 0.9411 - val_loss: 0.4240 - val_accuracy: 0.8125 - val_auc: 0.9446\n",
      "Epoch 24/10000\n",
      "6/6 [==============================] - 0s 6ms/step - loss: 0.3866 - accuracy: 0.8646 - auc: 0.9413 - val_loss: 0.4178 - val_accuracy: 0.8125 - val_auc: 0.9438\n",
      "Epoch 25/10000\n",
      "6/6 [==============================] - 0s 6ms/step - loss: 0.3807 - accuracy: 0.8646 - auc: 0.9419 - val_loss: 0.4123 - val_accuracy: 0.8125 - val_auc: 0.9438\n",
      "Epoch 26/10000\n",
      "6/6 [==============================] - 0s 6ms/step - loss: 0.3759 - accuracy: 0.8646 - auc: 0.9411 - val_loss: 0.4069 - val_accuracy: 0.8125 - val_auc: 0.9446\n",
      "Epoch 27/10000\n",
      "6/6 [==============================] - 0s 6ms/step - loss: 0.3704 - accuracy: 0.8698 - auc: 0.9422 - val_loss: 0.4018 - val_accuracy: 0.8125 - val_auc: 0.9446\n",
      "Epoch 28/10000\n",
      "6/6 [==============================] - 0s 6ms/step - loss: 0.3660 - accuracy: 0.8698 - auc: 0.9420 - val_loss: 0.3967 - val_accuracy: 0.8125 - val_auc: 0.9420\n",
      "Epoch 29/10000\n",
      "6/6 [==============================] - 0s 6ms/step - loss: 0.3614 - accuracy: 0.8698 - auc: 0.9423 - val_loss: 0.3918 - val_accuracy: 0.8125 - val_auc: 0.9429\n",
      "Epoch 30/10000\n",
      "6/6 [==============================] - 0s 6ms/step - loss: 0.3573 - accuracy: 0.8698 - auc: 0.9431 - val_loss: 0.3880 - val_accuracy: 0.8125 - val_auc: 0.9429\n",
      "Epoch 31/10000\n",
      "6/6 [==============================] - 0s 6ms/step - loss: 0.3534 - accuracy: 0.8698 - auc: 0.9431 - val_loss: 0.3836 - val_accuracy: 0.8125 - val_auc: 0.9464\n",
      "Epoch 32/10000\n",
      "6/6 [==============================] - 0s 6ms/step - loss: 0.3501 - accuracy: 0.8698 - auc: 0.9425 - val_loss: 0.3791 - val_accuracy: 0.8125 - val_auc: 0.9464\n",
      "Epoch 33/10000\n",
      "6/6 [==============================] - 0s 6ms/step - loss: 0.3465 - accuracy: 0.8698 - auc: 0.9431 - val_loss: 0.3753 - val_accuracy: 0.8125 - val_auc: 0.9482\n",
      "Epoch 34/10000\n",
      "6/6 [==============================] - 0s 6ms/step - loss: 0.3432 - accuracy: 0.8698 - auc: 0.9431 - val_loss: 0.3717 - val_accuracy: 0.8125 - val_auc: 0.9473\n",
      "Epoch 35/10000\n",
      "6/6 [==============================] - 0s 6ms/step - loss: 0.3406 - accuracy: 0.8698 - auc: 0.9438 - val_loss: 0.3686 - val_accuracy: 0.8125 - val_auc: 0.9491\n",
      "Epoch 36/10000\n",
      "6/6 [==============================] - 0s 6ms/step - loss: 0.3377 - accuracy: 0.8698 - auc: 0.9445 - val_loss: 0.3653 - val_accuracy: 0.8125 - val_auc: 0.9491\n",
      "Epoch 37/10000\n",
      "6/6 [==============================] - 0s 6ms/step - loss: 0.3356 - accuracy: 0.8698 - auc: 0.9443 - val_loss: 0.3622 - val_accuracy: 0.8125 - val_auc: 0.9491\n",
      "Epoch 38/10000\n",
      "6/6 [==============================] - 0s 6ms/step - loss: 0.3328 - accuracy: 0.8698 - auc: 0.9448 - val_loss: 0.3585 - val_accuracy: 0.8125 - val_auc: 0.9500\n",
      "Epoch 39/10000\n",
      "6/6 [==============================] - 0s 5ms/step - loss: 0.3309 - accuracy: 0.8698 - auc: 0.9446 - val_loss: 0.3557 - val_accuracy: 0.8125 - val_auc: 0.9500\n",
      "Epoch 40/10000\n",
      "6/6 [==============================] - 0s 5ms/step - loss: 0.3288 - accuracy: 0.8698 - auc: 0.9450 - val_loss: 0.3520 - val_accuracy: 0.8125 - val_auc: 0.9491\n",
      "Epoch 41/10000\n",
      "6/6 [==============================] - 0s 6ms/step - loss: 0.3267 - accuracy: 0.8698 - auc: 0.9453 - val_loss: 0.3492 - val_accuracy: 0.8125 - val_auc: 0.9500\n",
      "Epoch 42/10000\n",
      "6/6 [==============================] - 0s 6ms/step - loss: 0.3249 - accuracy: 0.8698 - auc: 0.9451 - val_loss: 0.3467 - val_accuracy: 0.8125 - val_auc: 0.9518\n",
      "Epoch 43/10000\n",
      "6/6 [==============================] - 0s 6ms/step - loss: 0.3232 - accuracy: 0.8698 - auc: 0.9457 - val_loss: 0.3445 - val_accuracy: 0.8125 - val_auc: 0.9536\n",
      "Epoch 44/10000\n",
      "6/6 [==============================] - 0s 6ms/step - loss: 0.3217 - accuracy: 0.8698 - auc: 0.9454 - val_loss: 0.3430 - val_accuracy: 0.8125 - val_auc: 0.9545\n",
      "Epoch 45/10000\n",
      "6/6 [==============================] - 0s 6ms/step - loss: 0.3200 - accuracy: 0.8698 - auc: 0.9457 - val_loss: 0.3401 - val_accuracy: 0.8125 - val_auc: 0.9536\n",
      "Epoch 46/10000\n",
      "6/6 [==============================] - 0s 6ms/step - loss: 0.3185 - accuracy: 0.8698 - auc: 0.9463 - val_loss: 0.3372 - val_accuracy: 0.8125 - val_auc: 0.9545\n",
      "Epoch 47/10000\n",
      "6/6 [==============================] - 0s 5ms/step - loss: 0.3173 - accuracy: 0.8698 - auc: 0.9464 - val_loss: 0.3343 - val_accuracy: 0.8125 - val_auc: 0.9554\n",
      "Epoch 48/10000\n"
     ]
    },
    {
     "name": "stdout",
     "output_type": "stream",
     "text": [
      "6/6 [==============================] - 0s 5ms/step - loss: 0.3158 - accuracy: 0.8698 - auc: 0.9461 - val_loss: 0.3329 - val_accuracy: 0.8125 - val_auc: 0.9563\n",
      "Epoch 49/10000\n",
      "6/6 [==============================] - 0s 6ms/step - loss: 0.3144 - accuracy: 0.8698 - auc: 0.9466 - val_loss: 0.3311 - val_accuracy: 0.8125 - val_auc: 0.9571\n",
      "Epoch 50/10000\n",
      "6/6 [==============================] - 0s 5ms/step - loss: 0.3132 - accuracy: 0.8698 - auc: 0.9473 - val_loss: 0.3288 - val_accuracy: 0.8125 - val_auc: 0.9571\n",
      "Epoch 51/10000\n",
      "6/6 [==============================] - 0s 5ms/step - loss: 0.3122 - accuracy: 0.8698 - auc: 0.9478 - val_loss: 0.3274 - val_accuracy: 0.8125 - val_auc: 0.9571\n",
      "Epoch 52/10000\n",
      "6/6 [==============================] - 0s 5ms/step - loss: 0.3110 - accuracy: 0.8698 - auc: 0.9477 - val_loss: 0.3254 - val_accuracy: 0.8125 - val_auc: 0.9580\n",
      "Epoch 53/10000\n",
      "6/6 [==============================] - 0s 5ms/step - loss: 0.3099 - accuracy: 0.8698 - auc: 0.9480 - val_loss: 0.3232 - val_accuracy: 0.8125 - val_auc: 0.9598\n",
      "Epoch 54/10000\n",
      "6/6 [==============================] - 0s 5ms/step - loss: 0.3089 - accuracy: 0.8750 - auc: 0.9480 - val_loss: 0.3215 - val_accuracy: 0.8125 - val_auc: 0.9589\n",
      "Epoch 55/10000\n",
      "6/6 [==============================] - 0s 5ms/step - loss: 0.3079 - accuracy: 0.8750 - auc: 0.9482 - val_loss: 0.3192 - val_accuracy: 0.8125 - val_auc: 0.9589\n",
      "Epoch 56/10000\n",
      "6/6 [==============================] - 0s 5ms/step - loss: 0.3070 - accuracy: 0.8750 - auc: 0.9483 - val_loss: 0.3172 - val_accuracy: 0.8333 - val_auc: 0.9589\n",
      "Epoch 57/10000\n",
      "6/6 [==============================] - 0s 5ms/step - loss: 0.3062 - accuracy: 0.8750 - auc: 0.9486 - val_loss: 0.3160 - val_accuracy: 0.8333 - val_auc: 0.9598\n",
      "Epoch 58/10000\n",
      "6/6 [==============================] - 0s 5ms/step - loss: 0.3052 - accuracy: 0.8750 - auc: 0.9488 - val_loss: 0.3142 - val_accuracy: 0.8333 - val_auc: 0.9616\n",
      "Epoch 59/10000\n",
      "6/6 [==============================] - 0s 5ms/step - loss: 0.3044 - accuracy: 0.8750 - auc: 0.9490 - val_loss: 0.3128 - val_accuracy: 0.8333 - val_auc: 0.9634\n",
      "Epoch 60/10000\n",
      "6/6 [==============================] - 0s 6ms/step - loss: 0.3037 - accuracy: 0.8750 - auc: 0.9492 - val_loss: 0.3110 - val_accuracy: 0.8333 - val_auc: 0.9652\n",
      "Epoch 61/10000\n",
      "6/6 [==============================] - 0s 5ms/step - loss: 0.3029 - accuracy: 0.8750 - auc: 0.9494 - val_loss: 0.3091 - val_accuracy: 0.8333 - val_auc: 0.9643\n",
      "Epoch 62/10000\n",
      "6/6 [==============================] - 0s 5ms/step - loss: 0.3022 - accuracy: 0.8750 - auc: 0.9493 - val_loss: 0.3074 - val_accuracy: 0.8333 - val_auc: 0.9652\n",
      "Epoch 63/10000\n",
      "6/6 [==============================] - 0s 5ms/step - loss: 0.3015 - accuracy: 0.8750 - auc: 0.9496 - val_loss: 0.3065 - val_accuracy: 0.8542 - val_auc: 0.9670\n",
      "Epoch 64/10000\n",
      "6/6 [==============================] - 0s 6ms/step - loss: 0.3008 - accuracy: 0.8750 - auc: 0.9498 - val_loss: 0.3052 - val_accuracy: 0.8542 - val_auc: 0.9661\n",
      "Epoch 65/10000\n",
      "6/6 [==============================] - 0s 5ms/step - loss: 0.3001 - accuracy: 0.8750 - auc: 0.9501 - val_loss: 0.3032 - val_accuracy: 0.8542 - val_auc: 0.9679\n",
      "Epoch 66/10000\n",
      "6/6 [==============================] - 0s 5ms/step - loss: 0.2996 - accuracy: 0.8750 - auc: 0.9506 - val_loss: 0.3020 - val_accuracy: 0.8542 - val_auc: 0.9679\n",
      "Epoch 67/10000\n",
      "6/6 [==============================] - 0s 5ms/step - loss: 0.2989 - accuracy: 0.8750 - auc: 0.9507 - val_loss: 0.3004 - val_accuracy: 0.8542 - val_auc: 0.9679\n",
      "Epoch 68/10000\n",
      "6/6 [==============================] - 0s 6ms/step - loss: 0.2982 - accuracy: 0.8750 - auc: 0.9510 - val_loss: 0.2992 - val_accuracy: 0.8542 - val_auc: 0.9679\n",
      "Epoch 69/10000\n",
      "6/6 [==============================] - 0s 6ms/step - loss: 0.2977 - accuracy: 0.8750 - auc: 0.9512 - val_loss: 0.2977 - val_accuracy: 0.8542 - val_auc: 0.9679\n",
      "Epoch 70/10000\n",
      "6/6 [==============================] - 0s 5ms/step - loss: 0.2971 - accuracy: 0.8750 - auc: 0.9512 - val_loss: 0.2970 - val_accuracy: 0.8542 - val_auc: 0.9679\n",
      "Epoch 71/10000\n",
      "6/6 [==============================] - 0s 6ms/step - loss: 0.2966 - accuracy: 0.8750 - auc: 0.9513 - val_loss: 0.2965 - val_accuracy: 0.8542 - val_auc: 0.9679\n",
      "Epoch 72/10000\n",
      "6/6 [==============================] - 0s 5ms/step - loss: 0.2961 - accuracy: 0.8750 - auc: 0.9518 - val_loss: 0.2947 - val_accuracy: 0.8542 - val_auc: 0.9679\n",
      "Epoch 73/10000\n",
      "6/6 [==============================] - 0s 6ms/step - loss: 0.2955 - accuracy: 0.8750 - auc: 0.9518 - val_loss: 0.2936 - val_accuracy: 0.8542 - val_auc: 0.9688\n",
      "Epoch 74/10000\n",
      "6/6 [==============================] - 0s 5ms/step - loss: 0.2950 - accuracy: 0.8750 - auc: 0.9522 - val_loss: 0.2925 - val_accuracy: 0.8542 - val_auc: 0.9688\n",
      "Epoch 75/10000\n",
      "6/6 [==============================] - 0s 5ms/step - loss: 0.2944 - accuracy: 0.8750 - auc: 0.9522 - val_loss: 0.2916 - val_accuracy: 0.8750 - val_auc: 0.9688\n",
      "Epoch 76/10000\n",
      "6/6 [==============================] - 0s 7ms/step - loss: 0.2940 - accuracy: 0.8750 - auc: 0.9520 - val_loss: 0.2901 - val_accuracy: 0.8750 - val_auc: 0.9688\n",
      "Epoch 77/10000\n",
      "6/6 [==============================] - 0s 6ms/step - loss: 0.2934 - accuracy: 0.8750 - auc: 0.9521 - val_loss: 0.2892 - val_accuracy: 0.8750 - val_auc: 0.9688\n",
      "Epoch 78/10000\n",
      "6/6 [==============================] - 0s 6ms/step - loss: 0.2930 - accuracy: 0.8750 - auc: 0.9526 - val_loss: 0.2885 - val_accuracy: 0.8750 - val_auc: 0.9705\n",
      "Epoch 79/10000\n",
      "6/6 [==============================] - 0s 6ms/step - loss: 0.2925 - accuracy: 0.8750 - auc: 0.9525 - val_loss: 0.2877 - val_accuracy: 0.8750 - val_auc: 0.9705\n",
      "Epoch 80/10000\n",
      "6/6 [==============================] - 0s 5ms/step - loss: 0.2924 - accuracy: 0.8698 - auc: 0.9522 - val_loss: 0.2855 - val_accuracy: 0.8750 - val_auc: 0.9705\n",
      "Epoch 81/10000\n",
      "6/6 [==============================] - 0s 6ms/step - loss: 0.2917 - accuracy: 0.8802 - auc: 0.9527 - val_loss: 0.2843 - val_accuracy: 0.8750 - val_auc: 0.9705\n",
      "Epoch 82/10000\n",
      "6/6 [==============================] - 0s 6ms/step - loss: 0.2915 - accuracy: 0.8750 - auc: 0.9529 - val_loss: 0.2844 - val_accuracy: 0.8750 - val_auc: 0.9705\n",
      "Epoch 83/10000\n",
      "6/6 [==============================] - 0s 5ms/step - loss: 0.2909 - accuracy: 0.8802 - auc: 0.9528 - val_loss: 0.2830 - val_accuracy: 0.8750 - val_auc: 0.9714\n",
      "Epoch 84/10000\n",
      "6/6 [==============================] - 0s 6ms/step - loss: 0.2906 - accuracy: 0.8802 - auc: 0.9529 - val_loss: 0.2824 - val_accuracy: 0.8750 - val_auc: 0.9714\n",
      "Epoch 85/10000\n",
      "6/6 [==============================] - 0s 5ms/step - loss: 0.2901 - accuracy: 0.8802 - auc: 0.9532 - val_loss: 0.2819 - val_accuracy: 0.8750 - val_auc: 0.9714\n",
      "Epoch 86/10000\n",
      "6/6 [==============================] - 0s 5ms/step - loss: 0.2898 - accuracy: 0.8802 - auc: 0.9531 - val_loss: 0.2804 - val_accuracy: 0.8750 - val_auc: 0.9705\n",
      "Epoch 87/10000\n",
      "6/6 [==============================] - 0s 5ms/step - loss: 0.2895 - accuracy: 0.8698 - auc: 0.9534 - val_loss: 0.2798 - val_accuracy: 0.8750 - val_auc: 0.9714\n",
      "Epoch 88/10000\n",
      "6/6 [==============================] - 0s 6ms/step - loss: 0.2891 - accuracy: 0.8750 - auc: 0.9536 - val_loss: 0.2794 - val_accuracy: 0.8750 - val_auc: 0.9714\n",
      "Epoch 89/10000\n",
      "6/6 [==============================] - 0s 6ms/step - loss: 0.2887 - accuracy: 0.8698 - auc: 0.9537 - val_loss: 0.2781 - val_accuracy: 0.8750 - val_auc: 0.9705\n",
      "Epoch 90/10000\n",
      "6/6 [==============================] - 0s 5ms/step - loss: 0.2884 - accuracy: 0.8698 - auc: 0.9534 - val_loss: 0.2773 - val_accuracy: 0.8750 - val_auc: 0.9705\n",
      "Epoch 91/10000\n",
      "6/6 [==============================] - 0s 6ms/step - loss: 0.2881 - accuracy: 0.8698 - auc: 0.9536 - val_loss: 0.2764 - val_accuracy: 0.8750 - val_auc: 0.9705\n",
      "Epoch 92/10000\n",
      "6/6 [==============================] - 0s 6ms/step - loss: 0.2882 - accuracy: 0.8698 - auc: 0.9533 - val_loss: 0.2747 - val_accuracy: 0.8750 - val_auc: 0.9714\n",
      "Epoch 93/10000\n",
      "6/6 [==============================] - 0s 6ms/step - loss: 0.2874 - accuracy: 0.8698 - auc: 0.9535 - val_loss: 0.2747 - val_accuracy: 0.8750 - val_auc: 0.9705\n",
      "Epoch 94/10000\n",
      "6/6 [==============================] - 0s 5ms/step - loss: 0.2873 - accuracy: 0.8698 - auc: 0.9536 - val_loss: 0.2746 - val_accuracy: 0.8750 - val_auc: 0.9705\n",
      "Epoch 95/10000\n"
     ]
    },
    {
     "name": "stdout",
     "output_type": "stream",
     "text": [
      "6/6 [==============================] - 0s 5ms/step - loss: 0.2871 - accuracy: 0.8698 - auc: 0.9539 - val_loss: 0.2732 - val_accuracy: 0.8750 - val_auc: 0.9705\n",
      "Epoch 96/10000\n",
      "6/6 [==============================] - 0s 6ms/step - loss: 0.2867 - accuracy: 0.8750 - auc: 0.9538 - val_loss: 0.2726 - val_accuracy: 0.8750 - val_auc: 0.9705\n",
      "Epoch 97/10000\n",
      "6/6 [==============================] - 0s 6ms/step - loss: 0.2863 - accuracy: 0.8646 - auc: 0.9539 - val_loss: 0.2728 - val_accuracy: 0.8750 - val_auc: 0.9714\n",
      "Epoch 98/10000\n",
      "6/6 [==============================] - 0s 5ms/step - loss: 0.2860 - accuracy: 0.8646 - auc: 0.9539 - val_loss: 0.2720 - val_accuracy: 0.8750 - val_auc: 0.9714\n",
      "Epoch 99/10000\n",
      "6/6 [==============================] - 0s 5ms/step - loss: 0.2859 - accuracy: 0.8646 - auc: 0.9537 - val_loss: 0.2713 - val_accuracy: 0.8750 - val_auc: 0.9723\n",
      "Epoch 100/10000\n",
      "6/6 [==============================] - 0s 5ms/step - loss: 0.2855 - accuracy: 0.8698 - auc: 0.9539 - val_loss: 0.2705 - val_accuracy: 0.8750 - val_auc: 0.9723\n",
      "Epoch 101/10000\n",
      "6/6 [==============================] - 0s 5ms/step - loss: 0.2853 - accuracy: 0.8698 - auc: 0.9538 - val_loss: 0.2703 - val_accuracy: 0.8750 - val_auc: 0.9723\n",
      "Epoch 102/10000\n",
      "6/6 [==============================] - 0s 6ms/step - loss: 0.2851 - accuracy: 0.8698 - auc: 0.9538 - val_loss: 0.2692 - val_accuracy: 0.8750 - val_auc: 0.9732\n",
      "Epoch 103/10000\n",
      "6/6 [==============================] - 0s 5ms/step - loss: 0.2848 - accuracy: 0.8698 - auc: 0.9540 - val_loss: 0.2684 - val_accuracy: 0.8750 - val_auc: 0.9723\n",
      "Epoch 104/10000\n",
      "6/6 [==============================] - 0s 6ms/step - loss: 0.2846 - accuracy: 0.8698 - auc: 0.9539 - val_loss: 0.2679 - val_accuracy: 0.8750 - val_auc: 0.9723\n",
      "Epoch 105/10000\n",
      "6/6 [==============================] - 0s 5ms/step - loss: 0.2843 - accuracy: 0.8698 - auc: 0.9539 - val_loss: 0.2676 - val_accuracy: 0.8750 - val_auc: 0.9741\n",
      "Epoch 106/10000\n",
      "6/6 [==============================] - 0s 6ms/step - loss: 0.2841 - accuracy: 0.8698 - auc: 0.9541 - val_loss: 0.2673 - val_accuracy: 0.8750 - val_auc: 0.9741\n",
      "Epoch 107/10000\n",
      "6/6 [==============================] - 0s 6ms/step - loss: 0.2840 - accuracy: 0.8698 - auc: 0.9539 - val_loss: 0.2662 - val_accuracy: 0.8750 - val_auc: 0.9759\n",
      "Epoch 108/10000\n",
      "6/6 [==============================] - 0s 6ms/step - loss: 0.2837 - accuracy: 0.8698 - auc: 0.9539 - val_loss: 0.2660 - val_accuracy: 0.8750 - val_auc: 0.9750\n",
      "Epoch 109/10000\n",
      "6/6 [==============================] - 0s 5ms/step - loss: 0.2836 - accuracy: 0.8750 - auc: 0.9539 - val_loss: 0.2662 - val_accuracy: 0.8750 - val_auc: 0.9750\n",
      "Epoch 110/10000\n",
      "6/6 [==============================] - 0s 6ms/step - loss: 0.2833 - accuracy: 0.8750 - auc: 0.9540 - val_loss: 0.2652 - val_accuracy: 0.8750 - val_auc: 0.9768\n",
      "Epoch 111/10000\n",
      "6/6 [==============================] - 0s 6ms/step - loss: 0.2830 - accuracy: 0.8750 - auc: 0.9535 - val_loss: 0.2646 - val_accuracy: 0.8750 - val_auc: 0.9759\n",
      "Epoch 112/10000\n",
      "6/6 [==============================] - 0s 5ms/step - loss: 0.2829 - accuracy: 0.8750 - auc: 0.9536 - val_loss: 0.2635 - val_accuracy: 0.8750 - val_auc: 0.9759\n",
      "Epoch 113/10000\n",
      "6/6 [==============================] - 0s 5ms/step - loss: 0.2826 - accuracy: 0.8698 - auc: 0.9537 - val_loss: 0.2630 - val_accuracy: 0.8750 - val_auc: 0.9768\n",
      "Epoch 114/10000\n",
      "6/6 [==============================] - 0s 5ms/step - loss: 0.2824 - accuracy: 0.8698 - auc: 0.9538 - val_loss: 0.2625 - val_accuracy: 0.8750 - val_auc: 0.9768\n",
      "Epoch 115/10000\n",
      "6/6 [==============================] - 0s 6ms/step - loss: 0.2823 - accuracy: 0.8750 - auc: 0.9538 - val_loss: 0.2621 - val_accuracy: 0.8750 - val_auc: 0.9768\n",
      "Epoch 116/10000\n",
      "6/6 [==============================] - 0s 5ms/step - loss: 0.2821 - accuracy: 0.8750 - auc: 0.9539 - val_loss: 0.2622 - val_accuracy: 0.8750 - val_auc: 0.9768\n",
      "Epoch 117/10000\n",
      "6/6 [==============================] - 0s 5ms/step - loss: 0.2819 - accuracy: 0.8750 - auc: 0.9539 - val_loss: 0.2619 - val_accuracy: 0.8750 - val_auc: 0.9768\n",
      "Epoch 118/10000\n",
      "6/6 [==============================] - 0s 5ms/step - loss: 0.2820 - accuracy: 0.8698 - auc: 0.9539 - val_loss: 0.2600 - val_accuracy: 0.8750 - val_auc: 0.9768\n",
      "Epoch 119/10000\n",
      "6/6 [==============================] - 0s 5ms/step - loss: 0.2815 - accuracy: 0.8750 - auc: 0.9541 - val_loss: 0.2600 - val_accuracy: 0.8750 - val_auc: 0.9768\n",
      "Epoch 120/10000\n",
      "6/6 [==============================] - 0s 6ms/step - loss: 0.2816 - accuracy: 0.8750 - auc: 0.9541 - val_loss: 0.2586 - val_accuracy: 0.8750 - val_auc: 0.9768\n",
      "Epoch 121/10000\n",
      "6/6 [==============================] - 0s 5ms/step - loss: 0.2812 - accuracy: 0.8698 - auc: 0.9542 - val_loss: 0.2588 - val_accuracy: 0.8750 - val_auc: 0.9777\n",
      "Epoch 122/10000\n",
      "6/6 [==============================] - 0s 6ms/step - loss: 0.2810 - accuracy: 0.8750 - auc: 0.9542 - val_loss: 0.2585 - val_accuracy: 0.8750 - val_auc: 0.9777\n",
      "Epoch 123/10000\n",
      "6/6 [==============================] - 0s 5ms/step - loss: 0.2807 - accuracy: 0.8750 - auc: 0.9543 - val_loss: 0.2581 - val_accuracy: 0.8750 - val_auc: 0.9777\n",
      "Epoch 124/10000\n",
      "6/6 [==============================] - 0s 6ms/step - loss: 0.2807 - accuracy: 0.8750 - auc: 0.9542 - val_loss: 0.2581 - val_accuracy: 0.8750 - val_auc: 0.9777\n",
      "Epoch 125/10000\n",
      "6/6 [==============================] - 0s 6ms/step - loss: 0.2807 - accuracy: 0.8698 - auc: 0.9543 - val_loss: 0.2569 - val_accuracy: 0.8750 - val_auc: 0.9768\n",
      "Epoch 126/10000\n",
      "6/6 [==============================] - 0s 6ms/step - loss: 0.2806 - accuracy: 0.8750 - auc: 0.9543 - val_loss: 0.2577 - val_accuracy: 0.8750 - val_auc: 0.9777\n",
      "Epoch 127/10000\n",
      "6/6 [==============================] - 0s 6ms/step - loss: 0.2802 - accuracy: 0.8750 - auc: 0.9544 - val_loss: 0.2572 - val_accuracy: 0.8750 - val_auc: 0.9768\n",
      "Epoch 128/10000\n",
      "6/6 [==============================] - 0s 6ms/step - loss: 0.2799 - accuracy: 0.8750 - auc: 0.9545 - val_loss: 0.2566 - val_accuracy: 0.8750 - val_auc: 0.9768\n",
      "Epoch 129/10000\n",
      "6/6 [==============================] - 0s 5ms/step - loss: 0.2798 - accuracy: 0.8750 - auc: 0.9545 - val_loss: 0.2562 - val_accuracy: 0.8750 - val_auc: 0.9768\n",
      "Epoch 130/10000\n",
      "6/6 [==============================] - 0s 6ms/step - loss: 0.2797 - accuracy: 0.8698 - auc: 0.9546 - val_loss: 0.2549 - val_accuracy: 0.8750 - val_auc: 0.9777\n",
      "Epoch 131/10000\n",
      "6/6 [==============================] - 0s 5ms/step - loss: 0.2794 - accuracy: 0.8698 - auc: 0.9547 - val_loss: 0.2542 - val_accuracy: 0.8750 - val_auc: 0.9777\n",
      "Epoch 132/10000\n",
      "6/6 [==============================] - 0s 6ms/step - loss: 0.2793 - accuracy: 0.8698 - auc: 0.9548 - val_loss: 0.2540 - val_accuracy: 0.8750 - val_auc: 0.9777\n",
      "Epoch 133/10000\n",
      "6/6 [==============================] - 0s 6ms/step - loss: 0.2792 - accuracy: 0.8698 - auc: 0.9545 - val_loss: 0.2531 - val_accuracy: 0.8750 - val_auc: 0.9777\n",
      "Epoch 134/10000\n",
      "6/6 [==============================] - 0s 5ms/step - loss: 0.2790 - accuracy: 0.8698 - auc: 0.9548 - val_loss: 0.2530 - val_accuracy: 0.8750 - val_auc: 0.9768\n",
      "Epoch 135/10000\n",
      "6/6 [==============================] - 0s 5ms/step - loss: 0.2790 - accuracy: 0.8698 - auc: 0.9542 - val_loss: 0.2521 - val_accuracy: 0.8750 - val_auc: 0.9777\n",
      "Epoch 136/10000\n",
      "6/6 [==============================] - 0s 5ms/step - loss: 0.2787 - accuracy: 0.8698 - auc: 0.9546 - val_loss: 0.2525 - val_accuracy: 0.8750 - val_auc: 0.9768\n",
      "Epoch 137/10000\n",
      "6/6 [==============================] - 0s 5ms/step - loss: 0.2786 - accuracy: 0.8698 - auc: 0.9546 - val_loss: 0.2520 - val_accuracy: 0.8750 - val_auc: 0.9777\n",
      "Epoch 138/10000\n",
      "6/6 [==============================] - 0s 6ms/step - loss: 0.2784 - accuracy: 0.8698 - auc: 0.9544 - val_loss: 0.2520 - val_accuracy: 0.8750 - val_auc: 0.9777\n",
      "Epoch 139/10000\n",
      "6/6 [==============================] - 0s 5ms/step - loss: 0.2785 - accuracy: 0.8698 - auc: 0.9545 - val_loss: 0.2511 - val_accuracy: 0.8750 - val_auc: 0.9777\n",
      "Epoch 140/10000\n",
      "6/6 [==============================] - 0s 5ms/step - loss: 0.2782 - accuracy: 0.8698 - auc: 0.9547 - val_loss: 0.2505 - val_accuracy: 0.8750 - val_auc: 0.9768\n",
      "Epoch 141/10000\n",
      "6/6 [==============================] - 0s 6ms/step - loss: 0.2781 - accuracy: 0.8698 - auc: 0.9547 - val_loss: 0.2512 - val_accuracy: 0.8750 - val_auc: 0.9777\n"
     ]
    },
    {
     "name": "stdout",
     "output_type": "stream",
     "text": [
      "Epoch 142/10000\n",
      "6/6 [==============================] - 0s 6ms/step - loss: 0.2779 - accuracy: 0.8698 - auc: 0.9549 - val_loss: 0.2509 - val_accuracy: 0.8750 - val_auc: 0.9777\n",
      "Epoch 143/10000\n",
      "6/6 [==============================] - 0s 5ms/step - loss: 0.2777 - accuracy: 0.8698 - auc: 0.9549 - val_loss: 0.2507 - val_accuracy: 0.8750 - val_auc: 0.9786\n",
      "Epoch 144/10000\n",
      "6/6 [==============================] - 0s 6ms/step - loss: 0.2776 - accuracy: 0.8698 - auc: 0.9550 - val_loss: 0.2499 - val_accuracy: 0.8750 - val_auc: 0.9786\n",
      "Epoch 145/10000\n",
      "6/6 [==============================] - 0s 5ms/step - loss: 0.2779 - accuracy: 0.8698 - auc: 0.9549 - val_loss: 0.2487 - val_accuracy: 0.8750 - val_auc: 0.9777\n",
      "Epoch 146/10000\n",
      "6/6 [==============================] - 0s 5ms/step - loss: 0.2774 - accuracy: 0.8698 - auc: 0.9545 - val_loss: 0.2494 - val_accuracy: 0.8750 - val_auc: 0.9795\n",
      "Epoch 147/10000\n",
      "6/6 [==============================] - 0s 5ms/step - loss: 0.2772 - accuracy: 0.8698 - auc: 0.9549 - val_loss: 0.2492 - val_accuracy: 0.8750 - val_auc: 0.9786\n",
      "Epoch 148/10000\n",
      "6/6 [==============================] - 0s 5ms/step - loss: 0.2773 - accuracy: 0.8698 - auc: 0.9548 - val_loss: 0.2481 - val_accuracy: 0.8750 - val_auc: 0.9795\n",
      "Epoch 149/10000\n",
      "6/6 [==============================] - 0s 5ms/step - loss: 0.2769 - accuracy: 0.8698 - auc: 0.9549 - val_loss: 0.2481 - val_accuracy: 0.8750 - val_auc: 0.9795\n",
      "Epoch 150/10000\n",
      "6/6 [==============================] - 0s 5ms/step - loss: 0.2768 - accuracy: 0.8698 - auc: 0.9549 - val_loss: 0.2477 - val_accuracy: 0.8750 - val_auc: 0.9786\n",
      "Epoch 151/10000\n",
      "6/6 [==============================] - 0s 5ms/step - loss: 0.2767 - accuracy: 0.8698 - auc: 0.9549 - val_loss: 0.2470 - val_accuracy: 0.8958 - val_auc: 0.9786\n",
      "Epoch 152/10000\n",
      "6/6 [==============================] - 0s 5ms/step - loss: 0.2765 - accuracy: 0.8698 - auc: 0.9551 - val_loss: 0.2472 - val_accuracy: 0.8750 - val_auc: 0.9786\n",
      "Epoch 153/10000\n",
      "6/6 [==============================] - 0s 6ms/step - loss: 0.2764 - accuracy: 0.8698 - auc: 0.9552 - val_loss: 0.2467 - val_accuracy: 0.8958 - val_auc: 0.9786\n",
      "Epoch 154/10000\n",
      "6/6 [==============================] - 0s 6ms/step - loss: 0.2765 - accuracy: 0.8698 - auc: 0.9549 - val_loss: 0.2457 - val_accuracy: 0.8958 - val_auc: 0.9786\n",
      "Epoch 155/10000\n",
      "6/6 [==============================] - 0s 6ms/step - loss: 0.2761 - accuracy: 0.8698 - auc: 0.9552 - val_loss: 0.2462 - val_accuracy: 0.8958 - val_auc: 0.9786\n",
      "Epoch 156/10000\n",
      "6/6 [==============================] - 0s 6ms/step - loss: 0.2759 - accuracy: 0.8698 - auc: 0.9553 - val_loss: 0.2458 - val_accuracy: 0.8958 - val_auc: 0.9786\n",
      "Epoch 157/10000\n",
      "6/6 [==============================] - 0s 6ms/step - loss: 0.2758 - accuracy: 0.8698 - auc: 0.9553 - val_loss: 0.2457 - val_accuracy: 0.8958 - val_auc: 0.9786\n",
      "Epoch 158/10000\n",
      "6/6 [==============================] - 0s 6ms/step - loss: 0.2757 - accuracy: 0.8698 - auc: 0.9553 - val_loss: 0.2452 - val_accuracy: 0.9167 - val_auc: 0.9786\n",
      "Epoch 159/10000\n",
      "6/6 [==============================] - 0s 6ms/step - loss: 0.2756 - accuracy: 0.8698 - auc: 0.9553 - val_loss: 0.2451 - val_accuracy: 0.9167 - val_auc: 0.9786\n",
      "Epoch 160/10000\n",
      "6/6 [==============================] - 0s 6ms/step - loss: 0.2756 - accuracy: 0.8698 - auc: 0.9552 - val_loss: 0.2443 - val_accuracy: 0.9167 - val_auc: 0.9786\n",
      "Epoch 161/10000\n",
      "6/6 [==============================] - 0s 5ms/step - loss: 0.2753 - accuracy: 0.8698 - auc: 0.9553 - val_loss: 0.2445 - val_accuracy: 0.9167 - val_auc: 0.9786\n",
      "Epoch 162/10000\n",
      "6/6 [==============================] - 0s 5ms/step - loss: 0.2754 - accuracy: 0.8698 - auc: 0.9552 - val_loss: 0.2444 - val_accuracy: 0.9167 - val_auc: 0.9786\n",
      "Epoch 163/10000\n",
      "6/6 [==============================] - 0s 5ms/step - loss: 0.2750 - accuracy: 0.8698 - auc: 0.9553 - val_loss: 0.2437 - val_accuracy: 0.9167 - val_auc: 0.9786\n",
      "Epoch 164/10000\n",
      "6/6 [==============================] - 0s 5ms/step - loss: 0.2753 - accuracy: 0.8698 - auc: 0.9552 - val_loss: 0.2425 - val_accuracy: 0.9167 - val_auc: 0.9786\n",
      "Epoch 165/10000\n",
      "6/6 [==============================] - 0s 6ms/step - loss: 0.2747 - accuracy: 0.8698 - auc: 0.9554 - val_loss: 0.2428 - val_accuracy: 0.9167 - val_auc: 0.9786\n",
      "Epoch 166/10000\n",
      "6/6 [==============================] - 0s 6ms/step - loss: 0.2746 - accuracy: 0.8698 - auc: 0.9554 - val_loss: 0.2432 - val_accuracy: 0.9167 - val_auc: 0.9786\n",
      "Epoch 167/10000\n",
      "6/6 [==============================] - 0s 6ms/step - loss: 0.2744 - accuracy: 0.8698 - auc: 0.9554 - val_loss: 0.2426 - val_accuracy: 0.9167 - val_auc: 0.9786\n",
      "Epoch 168/10000\n",
      "6/6 [==============================] - 0s 6ms/step - loss: 0.2744 - accuracy: 0.8698 - auc: 0.9554 - val_loss: 0.2424 - val_accuracy: 0.9167 - val_auc: 0.9786\n",
      "Epoch 169/10000\n",
      "6/6 [==============================] - 0s 6ms/step - loss: 0.2745 - accuracy: 0.8698 - auc: 0.9553 - val_loss: 0.2418 - val_accuracy: 0.9167 - val_auc: 0.9786\n",
      "Epoch 170/10000\n",
      "6/6 [==============================] - 0s 5ms/step - loss: 0.2741 - accuracy: 0.8698 - auc: 0.9554 - val_loss: 0.2421 - val_accuracy: 0.9167 - val_auc: 0.9786\n",
      "Epoch 171/10000\n",
      "6/6 [==============================] - 0s 5ms/step - loss: 0.2741 - accuracy: 0.8698 - auc: 0.9554 - val_loss: 0.2428 - val_accuracy: 0.9167 - val_auc: 0.9786\n",
      "Epoch 172/10000\n",
      "6/6 [==============================] - 0s 6ms/step - loss: 0.2739 - accuracy: 0.8698 - auc: 0.9555 - val_loss: 0.2421 - val_accuracy: 0.9167 - val_auc: 0.9786\n",
      "Epoch 173/10000\n",
      "6/6 [==============================] - 0s 6ms/step - loss: 0.2736 - accuracy: 0.8698 - auc: 0.9555 - val_loss: 0.2419 - val_accuracy: 0.9167 - val_auc: 0.9786\n",
      "Epoch 174/10000\n",
      "6/6 [==============================] - 0s 6ms/step - loss: 0.2735 - accuracy: 0.8698 - auc: 0.9557 - val_loss: 0.2414 - val_accuracy: 0.9167 - val_auc: 0.9786\n",
      "Epoch 175/10000\n",
      "6/6 [==============================] - 0s 6ms/step - loss: 0.2735 - accuracy: 0.8698 - auc: 0.9557 - val_loss: 0.2420 - val_accuracy: 0.9167 - val_auc: 0.9786\n",
      "Epoch 176/10000\n",
      "6/6 [==============================] - 0s 6ms/step - loss: 0.2732 - accuracy: 0.8698 - auc: 0.9559 - val_loss: 0.2415 - val_accuracy: 0.9167 - val_auc: 0.9786\n",
      "Epoch 177/10000\n",
      "6/6 [==============================] - 0s 6ms/step - loss: 0.2730 - accuracy: 0.8698 - auc: 0.9559 - val_loss: 0.2407 - val_accuracy: 0.9167 - val_auc: 0.9786\n",
      "Epoch 178/10000\n",
      "6/6 [==============================] - 0s 6ms/step - loss: 0.2729 - accuracy: 0.8698 - auc: 0.9560 - val_loss: 0.2406 - val_accuracy: 0.9167 - val_auc: 0.9786\n",
      "Epoch 179/10000\n",
      "6/6 [==============================] - 0s 6ms/step - loss: 0.2727 - accuracy: 0.8698 - auc: 0.9559 - val_loss: 0.2401 - val_accuracy: 0.9167 - val_auc: 0.9786\n",
      "Epoch 180/10000\n",
      "6/6 [==============================] - 0s 6ms/step - loss: 0.2725 - accuracy: 0.8698 - auc: 0.9558 - val_loss: 0.2399 - val_accuracy: 0.9167 - val_auc: 0.9786\n",
      "Epoch 181/10000\n",
      "6/6 [==============================] - 0s 11ms/step - loss: 0.2726 - accuracy: 0.8698 - auc: 0.9560 - val_loss: 0.2390 - val_accuracy: 0.9167 - val_auc: 0.9786\n",
      "Epoch 182/10000\n",
      "6/6 [==============================] - 0s 7ms/step - loss: 0.2722 - accuracy: 0.8698 - auc: 0.9560 - val_loss: 0.2392 - val_accuracy: 0.9167 - val_auc: 0.9786\n",
      "Epoch 183/10000\n",
      "6/6 [==============================] - 0s 6ms/step - loss: 0.2723 - accuracy: 0.8698 - auc: 0.9560 - val_loss: 0.2398 - val_accuracy: 0.9167 - val_auc: 0.9786\n",
      "Epoch 184/10000\n",
      "6/6 [==============================] - 0s 5ms/step - loss: 0.2720 - accuracy: 0.8698 - auc: 0.9561 - val_loss: 0.2398 - val_accuracy: 0.9167 - val_auc: 0.9786\n",
      "Epoch 185/10000\n",
      "6/6 [==============================] - 0s 6ms/step - loss: 0.2720 - accuracy: 0.8698 - auc: 0.9560 - val_loss: 0.2399 - val_accuracy: 0.9167 - val_auc: 0.9786\n",
      "Epoch 186/10000\n",
      "6/6 [==============================] - 0s 5ms/step - loss: 0.2715 - accuracy: 0.8698 - auc: 0.9563 - val_loss: 0.2392 - val_accuracy: 0.9167 - val_auc: 0.9786\n",
      "Epoch 187/10000\n",
      "6/6 [==============================] - 0s 6ms/step - loss: 0.2718 - accuracy: 0.8698 - auc: 0.9561 - val_loss: 0.2396 - val_accuracy: 0.9167 - val_auc: 0.9786\n",
      "Epoch 188/10000\n",
      "6/6 [==============================] - 0s 6ms/step - loss: 0.2715 - accuracy: 0.8698 - auc: 0.9564 - val_loss: 0.2378 - val_accuracy: 0.9167 - val_auc: 0.9786\n"
     ]
    },
    {
     "name": "stdout",
     "output_type": "stream",
     "text": [
      "Epoch 189/10000\n",
      "6/6 [==============================] - 0s 6ms/step - loss: 0.2712 - accuracy: 0.8698 - auc: 0.9564 - val_loss: 0.2369 - val_accuracy: 0.9167 - val_auc: 0.9786\n",
      "Epoch 190/10000\n",
      "6/6 [==============================] - 0s 6ms/step - loss: 0.2711 - accuracy: 0.8698 - auc: 0.9564 - val_loss: 0.2376 - val_accuracy: 0.9167 - val_auc: 0.9786\n",
      "Epoch 191/10000\n",
      "6/6 [==============================] - 0s 6ms/step - loss: 0.2709 - accuracy: 0.8698 - auc: 0.9565 - val_loss: 0.2378 - val_accuracy: 0.9167 - val_auc: 0.9786\n",
      "Epoch 192/10000\n",
      "6/6 [==============================] - 0s 6ms/step - loss: 0.2706 - accuracy: 0.8698 - auc: 0.9565 - val_loss: 0.2374 - val_accuracy: 0.9167 - val_auc: 0.9786\n",
      "Epoch 193/10000\n",
      "6/6 [==============================] - 0s 5ms/step - loss: 0.2704 - accuracy: 0.8698 - auc: 0.9566 - val_loss: 0.2370 - val_accuracy: 0.9167 - val_auc: 0.9786\n",
      "Epoch 194/10000\n",
      "6/6 [==============================] - 0s 5ms/step - loss: 0.2705 - accuracy: 0.8698 - auc: 0.9566 - val_loss: 0.2375 - val_accuracy: 0.9167 - val_auc: 0.9786\n",
      "Epoch 195/10000\n",
      "6/6 [==============================] - 0s 5ms/step - loss: 0.2701 - accuracy: 0.8698 - auc: 0.9567 - val_loss: 0.2373 - val_accuracy: 0.9167 - val_auc: 0.9786\n",
      "Epoch 196/10000\n",
      "6/6 [==============================] - 0s 5ms/step - loss: 0.2699 - accuracy: 0.8698 - auc: 0.9568 - val_loss: 0.2362 - val_accuracy: 0.9167 - val_auc: 0.9786\n",
      "Epoch 197/10000\n",
      "6/6 [==============================] - 0s 5ms/step - loss: 0.2700 - accuracy: 0.8698 - auc: 0.9569 - val_loss: 0.2354 - val_accuracy: 0.9167 - val_auc: 0.9786\n",
      "Epoch 198/10000\n",
      "6/6 [==============================] - 0s 5ms/step - loss: 0.2695 - accuracy: 0.8698 - auc: 0.9570 - val_loss: 0.2356 - val_accuracy: 0.9167 - val_auc: 0.9786\n",
      "Epoch 199/10000\n",
      "6/6 [==============================] - 0s 5ms/step - loss: 0.2695 - accuracy: 0.8698 - auc: 0.9573 - val_loss: 0.2366 - val_accuracy: 0.9167 - val_auc: 0.9786\n",
      "Epoch 200/10000\n",
      "6/6 [==============================] - 0s 5ms/step - loss: 0.2691 - accuracy: 0.8698 - auc: 0.9572 - val_loss: 0.2359 - val_accuracy: 0.9167 - val_auc: 0.9786\n",
      "Epoch 201/10000\n",
      "6/6 [==============================] - 0s 5ms/step - loss: 0.2691 - accuracy: 0.8698 - auc: 0.9572 - val_loss: 0.2353 - val_accuracy: 0.9167 - val_auc: 0.9786\n",
      "Epoch 202/10000\n",
      "6/6 [==============================] - 0s 5ms/step - loss: 0.2687 - accuracy: 0.8698 - auc: 0.9575 - val_loss: 0.2350 - val_accuracy: 0.9167 - val_auc: 0.9786\n",
      "Epoch 203/10000\n",
      "6/6 [==============================] - 0s 5ms/step - loss: 0.2685 - accuracy: 0.8698 - auc: 0.9575 - val_loss: 0.2357 - val_accuracy: 0.9167 - val_auc: 0.9786\n",
      "Epoch 204/10000\n",
      "6/6 [==============================] - 0s 6ms/step - loss: 0.2684 - accuracy: 0.8698 - auc: 0.9576 - val_loss: 0.2351 - val_accuracy: 0.9167 - val_auc: 0.9786\n",
      "Epoch 205/10000\n",
      "6/6 [==============================] - 0s 6ms/step - loss: 0.2681 - accuracy: 0.8698 - auc: 0.9575 - val_loss: 0.2352 - val_accuracy: 0.9167 - val_auc: 0.9786\n",
      "Epoch 206/10000\n",
      "6/6 [==============================] - 0s 6ms/step - loss: 0.2679 - accuracy: 0.8698 - auc: 0.9575 - val_loss: 0.2355 - val_accuracy: 0.9167 - val_auc: 0.9786\n",
      "Epoch 207/10000\n",
      "6/6 [==============================] - 0s 6ms/step - loss: 0.2679 - accuracy: 0.8698 - auc: 0.9577 - val_loss: 0.2344 - val_accuracy: 0.9167 - val_auc: 0.9786\n",
      "Epoch 208/10000\n",
      "6/6 [==============================] - 0s 6ms/step - loss: 0.2678 - accuracy: 0.8698 - auc: 0.9576 - val_loss: 0.2338 - val_accuracy: 0.9167 - val_auc: 0.9786\n",
      "Epoch 209/10000\n",
      "6/6 [==============================] - 0s 6ms/step - loss: 0.2672 - accuracy: 0.8698 - auc: 0.9578 - val_loss: 0.2339 - val_accuracy: 0.9167 - val_auc: 0.9786\n",
      "Epoch 210/10000\n",
      "6/6 [==============================] - 0s 5ms/step - loss: 0.2670 - accuracy: 0.8698 - auc: 0.9581 - val_loss: 0.2342 - val_accuracy: 0.9167 - val_auc: 0.9786\n",
      "Epoch 211/10000\n",
      "6/6 [==============================] - 0s 6ms/step - loss: 0.2670 - accuracy: 0.8698 - auc: 0.9581 - val_loss: 0.2340 - val_accuracy: 0.9167 - val_auc: 0.9786\n",
      "Epoch 212/10000\n",
      "6/6 [==============================] - 0s 6ms/step - loss: 0.2665 - accuracy: 0.8698 - auc: 0.9581 - val_loss: 0.2339 - val_accuracy: 0.9167 - val_auc: 0.9786\n",
      "Epoch 213/10000\n",
      "6/6 [==============================] - 0s 5ms/step - loss: 0.2663 - accuracy: 0.8698 - auc: 0.9582 - val_loss: 0.2339 - val_accuracy: 0.9167 - val_auc: 0.9786\n",
      "Epoch 214/10000\n",
      "6/6 [==============================] - 0s 6ms/step - loss: 0.2662 - accuracy: 0.8698 - auc: 0.9581 - val_loss: 0.2339 - val_accuracy: 0.9167 - val_auc: 0.9786\n",
      "Epoch 215/10000\n",
      "6/6 [==============================] - 0s 6ms/step - loss: 0.2659 - accuracy: 0.8698 - auc: 0.9584 - val_loss: 0.2334 - val_accuracy: 0.9167 - val_auc: 0.9786\n",
      "Epoch 216/10000\n",
      "6/6 [==============================] - 0s 6ms/step - loss: 0.2657 - accuracy: 0.8698 - auc: 0.9585 - val_loss: 0.2328 - val_accuracy: 0.9167 - val_auc: 0.9786\n",
      "Epoch 217/10000\n",
      "6/6 [==============================] - 0s 6ms/step - loss: 0.2657 - accuracy: 0.8698 - auc: 0.9584 - val_loss: 0.2335 - val_accuracy: 0.9167 - val_auc: 0.9786\n",
      "Epoch 218/10000\n",
      "6/6 [==============================] - 0s 5ms/step - loss: 0.2653 - accuracy: 0.8698 - auc: 0.9589 - val_loss: 0.2334 - val_accuracy: 0.9167 - val_auc: 0.9786\n",
      "Epoch 219/10000\n",
      "6/6 [==============================] - 0s 5ms/step - loss: 0.2651 - accuracy: 0.8698 - auc: 0.9589 - val_loss: 0.2331 - val_accuracy: 0.9167 - val_auc: 0.9786\n",
      "Epoch 220/10000\n",
      "6/6 [==============================] - 0s 6ms/step - loss: 0.2651 - accuracy: 0.8698 - auc: 0.9585 - val_loss: 0.2316 - val_accuracy: 0.9167 - val_auc: 0.9786\n",
      "Epoch 221/10000\n",
      "6/6 [==============================] - 0s 6ms/step - loss: 0.2649 - accuracy: 0.8698 - auc: 0.9586 - val_loss: 0.2309 - val_accuracy: 0.9167 - val_auc: 0.9786\n",
      "Epoch 222/10000\n",
      "6/6 [==============================] - 0s 6ms/step - loss: 0.2643 - accuracy: 0.8698 - auc: 0.9584 - val_loss: 0.2315 - val_accuracy: 0.9167 - val_auc: 0.9786\n",
      "Epoch 223/10000\n",
      "6/6 [==============================] - 0s 5ms/step - loss: 0.2642 - accuracy: 0.8698 - auc: 0.9587 - val_loss: 0.2310 - val_accuracy: 0.9167 - val_auc: 0.9786\n",
      "Epoch 224/10000\n",
      "6/6 [==============================] - 0s 5ms/step - loss: 0.2639 - accuracy: 0.8698 - auc: 0.9593 - val_loss: 0.2317 - val_accuracy: 0.9167 - val_auc: 0.9795\n",
      "Epoch 225/10000\n",
      "6/6 [==============================] - 0s 5ms/step - loss: 0.2635 - accuracy: 0.8698 - auc: 0.9592 - val_loss: 0.2320 - val_accuracy: 0.9167 - val_auc: 0.9795\n",
      "Epoch 226/10000\n",
      "6/6 [==============================] - 0s 6ms/step - loss: 0.2635 - accuracy: 0.8698 - auc: 0.9591 - val_loss: 0.2320 - val_accuracy: 0.9167 - val_auc: 0.9804\n",
      "Epoch 227/10000\n",
      "6/6 [==============================] - 0s 5ms/step - loss: 0.2635 - accuracy: 0.8698 - auc: 0.9593 - val_loss: 0.2310 - val_accuracy: 0.9167 - val_auc: 0.9795\n",
      "Epoch 228/10000\n",
      "6/6 [==============================] - 0s 5ms/step - loss: 0.2628 - accuracy: 0.8698 - auc: 0.9596 - val_loss: 0.2307 - val_accuracy: 0.9167 - val_auc: 0.9795\n",
      "Epoch 229/10000\n",
      "6/6 [==============================] - 0s 5ms/step - loss: 0.2624 - accuracy: 0.8698 - auc: 0.9597 - val_loss: 0.2307 - val_accuracy: 0.9167 - val_auc: 0.9795\n",
      "Epoch 230/10000\n",
      "6/6 [==============================] - 0s 5ms/step - loss: 0.2623 - accuracy: 0.8698 - auc: 0.9596 - val_loss: 0.2306 - val_accuracy: 0.9167 - val_auc: 0.9795\n",
      "Epoch 231/10000\n",
      "6/6 [==============================] - 0s 6ms/step - loss: 0.2621 - accuracy: 0.8698 - auc: 0.9597 - val_loss: 0.2309 - val_accuracy: 0.9167 - val_auc: 0.9804\n",
      "Epoch 232/10000\n",
      "6/6 [==============================] - 0s 6ms/step - loss: 0.2618 - accuracy: 0.8698 - auc: 0.9599 - val_loss: 0.2298 - val_accuracy: 0.9167 - val_auc: 0.9804\n",
      "Epoch 233/10000\n",
      "6/6 [==============================] - 0s 5ms/step - loss: 0.2616 - accuracy: 0.8698 - auc: 0.9599 - val_loss: 0.2300 - val_accuracy: 0.9167 - val_auc: 0.9804\n",
      "Epoch 234/10000\n",
      "6/6 [==============================] - 0s 5ms/step - loss: 0.2613 - accuracy: 0.8698 - auc: 0.9599 - val_loss: 0.2293 - val_accuracy: 0.9167 - val_auc: 0.9804\n",
      "Epoch 235/10000\n",
      "6/6 [==============================] - 0s 5ms/step - loss: 0.2610 - accuracy: 0.8698 - auc: 0.9599 - val_loss: 0.2292 - val_accuracy: 0.9167 - val_auc: 0.9804\n"
     ]
    },
    {
     "name": "stdout",
     "output_type": "stream",
     "text": [
      "Epoch 236/10000\n",
      "6/6 [==============================] - 0s 5ms/step - loss: 0.2608 - accuracy: 0.8698 - auc: 0.9601 - val_loss: 0.2294 - val_accuracy: 0.9167 - val_auc: 0.9804\n",
      "Epoch 237/10000\n",
      "6/6 [==============================] - 0s 5ms/step - loss: 0.2604 - accuracy: 0.8698 - auc: 0.9602 - val_loss: 0.2287 - val_accuracy: 0.9167 - val_auc: 0.9804\n",
      "Epoch 238/10000\n",
      "6/6 [==============================] - 0s 5ms/step - loss: 0.2601 - accuracy: 0.8698 - auc: 0.9602 - val_loss: 0.2284 - val_accuracy: 0.9167 - val_auc: 0.9804\n",
      "Epoch 239/10000\n",
      "6/6 [==============================] - 0s 5ms/step - loss: 0.2598 - accuracy: 0.8698 - auc: 0.9603 - val_loss: 0.2282 - val_accuracy: 0.9167 - val_auc: 0.9804\n",
      "Epoch 240/10000\n",
      "6/6 [==============================] - 0s 5ms/step - loss: 0.2595 - accuracy: 0.8698 - auc: 0.9603 - val_loss: 0.2283 - val_accuracy: 0.9167 - val_auc: 0.9804\n",
      "Epoch 241/10000\n",
      "6/6 [==============================] - 0s 5ms/step - loss: 0.2592 - accuracy: 0.8698 - auc: 0.9603 - val_loss: 0.2286 - val_accuracy: 0.9167 - val_auc: 0.9804\n",
      "Epoch 242/10000\n",
      "6/6 [==============================] - 0s 5ms/step - loss: 0.2589 - accuracy: 0.8698 - auc: 0.9605 - val_loss: 0.2280 - val_accuracy: 0.9167 - val_auc: 0.9804\n",
      "Epoch 243/10000\n",
      "6/6 [==============================] - 0s 6ms/step - loss: 0.2586 - accuracy: 0.8698 - auc: 0.9608 - val_loss: 0.2281 - val_accuracy: 0.9167 - val_auc: 0.9804\n",
      "Epoch 244/10000\n",
      "6/6 [==============================] - 0s 6ms/step - loss: 0.2584 - accuracy: 0.8698 - auc: 0.9606 - val_loss: 0.2285 - val_accuracy: 0.9167 - val_auc: 0.9804\n",
      "Epoch 245/10000\n",
      "6/6 [==============================] - 0s 6ms/step - loss: 0.2583 - accuracy: 0.8698 - auc: 0.9605 - val_loss: 0.2270 - val_accuracy: 0.9167 - val_auc: 0.9804\n",
      "Epoch 246/10000\n",
      "6/6 [==============================] - 0s 6ms/step - loss: 0.2578 - accuracy: 0.8698 - auc: 0.9610 - val_loss: 0.2274 - val_accuracy: 0.9167 - val_auc: 0.9804\n",
      "Epoch 247/10000\n",
      "6/6 [==============================] - 0s 5ms/step - loss: 0.2574 - accuracy: 0.8698 - auc: 0.9610 - val_loss: 0.2269 - val_accuracy: 0.9167 - val_auc: 0.9804\n",
      "Epoch 248/10000\n",
      "6/6 [==============================] - 0s 5ms/step - loss: 0.2572 - accuracy: 0.8698 - auc: 0.9612 - val_loss: 0.2271 - val_accuracy: 0.9167 - val_auc: 0.9804\n",
      "Epoch 249/10000\n",
      "6/6 [==============================] - 0s 6ms/step - loss: 0.2568 - accuracy: 0.8698 - auc: 0.9611 - val_loss: 0.2265 - val_accuracy: 0.9167 - val_auc: 0.9804\n",
      "Epoch 250/10000\n",
      "6/6 [==============================] - 0s 6ms/step - loss: 0.2568 - accuracy: 0.8698 - auc: 0.9613 - val_loss: 0.2272 - val_accuracy: 0.9167 - val_auc: 0.9812\n",
      "Epoch 251/10000\n",
      "6/6 [==============================] - 0s 5ms/step - loss: 0.2563 - accuracy: 0.8750 - auc: 0.9614 - val_loss: 0.2260 - val_accuracy: 0.9167 - val_auc: 0.9813\n",
      "Epoch 252/10000\n",
      "6/6 [==============================] - 0s 5ms/step - loss: 0.2559 - accuracy: 0.8698 - auc: 0.9618 - val_loss: 0.2264 - val_accuracy: 0.9167 - val_auc: 0.9821\n",
      "Epoch 253/10000\n",
      "6/6 [==============================] - 0s 5ms/step - loss: 0.2557 - accuracy: 0.8750 - auc: 0.9619 - val_loss: 0.2262 - val_accuracy: 0.9167 - val_auc: 0.9821\n",
      "Epoch 254/10000\n",
      "6/6 [==============================] - 0s 5ms/step - loss: 0.2553 - accuracy: 0.8698 - auc: 0.9620 - val_loss: 0.2255 - val_accuracy: 0.9167 - val_auc: 0.9812\n",
      "Epoch 255/10000\n",
      "6/6 [==============================] - 0s 5ms/step - loss: 0.2548 - accuracy: 0.8698 - auc: 0.9620 - val_loss: 0.2255 - val_accuracy: 0.9167 - val_auc: 0.9812\n",
      "Epoch 256/10000\n",
      "6/6 [==============================] - 0s 5ms/step - loss: 0.2546 - accuracy: 0.8750 - auc: 0.9621 - val_loss: 0.2251 - val_accuracy: 0.9167 - val_auc: 0.9812\n",
      "Epoch 257/10000\n",
      "6/6 [==============================] - 0s 5ms/step - loss: 0.2543 - accuracy: 0.8750 - auc: 0.9621 - val_loss: 0.2255 - val_accuracy: 0.9167 - val_auc: 0.9821\n",
      "Epoch 258/10000\n",
      "6/6 [==============================] - 0s 5ms/step - loss: 0.2540 - accuracy: 0.8750 - auc: 0.9621 - val_loss: 0.2244 - val_accuracy: 0.9167 - val_auc: 0.9821\n",
      "Epoch 259/10000\n",
      "6/6 [==============================] - 0s 6ms/step - loss: 0.2536 - accuracy: 0.8750 - auc: 0.9621 - val_loss: 0.2241 - val_accuracy: 0.9167 - val_auc: 0.9821\n",
      "Epoch 260/10000\n",
      "6/6 [==============================] - 0s 5ms/step - loss: 0.2533 - accuracy: 0.8750 - auc: 0.9623 - val_loss: 0.2245 - val_accuracy: 0.9167 - val_auc: 0.9821\n",
      "Epoch 261/10000\n",
      "6/6 [==============================] - 0s 5ms/step - loss: 0.2529 - accuracy: 0.8750 - auc: 0.9622 - val_loss: 0.2244 - val_accuracy: 0.9167 - val_auc: 0.9821\n",
      "Epoch 262/10000\n",
      "6/6 [==============================] - 0s 6ms/step - loss: 0.2526 - accuracy: 0.8750 - auc: 0.9621 - val_loss: 0.2245 - val_accuracy: 0.9167 - val_auc: 0.9821\n",
      "Epoch 263/10000\n",
      "6/6 [==============================] - 0s 6ms/step - loss: 0.2523 - accuracy: 0.8750 - auc: 0.9623 - val_loss: 0.2243 - val_accuracy: 0.9167 - val_auc: 0.9821\n",
      "Epoch 264/10000\n",
      "6/6 [==============================] - 0s 6ms/step - loss: 0.2519 - accuracy: 0.8750 - auc: 0.9623 - val_loss: 0.2237 - val_accuracy: 0.9167 - val_auc: 0.9821\n",
      "Epoch 265/10000\n",
      "6/6 [==============================] - 0s 5ms/step - loss: 0.2515 - accuracy: 0.8750 - auc: 0.9624 - val_loss: 0.2238 - val_accuracy: 0.9167 - val_auc: 0.9821\n",
      "Epoch 266/10000\n",
      "6/6 [==============================] - 0s 6ms/step - loss: 0.2514 - accuracy: 0.8750 - auc: 0.9626 - val_loss: 0.2230 - val_accuracy: 0.9167 - val_auc: 0.9821\n",
      "Epoch 267/10000\n",
      "6/6 [==============================] - 0s 6ms/step - loss: 0.2511 - accuracy: 0.8750 - auc: 0.9626 - val_loss: 0.2233 - val_accuracy: 0.9167 - val_auc: 0.9821\n",
      "Epoch 268/10000\n",
      "6/6 [==============================] - 0s 6ms/step - loss: 0.2512 - accuracy: 0.8750 - auc: 0.9628 - val_loss: 0.2215 - val_accuracy: 0.9167 - val_auc: 0.9821\n",
      "Epoch 269/10000\n",
      "6/6 [==============================] - 0s 6ms/step - loss: 0.2502 - accuracy: 0.8750 - auc: 0.9632 - val_loss: 0.2217 - val_accuracy: 0.9167 - val_auc: 0.9821\n",
      "Epoch 270/10000\n",
      "6/6 [==============================] - 0s 5ms/step - loss: 0.2499 - accuracy: 0.8750 - auc: 0.9632 - val_loss: 0.2214 - val_accuracy: 0.9167 - val_auc: 0.9821\n",
      "Epoch 271/10000\n",
      "6/6 [==============================] - 0s 5ms/step - loss: 0.2498 - accuracy: 0.8750 - auc: 0.9629 - val_loss: 0.2224 - val_accuracy: 0.9167 - val_auc: 0.9821\n",
      "Epoch 272/10000\n",
      "6/6 [==============================] - 0s 5ms/step - loss: 0.2492 - accuracy: 0.8750 - auc: 0.9632 - val_loss: 0.2229 - val_accuracy: 0.9167 - val_auc: 0.9821\n",
      "Epoch 273/10000\n",
      "6/6 [==============================] - 0s 5ms/step - loss: 0.2491 - accuracy: 0.8750 - auc: 0.9633 - val_loss: 0.2218 - val_accuracy: 0.9167 - val_auc: 0.9821\n",
      "Epoch 274/10000\n",
      "6/6 [==============================] - 0s 6ms/step - loss: 0.2487 - accuracy: 0.8750 - auc: 0.9634 - val_loss: 0.2219 - val_accuracy: 0.9167 - val_auc: 0.9821\n",
      "Epoch 275/10000\n",
      "6/6 [==============================] - 0s 6ms/step - loss: 0.2482 - accuracy: 0.8750 - auc: 0.9636 - val_loss: 0.2217 - val_accuracy: 0.9167 - val_auc: 0.9821\n",
      "Epoch 276/10000\n",
      "6/6 [==============================] - 0s 5ms/step - loss: 0.2480 - accuracy: 0.8750 - auc: 0.9639 - val_loss: 0.2209 - val_accuracy: 0.9167 - val_auc: 0.9821\n",
      "Epoch 277/10000\n",
      "6/6 [==============================] - 0s 6ms/step - loss: 0.2475 - accuracy: 0.8750 - auc: 0.9638 - val_loss: 0.2204 - val_accuracy: 0.9167 - val_auc: 0.9821\n",
      "Epoch 278/10000\n",
      "6/6 [==============================] - 0s 6ms/step - loss: 0.2472 - accuracy: 0.8750 - auc: 0.9639 - val_loss: 0.2195 - val_accuracy: 0.9167 - val_auc: 0.9821\n",
      "Epoch 279/10000\n",
      "6/6 [==============================] - 0s 6ms/step - loss: 0.2470 - accuracy: 0.8750 - auc: 0.9639 - val_loss: 0.2201 - val_accuracy: 0.9167 - val_auc: 0.9830\n",
      "Epoch 280/10000\n",
      "6/6 [==============================] - 0s 6ms/step - loss: 0.2466 - accuracy: 0.8750 - auc: 0.9642 - val_loss: 0.2193 - val_accuracy: 0.9167 - val_auc: 0.9821\n",
      "Epoch 281/10000\n",
      "6/6 [==============================] - 0s 6ms/step - loss: 0.2463 - accuracy: 0.8750 - auc: 0.9641 - val_loss: 0.2201 - val_accuracy: 0.9167 - val_auc: 0.9830\n",
      "Epoch 282/10000\n",
      "6/6 [==============================] - 0s 7ms/step - loss: 0.2459 - accuracy: 0.8750 - auc: 0.9644 - val_loss: 0.2191 - val_accuracy: 0.9167 - val_auc: 0.9830\n"
     ]
    },
    {
     "name": "stdout",
     "output_type": "stream",
     "text": [
      "Epoch 283/10000\n",
      "6/6 [==============================] - 0s 6ms/step - loss: 0.2454 - accuracy: 0.8750 - auc: 0.9644 - val_loss: 0.2186 - val_accuracy: 0.9167 - val_auc: 0.9839\n",
      "Epoch 284/10000\n",
      "6/6 [==============================] - 0s 5ms/step - loss: 0.2452 - accuracy: 0.8750 - auc: 0.9645 - val_loss: 0.2190 - val_accuracy: 0.9167 - val_auc: 0.9839\n",
      "Epoch 285/10000\n",
      "6/6 [==============================] - 0s 5ms/step - loss: 0.2449 - accuracy: 0.8750 - auc: 0.9645 - val_loss: 0.2187 - val_accuracy: 0.9167 - val_auc: 0.9839\n",
      "Epoch 286/10000\n",
      "6/6 [==============================] - 0s 5ms/step - loss: 0.2444 - accuracy: 0.8802 - auc: 0.9648 - val_loss: 0.2181 - val_accuracy: 0.9167 - val_auc: 0.9839\n",
      "Epoch 287/10000\n",
      "6/6 [==============================] - 0s 6ms/step - loss: 0.2442 - accuracy: 0.8802 - auc: 0.9650 - val_loss: 0.2185 - val_accuracy: 0.9167 - val_auc: 0.9839\n",
      "Epoch 288/10000\n",
      "6/6 [==============================] - 0s 5ms/step - loss: 0.2437 - accuracy: 0.8750 - auc: 0.9648 - val_loss: 0.2185 - val_accuracy: 0.9167 - val_auc: 0.9839\n",
      "Epoch 289/10000\n",
      "6/6 [==============================] - 0s 6ms/step - loss: 0.2435 - accuracy: 0.8750 - auc: 0.9649 - val_loss: 0.2186 - val_accuracy: 0.9167 - val_auc: 0.9839\n",
      "Epoch 290/10000\n",
      "6/6 [==============================] - 0s 5ms/step - loss: 0.2430 - accuracy: 0.8750 - auc: 0.9649 - val_loss: 0.2178 - val_accuracy: 0.9167 - val_auc: 0.9839\n",
      "Epoch 291/10000\n",
      "6/6 [==============================] - 0s 5ms/step - loss: 0.2427 - accuracy: 0.8802 - auc: 0.9651 - val_loss: 0.2171 - val_accuracy: 0.9167 - val_auc: 0.9839\n",
      "Epoch 292/10000\n",
      "6/6 [==============================] - 0s 5ms/step - loss: 0.2424 - accuracy: 0.8802 - auc: 0.9652 - val_loss: 0.2168 - val_accuracy: 0.9167 - val_auc: 0.9839\n",
      "Epoch 293/10000\n",
      "6/6 [==============================] - 0s 5ms/step - loss: 0.2422 - accuracy: 0.8802 - auc: 0.9654 - val_loss: 0.2159 - val_accuracy: 0.9167 - val_auc: 0.9839\n",
      "Epoch 294/10000\n",
      "6/6 [==============================] - 0s 5ms/step - loss: 0.2419 - accuracy: 0.8802 - auc: 0.9655 - val_loss: 0.2165 - val_accuracy: 0.9167 - val_auc: 0.9839\n",
      "Epoch 295/10000\n",
      "6/6 [==============================] - 0s 5ms/step - loss: 0.2413 - accuracy: 0.8802 - auc: 0.9656 - val_loss: 0.2162 - val_accuracy: 0.9167 - val_auc: 0.9839\n",
      "Epoch 296/10000\n",
      "6/6 [==============================] - 0s 5ms/step - loss: 0.2410 - accuracy: 0.8802 - auc: 0.9656 - val_loss: 0.2157 - val_accuracy: 0.9167 - val_auc: 0.9839\n",
      "Epoch 297/10000\n",
      "6/6 [==============================] - 0s 5ms/step - loss: 0.2406 - accuracy: 0.8802 - auc: 0.9657 - val_loss: 0.2155 - val_accuracy: 0.9167 - val_auc: 0.9839\n",
      "Epoch 298/10000\n",
      "6/6 [==============================] - 0s 5ms/step - loss: 0.2403 - accuracy: 0.8802 - auc: 0.9660 - val_loss: 0.2147 - val_accuracy: 0.9167 - val_auc: 0.9839\n",
      "Epoch 299/10000\n",
      "6/6 [==============================] - 0s 5ms/step - loss: 0.2400 - accuracy: 0.8906 - auc: 0.9658 - val_loss: 0.2143 - val_accuracy: 0.9167 - val_auc: 0.9839\n",
      "Epoch 300/10000\n",
      "6/6 [==============================] - 0s 6ms/step - loss: 0.2397 - accuracy: 0.8802 - auc: 0.9661 - val_loss: 0.2150 - val_accuracy: 0.9167 - val_auc: 0.9839\n",
      "Epoch 301/10000\n",
      "6/6 [==============================] - 0s 6ms/step - loss: 0.2392 - accuracy: 0.8802 - auc: 0.9665 - val_loss: 0.2143 - val_accuracy: 0.9167 - val_auc: 0.9839\n",
      "Epoch 302/10000\n",
      "6/6 [==============================] - 0s 5ms/step - loss: 0.2388 - accuracy: 0.8854 - auc: 0.9665 - val_loss: 0.2138 - val_accuracy: 0.9167 - val_auc: 0.9839\n",
      "Epoch 303/10000\n",
      "6/6 [==============================] - 0s 6ms/step - loss: 0.2384 - accuracy: 0.8906 - auc: 0.9667 - val_loss: 0.2134 - val_accuracy: 0.9167 - val_auc: 0.9839\n",
      "Epoch 304/10000\n",
      "6/6 [==============================] - 0s 6ms/step - loss: 0.2381 - accuracy: 0.8906 - auc: 0.9668 - val_loss: 0.2136 - val_accuracy: 0.9167 - val_auc: 0.9839\n",
      "Epoch 305/10000\n",
      "6/6 [==============================] - 0s 7ms/step - loss: 0.2378 - accuracy: 0.8854 - auc: 0.9667 - val_loss: 0.2135 - val_accuracy: 0.9167 - val_auc: 0.9839\n",
      "Epoch 306/10000\n",
      "6/6 [==============================] - 0s 6ms/step - loss: 0.2378 - accuracy: 0.8854 - auc: 0.9669 - val_loss: 0.2140 - val_accuracy: 0.9167 - val_auc: 0.9839\n",
      "Epoch 307/10000\n",
      "6/6 [==============================] - 0s 6ms/step - loss: 0.2370 - accuracy: 0.8854 - auc: 0.9670 - val_loss: 0.2128 - val_accuracy: 0.9167 - val_auc: 0.9839\n",
      "Epoch 308/10000\n",
      "6/6 [==============================] - 0s 6ms/step - loss: 0.2366 - accuracy: 0.8906 - auc: 0.9676 - val_loss: 0.2122 - val_accuracy: 0.9167 - val_auc: 0.9839\n",
      "Epoch 309/10000\n",
      "6/6 [==============================] - 0s 8ms/step - loss: 0.2363 - accuracy: 0.8906 - auc: 0.9675 - val_loss: 0.2119 - val_accuracy: 0.9167 - val_auc: 0.9839\n",
      "Epoch 310/10000\n",
      "6/6 [==============================] - 0s 6ms/step - loss: 0.2360 - accuracy: 0.8906 - auc: 0.9675 - val_loss: 0.2113 - val_accuracy: 0.9167 - val_auc: 0.9839\n",
      "Epoch 311/10000\n",
      "6/6 [==============================] - 0s 6ms/step - loss: 0.2355 - accuracy: 0.8906 - auc: 0.9676 - val_loss: 0.2113 - val_accuracy: 0.9167 - val_auc: 0.9839\n",
      "Epoch 312/10000\n",
      "6/6 [==============================] - 0s 6ms/step - loss: 0.2352 - accuracy: 0.8906 - auc: 0.9678 - val_loss: 0.2108 - val_accuracy: 0.9167 - val_auc: 0.9839\n",
      "Epoch 313/10000\n",
      "6/6 [==============================] - 0s 6ms/step - loss: 0.2349 - accuracy: 0.8906 - auc: 0.9680 - val_loss: 0.2108 - val_accuracy: 0.9167 - val_auc: 0.9839\n",
      "Epoch 314/10000\n",
      "6/6 [==============================] - 0s 6ms/step - loss: 0.2344 - accuracy: 0.8906 - auc: 0.9683 - val_loss: 0.2104 - val_accuracy: 0.9167 - val_auc: 0.9839\n",
      "Epoch 315/10000\n",
      "6/6 [==============================] - 0s 6ms/step - loss: 0.2341 - accuracy: 0.8906 - auc: 0.9683 - val_loss: 0.2097 - val_accuracy: 0.9167 - val_auc: 0.9839\n",
      "Epoch 316/10000\n",
      "6/6 [==============================] - 0s 6ms/step - loss: 0.2337 - accuracy: 0.8906 - auc: 0.9683 - val_loss: 0.2096 - val_accuracy: 0.9167 - val_auc: 0.9839\n",
      "Epoch 317/10000\n",
      "6/6 [==============================] - 0s 6ms/step - loss: 0.2336 - accuracy: 0.8906 - auc: 0.9680 - val_loss: 0.2088 - val_accuracy: 0.9167 - val_auc: 0.9839\n",
      "Epoch 318/10000\n",
      "6/6 [==============================] - 0s 6ms/step - loss: 0.2329 - accuracy: 0.8906 - auc: 0.9686 - val_loss: 0.2089 - val_accuracy: 0.9167 - val_auc: 0.9839\n",
      "Epoch 319/10000\n",
      "6/6 [==============================] - 0s 6ms/step - loss: 0.2328 - accuracy: 0.8906 - auc: 0.9686 - val_loss: 0.2090 - val_accuracy: 0.9167 - val_auc: 0.9839\n",
      "Epoch 320/10000\n",
      "6/6 [==============================] - 0s 6ms/step - loss: 0.2322 - accuracy: 0.8906 - auc: 0.9687 - val_loss: 0.2087 - val_accuracy: 0.9167 - val_auc: 0.9839\n",
      "Epoch 321/10000\n",
      "6/6 [==============================] - 0s 6ms/step - loss: 0.2319 - accuracy: 0.8906 - auc: 0.9687 - val_loss: 0.2081 - val_accuracy: 0.9167 - val_auc: 0.9839\n",
      "Epoch 322/10000\n",
      "6/6 [==============================] - 0s 5ms/step - loss: 0.2315 - accuracy: 0.8906 - auc: 0.9690 - val_loss: 0.2076 - val_accuracy: 0.9167 - val_auc: 0.9839\n",
      "Epoch 323/10000\n",
      "6/6 [==============================] - 0s 6ms/step - loss: 0.2312 - accuracy: 0.8906 - auc: 0.9689 - val_loss: 0.2077 - val_accuracy: 0.9167 - val_auc: 0.9839\n",
      "Epoch 324/10000\n",
      "6/6 [==============================] - 0s 5ms/step - loss: 0.2308 - accuracy: 0.8906 - auc: 0.9690 - val_loss: 0.2073 - val_accuracy: 0.9167 - val_auc: 0.9839\n",
      "Epoch 325/10000\n",
      "6/6 [==============================] - 0s 6ms/step - loss: 0.2305 - accuracy: 0.8906 - auc: 0.9689 - val_loss: 0.2067 - val_accuracy: 0.9167 - val_auc: 0.9839\n",
      "Epoch 326/10000\n",
      "6/6 [==============================] - 0s 5ms/step - loss: 0.2301 - accuracy: 0.8906 - auc: 0.9689 - val_loss: 0.2072 - val_accuracy: 0.9167 - val_auc: 0.9839\n",
      "Epoch 327/10000\n",
      "6/6 [==============================] - 0s 5ms/step - loss: 0.2296 - accuracy: 0.8906 - auc: 0.9690 - val_loss: 0.2068 - val_accuracy: 0.9167 - val_auc: 0.9839\n",
      "Epoch 328/10000\n",
      "6/6 [==============================] - 0s 6ms/step - loss: 0.2297 - accuracy: 0.8906 - auc: 0.9690 - val_loss: 0.2057 - val_accuracy: 0.9167 - val_auc: 0.9839\n",
      "Epoch 329/10000\n",
      "6/6 [==============================] - 0s 6ms/step - loss: 0.2289 - accuracy: 0.8906 - auc: 0.9691 - val_loss: 0.2065 - val_accuracy: 0.9167 - val_auc: 0.9839\n"
     ]
    },
    {
     "name": "stdout",
     "output_type": "stream",
     "text": [
      "Epoch 330/10000\n",
      "6/6 [==============================] - 0s 5ms/step - loss: 0.2285 - accuracy: 0.8906 - auc: 0.9692 - val_loss: 0.2059 - val_accuracy: 0.9167 - val_auc: 0.9839\n",
      "Epoch 331/10000\n",
      "6/6 [==============================] - 0s 5ms/step - loss: 0.2283 - accuracy: 0.8906 - auc: 0.9692 - val_loss: 0.2063 - val_accuracy: 0.9167 - val_auc: 0.9839\n",
      "Epoch 332/10000\n",
      "6/6 [==============================] - 0s 5ms/step - loss: 0.2279 - accuracy: 0.8906 - auc: 0.9694 - val_loss: 0.2052 - val_accuracy: 0.9167 - val_auc: 0.9839\n",
      "Epoch 333/10000\n",
      "6/6 [==============================] - 0s 6ms/step - loss: 0.2275 - accuracy: 0.8906 - auc: 0.9692 - val_loss: 0.2046 - val_accuracy: 0.9167 - val_auc: 0.9839\n",
      "Epoch 334/10000\n",
      "6/6 [==============================] - 0s 6ms/step - loss: 0.2271 - accuracy: 0.8906 - auc: 0.9694 - val_loss: 0.2046 - val_accuracy: 0.9167 - val_auc: 0.9839\n",
      "Epoch 335/10000\n",
      "6/6 [==============================] - 0s 6ms/step - loss: 0.2267 - accuracy: 0.8906 - auc: 0.9697 - val_loss: 0.2042 - val_accuracy: 0.9167 - val_auc: 0.9839\n",
      "Epoch 336/10000\n",
      "6/6 [==============================] - 0s 5ms/step - loss: 0.2271 - accuracy: 0.8906 - auc: 0.9695 - val_loss: 0.2027 - val_accuracy: 0.9167 - val_auc: 0.9839\n",
      "Epoch 337/10000\n",
      "6/6 [==============================] - 0s 6ms/step - loss: 0.2260 - accuracy: 0.8906 - auc: 0.9697 - val_loss: 0.2029 - val_accuracy: 0.9167 - val_auc: 0.9839\n",
      "Epoch 338/10000\n",
      "6/6 [==============================] - 0s 5ms/step - loss: 0.2255 - accuracy: 0.8906 - auc: 0.9700 - val_loss: 0.2032 - val_accuracy: 0.9167 - val_auc: 0.9839\n",
      "Epoch 339/10000\n",
      "6/6 [==============================] - 0s 5ms/step - loss: 0.2252 - accuracy: 0.8906 - auc: 0.9698 - val_loss: 0.2030 - val_accuracy: 0.9167 - val_auc: 0.9839\n",
      "Epoch 340/10000\n",
      "6/6 [==============================] - 0s 5ms/step - loss: 0.2249 - accuracy: 0.8906 - auc: 0.9698 - val_loss: 0.2032 - val_accuracy: 0.9167 - val_auc: 0.9839\n",
      "Epoch 341/10000\n",
      "6/6 [==============================] - 0s 6ms/step - loss: 0.2249 - accuracy: 0.8906 - auc: 0.9699 - val_loss: 0.2038 - val_accuracy: 0.9167 - val_auc: 0.9839\n",
      "Epoch 342/10000\n",
      "6/6 [==============================] - 0s 6ms/step - loss: 0.2242 - accuracy: 0.8906 - auc: 0.9702 - val_loss: 0.2025 - val_accuracy: 0.9167 - val_auc: 0.9839\n",
      "Epoch 343/10000\n",
      "6/6 [==============================] - 0s 6ms/step - loss: 0.2239 - accuracy: 0.8906 - auc: 0.9701 - val_loss: 0.2013 - val_accuracy: 0.9167 - val_auc: 0.9839\n",
      "Epoch 344/10000\n",
      "6/6 [==============================] - 0s 5ms/step - loss: 0.2238 - accuracy: 0.8906 - auc: 0.9701 - val_loss: 0.2021 - val_accuracy: 0.9167 - val_auc: 0.9839\n",
      "Epoch 345/10000\n",
      "6/6 [==============================] - 0s 6ms/step - loss: 0.2230 - accuracy: 0.8906 - auc: 0.9702 - val_loss: 0.2013 - val_accuracy: 0.9167 - val_auc: 0.9839\n",
      "Epoch 346/10000\n",
      "6/6 [==============================] - 0s 6ms/step - loss: 0.2225 - accuracy: 0.8906 - auc: 0.9702 - val_loss: 0.2008 - val_accuracy: 0.9167 - val_auc: 0.9839\n",
      "Epoch 347/10000\n",
      "6/6 [==============================] - 0s 5ms/step - loss: 0.2223 - accuracy: 0.8906 - auc: 0.9705 - val_loss: 0.2000 - val_accuracy: 0.9167 - val_auc: 0.9839\n",
      "Epoch 348/10000\n",
      "6/6 [==============================] - 0s 6ms/step - loss: 0.2224 - accuracy: 0.8906 - auc: 0.9702 - val_loss: 0.2010 - val_accuracy: 0.9167 - val_auc: 0.9839\n",
      "Epoch 349/10000\n",
      "6/6 [==============================] - 0s 6ms/step - loss: 0.2215 - accuracy: 0.8906 - auc: 0.9703 - val_loss: 0.1999 - val_accuracy: 0.9167 - val_auc: 0.9839\n",
      "Epoch 350/10000\n",
      "6/6 [==============================] - 0s 6ms/step - loss: 0.2211 - accuracy: 0.8906 - auc: 0.9705 - val_loss: 0.1993 - val_accuracy: 0.9167 - val_auc: 0.9839\n",
      "Epoch 351/10000\n",
      "6/6 [==============================] - 0s 6ms/step - loss: 0.2208 - accuracy: 0.8906 - auc: 0.9707 - val_loss: 0.1988 - val_accuracy: 0.9167 - val_auc: 0.9839\n",
      "Epoch 352/10000\n",
      "6/6 [==============================] - 0s 6ms/step - loss: 0.2204 - accuracy: 0.8906 - auc: 0.9705 - val_loss: 0.1985 - val_accuracy: 0.9167 - val_auc: 0.9839\n",
      "Epoch 353/10000\n",
      "6/6 [==============================] - 0s 6ms/step - loss: 0.2199 - accuracy: 0.8906 - auc: 0.9710 - val_loss: 0.1987 - val_accuracy: 0.9167 - val_auc: 0.9839\n",
      "Epoch 354/10000\n",
      "6/6 [==============================] - 0s 6ms/step - loss: 0.2195 - accuracy: 0.8906 - auc: 0.9711 - val_loss: 0.1986 - val_accuracy: 0.9167 - val_auc: 0.9839\n",
      "Epoch 355/10000\n",
      "6/6 [==============================] - 0s 6ms/step - loss: 0.2192 - accuracy: 0.8906 - auc: 0.9711 - val_loss: 0.1981 - val_accuracy: 0.9167 - val_auc: 0.9839\n",
      "Epoch 356/10000\n",
      "6/6 [==============================] - 0s 5ms/step - loss: 0.2189 - accuracy: 0.8906 - auc: 0.9713 - val_loss: 0.1976 - val_accuracy: 0.9167 - val_auc: 0.9839\n",
      "Epoch 357/10000\n",
      "6/6 [==============================] - 0s 5ms/step - loss: 0.2185 - accuracy: 0.8906 - auc: 0.9713 - val_loss: 0.1979 - val_accuracy: 0.9167 - val_auc: 0.9839\n",
      "Epoch 358/10000\n",
      "6/6 [==============================] - 0s 5ms/step - loss: 0.2180 - accuracy: 0.8906 - auc: 0.9713 - val_loss: 0.1977 - val_accuracy: 0.9167 - val_auc: 0.9839\n",
      "Epoch 359/10000\n",
      "6/6 [==============================] - 0s 5ms/step - loss: 0.2177 - accuracy: 0.8906 - auc: 0.9713 - val_loss: 0.1971 - val_accuracy: 0.9167 - val_auc: 0.9839\n",
      "Epoch 360/10000\n",
      "6/6 [==============================] - 0s 6ms/step - loss: 0.2173 - accuracy: 0.8906 - auc: 0.9716 - val_loss: 0.1967 - val_accuracy: 0.9167 - val_auc: 0.9839\n",
      "Epoch 361/10000\n",
      "6/6 [==============================] - 0s 5ms/step - loss: 0.2173 - accuracy: 0.8906 - auc: 0.9715 - val_loss: 0.1973 - val_accuracy: 0.9167 - val_auc: 0.9839\n",
      "Epoch 362/10000\n",
      "6/6 [==============================] - 0s 5ms/step - loss: 0.2167 - accuracy: 0.8906 - auc: 0.9715 - val_loss: 0.1970 - val_accuracy: 0.9167 - val_auc: 0.9839\n",
      "Epoch 363/10000\n",
      "6/6 [==============================] - 0s 5ms/step - loss: 0.2161 - accuracy: 0.8906 - auc: 0.9717 - val_loss: 0.1958 - val_accuracy: 0.9167 - val_auc: 0.9839\n",
      "Epoch 364/10000\n",
      "6/6 [==============================] - 0s 5ms/step - loss: 0.2158 - accuracy: 0.8906 - auc: 0.9718 - val_loss: 0.1948 - val_accuracy: 0.9167 - val_auc: 0.9848\n",
      "Epoch 365/10000\n",
      "6/6 [==============================] - 0s 6ms/step - loss: 0.2154 - accuracy: 0.8906 - auc: 0.9722 - val_loss: 0.1950 - val_accuracy: 0.9167 - val_auc: 0.9839\n",
      "Epoch 366/10000\n",
      "6/6 [==============================] - 0s 6ms/step - loss: 0.2150 - accuracy: 0.8906 - auc: 0.9725 - val_loss: 0.1944 - val_accuracy: 0.9167 - val_auc: 0.9839\n",
      "Epoch 367/10000\n",
      "6/6 [==============================] - 0s 5ms/step - loss: 0.2146 - accuracy: 0.8906 - auc: 0.9725 - val_loss: 0.1942 - val_accuracy: 0.9167 - val_auc: 0.9848\n",
      "Epoch 368/10000\n",
      "6/6 [==============================] - 0s 6ms/step - loss: 0.2144 - accuracy: 0.8906 - auc: 0.9724 - val_loss: 0.1946 - val_accuracy: 0.9167 - val_auc: 0.9848\n",
      "Epoch 369/10000\n",
      "6/6 [==============================] - 0s 6ms/step - loss: 0.2138 - accuracy: 0.8906 - auc: 0.9725 - val_loss: 0.1946 - val_accuracy: 0.9167 - val_auc: 0.9857\n",
      "Epoch 370/10000\n",
      "6/6 [==============================] - 0s 6ms/step - loss: 0.2134 - accuracy: 0.8906 - auc: 0.9727 - val_loss: 0.1943 - val_accuracy: 0.9167 - val_auc: 0.9857\n",
      "Epoch 371/10000\n",
      "6/6 [==============================] - 0s 6ms/step - loss: 0.2130 - accuracy: 0.8906 - auc: 0.9727 - val_loss: 0.1940 - val_accuracy: 0.9167 - val_auc: 0.9857\n",
      "Epoch 372/10000\n",
      "6/6 [==============================] - 0s 6ms/step - loss: 0.2127 - accuracy: 0.8906 - auc: 0.9732 - val_loss: 0.1931 - val_accuracy: 0.9167 - val_auc: 0.9857\n",
      "Epoch 373/10000\n",
      "6/6 [==============================] - 0s 5ms/step - loss: 0.2122 - accuracy: 0.8906 - auc: 0.9732 - val_loss: 0.1924 - val_accuracy: 0.9167 - val_auc: 0.9857\n",
      "Epoch 374/10000\n",
      "6/6 [==============================] - 0s 5ms/step - loss: 0.2119 - accuracy: 0.8906 - auc: 0.9733 - val_loss: 0.1925 - val_accuracy: 0.9167 - val_auc: 0.9857\n",
      "Epoch 375/10000\n",
      "6/6 [==============================] - 0s 6ms/step - loss: 0.2116 - accuracy: 0.8906 - auc: 0.9735 - val_loss: 0.1923 - val_accuracy: 0.9167 - val_auc: 0.9857\n",
      "Epoch 376/10000\n",
      "6/6 [==============================] - 0s 6ms/step - loss: 0.2111 - accuracy: 0.8906 - auc: 0.9738 - val_loss: 0.1914 - val_accuracy: 0.9167 - val_auc: 0.9857\n"
     ]
    },
    {
     "name": "stdout",
     "output_type": "stream",
     "text": [
      "Epoch 377/10000\n",
      "6/6 [==============================] - 0s 6ms/step - loss: 0.2106 - accuracy: 0.8906 - auc: 0.9737 - val_loss: 0.1912 - val_accuracy: 0.9167 - val_auc: 0.9857\n",
      "Epoch 378/10000\n",
      "6/6 [==============================] - 0s 5ms/step - loss: 0.2107 - accuracy: 0.8906 - auc: 0.9735 - val_loss: 0.1919 - val_accuracy: 0.9167 - val_auc: 0.9857\n",
      "Epoch 379/10000\n",
      "6/6 [==============================] - 0s 5ms/step - loss: 0.2099 - accuracy: 0.8906 - auc: 0.9742 - val_loss: 0.1908 - val_accuracy: 0.9167 - val_auc: 0.9857\n",
      "Epoch 380/10000\n",
      "6/6 [==============================] - 0s 5ms/step - loss: 0.2096 - accuracy: 0.8906 - auc: 0.9740 - val_loss: 0.1909 - val_accuracy: 0.9167 - val_auc: 0.9857\n",
      "Epoch 381/10000\n",
      "6/6 [==============================] - 0s 5ms/step - loss: 0.2091 - accuracy: 0.8906 - auc: 0.9744 - val_loss: 0.1901 - val_accuracy: 0.9167 - val_auc: 0.9857\n",
      "Epoch 382/10000\n",
      "6/6 [==============================] - 0s 5ms/step - loss: 0.2087 - accuracy: 0.8906 - auc: 0.9744 - val_loss: 0.1898 - val_accuracy: 0.9167 - val_auc: 0.9857\n",
      "Epoch 383/10000\n",
      "6/6 [==============================] - 0s 5ms/step - loss: 0.2087 - accuracy: 0.8906 - auc: 0.9746 - val_loss: 0.1904 - val_accuracy: 0.9167 - val_auc: 0.9857\n",
      "Epoch 384/10000\n",
      "6/6 [==============================] - 0s 5ms/step - loss: 0.2085 - accuracy: 0.8906 - auc: 0.9746 - val_loss: 0.1886 - val_accuracy: 0.9375 - val_auc: 0.9857\n",
      "Epoch 385/10000\n",
      "6/6 [==============================] - 0s 5ms/step - loss: 0.2074 - accuracy: 0.8906 - auc: 0.9751 - val_loss: 0.1887 - val_accuracy: 0.9375 - val_auc: 0.9857\n",
      "Epoch 386/10000\n",
      "6/6 [==============================] - 0s 5ms/step - loss: 0.2072 - accuracy: 0.8906 - auc: 0.9749 - val_loss: 0.1886 - val_accuracy: 0.9375 - val_auc: 0.9857\n",
      "Epoch 387/10000\n",
      "6/6 [==============================] - 0s 5ms/step - loss: 0.2069 - accuracy: 0.8906 - auc: 0.9752 - val_loss: 0.1895 - val_accuracy: 0.9375 - val_auc: 0.9857\n",
      "Epoch 388/10000\n",
      "6/6 [==============================] - 0s 5ms/step - loss: 0.2064 - accuracy: 0.8906 - auc: 0.9756 - val_loss: 0.1886 - val_accuracy: 0.9375 - val_auc: 0.9857\n",
      "Epoch 389/10000\n",
      "6/6 [==============================] - 0s 6ms/step - loss: 0.2058 - accuracy: 0.8906 - auc: 0.9757 - val_loss: 0.1882 - val_accuracy: 0.9375 - val_auc: 0.9857\n",
      "Epoch 390/10000\n",
      "6/6 [==============================] - 0s 5ms/step - loss: 0.2054 - accuracy: 0.8906 - auc: 0.9757 - val_loss: 0.1881 - val_accuracy: 0.9375 - val_auc: 0.9857\n",
      "Epoch 391/10000\n",
      "6/6 [==============================] - 0s 5ms/step - loss: 0.2052 - accuracy: 0.8906 - auc: 0.9757 - val_loss: 0.1884 - val_accuracy: 0.9375 - val_auc: 0.9857\n",
      "Epoch 392/10000\n",
      "6/6 [==============================] - 0s 5ms/step - loss: 0.2047 - accuracy: 0.8906 - auc: 0.9759 - val_loss: 0.1883 - val_accuracy: 0.9375 - val_auc: 0.9857\n",
      "Epoch 393/10000\n",
      "6/6 [==============================] - 0s 5ms/step - loss: 0.2044 - accuracy: 0.8906 - auc: 0.9761 - val_loss: 0.1870 - val_accuracy: 0.9375 - val_auc: 0.9857\n",
      "Epoch 394/10000\n",
      "6/6 [==============================] - 0s 5ms/step - loss: 0.2040 - accuracy: 0.8906 - auc: 0.9761 - val_loss: 0.1865 - val_accuracy: 0.9375 - val_auc: 0.9857\n",
      "Epoch 395/10000\n",
      "6/6 [==============================] - 0s 5ms/step - loss: 0.2035 - accuracy: 0.8906 - auc: 0.9763 - val_loss: 0.1863 - val_accuracy: 0.9375 - val_auc: 0.9857\n",
      "Epoch 396/10000\n",
      "6/6 [==============================] - 0s 5ms/step - loss: 0.2031 - accuracy: 0.8906 - auc: 0.9765 - val_loss: 0.1867 - val_accuracy: 0.9375 - val_auc: 0.9857\n",
      "Epoch 397/10000\n",
      "6/6 [==============================] - 0s 6ms/step - loss: 0.2027 - accuracy: 0.8906 - auc: 0.9765 - val_loss: 0.1870 - val_accuracy: 0.9375 - val_auc: 0.9857\n",
      "Epoch 398/10000\n",
      "6/6 [==============================] - 0s 6ms/step - loss: 0.2023 - accuracy: 0.8906 - auc: 0.9764 - val_loss: 0.1863 - val_accuracy: 0.9375 - val_auc: 0.9857\n",
      "Epoch 399/10000\n",
      "6/6 [==============================] - 0s 5ms/step - loss: 0.2018 - accuracy: 0.8906 - auc: 0.9767 - val_loss: 0.1860 - val_accuracy: 0.9375 - val_auc: 0.9866\n",
      "Epoch 400/10000\n",
      "6/6 [==============================] - 0s 6ms/step - loss: 0.2017 - accuracy: 0.8906 - auc: 0.9765 - val_loss: 0.1848 - val_accuracy: 0.9375 - val_auc: 0.9866\n",
      "Epoch 401/10000\n",
      "6/6 [==============================] - 0s 5ms/step - loss: 0.2014 - accuracy: 0.8906 - auc: 0.9767 - val_loss: 0.1855 - val_accuracy: 0.9375 - val_auc: 0.9875\n",
      "Epoch 402/10000\n",
      "6/6 [==============================] - 0s 5ms/step - loss: 0.2010 - accuracy: 0.8906 - auc: 0.9767 - val_loss: 0.1840 - val_accuracy: 0.9375 - val_auc: 0.9875\n",
      "Epoch 403/10000\n",
      "6/6 [==============================] - 0s 5ms/step - loss: 0.2002 - accuracy: 0.8906 - auc: 0.9767 - val_loss: 0.1841 - val_accuracy: 0.9375 - val_auc: 0.9875\n",
      "Epoch 404/10000\n",
      "6/6 [==============================] - 0s 5ms/step - loss: 0.1998 - accuracy: 0.8906 - auc: 0.9768 - val_loss: 0.1841 - val_accuracy: 0.9375 - val_auc: 0.9875\n",
      "Epoch 405/10000\n",
      "6/6 [==============================] - 0s 6ms/step - loss: 0.1994 - accuracy: 0.8906 - auc: 0.9769 - val_loss: 0.1841 - val_accuracy: 0.9375 - val_auc: 0.9875\n",
      "Epoch 406/10000\n",
      "6/6 [==============================] - 0s 5ms/step - loss: 0.1990 - accuracy: 0.8906 - auc: 0.9770 - val_loss: 0.1838 - val_accuracy: 0.9375 - val_auc: 0.9875\n",
      "Epoch 407/10000\n",
      "6/6 [==============================] - 0s 5ms/step - loss: 0.1987 - accuracy: 0.8906 - auc: 0.9770 - val_loss: 0.1835 - val_accuracy: 0.9375 - val_auc: 0.9875\n",
      "Epoch 408/10000\n",
      "6/6 [==============================] - 0s 5ms/step - loss: 0.1982 - accuracy: 0.8906 - auc: 0.9773 - val_loss: 0.1838 - val_accuracy: 0.9375 - val_auc: 0.9875\n",
      "Epoch 409/10000\n",
      "6/6 [==============================] - 0s 5ms/step - loss: 0.1978 - accuracy: 0.8906 - auc: 0.9773 - val_loss: 0.1837 - val_accuracy: 0.9375 - val_auc: 0.9875\n",
      "Epoch 410/10000\n",
      "6/6 [==============================] - 0s 6ms/step - loss: 0.1974 - accuracy: 0.8906 - auc: 0.9774 - val_loss: 0.1830 - val_accuracy: 0.9375 - val_auc: 0.9875\n",
      "Epoch 411/10000\n",
      "6/6 [==============================] - 0s 6ms/step - loss: 0.1973 - accuracy: 0.8906 - auc: 0.9774 - val_loss: 0.1818 - val_accuracy: 0.9375 - val_auc: 0.9875\n",
      "Epoch 412/10000\n",
      "6/6 [==============================] - 0s 5ms/step - loss: 0.1969 - accuracy: 0.8958 - auc: 0.9773 - val_loss: 0.1823 - val_accuracy: 0.9375 - val_auc: 0.9875\n",
      "Epoch 413/10000\n",
      "6/6 [==============================] - 0s 5ms/step - loss: 0.1963 - accuracy: 0.8958 - auc: 0.9774 - val_loss: 0.1818 - val_accuracy: 0.9375 - val_auc: 0.9875\n",
      "Epoch 414/10000\n",
      "6/6 [==============================] - 0s 5ms/step - loss: 0.1959 - accuracy: 0.9010 - auc: 0.9776 - val_loss: 0.1821 - val_accuracy: 0.9375 - val_auc: 0.9875\n",
      "Epoch 415/10000\n",
      "6/6 [==============================] - 0s 6ms/step - loss: 0.1956 - accuracy: 0.8958 - auc: 0.9779 - val_loss: 0.1811 - val_accuracy: 0.9375 - val_auc: 0.9875\n",
      "Epoch 416/10000\n",
      "6/6 [==============================] - 0s 5ms/step - loss: 0.1950 - accuracy: 0.9010 - auc: 0.9779 - val_loss: 0.1813 - val_accuracy: 0.9375 - val_auc: 0.9875\n",
      "Epoch 417/10000\n",
      "6/6 [==============================] - 0s 6ms/step - loss: 0.1947 - accuracy: 0.9010 - auc: 0.9777 - val_loss: 0.1815 - val_accuracy: 0.9583 - val_auc: 0.9875\n",
      "Epoch 418/10000\n",
      "6/6 [==============================] - 0s 6ms/step - loss: 0.1943 - accuracy: 0.9010 - auc: 0.9778 - val_loss: 0.1816 - val_accuracy: 0.9583 - val_auc: 0.9875\n",
      "Epoch 419/10000\n",
      "6/6 [==============================] - 0s 5ms/step - loss: 0.1940 - accuracy: 0.9010 - auc: 0.9780 - val_loss: 0.1814 - val_accuracy: 0.9583 - val_auc: 0.9875\n",
      "Epoch 420/10000\n",
      "6/6 [==============================] - 0s 5ms/step - loss: 0.1934 - accuracy: 0.9010 - auc: 0.9782 - val_loss: 0.1806 - val_accuracy: 0.9583 - val_auc: 0.9875\n",
      "Epoch 421/10000\n",
      "6/6 [==============================] - 0s 5ms/step - loss: 0.1929 - accuracy: 0.9010 - auc: 0.9783 - val_loss: 0.1796 - val_accuracy: 0.9583 - val_auc: 0.9884\n",
      "Epoch 422/10000\n",
      "6/6 [==============================] - 0s 6ms/step - loss: 0.1929 - accuracy: 0.9010 - auc: 0.9786 - val_loss: 0.1783 - val_accuracy: 0.9375 - val_auc: 0.9875\n",
      "Epoch 423/10000\n",
      "6/6 [==============================] - 0s 6ms/step - loss: 0.1923 - accuracy: 0.9010 - auc: 0.9786 - val_loss: 0.1784 - val_accuracy: 0.9375 - val_auc: 0.9884\n"
     ]
    },
    {
     "name": "stdout",
     "output_type": "stream",
     "text": [
      "Epoch 424/10000\n",
      "6/6 [==============================] - 0s 6ms/step - loss: 0.1919 - accuracy: 0.9010 - auc: 0.9787 - val_loss: 0.1784 - val_accuracy: 0.9583 - val_auc: 0.9884\n",
      "Epoch 425/10000\n",
      "6/6 [==============================] - 0s 6ms/step - loss: 0.1916 - accuracy: 0.9010 - auc: 0.9786 - val_loss: 0.1783 - val_accuracy: 0.9583 - val_auc: 0.9893\n",
      "Epoch 426/10000\n",
      "6/6 [==============================] - 0s 5ms/step - loss: 0.1911 - accuracy: 0.9010 - auc: 0.9789 - val_loss: 0.1779 - val_accuracy: 0.9583 - val_auc: 0.9893\n",
      "Epoch 427/10000\n",
      "6/6 [==============================] - 0s 5ms/step - loss: 0.1907 - accuracy: 0.9010 - auc: 0.9793 - val_loss: 0.1783 - val_accuracy: 0.9583 - val_auc: 0.9911\n",
      "Epoch 428/10000\n",
      "6/6 [==============================] - 0s 5ms/step - loss: 0.1902 - accuracy: 0.9010 - auc: 0.9792 - val_loss: 0.1780 - val_accuracy: 0.9583 - val_auc: 0.9902\n",
      "Epoch 429/10000\n",
      "6/6 [==============================] - 0s 5ms/step - loss: 0.1899 - accuracy: 0.9010 - auc: 0.9793 - val_loss: 0.1781 - val_accuracy: 0.9583 - val_auc: 0.9920\n",
      "Epoch 430/10000\n",
      "6/6 [==============================] - 0s 6ms/step - loss: 0.1895 - accuracy: 0.9010 - auc: 0.9794 - val_loss: 0.1777 - val_accuracy: 0.9583 - val_auc: 0.9911\n",
      "Epoch 431/10000\n",
      "6/6 [==============================] - 0s 5ms/step - loss: 0.1892 - accuracy: 0.9062 - auc: 0.9795 - val_loss: 0.1775 - val_accuracy: 0.9583 - val_auc: 0.9911\n",
      "Epoch 432/10000\n",
      "6/6 [==============================] - 0s 5ms/step - loss: 0.1887 - accuracy: 0.9062 - auc: 0.9799 - val_loss: 0.1776 - val_accuracy: 0.9583 - val_auc: 0.9929\n",
      "Epoch 433/10000\n",
      "6/6 [==============================] - 0s 6ms/step - loss: 0.1884 - accuracy: 0.9115 - auc: 0.9800 - val_loss: 0.1771 - val_accuracy: 0.9583 - val_auc: 0.9929\n",
      "Epoch 434/10000\n",
      "6/6 [==============================] - 0s 6ms/step - loss: 0.1880 - accuracy: 0.9115 - auc: 0.9800 - val_loss: 0.1767 - val_accuracy: 0.9583 - val_auc: 0.9929\n",
      "Epoch 435/10000\n",
      "6/6 [==============================] - 0s 5ms/step - loss: 0.1876 - accuracy: 0.9115 - auc: 0.9805 - val_loss: 0.1761 - val_accuracy: 0.9583 - val_auc: 0.9929\n",
      "Epoch 436/10000\n",
      "6/6 [==============================] - 0s 5ms/step - loss: 0.1873 - accuracy: 0.9115 - auc: 0.9802 - val_loss: 0.1756 - val_accuracy: 0.9583 - val_auc: 0.9929\n",
      "Epoch 437/10000\n",
      "6/6 [==============================] - 0s 5ms/step - loss: 0.1868 - accuracy: 0.9115 - auc: 0.9807 - val_loss: 0.1755 - val_accuracy: 0.9583 - val_auc: 0.9929\n",
      "Epoch 438/10000\n",
      "6/6 [==============================] - 0s 6ms/step - loss: 0.1864 - accuracy: 0.9115 - auc: 0.9809 - val_loss: 0.1755 - val_accuracy: 0.9583 - val_auc: 0.9929\n",
      "Epoch 439/10000\n",
      "6/6 [==============================] - 0s 6ms/step - loss: 0.1861 - accuracy: 0.9115 - auc: 0.9808 - val_loss: 0.1752 - val_accuracy: 0.9583 - val_auc: 0.9929\n",
      "Epoch 440/10000\n",
      "6/6 [==============================] - 0s 5ms/step - loss: 0.1859 - accuracy: 0.9115 - auc: 0.9805 - val_loss: 0.1743 - val_accuracy: 0.9583 - val_auc: 0.9929\n",
      "Epoch 441/10000\n",
      "6/6 [==============================] - 0s 5ms/step - loss: 0.1854 - accuracy: 0.9115 - auc: 0.9810 - val_loss: 0.1741 - val_accuracy: 0.9583 - val_auc: 0.9929\n",
      "Epoch 442/10000\n",
      "6/6 [==============================] - 0s 5ms/step - loss: 0.1849 - accuracy: 0.9167 - auc: 0.9813 - val_loss: 0.1742 - val_accuracy: 0.9583 - val_auc: 0.9929\n",
      "Epoch 443/10000\n",
      "6/6 [==============================] - 0s 6ms/step - loss: 0.1846 - accuracy: 0.9167 - auc: 0.9816 - val_loss: 0.1741 - val_accuracy: 0.9583 - val_auc: 0.9929\n",
      "Epoch 444/10000\n",
      "6/6 [==============================] - 0s 5ms/step - loss: 0.1842 - accuracy: 0.9167 - auc: 0.9815 - val_loss: 0.1738 - val_accuracy: 0.9583 - val_auc: 0.9929\n",
      "Epoch 445/10000\n",
      "6/6 [==============================] - 0s 7ms/step - loss: 0.1838 - accuracy: 0.9167 - auc: 0.9818 - val_loss: 0.1739 - val_accuracy: 0.9583 - val_auc: 0.9929\n",
      "Epoch 446/10000\n",
      "6/6 [==============================] - 0s 6ms/step - loss: 0.1836 - accuracy: 0.9167 - auc: 0.9816 - val_loss: 0.1738 - val_accuracy: 0.9583 - val_auc: 0.9929\n",
      "Epoch 447/10000\n",
      "6/6 [==============================] - 0s 5ms/step - loss: 0.1831 - accuracy: 0.9219 - auc: 0.9816 - val_loss: 0.1735 - val_accuracy: 0.9583 - val_auc: 0.9929\n",
      "Epoch 448/10000\n",
      "6/6 [==============================] - 0s 6ms/step - loss: 0.1827 - accuracy: 0.9219 - auc: 0.9818 - val_loss: 0.1735 - val_accuracy: 0.9583 - val_auc: 0.9929\n",
      "Epoch 449/10000\n",
      "6/6 [==============================] - 0s 5ms/step - loss: 0.1823 - accuracy: 0.9167 - auc: 0.9821 - val_loss: 0.1724 - val_accuracy: 0.9583 - val_auc: 0.9929\n",
      "Epoch 450/10000\n",
      "6/6 [==============================] - 0s 6ms/step - loss: 0.1819 - accuracy: 0.9167 - auc: 0.9823 - val_loss: 0.1721 - val_accuracy: 0.9792 - val_auc: 0.9929\n",
      "Epoch 451/10000\n",
      "6/6 [==============================] - 0s 6ms/step - loss: 0.1816 - accuracy: 0.9167 - auc: 0.9824 - val_loss: 0.1718 - val_accuracy: 0.9792 - val_auc: 0.9929\n",
      "Epoch 452/10000\n",
      "6/6 [==============================] - 0s 5ms/step - loss: 0.1812 - accuracy: 0.9167 - auc: 0.9825 - val_loss: 0.1717 - val_accuracy: 0.9792 - val_auc: 0.9929\n",
      "Epoch 453/10000\n",
      "6/6 [==============================] - 0s 5ms/step - loss: 0.1809 - accuracy: 0.9219 - auc: 0.9823 - val_loss: 0.1715 - val_accuracy: 0.9792 - val_auc: 0.9929\n",
      "Epoch 454/10000\n",
      "6/6 [==============================] - 0s 6ms/step - loss: 0.1805 - accuracy: 0.9219 - auc: 0.9826 - val_loss: 0.1710 - val_accuracy: 0.9792 - val_auc: 0.9929\n",
      "Epoch 455/10000\n",
      "6/6 [==============================] - 0s 5ms/step - loss: 0.1800 - accuracy: 0.9219 - auc: 0.9827 - val_loss: 0.1705 - val_accuracy: 0.9792 - val_auc: 0.9929\n",
      "Epoch 456/10000\n",
      "6/6 [==============================] - 0s 6ms/step - loss: 0.1798 - accuracy: 0.9219 - auc: 0.9828 - val_loss: 0.1706 - val_accuracy: 0.9792 - val_auc: 0.9929\n",
      "Epoch 457/10000\n",
      "6/6 [==============================] - 0s 5ms/step - loss: 0.1794 - accuracy: 0.9219 - auc: 0.9830 - val_loss: 0.1702 - val_accuracy: 0.9792 - val_auc: 0.9929\n",
      "Epoch 458/10000\n",
      "6/6 [==============================] - 0s 5ms/step - loss: 0.1791 - accuracy: 0.9219 - auc: 0.9831 - val_loss: 0.1695 - val_accuracy: 0.9792 - val_auc: 0.9929\n",
      "Epoch 459/10000\n",
      "6/6 [==============================] - 0s 6ms/step - loss: 0.1787 - accuracy: 0.9219 - auc: 0.9830 - val_loss: 0.1694 - val_accuracy: 0.9792 - val_auc: 0.9929\n",
      "Epoch 460/10000\n",
      "6/6 [==============================] - 0s 5ms/step - loss: 0.1783 - accuracy: 0.9219 - auc: 0.9833 - val_loss: 0.1695 - val_accuracy: 0.9792 - val_auc: 0.9929\n",
      "Epoch 461/10000\n",
      "6/6 [==============================] - 0s 5ms/step - loss: 0.1780 - accuracy: 0.9219 - auc: 0.9833 - val_loss: 0.1699 - val_accuracy: 0.9792 - val_auc: 0.9929\n",
      "Epoch 462/10000\n",
      "6/6 [==============================] - 0s 7ms/step - loss: 0.1776 - accuracy: 0.9219 - auc: 0.9834 - val_loss: 0.1697 - val_accuracy: 0.9792 - val_auc: 0.9929\n",
      "Epoch 463/10000\n",
      "6/6 [==============================] - 0s 6ms/step - loss: 0.1772 - accuracy: 0.9271 - auc: 0.9836 - val_loss: 0.1693 - val_accuracy: 0.9792 - val_auc: 0.9929\n",
      "Epoch 464/10000\n",
      "6/6 [==============================] - 0s 6ms/step - loss: 0.1770 - accuracy: 0.9219 - auc: 0.9835 - val_loss: 0.1680 - val_accuracy: 0.9792 - val_auc: 0.9929\n",
      "Epoch 465/10000\n",
      "6/6 [==============================] - 0s 6ms/step - loss: 0.1765 - accuracy: 0.9271 - auc: 0.9837 - val_loss: 0.1681 - val_accuracy: 0.9792 - val_auc: 0.9929\n",
      "Epoch 466/10000\n",
      "6/6 [==============================] - 0s 5ms/step - loss: 0.1760 - accuracy: 0.9271 - auc: 0.9839 - val_loss: 0.1678 - val_accuracy: 0.9792 - val_auc: 0.9929\n",
      "Epoch 467/10000\n",
      "6/6 [==============================] - 0s 5ms/step - loss: 0.1761 - accuracy: 0.9271 - auc: 0.9838 - val_loss: 0.1663 - val_accuracy: 0.9792 - val_auc: 0.9929\n",
      "Epoch 468/10000\n",
      "6/6 [==============================] - 0s 5ms/step - loss: 0.1754 - accuracy: 0.9271 - auc: 0.9839 - val_loss: 0.1663 - val_accuracy: 0.9792 - val_auc: 0.9929\n",
      "Epoch 469/10000\n",
      "6/6 [==============================] - 0s 5ms/step - loss: 0.1749 - accuracy: 0.9271 - auc: 0.9841 - val_loss: 0.1666 - val_accuracy: 0.9792 - val_auc: 0.9929\n",
      "Epoch 470/10000\n",
      "6/6 [==============================] - 0s 5ms/step - loss: 0.1746 - accuracy: 0.9323 - auc: 0.9841 - val_loss: 0.1667 - val_accuracy: 0.9792 - val_auc: 0.9929\n"
     ]
    },
    {
     "name": "stdout",
     "output_type": "stream",
     "text": [
      "Epoch 471/10000\n",
      "6/6 [==============================] - 0s 6ms/step - loss: 0.1743 - accuracy: 0.9323 - auc: 0.9844 - val_loss: 0.1669 - val_accuracy: 0.9792 - val_auc: 0.9929\n",
      "Epoch 472/10000\n",
      "6/6 [==============================] - 0s 5ms/step - loss: 0.1742 - accuracy: 0.9271 - auc: 0.9845 - val_loss: 0.1676 - val_accuracy: 0.9792 - val_auc: 0.9929\n",
      "Epoch 473/10000\n",
      "6/6 [==============================] - 0s 5ms/step - loss: 0.1742 - accuracy: 0.9323 - auc: 0.9842 - val_loss: 0.1655 - val_accuracy: 0.9792 - val_auc: 0.9929\n",
      "Epoch 474/10000\n",
      "6/6 [==============================] - 0s 5ms/step - loss: 0.1732 - accuracy: 0.9323 - auc: 0.9843 - val_loss: 0.1655 - val_accuracy: 0.9792 - val_auc: 0.9929\n",
      "Epoch 475/10000\n",
      "6/6 [==============================] - 0s 6ms/step - loss: 0.1728 - accuracy: 0.9323 - auc: 0.9847 - val_loss: 0.1653 - val_accuracy: 0.9792 - val_auc: 0.9929\n",
      "Epoch 476/10000\n",
      "6/6 [==============================] - 0s 6ms/step - loss: 0.1726 - accuracy: 0.9323 - auc: 0.9847 - val_loss: 0.1646 - val_accuracy: 0.9792 - val_auc: 0.9929\n",
      "Epoch 477/10000\n",
      "6/6 [==============================] - 0s 6ms/step - loss: 0.1723 - accuracy: 0.9323 - auc: 0.9849 - val_loss: 0.1651 - val_accuracy: 0.9792 - val_auc: 0.9929\n",
      "Epoch 478/10000\n",
      "6/6 [==============================] - 0s 6ms/step - loss: 0.1719 - accuracy: 0.9323 - auc: 0.9851 - val_loss: 0.1655 - val_accuracy: 0.9792 - val_auc: 0.9929\n",
      "Epoch 479/10000\n",
      "6/6 [==============================] - 0s 6ms/step - loss: 0.1715 - accuracy: 0.9323 - auc: 0.9853 - val_loss: 0.1652 - val_accuracy: 0.9792 - val_auc: 0.9929\n",
      "Epoch 480/10000\n",
      "6/6 [==============================] - 0s 6ms/step - loss: 0.1710 - accuracy: 0.9323 - auc: 0.9855 - val_loss: 0.1646 - val_accuracy: 0.9792 - val_auc: 0.9929\n",
      "Epoch 481/10000\n",
      "6/6 [==============================] - 0s 6ms/step - loss: 0.1707 - accuracy: 0.9323 - auc: 0.9853 - val_loss: 0.1638 - val_accuracy: 0.9792 - val_auc: 0.9929\n",
      "Epoch 482/10000\n",
      "6/6 [==============================] - 0s 5ms/step - loss: 0.1705 - accuracy: 0.9323 - auc: 0.9854 - val_loss: 0.1629 - val_accuracy: 0.9792 - val_auc: 0.9929\n",
      "Epoch 483/10000\n",
      "6/6 [==============================] - 0s 5ms/step - loss: 0.1701 - accuracy: 0.9323 - auc: 0.9856 - val_loss: 0.1626 - val_accuracy: 0.9792 - val_auc: 0.9929\n",
      "Epoch 484/10000\n",
      "6/6 [==============================] - 0s 6ms/step - loss: 0.1699 - accuracy: 0.9323 - auc: 0.9856 - val_loss: 0.1619 - val_accuracy: 0.9792 - val_auc: 0.9929\n",
      "Epoch 485/10000\n",
      "6/6 [==============================] - 0s 5ms/step - loss: 0.1695 - accuracy: 0.9375 - auc: 0.9857 - val_loss: 0.1623 - val_accuracy: 0.9792 - val_auc: 0.9929\n",
      "Epoch 486/10000\n",
      "6/6 [==============================] - 0s 5ms/step - loss: 0.1692 - accuracy: 0.9323 - auc: 0.9856 - val_loss: 0.1627 - val_accuracy: 0.9792 - val_auc: 0.9929\n",
      "Epoch 487/10000\n",
      "6/6 [==============================] - 0s 5ms/step - loss: 0.1689 - accuracy: 0.9323 - auc: 0.9858 - val_loss: 0.1618 - val_accuracy: 0.9792 - val_auc: 0.9929\n",
      "Epoch 488/10000\n",
      "6/6 [==============================] - 0s 6ms/step - loss: 0.1683 - accuracy: 0.9323 - auc: 0.9858 - val_loss: 0.1621 - val_accuracy: 0.9792 - val_auc: 0.9929\n",
      "Epoch 489/10000\n",
      "6/6 [==============================] - 0s 6ms/step - loss: 0.1682 - accuracy: 0.9375 - auc: 0.9859 - val_loss: 0.1621 - val_accuracy: 0.9792 - val_auc: 0.9929\n",
      "Epoch 490/10000\n",
      "6/6 [==============================] - 0s 5ms/step - loss: 0.1677 - accuracy: 0.9427 - auc: 0.9858 - val_loss: 0.1615 - val_accuracy: 0.9792 - val_auc: 0.9929\n",
      "Epoch 491/10000\n",
      "6/6 [==============================] - 0s 5ms/step - loss: 0.1674 - accuracy: 0.9427 - auc: 0.9859 - val_loss: 0.1609 - val_accuracy: 0.9792 - val_auc: 0.9929\n",
      "Epoch 492/10000\n",
      "6/6 [==============================] - 0s 5ms/step - loss: 0.1671 - accuracy: 0.9427 - auc: 0.9859 - val_loss: 0.1604 - val_accuracy: 0.9792 - val_auc: 0.9929\n",
      "Epoch 493/10000\n",
      "6/6 [==============================] - 0s 5ms/step - loss: 0.1668 - accuracy: 0.9427 - auc: 0.9859 - val_loss: 0.1609 - val_accuracy: 0.9792 - val_auc: 0.9929\n",
      "Epoch 494/10000\n",
      "6/6 [==============================] - 0s 6ms/step - loss: 0.1664 - accuracy: 0.9427 - auc: 0.9860 - val_loss: 0.1603 - val_accuracy: 0.9792 - val_auc: 0.9929\n",
      "Epoch 495/10000\n",
      "6/6 [==============================] - 0s 5ms/step - loss: 0.1661 - accuracy: 0.9427 - auc: 0.9860 - val_loss: 0.1603 - val_accuracy: 0.9792 - val_auc: 0.9929\n",
      "Epoch 496/10000\n",
      "6/6 [==============================] - 0s 6ms/step - loss: 0.1658 - accuracy: 0.9427 - auc: 0.9859 - val_loss: 0.1598 - val_accuracy: 0.9792 - val_auc: 0.9929\n",
      "Epoch 497/10000\n",
      "6/6 [==============================] - 0s 6ms/step - loss: 0.1655 - accuracy: 0.9427 - auc: 0.9860 - val_loss: 0.1589 - val_accuracy: 0.9792 - val_auc: 0.9929\n",
      "Epoch 498/10000\n",
      "6/6 [==============================] - 0s 5ms/step - loss: 0.1652 - accuracy: 0.9427 - auc: 0.9860 - val_loss: 0.1593 - val_accuracy: 0.9792 - val_auc: 0.9929\n",
      "Epoch 499/10000\n",
      "6/6 [==============================] - 0s 5ms/step - loss: 0.1648 - accuracy: 0.9427 - auc: 0.9864 - val_loss: 0.1588 - val_accuracy: 0.9792 - val_auc: 0.9929\n",
      "Epoch 500/10000\n",
      "6/6 [==============================] - 0s 6ms/step - loss: 0.1644 - accuracy: 0.9427 - auc: 0.9865 - val_loss: 0.1589 - val_accuracy: 0.9792 - val_auc: 0.9929\n",
      "Epoch 501/10000\n",
      "6/6 [==============================] - 0s 6ms/step - loss: 0.1641 - accuracy: 0.9427 - auc: 0.9865 - val_loss: 0.1583 - val_accuracy: 0.9792 - val_auc: 0.9929\n",
      "Epoch 502/10000\n",
      "6/6 [==============================] - 0s 6ms/step - loss: 0.1637 - accuracy: 0.9427 - auc: 0.9868 - val_loss: 0.1580 - val_accuracy: 0.9792 - val_auc: 0.9929\n",
      "Epoch 503/10000\n",
      "6/6 [==============================] - 0s 6ms/step - loss: 0.1636 - accuracy: 0.9427 - auc: 0.9866 - val_loss: 0.1574 - val_accuracy: 0.9792 - val_auc: 0.9929\n",
      "Epoch 504/10000\n",
      "6/6 [==============================] - 0s 6ms/step - loss: 0.1631 - accuracy: 0.9427 - auc: 0.9869 - val_loss: 0.1574 - val_accuracy: 0.9792 - val_auc: 0.9929\n",
      "Epoch 505/10000\n",
      "6/6 [==============================] - 0s 5ms/step - loss: 0.1627 - accuracy: 0.9427 - auc: 0.9870 - val_loss: 0.1574 - val_accuracy: 0.9792 - val_auc: 0.9929\n",
      "Epoch 506/10000\n",
      "6/6 [==============================] - 0s 6ms/step - loss: 0.1626 - accuracy: 0.9427 - auc: 0.9872 - val_loss: 0.1577 - val_accuracy: 0.9792 - val_auc: 0.9929\n",
      "Epoch 507/10000\n",
      "6/6 [==============================] - 0s 6ms/step - loss: 0.1622 - accuracy: 0.9427 - auc: 0.9872 - val_loss: 0.1568 - val_accuracy: 0.9792 - val_auc: 0.9929\n",
      "Epoch 508/10000\n",
      "6/6 [==============================] - 0s 6ms/step - loss: 0.1619 - accuracy: 0.9427 - auc: 0.9871 - val_loss: 0.1560 - val_accuracy: 0.9792 - val_auc: 0.9929\n",
      "Epoch 509/10000\n",
      "6/6 [==============================] - 0s 6ms/step - loss: 0.1615 - accuracy: 0.9427 - auc: 0.9875 - val_loss: 0.1563 - val_accuracy: 0.9792 - val_auc: 0.9929\n",
      "Epoch 510/10000\n",
      "6/6 [==============================] - 0s 5ms/step - loss: 0.1612 - accuracy: 0.9427 - auc: 0.9875 - val_loss: 0.1556 - val_accuracy: 0.9792 - val_auc: 0.9929\n",
      "Epoch 511/10000\n",
      "6/6 [==============================] - 0s 6ms/step - loss: 0.1608 - accuracy: 0.9427 - auc: 0.9875 - val_loss: 0.1555 - val_accuracy: 0.9792 - val_auc: 0.9929\n",
      "Epoch 512/10000\n",
      "6/6 [==============================] - 0s 5ms/step - loss: 0.1607 - accuracy: 0.9427 - auc: 0.9878 - val_loss: 0.1562 - val_accuracy: 0.9792 - val_auc: 0.9929\n",
      "Epoch 513/10000\n",
      "6/6 [==============================] - 0s 6ms/step - loss: 0.1602 - accuracy: 0.9427 - auc: 0.9878 - val_loss: 0.1560 - val_accuracy: 0.9792 - val_auc: 0.9929\n",
      "Epoch 514/10000\n",
      "6/6 [==============================] - 0s 5ms/step - loss: 0.1599 - accuracy: 0.9427 - auc: 0.9879 - val_loss: 0.1557 - val_accuracy: 0.9792 - val_auc: 0.9929\n",
      "Epoch 515/10000\n",
      "6/6 [==============================] - 0s 6ms/step - loss: 0.1596 - accuracy: 0.9427 - auc: 0.9877 - val_loss: 0.1544 - val_accuracy: 0.9792 - val_auc: 0.9929\n",
      "Epoch 516/10000\n",
      "6/6 [==============================] - 0s 6ms/step - loss: 0.1593 - accuracy: 0.9427 - auc: 0.9879 - val_loss: 0.1543 - val_accuracy: 0.9792 - val_auc: 0.9929\n",
      "Epoch 517/10000\n",
      "6/6 [==============================] - 0s 5ms/step - loss: 0.1590 - accuracy: 0.9427 - auc: 0.9883 - val_loss: 0.1546 - val_accuracy: 0.9792 - val_auc: 0.9938\n"
     ]
    },
    {
     "name": "stdout",
     "output_type": "stream",
     "text": [
      "Epoch 518/10000\n",
      "6/6 [==============================] - 0s 6ms/step - loss: 0.1586 - accuracy: 0.9427 - auc: 0.9884 - val_loss: 0.1542 - val_accuracy: 0.9792 - val_auc: 0.9937\n",
      "Epoch 519/10000\n",
      "6/6 [==============================] - 0s 6ms/step - loss: 0.1583 - accuracy: 0.9427 - auc: 0.9884 - val_loss: 0.1535 - val_accuracy: 0.9792 - val_auc: 0.9946\n",
      "Epoch 520/10000\n",
      "6/6 [==============================] - 0s 5ms/step - loss: 0.1580 - accuracy: 0.9427 - auc: 0.9884 - val_loss: 0.1529 - val_accuracy: 0.9792 - val_auc: 0.9929\n",
      "Epoch 521/10000\n",
      "6/6 [==============================] - 0s 5ms/step - loss: 0.1580 - accuracy: 0.9427 - auc: 0.9883 - val_loss: 0.1537 - val_accuracy: 0.9792 - val_auc: 0.9946\n",
      "Epoch 522/10000\n",
      "6/6 [==============================] - 0s 5ms/step - loss: 0.1573 - accuracy: 0.9427 - auc: 0.9887 - val_loss: 0.1533 - val_accuracy: 0.9792 - val_auc: 0.9946\n",
      "Epoch 523/10000\n",
      "6/6 [==============================] - 0s 6ms/step - loss: 0.1570 - accuracy: 0.9427 - auc: 0.9885 - val_loss: 0.1528 - val_accuracy: 0.9792 - val_auc: 0.9946\n",
      "Epoch 524/10000\n",
      "6/6 [==============================] - 0s 6ms/step - loss: 0.1568 - accuracy: 0.9479 - auc: 0.9884 - val_loss: 0.1522 - val_accuracy: 0.9792 - val_auc: 0.9946\n",
      "Epoch 525/10000\n",
      "6/6 [==============================] - 0s 5ms/step - loss: 0.1565 - accuracy: 0.9427 - auc: 0.9887 - val_loss: 0.1527 - val_accuracy: 0.9792 - val_auc: 0.9946\n",
      "Epoch 526/10000\n",
      "6/6 [==============================] - 0s 5ms/step - loss: 0.1561 - accuracy: 0.9479 - auc: 0.9889 - val_loss: 0.1521 - val_accuracy: 0.9792 - val_auc: 0.9946\n",
      "Epoch 527/10000\n",
      "6/6 [==============================] - 0s 5ms/step - loss: 0.1558 - accuracy: 0.9479 - auc: 0.9889 - val_loss: 0.1517 - val_accuracy: 0.9792 - val_auc: 0.9946\n",
      "Epoch 528/10000\n",
      "6/6 [==============================] - 0s 6ms/step - loss: 0.1555 - accuracy: 0.9479 - auc: 0.9890 - val_loss: 0.1511 - val_accuracy: 0.9792 - val_auc: 0.9946\n",
      "Epoch 529/10000\n",
      "6/6 [==============================] - 0s 6ms/step - loss: 0.1552 - accuracy: 0.9479 - auc: 0.9889 - val_loss: 0.1511 - val_accuracy: 0.9792 - val_auc: 0.9946\n",
      "Epoch 530/10000\n",
      "6/6 [==============================] - 0s 5ms/step - loss: 0.1549 - accuracy: 0.9479 - auc: 0.9888 - val_loss: 0.1511 - val_accuracy: 0.9792 - val_auc: 0.9946\n",
      "Epoch 531/10000\n",
      "6/6 [==============================] - 0s 6ms/step - loss: 0.1547 - accuracy: 0.9479 - auc: 0.9889 - val_loss: 0.1503 - val_accuracy: 0.9792 - val_auc: 0.9946\n",
      "Epoch 532/10000\n",
      "6/6 [==============================] - 0s 6ms/step - loss: 0.1542 - accuracy: 0.9479 - auc: 0.9892 - val_loss: 0.1499 - val_accuracy: 0.9792 - val_auc: 0.9946\n",
      "Epoch 533/10000\n",
      "6/6 [==============================] - 0s 6ms/step - loss: 0.1541 - accuracy: 0.9479 - auc: 0.9891 - val_loss: 0.1491 - val_accuracy: 0.9792 - val_auc: 0.9946\n",
      "Epoch 534/10000\n",
      "6/6 [==============================] - 0s 5ms/step - loss: 0.1537 - accuracy: 0.9479 - auc: 0.9891 - val_loss: 0.1491 - val_accuracy: 0.9792 - val_auc: 0.9946\n",
      "Epoch 535/10000\n",
      "6/6 [==============================] - 0s 5ms/step - loss: 0.1533 - accuracy: 0.9479 - auc: 0.9894 - val_loss: 0.1496 - val_accuracy: 0.9792 - val_auc: 0.9946\n",
      "Epoch 536/10000\n",
      "6/6 [==============================] - 0s 5ms/step - loss: 0.1533 - accuracy: 0.9531 - auc: 0.9895 - val_loss: 0.1504 - val_accuracy: 0.9792 - val_auc: 0.9946\n",
      "Epoch 537/10000\n",
      "6/6 [==============================] - 0s 6ms/step - loss: 0.1529 - accuracy: 0.9531 - auc: 0.9897 - val_loss: 0.1501 - val_accuracy: 0.9792 - val_auc: 0.9946\n",
      "Epoch 538/10000\n",
      "6/6 [==============================] - 0s 5ms/step - loss: 0.1526 - accuracy: 0.9531 - auc: 0.9896 - val_loss: 0.1488 - val_accuracy: 0.9792 - val_auc: 0.9946\n",
      "Epoch 539/10000\n",
      "6/6 [==============================] - 0s 5ms/step - loss: 0.1522 - accuracy: 0.9479 - auc: 0.9896 - val_loss: 0.1481 - val_accuracy: 0.9792 - val_auc: 0.9946\n",
      "Epoch 540/10000\n",
      "6/6 [==============================] - 0s 5ms/step - loss: 0.1520 - accuracy: 0.9531 - auc: 0.9897 - val_loss: 0.1488 - val_accuracy: 0.9792 - val_auc: 0.9946\n",
      "Epoch 541/10000\n",
      "6/6 [==============================] - 0s 5ms/step - loss: 0.1518 - accuracy: 0.9531 - auc: 0.9897 - val_loss: 0.1478 - val_accuracy: 0.9792 - val_auc: 0.9946\n",
      "Epoch 542/10000\n",
      "6/6 [==============================] - 0s 5ms/step - loss: 0.1513 - accuracy: 0.9531 - auc: 0.9898 - val_loss: 0.1484 - val_accuracy: 0.9792 - val_auc: 0.9946\n",
      "Epoch 543/10000\n",
      "6/6 [==============================] - 0s 5ms/step - loss: 0.1509 - accuracy: 0.9531 - auc: 0.9900 - val_loss: 0.1480 - val_accuracy: 0.9792 - val_auc: 0.9946\n",
      "Epoch 544/10000\n",
      "6/6 [==============================] - 0s 15ms/step - loss: 0.1508 - accuracy: 0.9531 - auc: 0.9899 - val_loss: 0.1470 - val_accuracy: 0.9792 - val_auc: 0.9946\n",
      "Epoch 545/10000\n",
      "6/6 [==============================] - 0s 10ms/step - loss: 0.1505 - accuracy: 0.9531 - auc: 0.9898 - val_loss: 0.1475 - val_accuracy: 0.9792 - val_auc: 0.9946\n",
      "Epoch 546/10000\n",
      "6/6 [==============================] - 0s 9ms/step - loss: 0.1506 - accuracy: 0.9531 - auc: 0.9900 - val_loss: 0.1483 - val_accuracy: 0.9792 - val_auc: 0.9946\n",
      "Epoch 547/10000\n",
      "6/6 [==============================] - 0s 9ms/step - loss: 0.1497 - accuracy: 0.9531 - auc: 0.9903 - val_loss: 0.1472 - val_accuracy: 0.9792 - val_auc: 0.9946\n",
      "Epoch 548/10000\n",
      "6/6 [==============================] - 0s 9ms/step - loss: 0.1495 - accuracy: 0.9531 - auc: 0.9901 - val_loss: 0.1467 - val_accuracy: 0.9792 - val_auc: 0.9946\n",
      "Epoch 549/10000\n",
      "6/6 [==============================] - 0s 8ms/step - loss: 0.1492 - accuracy: 0.9531 - auc: 0.9901 - val_loss: 0.1456 - val_accuracy: 0.9792 - val_auc: 0.9946\n",
      "Epoch 550/10000\n",
      "6/6 [==============================] - 0s 9ms/step - loss: 0.1490 - accuracy: 0.9531 - auc: 0.9901 - val_loss: 0.1455 - val_accuracy: 0.9792 - val_auc: 0.9946\n",
      "Epoch 551/10000\n",
      "6/6 [==============================] - 0s 8ms/step - loss: 0.1485 - accuracy: 0.9531 - auc: 0.9902 - val_loss: 0.1453 - val_accuracy: 0.9792 - val_auc: 0.9946\n",
      "Epoch 552/10000\n",
      "6/6 [==============================] - 0s 8ms/step - loss: 0.1483 - accuracy: 0.9531 - auc: 0.9902 - val_loss: 0.1457 - val_accuracy: 0.9792 - val_auc: 0.9946\n",
      "Epoch 553/10000\n",
      "6/6 [==============================] - 0s 6ms/step - loss: 0.1480 - accuracy: 0.9531 - auc: 0.9903 - val_loss: 0.1460 - val_accuracy: 0.9792 - val_auc: 0.9946\n",
      "Epoch 554/10000\n",
      "6/6 [==============================] - 0s 6ms/step - loss: 0.1477 - accuracy: 0.9531 - auc: 0.9903 - val_loss: 0.1452 - val_accuracy: 0.9792 - val_auc: 0.9946\n",
      "Epoch 555/10000\n",
      "6/6 [==============================] - 0s 6ms/step - loss: 0.1474 - accuracy: 0.9531 - auc: 0.9904 - val_loss: 0.1447 - val_accuracy: 0.9792 - val_auc: 0.9946\n",
      "Epoch 556/10000\n",
      "6/6 [==============================] - 0s 6ms/step - loss: 0.1471 - accuracy: 0.9531 - auc: 0.9904 - val_loss: 0.1446 - val_accuracy: 0.9792 - val_auc: 0.9946\n",
      "Epoch 557/10000\n",
      "6/6 [==============================] - 0s 6ms/step - loss: 0.1468 - accuracy: 0.9531 - auc: 0.9905 - val_loss: 0.1449 - val_accuracy: 0.9792 - val_auc: 0.9946\n",
      "Epoch 558/10000\n",
      "6/6 [==============================] - 0s 6ms/step - loss: 0.1467 - accuracy: 0.9531 - auc: 0.9905 - val_loss: 0.1441 - val_accuracy: 0.9792 - val_auc: 0.9946\n",
      "Epoch 559/10000\n",
      "6/6 [==============================] - 0s 6ms/step - loss: 0.1466 - accuracy: 0.9531 - auc: 0.9905 - val_loss: 0.1448 - val_accuracy: 0.9792 - val_auc: 0.9946\n",
      "Epoch 560/10000\n",
      "6/6 [==============================] - 0s 7ms/step - loss: 0.1459 - accuracy: 0.9531 - auc: 0.9907 - val_loss: 0.1444 - val_accuracy: 0.9792 - val_auc: 0.9946\n",
      "Epoch 561/10000\n",
      "6/6 [==============================] - 0s 6ms/step - loss: 0.1456 - accuracy: 0.9531 - auc: 0.9908 - val_loss: 0.1437 - val_accuracy: 0.9792 - val_auc: 0.9946\n",
      "Epoch 562/10000\n",
      "6/6 [==============================] - 0s 6ms/step - loss: 0.1457 - accuracy: 0.9531 - auc: 0.9905 - val_loss: 0.1421 - val_accuracy: 0.9792 - val_auc: 0.9946\n",
      "Epoch 563/10000\n",
      "6/6 [==============================] - 0s 6ms/step - loss: 0.1451 - accuracy: 0.9531 - auc: 0.9907 - val_loss: 0.1423 - val_accuracy: 0.9792 - val_auc: 0.9946\n",
      "Epoch 564/10000\n",
      "6/6 [==============================] - 0s 6ms/step - loss: 0.1450 - accuracy: 0.9531 - auc: 0.9907 - val_loss: 0.1420 - val_accuracy: 0.9792 - val_auc: 0.9946\n"
     ]
    },
    {
     "name": "stdout",
     "output_type": "stream",
     "text": [
      "Epoch 565/10000\n",
      "6/6 [==============================] - 0s 5ms/step - loss: 0.1450 - accuracy: 0.9531 - auc: 0.9908 - val_loss: 0.1434 - val_accuracy: 0.9792 - val_auc: 0.9946\n",
      "Epoch 566/10000\n",
      "6/6 [==============================] - 0s 5ms/step - loss: 0.1442 - accuracy: 0.9531 - auc: 0.9910 - val_loss: 0.1432 - val_accuracy: 0.9792 - val_auc: 0.9946\n",
      "Epoch 567/10000\n",
      "6/6 [==============================] - 0s 5ms/step - loss: 0.1440 - accuracy: 0.9531 - auc: 0.9909 - val_loss: 0.1421 - val_accuracy: 0.9792 - val_auc: 0.9946\n",
      "Epoch 568/10000\n",
      "6/6 [==============================] - 0s 5ms/step - loss: 0.1437 - accuracy: 0.9531 - auc: 0.9911 - val_loss: 0.1421 - val_accuracy: 0.9792 - val_auc: 0.9946\n",
      "Epoch 569/10000\n",
      "6/6 [==============================] - 0s 5ms/step - loss: 0.1434 - accuracy: 0.9531 - auc: 0.9910 - val_loss: 0.1421 - val_accuracy: 0.9792 - val_auc: 0.9946\n",
      "Epoch 570/10000\n",
      "6/6 [==============================] - 0s 6ms/step - loss: 0.1430 - accuracy: 0.9531 - auc: 0.9912 - val_loss: 0.1416 - val_accuracy: 0.9792 - val_auc: 0.9946\n",
      "Epoch 571/10000\n",
      "6/6 [==============================] - 0s 5ms/step - loss: 0.1428 - accuracy: 0.9531 - auc: 0.9912 - val_loss: 0.1412 - val_accuracy: 0.9792 - val_auc: 0.9946\n",
      "Epoch 572/10000\n",
      "6/6 [==============================] - 0s 5ms/step - loss: 0.1424 - accuracy: 0.9531 - auc: 0.9912 - val_loss: 0.1408 - val_accuracy: 0.9792 - val_auc: 0.9946\n",
      "Epoch 573/10000\n",
      "6/6 [==============================] - 0s 5ms/step - loss: 0.1422 - accuracy: 0.9531 - auc: 0.9912 - val_loss: 0.1401 - val_accuracy: 0.9792 - val_auc: 0.9946\n",
      "Epoch 574/10000\n",
      "6/6 [==============================] - 0s 5ms/step - loss: 0.1420 - accuracy: 0.9531 - auc: 0.9913 - val_loss: 0.1398 - val_accuracy: 0.9792 - val_auc: 0.9946\n",
      "Epoch 575/10000\n",
      "6/6 [==============================] - 0s 6ms/step - loss: 0.1417 - accuracy: 0.9583 - auc: 0.9912 - val_loss: 0.1395 - val_accuracy: 0.9792 - val_auc: 0.9946\n",
      "Epoch 576/10000\n",
      "6/6 [==============================] - 0s 6ms/step - loss: 0.1415 - accuracy: 0.9583 - auc: 0.9912 - val_loss: 0.1401 - val_accuracy: 0.9792 - val_auc: 0.9946\n",
      "Epoch 577/10000\n",
      "6/6 [==============================] - 0s 5ms/step - loss: 0.1414 - accuracy: 0.9531 - auc: 0.9914 - val_loss: 0.1408 - val_accuracy: 0.9792 - val_auc: 0.9946\n",
      "Epoch 578/10000\n",
      "6/6 [==============================] - 0s 6ms/step - loss: 0.1414 - accuracy: 0.9583 - auc: 0.9912 - val_loss: 0.1390 - val_accuracy: 0.9792 - val_auc: 0.9946\n",
      "Epoch 579/10000\n",
      "6/6 [==============================] - 0s 5ms/step - loss: 0.1409 - accuracy: 0.9583 - auc: 0.9913 - val_loss: 0.1381 - val_accuracy: 0.9792 - val_auc: 0.9946\n",
      "Epoch 580/10000\n",
      "6/6 [==============================] - 0s 6ms/step - loss: 0.1406 - accuracy: 0.9583 - auc: 0.9915 - val_loss: 0.1392 - val_accuracy: 0.9792 - val_auc: 0.9946\n",
      "Epoch 581/10000\n",
      "6/6 [==============================] - 0s 6ms/step - loss: 0.1400 - accuracy: 0.9583 - auc: 0.9915 - val_loss: 0.1391 - val_accuracy: 0.9792 - val_auc: 0.9946\n",
      "Epoch 582/10000\n",
      "6/6 [==============================] - 0s 6ms/step - loss: 0.1398 - accuracy: 0.9583 - auc: 0.9916 - val_loss: 0.1385 - val_accuracy: 0.9792 - val_auc: 0.9946\n",
      "Epoch 583/10000\n",
      "6/6 [==============================] - 0s 6ms/step - loss: 0.1394 - accuracy: 0.9583 - auc: 0.9917 - val_loss: 0.1385 - val_accuracy: 0.9792 - val_auc: 0.9946\n",
      "Epoch 584/10000\n",
      "6/6 [==============================] - 0s 5ms/step - loss: 0.1392 - accuracy: 0.9583 - auc: 0.9918 - val_loss: 0.1382 - val_accuracy: 0.9792 - val_auc: 0.9946\n",
      "Epoch 585/10000\n",
      "6/6 [==============================] - 0s 5ms/step - loss: 0.1392 - accuracy: 0.9583 - auc: 0.9915 - val_loss: 0.1373 - val_accuracy: 0.9792 - val_auc: 0.9946\n",
      "Epoch 586/10000\n",
      "6/6 [==============================] - 0s 5ms/step - loss: 0.1389 - accuracy: 0.9583 - auc: 0.9918 - val_loss: 0.1381 - val_accuracy: 0.9792 - val_auc: 0.9946\n",
      "Epoch 587/10000\n",
      "6/6 [==============================] - 0s 6ms/step - loss: 0.1384 - accuracy: 0.9583 - auc: 0.9918 - val_loss: 0.1381 - val_accuracy: 0.9792 - val_auc: 0.9946\n",
      "Epoch 588/10000\n",
      "6/6 [==============================] - 0s 5ms/step - loss: 0.1382 - accuracy: 0.9583 - auc: 0.9918 - val_loss: 0.1369 - val_accuracy: 0.9792 - val_auc: 0.9946\n",
      "Epoch 589/10000\n",
      "6/6 [==============================] - 0s 5ms/step - loss: 0.1377 - accuracy: 0.9583 - auc: 0.9919 - val_loss: 0.1369 - val_accuracy: 0.9792 - val_auc: 0.9946\n",
      "Epoch 590/10000\n",
      "6/6 [==============================] - 0s 6ms/step - loss: 0.1377 - accuracy: 0.9583 - auc: 0.9919 - val_loss: 0.1358 - val_accuracy: 0.9792 - val_auc: 0.9946\n",
      "Epoch 591/10000\n",
      "6/6 [==============================] - 0s 6ms/step - loss: 0.1375 - accuracy: 0.9583 - auc: 0.9919 - val_loss: 0.1367 - val_accuracy: 0.9792 - val_auc: 0.9946\n",
      "Epoch 592/10000\n",
      "6/6 [==============================] - 0s 6ms/step - loss: 0.1371 - accuracy: 0.9583 - auc: 0.9920 - val_loss: 0.1358 - val_accuracy: 0.9792 - val_auc: 0.9946\n",
      "Epoch 593/10000\n",
      "6/6 [==============================] - 0s 6ms/step - loss: 0.1369 - accuracy: 0.9583 - auc: 0.9923 - val_loss: 0.1362 - val_accuracy: 0.9792 - val_auc: 0.9946\n",
      "Epoch 594/10000\n",
      "6/6 [==============================] - 0s 5ms/step - loss: 0.1366 - accuracy: 0.9583 - auc: 0.9923 - val_loss: 0.1355 - val_accuracy: 0.9792 - val_auc: 0.9946\n",
      "Epoch 595/10000\n",
      "6/6 [==============================] - 0s 5ms/step - loss: 0.1362 - accuracy: 0.9583 - auc: 0.9925 - val_loss: 0.1357 - val_accuracy: 0.9792 - val_auc: 0.9946\n",
      "Epoch 596/10000\n",
      "6/6 [==============================] - 0s 5ms/step - loss: 0.1362 - accuracy: 0.9583 - auc: 0.9924 - val_loss: 0.1360 - val_accuracy: 0.9792 - val_auc: 0.9946\n",
      "Epoch 597/10000\n",
      "6/6 [==============================] - 0s 5ms/step - loss: 0.1362 - accuracy: 0.9583 - auc: 0.9925 - val_loss: 0.1344 - val_accuracy: 0.9792 - val_auc: 0.9946\n",
      "Epoch 598/10000\n",
      "6/6 [==============================] - 0s 5ms/step - loss: 0.1355 - accuracy: 0.9583 - auc: 0.9926 - val_loss: 0.1346 - val_accuracy: 0.9792 - val_auc: 0.9946\n",
      "Epoch 599/10000\n",
      "6/6 [==============================] - 0s 5ms/step - loss: 0.1351 - accuracy: 0.9583 - auc: 0.9927 - val_loss: 0.1349 - val_accuracy: 0.9792 - val_auc: 0.9946\n",
      "Epoch 600/10000\n",
      "6/6 [==============================] - 0s 6ms/step - loss: 0.1349 - accuracy: 0.9583 - auc: 0.9928 - val_loss: 0.1349 - val_accuracy: 0.9792 - val_auc: 0.9946\n",
      "Epoch 601/10000\n",
      "6/6 [==============================] - 0s 5ms/step - loss: 0.1347 - accuracy: 0.9583 - auc: 0.9927 - val_loss: 0.1347 - val_accuracy: 0.9792 - val_auc: 0.9946\n",
      "Epoch 602/10000\n",
      "6/6 [==============================] - 0s 5ms/step - loss: 0.1345 - accuracy: 0.9583 - auc: 0.9928 - val_loss: 0.1338 - val_accuracy: 0.9792 - val_auc: 0.9946\n",
      "Epoch 603/10000\n",
      "6/6 [==============================] - 0s 6ms/step - loss: 0.1344 - accuracy: 0.9583 - auc: 0.9929 - val_loss: 0.1330 - val_accuracy: 0.9792 - val_auc: 0.9946\n",
      "Epoch 604/10000\n",
      "6/6 [==============================] - 0s 6ms/step - loss: 0.1342 - accuracy: 0.9583 - auc: 0.9929 - val_loss: 0.1330 - val_accuracy: 0.9792 - val_auc: 0.9946\n",
      "Epoch 605/10000\n",
      "6/6 [==============================] - 0s 5ms/step - loss: 0.1341 - accuracy: 0.9583 - auc: 0.9925 - val_loss: 0.1347 - val_accuracy: 0.9792 - val_auc: 0.9946\n",
      "Epoch 606/10000\n",
      "6/6 [==============================] - 0s 5ms/step - loss: 0.1335 - accuracy: 0.9583 - auc: 0.9928 - val_loss: 0.1347 - val_accuracy: 0.9792 - val_auc: 0.9946\n",
      "Epoch 607/10000\n",
      "6/6 [==============================] - 0s 5ms/step - loss: 0.1333 - accuracy: 0.9583 - auc: 0.9929 - val_loss: 0.1341 - val_accuracy: 0.9792 - val_auc: 0.9946\n",
      "Epoch 608/10000\n",
      "6/6 [==============================] - 0s 5ms/step - loss: 0.1332 - accuracy: 0.9583 - auc: 0.9930 - val_loss: 0.1341 - val_accuracy: 0.9792 - val_auc: 0.9946\n",
      "Epoch 609/10000\n",
      "6/6 [==============================] - 0s 6ms/step - loss: 0.1326 - accuracy: 0.9583 - auc: 0.9930 - val_loss: 0.1332 - val_accuracy: 0.9792 - val_auc: 0.9946\n",
      "Epoch 610/10000\n",
      "6/6 [==============================] - 0s 5ms/step - loss: 0.1328 - accuracy: 0.9583 - auc: 0.9931 - val_loss: 0.1316 - val_accuracy: 0.9792 - val_auc: 0.9946\n",
      "Epoch 611/10000\n",
      "6/6 [==============================] - 0s 5ms/step - loss: 0.1325 - accuracy: 0.9583 - auc: 0.9932 - val_loss: 0.1323 - val_accuracy: 0.9792 - val_auc: 0.9946\n"
     ]
    },
    {
     "name": "stdout",
     "output_type": "stream",
     "text": [
      "Epoch 612/10000\n",
      "6/6 [==============================] - 0s 5ms/step - loss: 0.1319 - accuracy: 0.9583 - auc: 0.9931 - val_loss: 0.1321 - val_accuracy: 0.9792 - val_auc: 0.9946\n",
      "Epoch 613/10000\n",
      "6/6 [==============================] - 0s 5ms/step - loss: 0.1321 - accuracy: 0.9583 - auc: 0.9929 - val_loss: 0.1329 - val_accuracy: 0.9792 - val_auc: 0.9946\n",
      "Epoch 614/10000\n",
      "6/6 [==============================] - 0s 5ms/step - loss: 0.1314 - accuracy: 0.9583 - auc: 0.9931 - val_loss: 0.1324 - val_accuracy: 0.9792 - val_auc: 0.9946\n",
      "Epoch 615/10000\n",
      "6/6 [==============================] - 0s 5ms/step - loss: 0.1313 - accuracy: 0.9583 - auc: 0.9932 - val_loss: 0.1314 - val_accuracy: 0.9792 - val_auc: 0.9946\n",
      "Epoch 616/10000\n",
      "6/6 [==============================] - 0s 5ms/step - loss: 0.1310 - accuracy: 0.9583 - auc: 0.9932 - val_loss: 0.1309 - val_accuracy: 0.9792 - val_auc: 0.9946\n",
      "Epoch 617/10000\n",
      "6/6 [==============================] - 0s 5ms/step - loss: 0.1308 - accuracy: 0.9583 - auc: 0.9932 - val_loss: 0.1316 - val_accuracy: 0.9792 - val_auc: 0.9946\n",
      "Epoch 618/10000\n",
      "6/6 [==============================] - 0s 5ms/step - loss: 0.1305 - accuracy: 0.9583 - auc: 0.9932 - val_loss: 0.1316 - val_accuracy: 0.9792 - val_auc: 0.9946\n",
      "Epoch 619/10000\n",
      "6/6 [==============================] - 0s 5ms/step - loss: 0.1303 - accuracy: 0.9583 - auc: 0.9932 - val_loss: 0.1316 - val_accuracy: 0.9792 - val_auc: 0.9946\n",
      "Epoch 620/10000\n",
      "6/6 [==============================] - 0s 5ms/step - loss: 0.1300 - accuracy: 0.9583 - auc: 0.9932 - val_loss: 0.1314 - val_accuracy: 0.9792 - val_auc: 0.9946\n",
      "Epoch 621/10000\n",
      "6/6 [==============================] - 0s 5ms/step - loss: 0.1300 - accuracy: 0.9583 - auc: 0.9932 - val_loss: 0.1310 - val_accuracy: 0.9792 - val_auc: 0.9946\n",
      "Epoch 622/10000\n",
      "6/6 [==============================] - 0s 5ms/step - loss: 0.1297 - accuracy: 0.9583 - auc: 0.9933 - val_loss: 0.1306 - val_accuracy: 0.9792 - val_auc: 0.9946\n",
      "Epoch 623/10000\n",
      "6/6 [==============================] - 0s 5ms/step - loss: 0.1296 - accuracy: 0.9583 - auc: 0.9932 - val_loss: 0.1298 - val_accuracy: 0.9792 - val_auc: 0.9946\n",
      "Epoch 624/10000\n",
      "6/6 [==============================] - 0s 5ms/step - loss: 0.1291 - accuracy: 0.9583 - auc: 0.9934 - val_loss: 0.1302 - val_accuracy: 0.9792 - val_auc: 0.9946\n",
      "Epoch 625/10000\n",
      "6/6 [==============================] - 0s 5ms/step - loss: 0.1289 - accuracy: 0.9583 - auc: 0.9933 - val_loss: 0.1307 - val_accuracy: 0.9792 - val_auc: 0.9946\n",
      "Epoch 626/10000\n",
      "6/6 [==============================] - 0s 5ms/step - loss: 0.1286 - accuracy: 0.9583 - auc: 0.9932 - val_loss: 0.1307 - val_accuracy: 0.9792 - val_auc: 0.9946\n",
      "Epoch 627/10000\n",
      "6/6 [==============================] - 0s 5ms/step - loss: 0.1285 - accuracy: 0.9583 - auc: 0.9933 - val_loss: 0.1299 - val_accuracy: 0.9792 - val_auc: 0.9946\n",
      "Epoch 628/10000\n",
      "6/6 [==============================] - 0s 5ms/step - loss: 0.1286 - accuracy: 0.9583 - auc: 0.9933 - val_loss: 0.1288 - val_accuracy: 0.9792 - val_auc: 0.9946\n",
      "Epoch 629/10000\n",
      "6/6 [==============================] - 0s 6ms/step - loss: 0.1281 - accuracy: 0.9583 - auc: 0.9935 - val_loss: 0.1297 - val_accuracy: 0.9792 - val_auc: 0.9946\n",
      "Epoch 630/10000\n",
      "6/6 [==============================] - 0s 5ms/step - loss: 0.1280 - accuracy: 0.9583 - auc: 0.9935 - val_loss: 0.1306 - val_accuracy: 0.9792 - val_auc: 0.9946\n",
      "Epoch 631/10000\n",
      "6/6 [==============================] - 0s 5ms/step - loss: 0.1279 - accuracy: 0.9583 - auc: 0.9933 - val_loss: 0.1293 - val_accuracy: 0.9792 - val_auc: 0.9946\n",
      "Epoch 632/10000\n",
      "6/6 [==============================] - 0s 5ms/step - loss: 0.1275 - accuracy: 0.9583 - auc: 0.9935 - val_loss: 0.1284 - val_accuracy: 0.9792 - val_auc: 0.9946\n",
      "Epoch 633/10000\n",
      "6/6 [==============================] - 0s 5ms/step - loss: 0.1273 - accuracy: 0.9635 - auc: 0.9933 - val_loss: 0.1293 - val_accuracy: 0.9792 - val_auc: 0.9946\n",
      "Epoch 634/10000\n",
      "6/6 [==============================] - 0s 5ms/step - loss: 0.1268 - accuracy: 0.9635 - auc: 0.9935 - val_loss: 0.1288 - val_accuracy: 0.9792 - val_auc: 0.9946\n",
      "Epoch 635/10000\n",
      "6/6 [==============================] - 0s 5ms/step - loss: 0.1267 - accuracy: 0.9635 - auc: 0.9935 - val_loss: 0.1281 - val_accuracy: 0.9792 - val_auc: 0.9946\n",
      "Epoch 636/10000\n",
      "6/6 [==============================] - 0s 5ms/step - loss: 0.1265 - accuracy: 0.9635 - auc: 0.9935 - val_loss: 0.1289 - val_accuracy: 0.9792 - val_auc: 0.9946\n",
      "Epoch 637/10000\n",
      "6/6 [==============================] - 0s 6ms/step - loss: 0.1261 - accuracy: 0.9583 - auc: 0.9935 - val_loss: 0.1288 - val_accuracy: 0.9792 - val_auc: 0.9946\n",
      "Epoch 638/10000\n",
      "6/6 [==============================] - 0s 6ms/step - loss: 0.1259 - accuracy: 0.9583 - auc: 0.9935 - val_loss: 0.1286 - val_accuracy: 0.9792 - val_auc: 0.9946\n",
      "Epoch 639/10000\n",
      "6/6 [==============================] - 0s 6ms/step - loss: 0.1262 - accuracy: 0.9635 - auc: 0.9935 - val_loss: 0.1273 - val_accuracy: 0.9792 - val_auc: 0.9946\n",
      "Epoch 640/10000\n",
      "6/6 [==============================] - 0s 5ms/step - loss: 0.1257 - accuracy: 0.9635 - auc: 0.9935 - val_loss: 0.1281 - val_accuracy: 0.9792 - val_auc: 0.9946\n",
      "Epoch 641/10000\n",
      "6/6 [==============================] - 0s 5ms/step - loss: 0.1254 - accuracy: 0.9635 - auc: 0.9935 - val_loss: 0.1275 - val_accuracy: 0.9792 - val_auc: 0.9946\n",
      "Epoch 642/10000\n",
      "6/6 [==============================] - 0s 6ms/step - loss: 0.1254 - accuracy: 0.9635 - auc: 0.9935 - val_loss: 0.1284 - val_accuracy: 0.9792 - val_auc: 0.9946\n",
      "Epoch 643/10000\n",
      "6/6 [==============================] - 0s 5ms/step - loss: 0.1249 - accuracy: 0.9635 - auc: 0.9937 - val_loss: 0.1277 - val_accuracy: 0.9792 - val_auc: 0.9946\n",
      "Epoch 644/10000\n",
      "6/6 [==============================] - 0s 5ms/step - loss: 0.1249 - accuracy: 0.9635 - auc: 0.9935 - val_loss: 0.1266 - val_accuracy: 0.9792 - val_auc: 0.9946\n",
      "Epoch 645/10000\n",
      "6/6 [==============================] - 0s 5ms/step - loss: 0.1246 - accuracy: 0.9635 - auc: 0.9938 - val_loss: 0.1275 - val_accuracy: 0.9792 - val_auc: 0.9946\n",
      "Epoch 646/10000\n",
      "6/6 [==============================] - 0s 5ms/step - loss: 0.1243 - accuracy: 0.9635 - auc: 0.9938 - val_loss: 0.1268 - val_accuracy: 0.9792 - val_auc: 0.9946\n",
      "Epoch 647/10000\n",
      "6/6 [==============================] - 0s 6ms/step - loss: 0.1242 - accuracy: 0.9635 - auc: 0.9937 - val_loss: 0.1262 - val_accuracy: 0.9792 - val_auc: 0.9946\n",
      "Epoch 648/10000\n",
      "6/6 [==============================] - 0s 6ms/step - loss: 0.1239 - accuracy: 0.9635 - auc: 0.9939 - val_loss: 0.1271 - val_accuracy: 0.9792 - val_auc: 0.9946\n",
      "Epoch 649/10000\n",
      "6/6 [==============================] - 0s 5ms/step - loss: 0.1238 - accuracy: 0.9635 - auc: 0.9940 - val_loss: 0.1275 - val_accuracy: 0.9792 - val_auc: 0.9946\n",
      "Epoch 650/10000\n",
      "6/6 [==============================] - 0s 5ms/step - loss: 0.1234 - accuracy: 0.9635 - auc: 0.9939 - val_loss: 0.1265 - val_accuracy: 0.9792 - val_auc: 0.9946\n",
      "Epoch 651/10000\n",
      "6/6 [==============================] - 0s 5ms/step - loss: 0.1232 - accuracy: 0.9635 - auc: 0.9938 - val_loss: 0.1259 - val_accuracy: 0.9792 - val_auc: 0.9946\n",
      "Epoch 652/10000\n",
      "6/6 [==============================] - 0s 9ms/step - loss: 0.1229 - accuracy: 0.9635 - auc: 0.9939 - val_loss: 0.1256 - val_accuracy: 0.9792 - val_auc: 0.9946\n",
      "Epoch 653/10000\n",
      "6/6 [==============================] - 0s 6ms/step - loss: 0.1227 - accuracy: 0.9635 - auc: 0.9939 - val_loss: 0.1252 - val_accuracy: 0.9792 - val_auc: 0.9946\n",
      "Epoch 654/10000\n",
      "6/6 [==============================] - 0s 5ms/step - loss: 0.1228 - accuracy: 0.9635 - auc: 0.9938 - val_loss: 0.1263 - val_accuracy: 0.9792 - val_auc: 0.9946\n",
      "Epoch 655/10000\n",
      "6/6 [==============================] - 0s 6ms/step - loss: 0.1224 - accuracy: 0.9635 - auc: 0.9939 - val_loss: 0.1266 - val_accuracy: 0.9792 - val_auc: 0.9946\n",
      "Epoch 656/10000\n",
      "6/6 [==============================] - 0s 6ms/step - loss: 0.1221 - accuracy: 0.9635 - auc: 0.9939 - val_loss: 0.1263 - val_accuracy: 0.9792 - val_auc: 0.9946\n",
      "Epoch 657/10000\n",
      "6/6 [==============================] - 0s 5ms/step - loss: 0.1219 - accuracy: 0.9635 - auc: 0.9939 - val_loss: 0.1250 - val_accuracy: 0.9792 - val_auc: 0.9946\n",
      "Epoch 658/10000\n",
      "6/6 [==============================] - 0s 6ms/step - loss: 0.1217 - accuracy: 0.9635 - auc: 0.9939 - val_loss: 0.1242 - val_accuracy: 0.9792 - val_auc: 0.9946\n"
     ]
    },
    {
     "name": "stdout",
     "output_type": "stream",
     "text": [
      "Epoch 659/10000\n",
      "6/6 [==============================] - 0s 6ms/step - loss: 0.1215 - accuracy: 0.9635 - auc: 0.9939 - val_loss: 0.1247 - val_accuracy: 0.9792 - val_auc: 0.9946\n",
      "Epoch 660/10000\n",
      "6/6 [==============================] - 0s 5ms/step - loss: 0.1214 - accuracy: 0.9635 - auc: 0.9939 - val_loss: 0.1241 - val_accuracy: 0.9792 - val_auc: 0.9946\n",
      "Epoch 661/10000\n",
      "6/6 [==============================] - 0s 5ms/step - loss: 0.1210 - accuracy: 0.9635 - auc: 0.9939 - val_loss: 0.1246 - val_accuracy: 0.9792 - val_auc: 0.9946\n",
      "Epoch 662/10000\n",
      "6/6 [==============================] - 0s 6ms/step - loss: 0.1208 - accuracy: 0.9635 - auc: 0.9940 - val_loss: 0.1246 - val_accuracy: 0.9792 - val_auc: 0.9946\n",
      "Epoch 663/10000\n",
      "6/6 [==============================] - 0s 6ms/step - loss: 0.1208 - accuracy: 0.9635 - auc: 0.9940 - val_loss: 0.1241 - val_accuracy: 0.9792 - val_auc: 0.9946\n",
      "Epoch 664/10000\n",
      "6/6 [==============================] - 0s 5ms/step - loss: 0.1207 - accuracy: 0.9635 - auc: 0.9939 - val_loss: 0.1232 - val_accuracy: 0.9792 - val_auc: 0.9946\n",
      "Epoch 665/10000\n",
      "6/6 [==============================] - 0s 5ms/step - loss: 0.1202 - accuracy: 0.9635 - auc: 0.9939 - val_loss: 0.1237 - val_accuracy: 0.9792 - val_auc: 0.9946\n",
      "Epoch 666/10000\n",
      "6/6 [==============================] - 0s 5ms/step - loss: 0.1204 - accuracy: 0.9635 - auc: 0.9942 - val_loss: 0.1249 - val_accuracy: 0.9792 - val_auc: 0.9946\n",
      "Epoch 667/10000\n",
      "6/6 [==============================] - 0s 5ms/step - loss: 0.1200 - accuracy: 0.9635 - auc: 0.9942 - val_loss: 0.1248 - val_accuracy: 0.9792 - val_auc: 0.9946\n",
      "Epoch 668/10000\n",
      "6/6 [==============================] - 0s 5ms/step - loss: 0.1196 - accuracy: 0.9635 - auc: 0.9943 - val_loss: 0.1239 - val_accuracy: 0.9792 - val_auc: 0.9946\n",
      "Epoch 669/10000\n",
      "6/6 [==============================] - 0s 5ms/step - loss: 0.1196 - accuracy: 0.9635 - auc: 0.9941 - val_loss: 0.1229 - val_accuracy: 0.9792 - val_auc: 0.9946\n",
      "Epoch 670/10000\n",
      "6/6 [==============================] - 0s 11ms/step - loss: 0.1192 - accuracy: 0.9635 - auc: 0.9942 - val_loss: 0.1227 - val_accuracy: 0.9792 - val_auc: 0.9946\n",
      "Epoch 671/10000\n",
      "6/6 [==============================] - 0s 6ms/step - loss: 0.1191 - accuracy: 0.9635 - auc: 0.9941 - val_loss: 0.1227 - val_accuracy: 0.9792 - val_auc: 0.9946\n",
      "Epoch 672/10000\n",
      "6/6 [==============================] - 0s 6ms/step - loss: 0.1189 - accuracy: 0.9635 - auc: 0.9942 - val_loss: 0.1227 - val_accuracy: 0.9792 - val_auc: 0.9946\n",
      "Epoch 673/10000\n",
      "6/6 [==============================] - 0s 5ms/step - loss: 0.1187 - accuracy: 0.9635 - auc: 0.9943 - val_loss: 0.1224 - val_accuracy: 0.9792 - val_auc: 0.9946\n",
      "Epoch 674/10000\n",
      "6/6 [==============================] - 0s 6ms/step - loss: 0.1185 - accuracy: 0.9635 - auc: 0.9943 - val_loss: 0.1226 - val_accuracy: 0.9792 - val_auc: 0.9946\n",
      "Epoch 675/10000\n",
      "6/6 [==============================] - 0s 6ms/step - loss: 0.1183 - accuracy: 0.9635 - auc: 0.9943 - val_loss: 0.1226 - val_accuracy: 0.9792 - val_auc: 0.9946\n",
      "Epoch 676/10000\n",
      "6/6 [==============================] - 0s 5ms/step - loss: 0.1181 - accuracy: 0.9635 - auc: 0.9944 - val_loss: 0.1225 - val_accuracy: 0.9792 - val_auc: 0.9946\n",
      "Epoch 677/10000\n",
      "6/6 [==============================] - 0s 5ms/step - loss: 0.1179 - accuracy: 0.9635 - auc: 0.9943 - val_loss: 0.1224 - val_accuracy: 0.9792 - val_auc: 0.9946\n",
      "Epoch 678/10000\n",
      "6/6 [==============================] - 0s 5ms/step - loss: 0.1177 - accuracy: 0.9635 - auc: 0.9944 - val_loss: 0.1229 - val_accuracy: 0.9792 - val_auc: 0.9946\n",
      "Epoch 679/10000\n",
      "6/6 [==============================] - 0s 5ms/step - loss: 0.1175 - accuracy: 0.9635 - auc: 0.9944 - val_loss: 0.1222 - val_accuracy: 0.9792 - val_auc: 0.9946\n",
      "Epoch 680/10000\n",
      "6/6 [==============================] - 0s 6ms/step - loss: 0.1173 - accuracy: 0.9635 - auc: 0.9944 - val_loss: 0.1218 - val_accuracy: 0.9792 - val_auc: 0.9946\n",
      "Epoch 681/10000\n",
      "6/6 [==============================] - 0s 5ms/step - loss: 0.1172 - accuracy: 0.9635 - auc: 0.9943 - val_loss: 0.1216 - val_accuracy: 0.9792 - val_auc: 0.9946\n",
      "Epoch 682/10000\n",
      "6/6 [==============================] - 0s 5ms/step - loss: 0.1170 - accuracy: 0.9635 - auc: 0.9943 - val_loss: 0.1219 - val_accuracy: 0.9792 - val_auc: 0.9946\n",
      "Epoch 683/10000\n",
      "6/6 [==============================] - 0s 5ms/step - loss: 0.1169 - accuracy: 0.9635 - auc: 0.9945 - val_loss: 0.1224 - val_accuracy: 0.9792 - val_auc: 0.9946\n",
      "Epoch 684/10000\n",
      "6/6 [==============================] - 0s 5ms/step - loss: 0.1165 - accuracy: 0.9635 - auc: 0.9945 - val_loss: 0.1221 - val_accuracy: 0.9792 - val_auc: 0.9946\n",
      "Epoch 685/10000\n",
      "6/6 [==============================] - 0s 6ms/step - loss: 0.1165 - accuracy: 0.9635 - auc: 0.9945 - val_loss: 0.1217 - val_accuracy: 0.9792 - val_auc: 0.9946\n",
      "Epoch 686/10000\n",
      "6/6 [==============================] - 0s 6ms/step - loss: 0.1165 - accuracy: 0.9635 - auc: 0.9945 - val_loss: 0.1204 - val_accuracy: 0.9792 - val_auc: 0.9946\n",
      "Epoch 687/10000\n",
      "6/6 [==============================] - 0s 5ms/step - loss: 0.1160 - accuracy: 0.9635 - auc: 0.9945 - val_loss: 0.1207 - val_accuracy: 0.9792 - val_auc: 0.9946\n",
      "Epoch 688/10000\n",
      "6/6 [==============================] - 0s 5ms/step - loss: 0.1159 - accuracy: 0.9635 - auc: 0.9945 - val_loss: 0.1210 - val_accuracy: 0.9792 - val_auc: 0.9946\n",
      "Epoch 689/10000\n",
      "6/6 [==============================] - 0s 5ms/step - loss: 0.1156 - accuracy: 0.9635 - auc: 0.9945 - val_loss: 0.1212 - val_accuracy: 0.9792 - val_auc: 0.9946\n",
      "Epoch 690/10000\n",
      "6/6 [==============================] - 0s 5ms/step - loss: 0.1155 - accuracy: 0.9635 - auc: 0.9945 - val_loss: 0.1211 - val_accuracy: 0.9792 - val_auc: 0.9946\n",
      "Epoch 691/10000\n",
      "6/6 [==============================] - 0s 5ms/step - loss: 0.1153 - accuracy: 0.9635 - auc: 0.9945 - val_loss: 0.1206 - val_accuracy: 0.9792 - val_auc: 0.9946\n",
      "Epoch 692/10000\n",
      "6/6 [==============================] - 0s 5ms/step - loss: 0.1151 - accuracy: 0.9635 - auc: 0.9945 - val_loss: 0.1198 - val_accuracy: 0.9792 - val_auc: 0.9946\n",
      "Epoch 693/10000\n",
      "6/6 [==============================] - 0s 5ms/step - loss: 0.1150 - accuracy: 0.9635 - auc: 0.9945 - val_loss: 0.1204 - val_accuracy: 0.9792 - val_auc: 0.9946\n",
      "Epoch 694/10000\n",
      "6/6 [==============================] - 0s 6ms/step - loss: 0.1147 - accuracy: 0.9635 - auc: 0.9945 - val_loss: 0.1205 - val_accuracy: 0.9792 - val_auc: 0.9946\n",
      "Epoch 695/10000\n",
      "6/6 [==============================] - 0s 5ms/step - loss: 0.1147 - accuracy: 0.9635 - auc: 0.9945 - val_loss: 0.1205 - val_accuracy: 0.9792 - val_auc: 0.9946\n",
      "Epoch 696/10000\n",
      "6/6 [==============================] - 0s 5ms/step - loss: 0.1143 - accuracy: 0.9635 - auc: 0.9945 - val_loss: 0.1199 - val_accuracy: 0.9792 - val_auc: 0.9946\n",
      "Epoch 697/10000\n",
      "6/6 [==============================] - 0s 5ms/step - loss: 0.1141 - accuracy: 0.9635 - auc: 0.9945 - val_loss: 0.1197 - val_accuracy: 0.9792 - val_auc: 0.9946\n",
      "Epoch 698/10000\n",
      "6/6 [==============================] - 0s 6ms/step - loss: 0.1140 - accuracy: 0.9688 - auc: 0.9946 - val_loss: 0.1189 - val_accuracy: 0.9792 - val_auc: 0.9946\n",
      "Epoch 699/10000\n",
      "6/6 [==============================] - 0s 6ms/step - loss: 0.1138 - accuracy: 0.9688 - auc: 0.9945 - val_loss: 0.1188 - val_accuracy: 0.9792 - val_auc: 0.9946\n",
      "Epoch 700/10000\n",
      "6/6 [==============================] - 0s 5ms/step - loss: 0.1137 - accuracy: 0.9688 - auc: 0.9946 - val_loss: 0.1194 - val_accuracy: 0.9792 - val_auc: 0.9946\n",
      "Epoch 701/10000\n",
      "6/6 [==============================] - 0s 5ms/step - loss: 0.1134 - accuracy: 0.9635 - auc: 0.9947 - val_loss: 0.1193 - val_accuracy: 0.9792 - val_auc: 0.9946\n",
      "Epoch 702/10000\n",
      "6/6 [==============================] - 0s 5ms/step - loss: 0.1132 - accuracy: 0.9635 - auc: 0.9947 - val_loss: 0.1188 - val_accuracy: 0.9792 - val_auc: 0.9955\n",
      "Epoch 703/10000\n",
      "6/6 [==============================] - 0s 6ms/step - loss: 0.1130 - accuracy: 0.9688 - auc: 0.9949 - val_loss: 0.1187 - val_accuracy: 0.9792 - val_auc: 0.9955\n",
      "Epoch 704/10000\n",
      "6/6 [==============================] - 0s 5ms/step - loss: 0.1129 - accuracy: 0.9688 - auc: 0.9949 - val_loss: 0.1187 - val_accuracy: 0.9792 - val_auc: 0.9955\n",
      "Epoch 705/10000\n",
      "6/6 [==============================] - 0s 5ms/step - loss: 0.1127 - accuracy: 0.9688 - auc: 0.9949 - val_loss: 0.1183 - val_accuracy: 0.9792 - val_auc: 0.9946\n"
     ]
    },
    {
     "name": "stdout",
     "output_type": "stream",
     "text": [
      "Epoch 706/10000\n",
      "6/6 [==============================] - 0s 5ms/step - loss: 0.1125 - accuracy: 0.9688 - auc: 0.9949 - val_loss: 0.1183 - val_accuracy: 0.9792 - val_auc: 0.9955\n",
      "Epoch 707/10000\n",
      "6/6 [==============================] - 0s 5ms/step - loss: 0.1124 - accuracy: 0.9688 - auc: 0.9950 - val_loss: 0.1178 - val_accuracy: 0.9792 - val_auc: 0.9964\n",
      "Epoch 708/10000\n",
      "6/6 [==============================] - 0s 5ms/step - loss: 0.1121 - accuracy: 0.9688 - auc: 0.9950 - val_loss: 0.1178 - val_accuracy: 0.9792 - val_auc: 0.9964\n",
      "Epoch 709/10000\n",
      "6/6 [==============================] - 0s 5ms/step - loss: 0.1120 - accuracy: 0.9688 - auc: 0.9951 - val_loss: 0.1178 - val_accuracy: 0.9792 - val_auc: 0.9964\n",
      "Epoch 710/10000\n",
      "6/6 [==============================] - 0s 5ms/step - loss: 0.1119 - accuracy: 0.9688 - auc: 0.9953 - val_loss: 0.1181 - val_accuracy: 0.9792 - val_auc: 0.9964\n",
      "Epoch 711/10000\n",
      "6/6 [==============================] - 0s 5ms/step - loss: 0.1116 - accuracy: 0.9688 - auc: 0.9953 - val_loss: 0.1181 - val_accuracy: 0.9792 - val_auc: 0.9964\n",
      "Epoch 712/10000\n",
      "6/6 [==============================] - 0s 5ms/step - loss: 0.1115 - accuracy: 0.9688 - auc: 0.9953 - val_loss: 0.1177 - val_accuracy: 0.9792 - val_auc: 0.9964\n",
      "Epoch 713/10000\n",
      "6/6 [==============================] - 0s 5ms/step - loss: 0.1113 - accuracy: 0.9688 - auc: 0.9953 - val_loss: 0.1179 - val_accuracy: 0.9792 - val_auc: 0.9964\n",
      "Epoch 714/10000\n",
      "6/6 [==============================] - 0s 5ms/step - loss: 0.1112 - accuracy: 0.9688 - auc: 0.9953 - val_loss: 0.1183 - val_accuracy: 0.9792 - val_auc: 0.9964\n",
      "Epoch 715/10000\n",
      "6/6 [==============================] - 0s 5ms/step - loss: 0.1113 - accuracy: 0.9688 - auc: 0.9953 - val_loss: 0.1170 - val_accuracy: 0.9792 - val_auc: 0.9964\n",
      "Epoch 716/10000\n",
      "6/6 [==============================] - 0s 5ms/step - loss: 0.1109 - accuracy: 0.9688 - auc: 0.9953 - val_loss: 0.1176 - val_accuracy: 0.9792 - val_auc: 0.9964\n",
      "Epoch 717/10000\n",
      "6/6 [==============================] - 0s 5ms/step - loss: 0.1108 - accuracy: 0.9688 - auc: 0.9953 - val_loss: 0.1174 - val_accuracy: 0.9792 - val_auc: 0.9964\n",
      "Epoch 718/10000\n",
      "6/6 [==============================] - 0s 5ms/step - loss: 0.1105 - accuracy: 0.9688 - auc: 0.9953 - val_loss: 0.1176 - val_accuracy: 0.9792 - val_auc: 0.9964\n",
      "Epoch 719/10000\n",
      "6/6 [==============================] - 0s 6ms/step - loss: 0.1104 - accuracy: 0.9688 - auc: 0.9953 - val_loss: 0.1167 - val_accuracy: 0.9792 - val_auc: 0.9964\n",
      "Epoch 720/10000\n",
      "6/6 [==============================] - 0s 5ms/step - loss: 0.1104 - accuracy: 0.9688 - auc: 0.9953 - val_loss: 0.1162 - val_accuracy: 0.9792 - val_auc: 0.9964\n",
      "Epoch 721/10000\n",
      "6/6 [==============================] - 0s 5ms/step - loss: 0.1101 - accuracy: 0.9688 - auc: 0.9953 - val_loss: 0.1162 - val_accuracy: 0.9792 - val_auc: 0.9964\n",
      "Epoch 722/10000\n",
      "6/6 [==============================] - 0s 5ms/step - loss: 0.1102 - accuracy: 0.9688 - auc: 0.9953 - val_loss: 0.1174 - val_accuracy: 0.9792 - val_auc: 0.9964\n",
      "Epoch 723/10000\n",
      "6/6 [==============================] - 0s 6ms/step - loss: 0.1097 - accuracy: 0.9688 - auc: 0.9954 - val_loss: 0.1169 - val_accuracy: 0.9792 - val_auc: 0.9964\n",
      "Epoch 724/10000\n",
      "6/6 [==============================] - 0s 5ms/step - loss: 0.1095 - accuracy: 0.9688 - auc: 0.9954 - val_loss: 0.1160 - val_accuracy: 0.9792 - val_auc: 0.9964\n",
      "Epoch 725/10000\n",
      "6/6 [==============================] - 0s 5ms/step - loss: 0.1094 - accuracy: 0.9688 - auc: 0.9954 - val_loss: 0.1155 - val_accuracy: 0.9792 - val_auc: 0.9964\n",
      "Epoch 726/10000\n",
      "6/6 [==============================] - 0s 5ms/step - loss: 0.1093 - accuracy: 0.9688 - auc: 0.9954 - val_loss: 0.1164 - val_accuracy: 0.9792 - val_auc: 0.9964\n",
      "Epoch 727/10000\n",
      "6/6 [==============================] - 0s 5ms/step - loss: 0.1089 - accuracy: 0.9688 - auc: 0.9955 - val_loss: 0.1161 - val_accuracy: 0.9792 - val_auc: 0.9964\n",
      "Epoch 728/10000\n",
      "6/6 [==============================] - 0s 5ms/step - loss: 0.1088 - accuracy: 0.9688 - auc: 0.9955 - val_loss: 0.1157 - val_accuracy: 0.9792 - val_auc: 0.9964\n",
      "Epoch 729/10000\n",
      "6/6 [==============================] - 0s 5ms/step - loss: 0.1087 - accuracy: 0.9688 - auc: 0.9954 - val_loss: 0.1160 - val_accuracy: 0.9792 - val_auc: 0.9964\n",
      "Epoch 730/10000\n",
      "6/6 [==============================] - 0s 5ms/step - loss: 0.1085 - accuracy: 0.9688 - auc: 0.9954 - val_loss: 0.1158 - val_accuracy: 0.9792 - val_auc: 0.9964\n",
      "Epoch 731/10000\n",
      "6/6 [==============================] - 0s 5ms/step - loss: 0.1083 - accuracy: 0.9688 - auc: 0.9955 - val_loss: 0.1159 - val_accuracy: 0.9792 - val_auc: 0.9964\n",
      "Epoch 732/10000\n",
      "6/6 [==============================] - 0s 6ms/step - loss: 0.1081 - accuracy: 0.9688 - auc: 0.9956 - val_loss: 0.1152 - val_accuracy: 0.9792 - val_auc: 0.9964\n",
      "Epoch 733/10000\n",
      "6/6 [==============================] - 0s 5ms/step - loss: 0.1082 - accuracy: 0.9688 - auc: 0.9956 - val_loss: 0.1145 - val_accuracy: 0.9792 - val_auc: 0.9964\n",
      "Epoch 734/10000\n",
      "6/6 [==============================] - 0s 5ms/step - loss: 0.1079 - accuracy: 0.9688 - auc: 0.9955 - val_loss: 0.1150 - val_accuracy: 0.9792 - val_auc: 0.9964\n",
      "Epoch 735/10000\n",
      "6/6 [==============================] - 0s 5ms/step - loss: 0.1078 - accuracy: 0.9688 - auc: 0.9956 - val_loss: 0.1156 - val_accuracy: 0.9792 - val_auc: 0.9964\n",
      "Epoch 736/10000\n",
      "6/6 [==============================] - 0s 6ms/step - loss: 0.1075 - accuracy: 0.9688 - auc: 0.9956 - val_loss: 0.1151 - val_accuracy: 0.9792 - val_auc: 0.9964\n",
      "Epoch 737/10000\n",
      "6/6 [==============================] - 0s 6ms/step - loss: 0.1073 - accuracy: 0.9688 - auc: 0.9956 - val_loss: 0.1150 - val_accuracy: 0.9792 - val_auc: 0.9964\n",
      "Epoch 738/10000\n",
      "6/6 [==============================] - 0s 6ms/step - loss: 0.1071 - accuracy: 0.9688 - auc: 0.9956 - val_loss: 0.1145 - val_accuracy: 0.9792 - val_auc: 0.9964\n",
      "Epoch 739/10000\n",
      "6/6 [==============================] - 0s 5ms/step - loss: 0.1072 - accuracy: 0.9688 - auc: 0.9956 - val_loss: 0.1152 - val_accuracy: 0.9792 - val_auc: 0.9964\n",
      "Epoch 740/10000\n",
      "6/6 [==============================] - 0s 5ms/step - loss: 0.1069 - accuracy: 0.9688 - auc: 0.9957 - val_loss: 0.1149 - val_accuracy: 0.9792 - val_auc: 0.9964\n",
      "Epoch 741/10000\n",
      "6/6 [==============================] - 0s 5ms/step - loss: 0.1068 - accuracy: 0.9688 - auc: 0.9957 - val_loss: 0.1147 - val_accuracy: 0.9792 - val_auc: 0.9964\n",
      "Epoch 742/10000\n",
      "6/6 [==============================] - 0s 6ms/step - loss: 0.1065 - accuracy: 0.9688 - auc: 0.9957 - val_loss: 0.1144 - val_accuracy: 0.9792 - val_auc: 0.9964\n",
      "Epoch 743/10000\n",
      "6/6 [==============================] - 0s 7ms/step - loss: 0.1065 - accuracy: 0.9688 - auc: 0.9957 - val_loss: 0.1145 - val_accuracy: 0.9792 - val_auc: 0.9964\n",
      "Epoch 744/10000\n",
      "6/6 [==============================] - 0s 6ms/step - loss: 0.1062 - accuracy: 0.9688 - auc: 0.9956 - val_loss: 0.1140 - val_accuracy: 0.9792 - val_auc: 0.9964\n",
      "Epoch 745/10000\n",
      "6/6 [==============================] - 0s 6ms/step - loss: 0.1061 - accuracy: 0.9688 - auc: 0.9957 - val_loss: 0.1137 - val_accuracy: 0.9792 - val_auc: 0.9964\n",
      "Epoch 746/10000\n",
      "6/6 [==============================] - 0s 6ms/step - loss: 0.1060 - accuracy: 0.9688 - auc: 0.9957 - val_loss: 0.1136 - val_accuracy: 0.9792 - val_auc: 0.9964\n",
      "Epoch 747/10000\n",
      "6/6 [==============================] - 0s 6ms/step - loss: 0.1057 - accuracy: 0.9688 - auc: 0.9959 - val_loss: 0.1139 - val_accuracy: 0.9792 - val_auc: 0.9964\n",
      "Epoch 748/10000\n",
      "6/6 [==============================] - 0s 6ms/step - loss: 0.1057 - accuracy: 0.9688 - auc: 0.9957 - val_loss: 0.1133 - val_accuracy: 0.9792 - val_auc: 0.9964\n",
      "Epoch 749/10000\n",
      "6/6 [==============================] - 0s 6ms/step - loss: 0.1054 - accuracy: 0.9688 - auc: 0.9958 - val_loss: 0.1137 - val_accuracy: 0.9792 - val_auc: 0.9964\n",
      "Epoch 750/10000\n",
      "6/6 [==============================] - 0s 6ms/step - loss: 0.1053 - accuracy: 0.9688 - auc: 0.9959 - val_loss: 0.1139 - val_accuracy: 0.9792 - val_auc: 0.9964\n",
      "Epoch 751/10000\n",
      "6/6 [==============================] - 0s 6ms/step - loss: 0.1055 - accuracy: 0.9688 - auc: 0.9957 - val_loss: 0.1126 - val_accuracy: 0.9792 - val_auc: 0.9964\n",
      "Epoch 752/10000\n",
      "6/6 [==============================] - 0s 6ms/step - loss: 0.1051 - accuracy: 0.9688 - auc: 0.9959 - val_loss: 0.1135 - val_accuracy: 0.9792 - val_auc: 0.9964\n"
     ]
    },
    {
     "name": "stdout",
     "output_type": "stream",
     "text": [
      "Epoch 753/10000\n",
      "6/6 [==============================] - 0s 6ms/step - loss: 0.1051 - accuracy: 0.9688 - auc: 0.9959 - val_loss: 0.1140 - val_accuracy: 0.9792 - val_auc: 0.9964\n",
      "Epoch 754/10000\n",
      "6/6 [==============================] - 0s 6ms/step - loss: 0.1056 - accuracy: 0.9688 - auc: 0.9956 - val_loss: 0.1120 - val_accuracy: 0.9792 - val_auc: 0.9964\n",
      "Epoch 755/10000\n",
      "6/6 [==============================] - 0s 6ms/step - loss: 0.1048 - accuracy: 0.9688 - auc: 0.9957 - val_loss: 0.1115 - val_accuracy: 0.9792 - val_auc: 0.9964\n",
      "Epoch 756/10000\n",
      "6/6 [==============================] - 0s 5ms/step - loss: 0.1044 - accuracy: 0.9688 - auc: 0.9958 - val_loss: 0.1121 - val_accuracy: 0.9792 - val_auc: 0.9964\n",
      "Epoch 757/10000\n",
      "6/6 [==============================] - 0s 5ms/step - loss: 0.1045 - accuracy: 0.9688 - auc: 0.9960 - val_loss: 0.1135 - val_accuracy: 0.9792 - val_auc: 0.9964\n",
      "Epoch 758/10000\n",
      "6/6 [==============================] - 0s 5ms/step - loss: 0.1042 - accuracy: 0.9688 - auc: 0.9960 - val_loss: 0.1137 - val_accuracy: 0.9792 - val_auc: 0.9964\n",
      "Epoch 759/10000\n",
      "6/6 [==============================] - 0s 6ms/step - loss: 0.1040 - accuracy: 0.9688 - auc: 0.9960 - val_loss: 0.1134 - val_accuracy: 0.9792 - val_auc: 0.9964\n",
      "Epoch 760/10000\n",
      "6/6 [==============================] - 0s 6ms/step - loss: 0.1038 - accuracy: 0.9688 - auc: 0.9960 - val_loss: 0.1123 - val_accuracy: 0.9792 - val_auc: 0.9964\n",
      "Epoch 761/10000\n",
      "6/6 [==============================] - 0s 6ms/step - loss: 0.1036 - accuracy: 0.9688 - auc: 0.9960 - val_loss: 0.1120 - val_accuracy: 0.9792 - val_auc: 0.9964\n",
      "Epoch 762/10000\n",
      "6/6 [==============================] - 0s 5ms/step - loss: 0.1035 - accuracy: 0.9688 - auc: 0.9960 - val_loss: 0.1121 - val_accuracy: 0.9792 - val_auc: 0.9964\n",
      "Epoch 763/10000\n",
      "6/6 [==============================] - 0s 5ms/step - loss: 0.1034 - accuracy: 0.9688 - auc: 0.9960 - val_loss: 0.1123 - val_accuracy: 0.9792 - val_auc: 0.9964\n",
      "Epoch 764/10000\n",
      "6/6 [==============================] - 0s 5ms/step - loss: 0.1032 - accuracy: 0.9688 - auc: 0.9960 - val_loss: 0.1118 - val_accuracy: 0.9792 - val_auc: 0.9964\n",
      "Epoch 765/10000\n",
      "6/6 [==============================] - 0s 5ms/step - loss: 0.1030 - accuracy: 0.9688 - auc: 0.9960 - val_loss: 0.1116 - val_accuracy: 0.9792 - val_auc: 0.9964\n",
      "Epoch 766/10000\n",
      "6/6 [==============================] - 0s 5ms/step - loss: 0.1029 - accuracy: 0.9688 - auc: 0.9960 - val_loss: 0.1120 - val_accuracy: 0.9792 - val_auc: 0.9964\n",
      "Epoch 767/10000\n",
      "6/6 [==============================] - 0s 5ms/step - loss: 0.1033 - accuracy: 0.9688 - auc: 0.9960 - val_loss: 0.1106 - val_accuracy: 0.9792 - val_auc: 0.9964\n",
      "Epoch 768/10000\n",
      "6/6 [==============================] - 0s 5ms/step - loss: 0.1028 - accuracy: 0.9688 - auc: 0.9960 - val_loss: 0.1118 - val_accuracy: 0.9792 - val_auc: 0.9964\n",
      "Epoch 769/10000\n",
      "6/6 [==============================] - 0s 5ms/step - loss: 0.1027 - accuracy: 0.9688 - auc: 0.9960 - val_loss: 0.1125 - val_accuracy: 0.9792 - val_auc: 0.9964\n",
      "Epoch 770/10000\n",
      "6/6 [==============================] - 0s 5ms/step - loss: 0.1024 - accuracy: 0.9688 - auc: 0.9960 - val_loss: 0.1122 - val_accuracy: 0.9792 - val_auc: 0.9964\n",
      "Epoch 771/10000\n",
      "6/6 [==============================] - 0s 6ms/step - loss: 0.1021 - accuracy: 0.9688 - auc: 0.9961 - val_loss: 0.1113 - val_accuracy: 0.9792 - val_auc: 0.9964\n",
      "Epoch 772/10000\n",
      "6/6 [==============================] - 0s 5ms/step - loss: 0.1021 - accuracy: 0.9688 - auc: 0.9961 - val_loss: 0.1106 - val_accuracy: 0.9792 - val_auc: 0.9964\n",
      "Epoch 773/10000\n",
      "6/6 [==============================] - 0s 5ms/step - loss: 0.1020 - accuracy: 0.9688 - auc: 0.9961 - val_loss: 0.1111 - val_accuracy: 0.9792 - val_auc: 0.9964\n",
      "Epoch 774/10000\n",
      "6/6 [==============================] - 0s 5ms/step - loss: 0.1020 - accuracy: 0.9688 - auc: 0.9961 - val_loss: 0.1101 - val_accuracy: 0.9792 - val_auc: 0.9964\n",
      "Epoch 775/10000\n",
      "6/6 [==============================] - 0s 5ms/step - loss: 0.1017 - accuracy: 0.9688 - auc: 0.9961 - val_loss: 0.1112 - val_accuracy: 0.9792 - val_auc: 0.9964\n",
      "Epoch 776/10000\n",
      "6/6 [==============================] - 0s 6ms/step - loss: 0.1014 - accuracy: 0.9688 - auc: 0.9961 - val_loss: 0.1117 - val_accuracy: 0.9792 - val_auc: 0.9964\n",
      "Epoch 777/10000\n",
      "6/6 [==============================] - 0s 5ms/step - loss: 0.1012 - accuracy: 0.9688 - auc: 0.9962 - val_loss: 0.1111 - val_accuracy: 0.9792 - val_auc: 0.9964\n",
      "Epoch 778/10000\n",
      "6/6 [==============================] - 0s 6ms/step - loss: 0.1012 - accuracy: 0.9688 - auc: 0.9962 - val_loss: 0.1102 - val_accuracy: 0.9792 - val_auc: 0.9964\n",
      "Epoch 779/10000\n",
      "6/6 [==============================] - 0s 5ms/step - loss: 0.1008 - accuracy: 0.9688 - auc: 0.9963 - val_loss: 0.1105 - val_accuracy: 0.9792 - val_auc: 0.9964\n",
      "Epoch 780/10000\n",
      "6/6 [==============================] - 0s 5ms/step - loss: 0.1006 - accuracy: 0.9688 - auc: 0.9963 - val_loss: 0.1107 - val_accuracy: 0.9792 - val_auc: 0.9964\n",
      "Epoch 781/10000\n",
      "6/6 [==============================] - 0s 5ms/step - loss: 0.1006 - accuracy: 0.9688 - auc: 0.9961 - val_loss: 0.1111 - val_accuracy: 0.9792 - val_auc: 0.9964\n",
      "Epoch 782/10000\n",
      "6/6 [==============================] - 0s 5ms/step - loss: 0.1003 - accuracy: 0.9688 - auc: 0.9963 - val_loss: 0.1105 - val_accuracy: 0.9792 - val_auc: 0.9964\n",
      "Epoch 783/10000\n",
      "6/6 [==============================] - 0s 5ms/step - loss: 0.1003 - accuracy: 0.9688 - auc: 0.9963 - val_loss: 0.1098 - val_accuracy: 0.9792 - val_auc: 0.9964\n",
      "Epoch 784/10000\n",
      "6/6 [==============================] - 0s 5ms/step - loss: 0.1001 - accuracy: 0.9688 - auc: 0.9963 - val_loss: 0.1106 - val_accuracy: 0.9792 - val_auc: 0.9964\n",
      "Epoch 785/10000\n",
      "6/6 [==============================] - 0s 5ms/step - loss: 0.0999 - accuracy: 0.9688 - auc: 0.9963 - val_loss: 0.1100 - val_accuracy: 0.9792 - val_auc: 0.9964\n",
      "Epoch 786/10000\n",
      "6/6 [==============================] - 0s 5ms/step - loss: 0.0996 - accuracy: 0.9688 - auc: 0.9964 - val_loss: 0.1097 - val_accuracy: 0.9792 - val_auc: 0.9964\n",
      "Epoch 787/10000\n",
      "6/6 [==============================] - 0s 6ms/step - loss: 0.0995 - accuracy: 0.9688 - auc: 0.9963 - val_loss: 0.1096 - val_accuracy: 0.9792 - val_auc: 0.9964\n",
      "Epoch 788/10000\n",
      "6/6 [==============================] - 0s 5ms/step - loss: 0.0999 - accuracy: 0.9688 - auc: 0.9963 - val_loss: 0.1105 - val_accuracy: 0.9792 - val_auc: 0.9964\n",
      "Epoch 789/10000\n",
      "6/6 [==============================] - 0s 5ms/step - loss: 0.0993 - accuracy: 0.9688 - auc: 0.9965 - val_loss: 0.1104 - val_accuracy: 0.9792 - val_auc: 0.9964\n",
      "Epoch 790/10000\n",
      "6/6 [==============================] - 0s 5ms/step - loss: 0.0992 - accuracy: 0.9688 - auc: 0.9965 - val_loss: 0.1094 - val_accuracy: 0.9792 - val_auc: 0.9964\n",
      "Epoch 791/10000\n",
      "6/6 [==============================] - 0s 6ms/step - loss: 0.0989 - accuracy: 0.9688 - auc: 0.9965 - val_loss: 0.1088 - val_accuracy: 0.9792 - val_auc: 0.9964\n",
      "Epoch 792/10000\n",
      "6/6 [==============================] - 0s 5ms/step - loss: 0.0987 - accuracy: 0.9688 - auc: 0.9964 - val_loss: 0.1092 - val_accuracy: 0.9792 - val_auc: 0.9964\n",
      "Epoch 793/10000\n",
      "6/6 [==============================] - 0s 5ms/step - loss: 0.0987 - accuracy: 0.9688 - auc: 0.9964 - val_loss: 0.1095 - val_accuracy: 0.9792 - val_auc: 0.9964\n",
      "Epoch 794/10000\n",
      "6/6 [==============================] - 0s 6ms/step - loss: 0.0984 - accuracy: 0.9688 - auc: 0.9966 - val_loss: 0.1095 - val_accuracy: 0.9792 - val_auc: 0.9964\n",
      "Epoch 795/10000\n",
      "6/6 [==============================] - 0s 6ms/step - loss: 0.0982 - accuracy: 0.9688 - auc: 0.9966 - val_loss: 0.1091 - val_accuracy: 0.9792 - val_auc: 0.9964\n",
      "Epoch 796/10000\n",
      "6/6 [==============================] - 0s 6ms/step - loss: 0.0982 - accuracy: 0.9688 - auc: 0.9966 - val_loss: 0.1092 - val_accuracy: 0.9792 - val_auc: 0.9964\n",
      "Epoch 797/10000\n",
      "6/6 [==============================] - 0s 6ms/step - loss: 0.0983 - accuracy: 0.9688 - auc: 0.9966 - val_loss: 0.1083 - val_accuracy: 0.9792 - val_auc: 0.9964\n",
      "Epoch 798/10000\n",
      "6/6 [==============================] - 0s 5ms/step - loss: 0.0980 - accuracy: 0.9688 - auc: 0.9966 - val_loss: 0.1090 - val_accuracy: 0.9792 - val_auc: 0.9964\n",
      "Epoch 799/10000\n",
      "6/6 [==============================] - 0s 6ms/step - loss: 0.0976 - accuracy: 0.9688 - auc: 0.9967 - val_loss: 0.1087 - val_accuracy: 0.9792 - val_auc: 0.9964\n"
     ]
    },
    {
     "name": "stdout",
     "output_type": "stream",
     "text": [
      "Epoch 800/10000\n",
      "6/6 [==============================] - 0s 5ms/step - loss: 0.0975 - accuracy: 0.9688 - auc: 0.9966 - val_loss: 0.1087 - val_accuracy: 0.9792 - val_auc: 0.9964\n",
      "Epoch 801/10000\n",
      "6/6 [==============================] - 0s 5ms/step - loss: 0.0974 - accuracy: 0.9688 - auc: 0.9966 - val_loss: 0.1082 - val_accuracy: 0.9792 - val_auc: 0.9964\n",
      "Epoch 802/10000\n",
      "6/6 [==============================] - 0s 5ms/step - loss: 0.0972 - accuracy: 0.9688 - auc: 0.9967 - val_loss: 0.1082 - val_accuracy: 0.9792 - val_auc: 0.9964\n",
      "Epoch 803/10000\n",
      "6/6 [==============================] - 0s 6ms/step - loss: 0.0970 - accuracy: 0.9688 - auc: 0.9966 - val_loss: 0.1082 - val_accuracy: 0.9792 - val_auc: 0.9964\n",
      "Epoch 804/10000\n",
      "6/6 [==============================] - 0s 5ms/step - loss: 0.0969 - accuracy: 0.9688 - auc: 0.9967 - val_loss: 0.1080 - val_accuracy: 0.9792 - val_auc: 0.9964\n",
      "Epoch 805/10000\n",
      "6/6 [==============================] - 0s 5ms/step - loss: 0.0968 - accuracy: 0.9688 - auc: 0.9967 - val_loss: 0.1079 - val_accuracy: 0.9792 - val_auc: 0.9964\n",
      "Epoch 806/10000\n",
      "6/6 [==============================] - 0s 5ms/step - loss: 0.0966 - accuracy: 0.9688 - auc: 0.9967 - val_loss: 0.1082 - val_accuracy: 0.9792 - val_auc: 0.9964\n",
      "Epoch 807/10000\n",
      "6/6 [==============================] - 0s 5ms/step - loss: 0.0965 - accuracy: 0.9688 - auc: 0.9967 - val_loss: 0.1082 - val_accuracy: 0.9792 - val_auc: 0.9964\n",
      "Epoch 808/10000\n",
      "6/6 [==============================] - 0s 6ms/step - loss: 0.0966 - accuracy: 0.9688 - auc: 0.9966 - val_loss: 0.1087 - val_accuracy: 0.9792 - val_auc: 0.9964\n",
      "Epoch 809/10000\n",
      "6/6 [==============================] - 0s 6ms/step - loss: 0.0962 - accuracy: 0.9688 - auc: 0.9969 - val_loss: 0.1083 - val_accuracy: 0.9792 - val_auc: 0.9964\n",
      "Epoch 810/10000\n",
      "6/6 [==============================] - 0s 6ms/step - loss: 0.0960 - accuracy: 0.9688 - auc: 0.9968 - val_loss: 0.1080 - val_accuracy: 0.9792 - val_auc: 0.9973\n",
      "Epoch 811/10000\n",
      "6/6 [==============================] - 0s 6ms/step - loss: 0.0959 - accuracy: 0.9688 - auc: 0.9968 - val_loss: 0.1078 - val_accuracy: 0.9792 - val_auc: 0.9964\n",
      "Epoch 812/10000\n",
      "6/6 [==============================] - 0s 6ms/step - loss: 0.0958 - accuracy: 0.9688 - auc: 0.9968 - val_loss: 0.1074 - val_accuracy: 0.9792 - val_auc: 0.9964\n",
      "Epoch 813/10000\n",
      "6/6 [==============================] - 0s 6ms/step - loss: 0.0958 - accuracy: 0.9688 - auc: 0.9968 - val_loss: 0.1066 - val_accuracy: 0.9583 - val_auc: 0.9964\n",
      "Epoch 814/10000\n",
      "6/6 [==============================] - 0s 6ms/step - loss: 0.0955 - accuracy: 0.9688 - auc: 0.9968 - val_loss: 0.1067 - val_accuracy: 0.9583 - val_auc: 0.9964\n",
      "Epoch 815/10000\n",
      "6/6 [==============================] - 0s 6ms/step - loss: 0.0954 - accuracy: 0.9688 - auc: 0.9969 - val_loss: 0.1065 - val_accuracy: 0.9583 - val_auc: 0.9964\n",
      "Epoch 816/10000\n",
      "6/6 [==============================] - 0s 6ms/step - loss: 0.0952 - accuracy: 0.9688 - auc: 0.9968 - val_loss: 0.1066 - val_accuracy: 0.9583 - val_auc: 0.9964\n",
      "Epoch 817/10000\n",
      "6/6 [==============================] - 0s 6ms/step - loss: 0.0951 - accuracy: 0.9688 - auc: 0.9969 - val_loss: 0.1063 - val_accuracy: 0.9583 - val_auc: 0.9973\n",
      "Epoch 818/10000\n",
      "6/6 [==============================] - 0s 6ms/step - loss: 0.0949 - accuracy: 0.9688 - auc: 0.9970 - val_loss: 0.1070 - val_accuracy: 0.9583 - val_auc: 0.9964\n",
      "Epoch 819/10000\n",
      "6/6 [==============================] - 0s 6ms/step - loss: 0.0948 - accuracy: 0.9688 - auc: 0.9969 - val_loss: 0.1068 - val_accuracy: 0.9583 - val_auc: 0.9973\n",
      "Epoch 820/10000\n",
      "6/6 [==============================] - 0s 6ms/step - loss: 0.0946 - accuracy: 0.9688 - auc: 0.9970 - val_loss: 0.1066 - val_accuracy: 0.9583 - val_auc: 0.9964\n",
      "Epoch 821/10000\n",
      "6/6 [==============================] - 0s 6ms/step - loss: 0.0945 - accuracy: 0.9688 - auc: 0.9970 - val_loss: 0.1068 - val_accuracy: 0.9792 - val_auc: 0.9973\n",
      "Epoch 822/10000\n",
      "6/6 [==============================] - 0s 6ms/step - loss: 0.0943 - accuracy: 0.9688 - auc: 0.9971 - val_loss: 0.1067 - val_accuracy: 0.9583 - val_auc: 0.9964\n",
      "Epoch 823/10000\n",
      "6/6 [==============================] - 0s 6ms/step - loss: 0.0943 - accuracy: 0.9688 - auc: 0.9971 - val_loss: 0.1065 - val_accuracy: 0.9583 - val_auc: 0.9973\n",
      "Epoch 824/10000\n",
      "6/6 [==============================] - 0s 6ms/step - loss: 0.0943 - accuracy: 0.9688 - auc: 0.9970 - val_loss: 0.1059 - val_accuracy: 0.9583 - val_auc: 0.9964\n",
      "Epoch 825/10000\n",
      "6/6 [==============================] - 0s 6ms/step - loss: 0.0940 - accuracy: 0.9688 - auc: 0.9971 - val_loss: 0.1064 - val_accuracy: 0.9583 - val_auc: 0.9973\n",
      "Epoch 826/10000\n",
      "6/6 [==============================] - 0s 5ms/step - loss: 0.0942 - accuracy: 0.9688 - auc: 0.9972 - val_loss: 0.1072 - val_accuracy: 0.9583 - val_auc: 0.9973\n",
      "Epoch 827/10000\n",
      "6/6 [==============================] - 0s 5ms/step - loss: 0.0938 - accuracy: 0.9740 - auc: 0.9972 - val_loss: 0.1062 - val_accuracy: 0.9583 - val_auc: 0.9973\n",
      "Epoch 828/10000\n",
      "6/6 [==============================] - 0s 5ms/step - loss: 0.0937 - accuracy: 0.9688 - auc: 0.9971 - val_loss: 0.1058 - val_accuracy: 0.9583 - val_auc: 0.9973\n",
      "Epoch 829/10000\n",
      "6/6 [==============================] - 0s 5ms/step - loss: 0.0934 - accuracy: 0.9688 - auc: 0.9973 - val_loss: 0.1058 - val_accuracy: 0.9583 - val_auc: 0.9973\n",
      "Epoch 830/10000\n",
      "6/6 [==============================] - 0s 5ms/step - loss: 0.0933 - accuracy: 0.9688 - auc: 0.9972 - val_loss: 0.1056 - val_accuracy: 0.9583 - val_auc: 0.9973\n",
      "Epoch 831/10000\n",
      "6/6 [==============================] - 0s 5ms/step - loss: 0.0931 - accuracy: 0.9688 - auc: 0.9973 - val_loss: 0.1057 - val_accuracy: 0.9583 - val_auc: 0.9973\n",
      "Epoch 832/10000\n",
      "6/6 [==============================] - 0s 5ms/step - loss: 0.0931 - accuracy: 0.9688 - auc: 0.9973 - val_loss: 0.1054 - val_accuracy: 0.9583 - val_auc: 0.9973\n",
      "Epoch 833/10000\n",
      "6/6 [==============================] - 0s 6ms/step - loss: 0.0930 - accuracy: 0.9688 - auc: 0.9972 - val_loss: 0.1054 - val_accuracy: 0.9583 - val_auc: 0.9973\n",
      "Epoch 834/10000\n",
      "6/6 [==============================] - 0s 6ms/step - loss: 0.0929 - accuracy: 0.9740 - auc: 0.9972 - val_loss: 0.1058 - val_accuracy: 0.9583 - val_auc: 0.9973\n",
      "Epoch 835/10000\n",
      "6/6 [==============================] - 0s 5ms/step - loss: 0.0926 - accuracy: 0.9740 - auc: 0.9973 - val_loss: 0.1058 - val_accuracy: 0.9583 - val_auc: 0.9982\n",
      "Epoch 836/10000\n",
      "6/6 [==============================] - 0s 6ms/step - loss: 0.0926 - accuracy: 0.9740 - auc: 0.9973 - val_loss: 0.1061 - val_accuracy: 0.9583 - val_auc: 0.9973\n",
      "Epoch 837/10000\n",
      "6/6 [==============================] - 0s 6ms/step - loss: 0.0924 - accuracy: 0.9740 - auc: 0.9973 - val_loss: 0.1055 - val_accuracy: 0.9583 - val_auc: 0.9973\n",
      "Epoch 838/10000\n",
      "6/6 [==============================] - 0s 6ms/step - loss: 0.0923 - accuracy: 0.9740 - auc: 0.9973 - val_loss: 0.1050 - val_accuracy: 0.9583 - val_auc: 0.9982\n",
      "Epoch 839/10000\n",
      "6/6 [==============================] - 0s 6ms/step - loss: 0.0923 - accuracy: 0.9740 - auc: 0.9973 - val_loss: 0.1053 - val_accuracy: 0.9583 - val_auc: 0.9982\n",
      "Epoch 840/10000\n",
      "6/6 [==============================] - 0s 6ms/step - loss: 0.0922 - accuracy: 0.9740 - auc: 0.9973 - val_loss: 0.1055 - val_accuracy: 0.9583 - val_auc: 0.9982\n",
      "Epoch 841/10000\n",
      "6/6 [==============================] - 0s 6ms/step - loss: 0.0919 - accuracy: 0.9740 - auc: 0.9973 - val_loss: 0.1050 - val_accuracy: 0.9583 - val_auc: 0.9982\n",
      "Epoch 842/10000\n",
      "6/6 [==============================] - 0s 5ms/step - loss: 0.0920 - accuracy: 0.9688 - auc: 0.9972 - val_loss: 0.1041 - val_accuracy: 0.9583 - val_auc: 0.9982\n",
      "Epoch 843/10000\n",
      "6/6 [==============================] - 0s 5ms/step - loss: 0.0918 - accuracy: 0.9688 - auc: 0.9973 - val_loss: 0.1039 - val_accuracy: 0.9583 - val_auc: 0.9982\n",
      "Epoch 844/10000\n",
      "6/6 [==============================] - 0s 6ms/step - loss: 0.0916 - accuracy: 0.9688 - auc: 0.9973 - val_loss: 0.1044 - val_accuracy: 0.9583 - val_auc: 0.9982\n",
      "Epoch 845/10000\n",
      "6/6 [==============================] - 0s 6ms/step - loss: 0.0914 - accuracy: 0.9688 - auc: 0.9973 - val_loss: 0.1047 - val_accuracy: 0.9583 - val_auc: 0.9982\n",
      "Epoch 846/10000\n",
      "6/6 [==============================] - 0s 5ms/step - loss: 0.0913 - accuracy: 0.9740 - auc: 0.9973 - val_loss: 0.1051 - val_accuracy: 0.9583 - val_auc: 0.9982\n"
     ]
    },
    {
     "name": "stdout",
     "output_type": "stream",
     "text": [
      "Epoch 847/10000\n",
      "6/6 [==============================] - 0s 6ms/step - loss: 0.0912 - accuracy: 0.9688 - auc: 0.9973 - val_loss: 0.1055 - val_accuracy: 0.9583 - val_auc: 0.9982\n",
      "Epoch 848/10000\n",
      "6/6 [==============================] - 0s 5ms/step - loss: 0.0911 - accuracy: 0.9688 - auc: 0.9975 - val_loss: 0.1054 - val_accuracy: 0.9583 - val_auc: 0.9982\n",
      "Epoch 849/10000\n",
      "6/6 [==============================] - 0s 5ms/step - loss: 0.0909 - accuracy: 0.9688 - auc: 0.9974 - val_loss: 0.1050 - val_accuracy: 0.9583 - val_auc: 0.9982\n",
      "Epoch 850/10000\n",
      "6/6 [==============================] - 0s 5ms/step - loss: 0.0909 - accuracy: 0.9688 - auc: 0.9974 - val_loss: 0.1053 - val_accuracy: 0.9583 - val_auc: 0.9982\n",
      "Epoch 851/10000\n",
      "6/6 [==============================] - 0s 5ms/step - loss: 0.0908 - accuracy: 0.9688 - auc: 0.9974 - val_loss: 0.1048 - val_accuracy: 0.9583 - val_auc: 0.9982\n",
      "Epoch 852/10000\n",
      "6/6 [==============================] - 0s 5ms/step - loss: 0.0907 - accuracy: 0.9688 - auc: 0.9973 - val_loss: 0.1039 - val_accuracy: 0.9583 - val_auc: 0.9982\n",
      "Epoch 853/10000\n",
      "6/6 [==============================] - 0s 5ms/step - loss: 0.0905 - accuracy: 0.9740 - auc: 0.9973 - val_loss: 0.1037 - val_accuracy: 0.9583 - val_auc: 0.9982\n",
      "Epoch 854/10000\n",
      "6/6 [==============================] - 0s 5ms/step - loss: 0.0906 - accuracy: 0.9688 - auc: 0.9973 - val_loss: 0.1044 - val_accuracy: 0.9583 - val_auc: 0.9982\n",
      "Epoch 855/10000\n",
      "6/6 [==============================] - 0s 5ms/step - loss: 0.0903 - accuracy: 0.9688 - auc: 0.9974 - val_loss: 0.1043 - val_accuracy: 0.9583 - val_auc: 0.9982\n",
      "Epoch 856/10000\n",
      "6/6 [==============================] - 0s 5ms/step - loss: 0.0903 - accuracy: 0.9688 - auc: 0.9974 - val_loss: 0.1036 - val_accuracy: 0.9583 - val_auc: 0.9982\n",
      "Epoch 857/10000\n",
      "6/6 [==============================] - 0s 6ms/step - loss: 0.0902 - accuracy: 0.9740 - auc: 0.9973 - val_loss: 0.1040 - val_accuracy: 0.9583 - val_auc: 0.9982\n",
      "Epoch 858/10000\n",
      "6/6 [==============================] - 0s 6ms/step - loss: 0.0900 - accuracy: 0.9688 - auc: 0.9974 - val_loss: 0.1040 - val_accuracy: 0.9583 - val_auc: 0.9982\n",
      "Epoch 859/10000\n",
      "6/6 [==============================] - 0s 6ms/step - loss: 0.0899 - accuracy: 0.9688 - auc: 0.9974 - val_loss: 0.1039 - val_accuracy: 0.9583 - val_auc: 0.9982\n",
      "Epoch 860/10000\n",
      "6/6 [==============================] - 0s 6ms/step - loss: 0.0901 - accuracy: 0.9688 - auc: 0.9974 - val_loss: 0.1047 - val_accuracy: 0.9583 - val_auc: 0.9982\n",
      "Epoch 861/10000\n",
      "6/6 [==============================] - 0s 6ms/step - loss: 0.0897 - accuracy: 0.9688 - auc: 0.9975 - val_loss: 0.1035 - val_accuracy: 0.9583 - val_auc: 0.9982\n",
      "Epoch 862/10000\n",
      "6/6 [==============================] - 0s 6ms/step - loss: 0.0896 - accuracy: 0.9740 - auc: 0.9974 - val_loss: 0.1033 - val_accuracy: 0.9583 - val_auc: 0.9982\n",
      "Epoch 863/10000\n",
      "6/6 [==============================] - 0s 6ms/step - loss: 0.0895 - accuracy: 0.9740 - auc: 0.9974 - val_loss: 0.1026 - val_accuracy: 0.9583 - val_auc: 0.9982\n",
      "Epoch 864/10000\n",
      "6/6 [==============================] - 0s 8ms/step - loss: 0.0896 - accuracy: 0.9688 - auc: 0.9974 - val_loss: 0.1034 - val_accuracy: 0.9583 - val_auc: 0.9982\n",
      "Epoch 865/10000\n",
      "6/6 [==============================] - 0s 7ms/step - loss: 0.0892 - accuracy: 0.9688 - auc: 0.9975 - val_loss: 0.1032 - val_accuracy: 0.9583 - val_auc: 0.9982\n",
      "Epoch 866/10000\n",
      "6/6 [==============================] - 0s 6ms/step - loss: 0.0891 - accuracy: 0.9688 - auc: 0.9975 - val_loss: 0.1033 - val_accuracy: 0.9583 - val_auc: 0.9982\n",
      "Epoch 867/10000\n",
      "6/6 [==============================] - 0s 6ms/step - loss: 0.0891 - accuracy: 0.9688 - auc: 0.9974 - val_loss: 0.1026 - val_accuracy: 0.9583 - val_auc: 0.9982\n",
      "Epoch 868/10000\n",
      "6/6 [==============================] - 0s 6ms/step - loss: 0.0891 - accuracy: 0.9688 - auc: 0.9975 - val_loss: 0.1032 - val_accuracy: 0.9583 - val_auc: 0.9982\n",
      "Epoch 869/10000\n",
      "6/6 [==============================] - 0s 6ms/step - loss: 0.0888 - accuracy: 0.9688 - auc: 0.9975 - val_loss: 0.1027 - val_accuracy: 0.9583 - val_auc: 0.9982\n",
      "Epoch 870/10000\n",
      "6/6 [==============================] - 0s 6ms/step - loss: 0.0887 - accuracy: 0.9740 - auc: 0.9975 - val_loss: 0.1023 - val_accuracy: 0.9583 - val_auc: 0.9982\n",
      "Epoch 871/10000\n",
      "6/6 [==============================] - 0s 6ms/step - loss: 0.0887 - accuracy: 0.9740 - auc: 0.9975 - val_loss: 0.1026 - val_accuracy: 0.9583 - val_auc: 0.9982\n",
      "Epoch 872/10000\n",
      "6/6 [==============================] - 0s 6ms/step - loss: 0.0884 - accuracy: 0.9688 - auc: 0.9976 - val_loss: 0.1027 - val_accuracy: 0.9583 - val_auc: 0.9982\n",
      "Epoch 873/10000\n",
      "6/6 [==============================] - 0s 6ms/step - loss: 0.0884 - accuracy: 0.9688 - auc: 0.9976 - val_loss: 0.1028 - val_accuracy: 0.9583 - val_auc: 0.9982\n",
      "Epoch 874/10000\n",
      "6/6 [==============================] - 0s 6ms/step - loss: 0.0883 - accuracy: 0.9688 - auc: 0.9975 - val_loss: 0.1031 - val_accuracy: 0.9583 - val_auc: 0.9982\n",
      "Epoch 875/10000\n",
      "6/6 [==============================] - 0s 6ms/step - loss: 0.0882 - accuracy: 0.9688 - auc: 0.9976 - val_loss: 0.1029 - val_accuracy: 0.9583 - val_auc: 0.9982\n",
      "Epoch 876/10000\n",
      "6/6 [==============================] - 0s 6ms/step - loss: 0.0886 - accuracy: 0.9688 - auc: 0.9973 - val_loss: 0.1016 - val_accuracy: 0.9583 - val_auc: 0.9982\n",
      "Epoch 877/10000\n",
      "6/6 [==============================] - 0s 6ms/step - loss: 0.0879 - accuracy: 0.9740 - auc: 0.9976 - val_loss: 0.1017 - val_accuracy: 0.9583 - val_auc: 0.9982\n",
      "Epoch 878/10000\n",
      "6/6 [==============================] - 0s 6ms/step - loss: 0.0881 - accuracy: 0.9688 - auc: 0.9976 - val_loss: 0.1028 - val_accuracy: 0.9583 - val_auc: 0.9982\n",
      "Epoch 879/10000\n",
      "6/6 [==============================] - 0s 6ms/step - loss: 0.0880 - accuracy: 0.9688 - auc: 0.9975 - val_loss: 0.1032 - val_accuracy: 0.9583 - val_auc: 0.9982\n",
      "Epoch 880/10000\n",
      "6/6 [==============================] - 0s 6ms/step - loss: 0.0877 - accuracy: 0.9688 - auc: 0.9977 - val_loss: 0.1023 - val_accuracy: 0.9583 - val_auc: 0.9982\n",
      "Epoch 881/10000\n",
      "6/6 [==============================] - 0s 6ms/step - loss: 0.0877 - accuracy: 0.9688 - auc: 0.9975 - val_loss: 0.1013 - val_accuracy: 0.9583 - val_auc: 0.9982\n",
      "Epoch 882/10000\n",
      "6/6 [==============================] - 0s 6ms/step - loss: 0.0874 - accuracy: 0.9688 - auc: 0.9975 - val_loss: 0.1015 - val_accuracy: 0.9583 - val_auc: 0.9982\n",
      "Epoch 883/10000\n",
      "6/6 [==============================] - 0s 6ms/step - loss: 0.0874 - accuracy: 0.9688 - auc: 0.9975 - val_loss: 0.1012 - val_accuracy: 0.9583 - val_auc: 0.9982\n",
      "Epoch 884/10000\n",
      "6/6 [==============================] - 0s 6ms/step - loss: 0.0873 - accuracy: 0.9688 - auc: 0.9977 - val_loss: 0.1019 - val_accuracy: 0.9583 - val_auc: 0.9982\n",
      "Epoch 885/10000\n",
      "6/6 [==============================] - 0s 6ms/step - loss: 0.0872 - accuracy: 0.9688 - auc: 0.9976 - val_loss: 0.1022 - val_accuracy: 0.9583 - val_auc: 0.9982\n",
      "Epoch 886/10000\n",
      "6/6 [==============================] - 0s 6ms/step - loss: 0.0875 - accuracy: 0.9688 - auc: 0.9975 - val_loss: 0.1012 - val_accuracy: 0.9583 - val_auc: 0.9982\n",
      "Epoch 887/10000\n",
      "6/6 [==============================] - 0s 6ms/step - loss: 0.0871 - accuracy: 0.9688 - auc: 0.9976 - val_loss: 0.1009 - val_accuracy: 0.9583 - val_auc: 0.9982\n",
      "Epoch 888/10000\n",
      "6/6 [==============================] - 0s 6ms/step - loss: 0.0869 - accuracy: 0.9688 - auc: 0.9977 - val_loss: 0.1018 - val_accuracy: 0.9583 - val_auc: 0.9982\n",
      "Epoch 889/10000\n",
      "6/6 [==============================] - 0s 6ms/step - loss: 0.0867 - accuracy: 0.9688 - auc: 0.9977 - val_loss: 0.1019 - val_accuracy: 0.9583 - val_auc: 0.9982\n",
      "Epoch 890/10000\n",
      "6/6 [==============================] - 0s 6ms/step - loss: 0.0867 - accuracy: 0.9688 - auc: 0.9976 - val_loss: 0.1023 - val_accuracy: 0.9583 - val_auc: 0.9982\n",
      "Epoch 891/10000\n",
      "6/6 [==============================] - 0s 6ms/step - loss: 0.0866 - accuracy: 0.9688 - auc: 0.9977 - val_loss: 0.1019 - val_accuracy: 0.9583 - val_auc: 0.9982\n",
      "Epoch 892/10000\n",
      "6/6 [==============================] - 0s 6ms/step - loss: 0.0865 - accuracy: 0.9688 - auc: 0.9977 - val_loss: 0.1020 - val_accuracy: 0.9583 - val_auc: 0.9982\n",
      "Epoch 893/10000\n",
      "6/6 [==============================] - 0s 6ms/step - loss: 0.0866 - accuracy: 0.9688 - auc: 0.9977 - val_loss: 0.1009 - val_accuracy: 0.9583 - val_auc: 0.9982\n"
     ]
    },
    {
     "name": "stdout",
     "output_type": "stream",
     "text": [
      "Epoch 894/10000\n",
      "6/6 [==============================] - 0s 8ms/step - loss: 0.0864 - accuracy: 0.9688 - auc: 0.9975 - val_loss: 0.1017 - val_accuracy: 0.9583 - val_auc: 0.9982\n",
      "Epoch 895/10000\n",
      "6/6 [==============================] - 0s 6ms/step - loss: 0.0862 - accuracy: 0.9688 - auc: 0.9977 - val_loss: 0.1013 - val_accuracy: 0.9583 - val_auc: 0.9982\n",
      "Epoch 896/10000\n",
      "6/6 [==============================] - 0s 6ms/step - loss: 0.0862 - accuracy: 0.9688 - auc: 0.9977 - val_loss: 0.1008 - val_accuracy: 0.9583 - val_auc: 0.9982\n",
      "Epoch 897/10000\n",
      "6/6 [==============================] - 0s 6ms/step - loss: 0.0861 - accuracy: 0.9688 - auc: 0.9977 - val_loss: 0.1014 - val_accuracy: 0.9583 - val_auc: 0.9982\n",
      "Epoch 898/10000\n",
      "6/6 [==============================] - 0s 6ms/step - loss: 0.0861 - accuracy: 0.9688 - auc: 0.9975 - val_loss: 0.1008 - val_accuracy: 0.9583 - val_auc: 0.9982\n",
      "Epoch 899/10000\n",
      "6/6 [==============================] - 0s 6ms/step - loss: 0.0862 - accuracy: 0.9688 - auc: 0.9975 - val_loss: 0.1018 - val_accuracy: 0.9583 - val_auc: 0.9982\n",
      "Epoch 900/10000\n",
      "6/6 [==============================] - 0s 6ms/step - loss: 0.0856 - accuracy: 0.9688 - auc: 0.9978 - val_loss: 0.1013 - val_accuracy: 0.9583 - val_auc: 0.9982\n",
      "Epoch 901/10000\n",
      "6/6 [==============================] - 0s 6ms/step - loss: 0.0856 - accuracy: 0.9688 - auc: 0.9977 - val_loss: 0.1008 - val_accuracy: 0.9583 - val_auc: 0.9982\n",
      "Epoch 902/10000\n",
      "6/6 [==============================] - 0s 6ms/step - loss: 0.0857 - accuracy: 0.9688 - auc: 0.9977 - val_loss: 0.1014 - val_accuracy: 0.9583 - val_auc: 0.9982\n",
      "Epoch 903/10000\n",
      "6/6 [==============================] - 0s 6ms/step - loss: 0.0855 - accuracy: 0.9688 - auc: 0.9976 - val_loss: 0.1006 - val_accuracy: 0.9583 - val_auc: 0.9982\n",
      "Epoch 904/10000\n",
      "6/6 [==============================] - 0s 6ms/step - loss: 0.0860 - accuracy: 0.9688 - auc: 0.9975 - val_loss: 0.0994 - val_accuracy: 0.9583 - val_auc: 0.9982\n",
      "Epoch 905/10000\n",
      "6/6 [==============================] - 0s 6ms/step - loss: 0.0854 - accuracy: 0.9688 - auc: 0.9977 - val_loss: 0.1007 - val_accuracy: 0.9583 - val_auc: 0.9982\n",
      "Epoch 906/10000\n",
      "6/6 [==============================] - 0s 6ms/step - loss: 0.0851 - accuracy: 0.9688 - auc: 0.9978 - val_loss: 0.1009 - val_accuracy: 0.9583 - val_auc: 0.9982\n",
      "Epoch 907/10000\n",
      "6/6 [==============================] - 0s 6ms/step - loss: 0.0851 - accuracy: 0.9688 - auc: 0.9978 - val_loss: 0.1007 - val_accuracy: 0.9583 - val_auc: 0.9982\n",
      "Epoch 908/10000\n",
      "6/6 [==============================] - 0s 6ms/step - loss: 0.0850 - accuracy: 0.9688 - auc: 0.9978 - val_loss: 0.1004 - val_accuracy: 0.9583 - val_auc: 0.9982\n",
      "Epoch 909/10000\n",
      "6/6 [==============================] - 0s 6ms/step - loss: 0.0852 - accuracy: 0.9688 - auc: 0.9975 - val_loss: 0.1013 - val_accuracy: 0.9583 - val_auc: 0.9982\n",
      "Epoch 910/10000\n",
      "6/6 [==============================] - 0s 6ms/step - loss: 0.0850 - accuracy: 0.9688 - auc: 0.9978 - val_loss: 0.1005 - val_accuracy: 0.9583 - val_auc: 0.9982\n",
      "Epoch 911/10000\n",
      "6/6 [==============================] - 0s 6ms/step - loss: 0.0848 - accuracy: 0.9688 - auc: 0.9979 - val_loss: 0.1007 - val_accuracy: 0.9583 - val_auc: 0.9982\n",
      "Epoch 912/10000\n",
      "6/6 [==============================] - 0s 6ms/step - loss: 0.0850 - accuracy: 0.9688 - auc: 0.9978 - val_loss: 0.0997 - val_accuracy: 0.9583 - val_auc: 0.9982\n",
      "Epoch 913/10000\n",
      "6/6 [==============================] - 0s 6ms/step - loss: 0.0846 - accuracy: 0.9688 - auc: 0.9978 - val_loss: 0.0999 - val_accuracy: 0.9583 - val_auc: 0.9982\n",
      "Epoch 914/10000\n",
      "6/6 [==============================] - 0s 6ms/step - loss: 0.0845 - accuracy: 0.9688 - auc: 0.9977 - val_loss: 0.1002 - val_accuracy: 0.9583 - val_auc: 0.9982\n",
      "Epoch 915/10000\n",
      "6/6 [==============================] - 0s 6ms/step - loss: 0.0843 - accuracy: 0.9688 - auc: 0.9978 - val_loss: 0.1004 - val_accuracy: 0.9583 - val_auc: 0.9982\n",
      "Epoch 916/10000\n",
      "6/6 [==============================] - 0s 6ms/step - loss: 0.0849 - accuracy: 0.9688 - auc: 0.9977 - val_loss: 0.1012 - val_accuracy: 0.9583 - val_auc: 0.9982\n",
      "Epoch 917/10000\n",
      "6/6 [==============================] - 0s 6ms/step - loss: 0.0845 - accuracy: 0.9688 - auc: 0.9976 - val_loss: 0.0996 - val_accuracy: 0.9583 - val_auc: 0.9982\n",
      "Epoch 918/10000\n",
      "6/6 [==============================] - 0s 6ms/step - loss: 0.0841 - accuracy: 0.9688 - auc: 0.9978 - val_loss: 0.0994 - val_accuracy: 0.9583 - val_auc: 0.9982\n",
      "Epoch 919/10000\n",
      "6/6 [==============================] - 0s 6ms/step - loss: 0.0841 - accuracy: 0.9688 - auc: 0.9977 - val_loss: 0.0991 - val_accuracy: 0.9583 - val_auc: 0.9982\n",
      "Epoch 920/10000\n",
      "6/6 [==============================] - 0s 6ms/step - loss: 0.0841 - accuracy: 0.9688 - auc: 0.9977 - val_loss: 0.1001 - val_accuracy: 0.9583 - val_auc: 0.9982\n",
      "Epoch 921/10000\n",
      "6/6 [==============================] - 0s 6ms/step - loss: 0.0840 - accuracy: 0.9688 - auc: 0.9978 - val_loss: 0.1004 - val_accuracy: 0.9583 - val_auc: 0.9982\n",
      "Epoch 922/10000\n",
      "6/6 [==============================] - 0s 6ms/step - loss: 0.0837 - accuracy: 0.9688 - auc: 0.9978 - val_loss: 0.1001 - val_accuracy: 0.9583 - val_auc: 0.9982\n",
      "Epoch 923/10000\n",
      "6/6 [==============================] - 0s 6ms/step - loss: 0.0837 - accuracy: 0.9688 - auc: 0.9979 - val_loss: 0.0998 - val_accuracy: 0.9583 - val_auc: 0.9982\n",
      "Epoch 924/10000\n",
      "6/6 [==============================] - 0s 6ms/step - loss: 0.0835 - accuracy: 0.9688 - auc: 0.9978 - val_loss: 0.0998 - val_accuracy: 0.9583 - val_auc: 0.9982\n",
      "Epoch 925/10000\n",
      "6/6 [==============================] - 0s 6ms/step - loss: 0.0840 - accuracy: 0.9688 - auc: 0.9975 - val_loss: 0.1005 - val_accuracy: 0.9583 - val_auc: 0.9982\n",
      "Epoch 926/10000\n",
      "6/6 [==============================] - 0s 7ms/step - loss: 0.0834 - accuracy: 0.9688 - auc: 0.9979 - val_loss: 0.0996 - val_accuracy: 0.9583 - val_auc: 0.9982\n",
      "Epoch 927/10000\n",
      "6/6 [==============================] - 0s 6ms/step - loss: 0.0833 - accuracy: 0.9688 - auc: 0.9978 - val_loss: 0.0986 - val_accuracy: 0.9583 - val_auc: 0.9982\n",
      "Epoch 928/10000\n",
      "6/6 [==============================] - 0s 6ms/step - loss: 0.0834 - accuracy: 0.9688 - auc: 0.9977 - val_loss: 0.0983 - val_accuracy: 0.9583 - val_auc: 0.9982\n",
      "Epoch 929/10000\n",
      "6/6 [==============================] - 0s 6ms/step - loss: 0.0832 - accuracy: 0.9688 - auc: 0.9979 - val_loss: 0.0991 - val_accuracy: 0.9583 - val_auc: 0.9982\n",
      "Epoch 930/10000\n",
      "6/6 [==============================] - 0s 6ms/step - loss: 0.0832 - accuracy: 0.9688 - auc: 0.9978 - val_loss: 0.0999 - val_accuracy: 0.9583 - val_auc: 0.9982\n",
      "Epoch 931/10000\n",
      "6/6 [==============================] - 0s 6ms/step - loss: 0.0830 - accuracy: 0.9688 - auc: 0.9978 - val_loss: 0.0997 - val_accuracy: 0.9583 - val_auc: 0.9982\n",
      "Epoch 932/10000\n",
      "6/6 [==============================] - 0s 6ms/step - loss: 0.0831 - accuracy: 0.9688 - auc: 0.9978 - val_loss: 0.0987 - val_accuracy: 0.9583 - val_auc: 0.9982\n",
      "Epoch 933/10000\n",
      "6/6 [==============================] - 0s 6ms/step - loss: 0.0828 - accuracy: 0.9688 - auc: 0.9979 - val_loss: 0.0985 - val_accuracy: 0.9583 - val_auc: 0.9982\n",
      "Epoch 934/10000\n",
      "6/6 [==============================] - 0s 6ms/step - loss: 0.0830 - accuracy: 0.9688 - auc: 0.9977 - val_loss: 0.0995 - val_accuracy: 0.9583 - val_auc: 0.9982\n",
      "Epoch 935/10000\n",
      "6/6 [==============================] - 0s 6ms/step - loss: 0.0827 - accuracy: 0.9688 - auc: 0.9978 - val_loss: 0.0996 - val_accuracy: 0.9583 - val_auc: 0.9982\n",
      "Epoch 936/10000\n",
      "6/6 [==============================] - 0s 6ms/step - loss: 0.0827 - accuracy: 0.9688 - auc: 0.9979 - val_loss: 0.0997 - val_accuracy: 0.9583 - val_auc: 0.9982\n",
      "Epoch 937/10000\n",
      "6/6 [==============================] - 0s 6ms/step - loss: 0.0825 - accuracy: 0.9688 - auc: 0.9977 - val_loss: 0.0987 - val_accuracy: 0.9583 - val_auc: 0.9982\n",
      "Epoch 938/10000\n",
      "6/6 [==============================] - 0s 6ms/step - loss: 0.0827 - accuracy: 0.9688 - auc: 0.9977 - val_loss: 0.0979 - val_accuracy: 0.9583 - val_auc: 0.9982\n",
      "Epoch 939/10000\n",
      "6/6 [==============================] - 0s 6ms/step - loss: 0.0824 - accuracy: 0.9688 - auc: 0.9979 - val_loss: 0.0989 - val_accuracy: 0.9583 - val_auc: 0.9982\n",
      "Epoch 940/10000\n",
      "6/6 [==============================] - 0s 6ms/step - loss: 0.0823 - accuracy: 0.9688 - auc: 0.9978 - val_loss: 0.0997 - val_accuracy: 0.9583 - val_auc: 0.9982\n"
     ]
    },
    {
     "name": "stdout",
     "output_type": "stream",
     "text": [
      "Epoch 941/10000\n",
      "6/6 [==============================] - 0s 6ms/step - loss: 0.0821 - accuracy: 0.9688 - auc: 0.9978 - val_loss: 0.0994 - val_accuracy: 0.9583 - val_auc: 0.9982\n",
      "Epoch 942/10000\n",
      "6/6 [==============================] - 0s 6ms/step - loss: 0.0820 - accuracy: 0.9688 - auc: 0.9979 - val_loss: 0.0989 - val_accuracy: 0.9583 - val_auc: 0.9982\n",
      "Epoch 943/10000\n",
      "6/6 [==============================] - 0s 6ms/step - loss: 0.0819 - accuracy: 0.9688 - auc: 0.9978 - val_loss: 0.0987 - val_accuracy: 0.9583 - val_auc: 0.9982\n",
      "Epoch 944/10000\n",
      "6/6 [==============================] - 0s 6ms/step - loss: 0.0819 - accuracy: 0.9688 - auc: 0.9978 - val_loss: 0.0987 - val_accuracy: 0.9583 - val_auc: 0.9982\n",
      "Epoch 945/10000\n",
      "6/6 [==============================] - 0s 6ms/step - loss: 0.0817 - accuracy: 0.9688 - auc: 0.9979 - val_loss: 0.0988 - val_accuracy: 0.9583 - val_auc: 0.9982\n",
      "Epoch 946/10000\n",
      "6/6 [==============================] - 0s 6ms/step - loss: 0.0818 - accuracy: 0.9688 - auc: 0.9978 - val_loss: 0.0982 - val_accuracy: 0.9583 - val_auc: 0.9982\n",
      "Epoch 947/10000\n",
      "6/6 [==============================] - 0s 6ms/step - loss: 0.0816 - accuracy: 0.9688 - auc: 0.9978 - val_loss: 0.0983 - val_accuracy: 0.9583 - val_auc: 0.9982\n",
      "Epoch 948/10000\n",
      "6/6 [==============================] - 0s 6ms/step - loss: 0.0816 - accuracy: 0.9688 - auc: 0.9978 - val_loss: 0.0989 - val_accuracy: 0.9583 - val_auc: 0.9982\n",
      "Epoch 949/10000\n",
      "6/6 [==============================] - 0s 6ms/step - loss: 0.0814 - accuracy: 0.9688 - auc: 0.9978 - val_loss: 0.0987 - val_accuracy: 0.9583 - val_auc: 0.9982\n",
      "Epoch 950/10000\n",
      "6/6 [==============================] - 0s 6ms/step - loss: 0.0814 - accuracy: 0.9688 - auc: 0.9978 - val_loss: 0.0989 - val_accuracy: 0.9583 - val_auc: 0.9982\n",
      "Epoch 951/10000\n",
      "6/6 [==============================] - 0s 6ms/step - loss: 0.0814 - accuracy: 0.9688 - auc: 0.9978 - val_loss: 0.0987 - val_accuracy: 0.9583 - val_auc: 0.9982\n",
      "Epoch 952/10000\n",
      "6/6 [==============================] - 0s 6ms/step - loss: 0.0813 - accuracy: 0.9688 - auc: 0.9978 - val_loss: 0.0990 - val_accuracy: 0.9583 - val_auc: 0.9982\n",
      "Epoch 953/10000\n",
      "6/6 [==============================] - 0s 6ms/step - loss: 0.0813 - accuracy: 0.9688 - auc: 0.9978 - val_loss: 0.0981 - val_accuracy: 0.9583 - val_auc: 0.9982\n",
      "Epoch 954/10000\n",
      "6/6 [==============================] - 0s 6ms/step - loss: 0.0814 - accuracy: 0.9688 - auc: 0.9977 - val_loss: 0.0972 - val_accuracy: 0.9583 - val_auc: 0.9982\n",
      "Epoch 955/10000\n",
      "6/6 [==============================] - 0s 6ms/step - loss: 0.0811 - accuracy: 0.9688 - auc: 0.9978 - val_loss: 0.0982 - val_accuracy: 0.9583 - val_auc: 0.9982\n",
      "Epoch 956/10000\n",
      "6/6 [==============================] - 0s 6ms/step - loss: 0.0809 - accuracy: 0.9688 - auc: 0.9978 - val_loss: 0.0982 - val_accuracy: 0.9583 - val_auc: 0.9982\n",
      "Epoch 957/10000\n",
      "6/6 [==============================] - 0s 6ms/step - loss: 0.0808 - accuracy: 0.9688 - auc: 0.9978 - val_loss: 0.0982 - val_accuracy: 0.9583 - val_auc: 0.9982\n",
      "Epoch 958/10000\n",
      "6/6 [==============================] - 0s 6ms/step - loss: 0.0808 - accuracy: 0.9688 - auc: 0.9978 - val_loss: 0.0985 - val_accuracy: 0.9583 - val_auc: 0.9982\n",
      "Epoch 959/10000\n",
      "6/6 [==============================] - 0s 6ms/step - loss: 0.0808 - accuracy: 0.9688 - auc: 0.9978 - val_loss: 0.0980 - val_accuracy: 0.9583 - val_auc: 0.9982\n",
      "Epoch 960/10000\n",
      "6/6 [==============================] - 0s 6ms/step - loss: 0.0806 - accuracy: 0.9688 - auc: 0.9979 - val_loss: 0.0978 - val_accuracy: 0.9583 - val_auc: 0.9982\n",
      "Epoch 961/10000\n",
      "6/6 [==============================] - 0s 6ms/step - loss: 0.0806 - accuracy: 0.9688 - auc: 0.9979 - val_loss: 0.0984 - val_accuracy: 0.9583 - val_auc: 0.9982\n",
      "Epoch 962/10000\n",
      "6/6 [==============================] - 0s 6ms/step - loss: 0.0804 - accuracy: 0.9688 - auc: 0.9979 - val_loss: 0.0982 - val_accuracy: 0.9583 - val_auc: 0.9982\n",
      "Epoch 963/10000\n",
      "6/6 [==============================] - 0s 6ms/step - loss: 0.0806 - accuracy: 0.9688 - auc: 0.9979 - val_loss: 0.0979 - val_accuracy: 0.9583 - val_auc: 0.9982\n",
      "Epoch 964/10000\n",
      "6/6 [==============================] - 0s 6ms/step - loss: 0.0804 - accuracy: 0.9688 - auc: 0.9978 - val_loss: 0.0984 - val_accuracy: 0.9583 - val_auc: 0.9982\n",
      "Epoch 965/10000\n",
      "6/6 [==============================] - 0s 6ms/step - loss: 0.0803 - accuracy: 0.9688 - auc: 0.9978 - val_loss: 0.0987 - val_accuracy: 0.9583 - val_auc: 0.9982\n",
      "Epoch 966/10000\n",
      "6/6 [==============================] - 0s 6ms/step - loss: 0.0804 - accuracy: 0.9688 - auc: 0.9978 - val_loss: 0.0980 - val_accuracy: 0.9583 - val_auc: 0.9982\n",
      "Epoch 967/10000\n",
      "6/6 [==============================] - 0s 6ms/step - loss: 0.0801 - accuracy: 0.9688 - auc: 0.9978 - val_loss: 0.0980 - val_accuracy: 0.9583 - val_auc: 0.9982\n",
      "Epoch 968/10000\n",
      "6/6 [==============================] - 0s 6ms/step - loss: 0.0800 - accuracy: 0.9688 - auc: 0.9978 - val_loss: 0.0978 - val_accuracy: 0.9583 - val_auc: 0.9982\n",
      "Epoch 969/10000\n",
      "6/6 [==============================] - 0s 6ms/step - loss: 0.0802 - accuracy: 0.9688 - auc: 0.9978 - val_loss: 0.0983 - val_accuracy: 0.9583 - val_auc: 0.9982\n",
      "Epoch 970/10000\n",
      "6/6 [==============================] - 0s 6ms/step - loss: 0.0799 - accuracy: 0.9688 - auc: 0.9978 - val_loss: 0.0983 - val_accuracy: 0.9583 - val_auc: 0.9982\n",
      "Epoch 971/10000\n",
      "6/6 [==============================] - 0s 6ms/step - loss: 0.0799 - accuracy: 0.9688 - auc: 0.9978 - val_loss: 0.0974 - val_accuracy: 0.9583 - val_auc: 0.9982\n",
      "Epoch 972/10000\n",
      "6/6 [==============================] - 0s 6ms/step - loss: 0.0798 - accuracy: 0.9688 - auc: 0.9979 - val_loss: 0.0971 - val_accuracy: 0.9583 - val_auc: 0.9982\n",
      "Epoch 973/10000\n",
      "6/6 [==============================] - 0s 6ms/step - loss: 0.0797 - accuracy: 0.9688 - auc: 0.9978 - val_loss: 0.0976 - val_accuracy: 0.9583 - val_auc: 0.9982\n",
      "Epoch 974/10000\n",
      "6/6 [==============================] - 0s 6ms/step - loss: 0.0797 - accuracy: 0.9688 - auc: 0.9978 - val_loss: 0.0977 - val_accuracy: 0.9583 - val_auc: 0.9982\n",
      "Epoch 975/10000\n",
      "6/6 [==============================] - 0s 6ms/step - loss: 0.0796 - accuracy: 0.9688 - auc: 0.9979 - val_loss: 0.0980 - val_accuracy: 0.9583 - val_auc: 0.9982\n",
      "Epoch 976/10000\n",
      "6/6 [==============================] - 0s 6ms/step - loss: 0.0794 - accuracy: 0.9688 - auc: 0.9979 - val_loss: 0.0981 - val_accuracy: 0.9583 - val_auc: 0.9982\n",
      "Epoch 977/10000\n",
      "6/6 [==============================] - 0s 6ms/step - loss: 0.0794 - accuracy: 0.9688 - auc: 0.9979 - val_loss: 0.0980 - val_accuracy: 0.9583 - val_auc: 0.9982\n",
      "Epoch 978/10000\n",
      "6/6 [==============================] - 0s 6ms/step - loss: 0.0795 - accuracy: 0.9688 - auc: 0.9979 - val_loss: 0.0970 - val_accuracy: 0.9583 - val_auc: 0.9982\n",
      "Epoch 979/10000\n",
      "6/6 [==============================] - 0s 6ms/step - loss: 0.0792 - accuracy: 0.9688 - auc: 0.9979 - val_loss: 0.0968 - val_accuracy: 0.9583 - val_auc: 0.9982\n",
      "Epoch 980/10000\n",
      "6/6 [==============================] - 0s 6ms/step - loss: 0.0792 - accuracy: 0.9688 - auc: 0.9978 - val_loss: 0.0973 - val_accuracy: 0.9583 - val_auc: 0.9982\n",
      "Epoch 981/10000\n",
      "6/6 [==============================] - 0s 6ms/step - loss: 0.0791 - accuracy: 0.9688 - auc: 0.9979 - val_loss: 0.0975 - val_accuracy: 0.9583 - val_auc: 0.9982\n",
      "Epoch 982/10000\n",
      "6/6 [==============================] - 0s 6ms/step - loss: 0.0794 - accuracy: 0.9688 - auc: 0.9978 - val_loss: 0.0985 - val_accuracy: 0.9583 - val_auc: 0.9982\n",
      "Epoch 983/10000\n",
      "6/6 [==============================] - 0s 6ms/step - loss: 0.0792 - accuracy: 0.9688 - auc: 0.9978 - val_loss: 0.0972 - val_accuracy: 0.9583 - val_auc: 0.9982\n",
      "Epoch 984/10000\n",
      "6/6 [==============================] - 0s 6ms/step - loss: 0.0790 - accuracy: 0.9688 - auc: 0.9979 - val_loss: 0.0971 - val_accuracy: 0.9583 - val_auc: 0.9982\n",
      "Epoch 985/10000\n",
      "6/6 [==============================] - 0s 6ms/step - loss: 0.0789 - accuracy: 0.9688 - auc: 0.9979 - val_loss: 0.0966 - val_accuracy: 0.9583 - val_auc: 0.9982\n",
      "Epoch 986/10000\n",
      "6/6 [==============================] - 0s 6ms/step - loss: 0.0789 - accuracy: 0.9688 - auc: 0.9979 - val_loss: 0.0975 - val_accuracy: 0.9583 - val_auc: 0.9982\n",
      "Epoch 987/10000\n",
      "6/6 [==============================] - 0s 6ms/step - loss: 0.0790 - accuracy: 0.9688 - auc: 0.9978 - val_loss: 0.0966 - val_accuracy: 0.9583 - val_auc: 0.9982\n"
     ]
    },
    {
     "name": "stdout",
     "output_type": "stream",
     "text": [
      "Epoch 988/10000\n",
      "6/6 [==============================] - 0s 6ms/step - loss: 0.0786 - accuracy: 0.9688 - auc: 0.9979 - val_loss: 0.0970 - val_accuracy: 0.9583 - val_auc: 0.9982\n",
      "Epoch 989/10000\n",
      "6/6 [==============================] - 0s 6ms/step - loss: 0.0786 - accuracy: 0.9688 - auc: 0.9978 - val_loss: 0.0977 - val_accuracy: 0.9583 - val_auc: 0.9982\n",
      "Epoch 990/10000\n",
      "6/6 [==============================] - 0s 6ms/step - loss: 0.0785 - accuracy: 0.9688 - auc: 0.9978 - val_loss: 0.0973 - val_accuracy: 0.9583 - val_auc: 0.9982\n",
      "Epoch 991/10000\n",
      "6/6 [==============================] - 0s 6ms/step - loss: 0.0784 - accuracy: 0.9688 - auc: 0.9979 - val_loss: 0.0979 - val_accuracy: 0.9583 - val_auc: 0.9982\n",
      "Epoch 992/10000\n",
      "6/6 [==============================] - 0s 6ms/step - loss: 0.0784 - accuracy: 0.9688 - auc: 0.9979 - val_loss: 0.0971 - val_accuracy: 0.9583 - val_auc: 0.9982\n",
      "Epoch 993/10000\n",
      "6/6 [==============================] - 0s 6ms/step - loss: 0.0785 - accuracy: 0.9688 - auc: 0.9978 - val_loss: 0.0964 - val_accuracy: 0.9583 - val_auc: 0.9982\n",
      "Epoch 994/10000\n",
      "6/6 [==============================] - 0s 7ms/step - loss: 0.0783 - accuracy: 0.9688 - auc: 0.9978 - val_loss: 0.0974 - val_accuracy: 0.9583 - val_auc: 0.9982\n",
      "Epoch 995/10000\n",
      "6/6 [==============================] - 0s 8ms/step - loss: 0.0784 - accuracy: 0.9688 - auc: 0.9977 - val_loss: 0.0982 - val_accuracy: 0.9583 - val_auc: 0.9982\n",
      "Epoch 996/10000\n",
      "6/6 [==============================] - 0s 7ms/step - loss: 0.0782 - accuracy: 0.9688 - auc: 0.9978 - val_loss: 0.0985 - val_accuracy: 0.9583 - val_auc: 0.9982\n",
      "Epoch 997/10000\n",
      "6/6 [==============================] - 0s 6ms/step - loss: 0.0779 - accuracy: 0.9688 - auc: 0.9978 - val_loss: 0.0977 - val_accuracy: 0.9583 - val_auc: 0.9982\n",
      "Epoch 998/10000\n",
      "6/6 [==============================] - 0s 6ms/step - loss: 0.0778 - accuracy: 0.9688 - auc: 0.9978 - val_loss: 0.0974 - val_accuracy: 0.9583 - val_auc: 0.9982\n",
      "Epoch 999/10000\n",
      "6/6 [==============================] - 0s 6ms/step - loss: 0.0777 - accuracy: 0.9688 - auc: 0.9979 - val_loss: 0.0967 - val_accuracy: 0.9583 - val_auc: 0.9982\n",
      "Epoch 1000/10000\n",
      "6/6 [==============================] - 0s 6ms/step - loss: 0.0777 - accuracy: 0.9688 - auc: 0.9979 - val_loss: 0.0962 - val_accuracy: 0.9583 - val_auc: 0.9982\n",
      "Epoch 1001/10000\n",
      "6/6 [==============================] - 0s 6ms/step - loss: 0.0777 - accuracy: 0.9688 - auc: 0.9978 - val_loss: 0.0961 - val_accuracy: 0.9583 - val_auc: 0.9982\n",
      "Epoch 1002/10000\n",
      "6/6 [==============================] - 0s 6ms/step - loss: 0.0776 - accuracy: 0.9688 - auc: 0.9979 - val_loss: 0.0966 - val_accuracy: 0.9583 - val_auc: 0.9982\n",
      "Epoch 1003/10000\n",
      "6/6 [==============================] - 0s 6ms/step - loss: 0.0781 - accuracy: 0.9688 - auc: 0.9978 - val_loss: 0.0977 - val_accuracy: 0.9583 - val_auc: 0.9982\n",
      "Epoch 1004/10000\n",
      "6/6 [==============================] - 0s 6ms/step - loss: 0.0780 - accuracy: 0.9688 - auc: 0.9978 - val_loss: 0.0963 - val_accuracy: 0.9583 - val_auc: 0.9982\n",
      "Epoch 1005/10000\n",
      "6/6 [==============================] - 0s 6ms/step - loss: 0.0774 - accuracy: 0.9688 - auc: 0.9978 - val_loss: 0.0968 - val_accuracy: 0.9583 - val_auc: 0.9982\n",
      "Epoch 1006/10000\n",
      "6/6 [==============================] - 0s 6ms/step - loss: 0.0773 - accuracy: 0.9688 - auc: 0.9978 - val_loss: 0.0971 - val_accuracy: 0.9583 - val_auc: 0.9982\n",
      "Epoch 1007/10000\n",
      "6/6 [==============================] - 0s 6ms/step - loss: 0.0772 - accuracy: 0.9688 - auc: 0.9978 - val_loss: 0.0971 - val_accuracy: 0.9583 - val_auc: 0.9982\n",
      "Epoch 1008/10000\n",
      "6/6 [==============================] - 0s 6ms/step - loss: 0.0776 - accuracy: 0.9688 - auc: 0.9977 - val_loss: 0.0959 - val_accuracy: 0.9583 - val_auc: 0.9982\n",
      "Epoch 1009/10000\n",
      "6/6 [==============================] - 0s 5ms/step - loss: 0.0772 - accuracy: 0.9688 - auc: 0.9979 - val_loss: 0.0966 - val_accuracy: 0.9583 - val_auc: 0.9982\n",
      "Epoch 1010/10000\n",
      "6/6 [==============================] - 0s 5ms/step - loss: 0.0771 - accuracy: 0.9688 - auc: 0.9978 - val_loss: 0.0970 - val_accuracy: 0.9583 - val_auc: 0.9982\n",
      "Epoch 1011/10000\n",
      "6/6 [==============================] - 0s 6ms/step - loss: 0.0770 - accuracy: 0.9688 - auc: 0.9978 - val_loss: 0.0967 - val_accuracy: 0.9583 - val_auc: 0.9982\n",
      "Epoch 1012/10000\n",
      "6/6 [==============================] - 0s 6ms/step - loss: 0.0769 - accuracy: 0.9688 - auc: 0.9979 - val_loss: 0.0964 - val_accuracy: 0.9583 - val_auc: 0.9982\n",
      "Epoch 1013/10000\n",
      "6/6 [==============================] - 0s 6ms/step - loss: 0.0768 - accuracy: 0.9688 - auc: 0.9979 - val_loss: 0.0969 - val_accuracy: 0.9583 - val_auc: 0.9982\n",
      "Epoch 1014/10000\n",
      "6/6 [==============================] - 0s 6ms/step - loss: 0.0769 - accuracy: 0.9688 - auc: 0.9978 - val_loss: 0.0974 - val_accuracy: 0.9583 - val_auc: 0.9982\n",
      "Epoch 1015/10000\n",
      "6/6 [==============================] - 0s 6ms/step - loss: 0.0768 - accuracy: 0.9688 - auc: 0.9979 - val_loss: 0.0970 - val_accuracy: 0.9583 - val_auc: 0.9982\n",
      "Epoch 1016/10000\n",
      "6/6 [==============================] - 0s 6ms/step - loss: 0.0769 - accuracy: 0.9688 - auc: 0.9978 - val_loss: 0.0973 - val_accuracy: 0.9583 - val_auc: 0.9982\n",
      "Epoch 1017/10000\n",
      "6/6 [==============================] - 0s 6ms/step - loss: 0.0767 - accuracy: 0.9688 - auc: 0.9978 - val_loss: 0.0973 - val_accuracy: 0.9583 - val_auc: 0.9973\n",
      "Epoch 1018/10000\n",
      "6/6 [==============================] - 0s 6ms/step - loss: 0.0764 - accuracy: 0.9688 - auc: 0.9979 - val_loss: 0.0967 - val_accuracy: 0.9583 - val_auc: 0.9982\n",
      "Epoch 1019/10000\n",
      "6/6 [==============================] - 0s 5ms/step - loss: 0.0765 - accuracy: 0.9688 - auc: 0.9979 - val_loss: 0.0959 - val_accuracy: 0.9583 - val_auc: 0.9982\n",
      "Epoch 1020/10000\n",
      "6/6 [==============================] - 0s 6ms/step - loss: 0.0764 - accuracy: 0.9688 - auc: 0.9979 - val_loss: 0.0962 - val_accuracy: 0.9583 - val_auc: 0.9982\n",
      "Epoch 1021/10000\n",
      "6/6 [==============================] - 0s 6ms/step - loss: 0.0766 - accuracy: 0.9688 - auc: 0.9978 - val_loss: 0.0967 - val_accuracy: 0.9583 - val_auc: 0.9982\n",
      "Epoch 1022/10000\n",
      "6/6 [==============================] - 0s 6ms/step - loss: 0.0762 - accuracy: 0.9688 - auc: 0.9978 - val_loss: 0.0964 - val_accuracy: 0.9583 - val_auc: 0.9982\n",
      "Epoch 1023/10000\n",
      "6/6 [==============================] - 0s 6ms/step - loss: 0.0763 - accuracy: 0.9688 - auc: 0.9979 - val_loss: 0.0963 - val_accuracy: 0.9583 - val_auc: 0.9982\n",
      "Epoch 1024/10000\n",
      "6/6 [==============================] - 0s 6ms/step - loss: 0.0762 - accuracy: 0.9688 - auc: 0.9978 - val_loss: 0.0965 - val_accuracy: 0.9583 - val_auc: 0.9982\n",
      "Epoch 1025/10000\n",
      "6/6 [==============================] - 0s 6ms/step - loss: 0.0761 - accuracy: 0.9688 - auc: 0.9979 - val_loss: 0.0968 - val_accuracy: 0.9583 - val_auc: 0.9973\n",
      "Epoch 1026/10000\n",
      "6/6 [==============================] - 0s 5ms/step - loss: 0.0760 - accuracy: 0.9688 - auc: 0.9979 - val_loss: 0.0960 - val_accuracy: 0.9583 - val_auc: 0.9982\n",
      "Epoch 1027/10000\n",
      "6/6 [==============================] - 0s 6ms/step - loss: 0.0763 - accuracy: 0.9688 - auc: 0.9978 - val_loss: 0.0965 - val_accuracy: 0.9583 - val_auc: 0.9982\n",
      "Epoch 1028/10000\n",
      "6/6 [==============================] - 0s 6ms/step - loss: 0.0760 - accuracy: 0.9688 - auc: 0.9979 - val_loss: 0.0966 - val_accuracy: 0.9583 - val_auc: 0.9982\n",
      "Epoch 1029/10000\n",
      "6/6 [==============================] - 0s 6ms/step - loss: 0.0758 - accuracy: 0.9688 - auc: 0.9978 - val_loss: 0.0964 - val_accuracy: 0.9583 - val_auc: 0.9982\n",
      "Epoch 1030/10000\n",
      "6/6 [==============================] - 0s 6ms/step - loss: 0.0760 - accuracy: 0.9688 - auc: 0.9978 - val_loss: 0.0954 - val_accuracy: 0.9583 - val_auc: 0.9982\n",
      "Epoch 1031/10000\n",
      "6/6 [==============================] - 0s 5ms/step - loss: 0.0758 - accuracy: 0.9688 - auc: 0.9979 - val_loss: 0.0959 - val_accuracy: 0.9583 - val_auc: 0.9982\n",
      "Epoch 1032/10000\n",
      "6/6 [==============================] - 0s 5ms/step - loss: 0.0757 - accuracy: 0.9688 - auc: 0.9979 - val_loss: 0.0962 - val_accuracy: 0.9583 - val_auc: 0.9973\n",
      "Epoch 1033/10000\n",
      "6/6 [==============================] - 0s 6ms/step - loss: 0.0756 - accuracy: 0.9688 - auc: 0.9979 - val_loss: 0.0959 - val_accuracy: 0.9583 - val_auc: 0.9982\n",
      "Epoch 1034/10000\n"
     ]
    },
    {
     "name": "stdout",
     "output_type": "stream",
     "text": [
      "6/6 [==============================] - 0s 6ms/step - loss: 0.0756 - accuracy: 0.9688 - auc: 0.9978 - val_loss: 0.0965 - val_accuracy: 0.9583 - val_auc: 0.9964\n",
      "Epoch 1035/10000\n",
      "6/6 [==============================] - 0s 6ms/step - loss: 0.0757 - accuracy: 0.9688 - auc: 0.9978 - val_loss: 0.0969 - val_accuracy: 0.9583 - val_auc: 0.9964\n",
      "Epoch 1036/10000\n",
      "6/6 [==============================] - 0s 6ms/step - loss: 0.0758 - accuracy: 0.9688 - auc: 0.9979 - val_loss: 0.0953 - val_accuracy: 0.9583 - val_auc: 0.9982\n",
      "Epoch 1037/10000\n",
      "6/6 [==============================] - 0s 6ms/step - loss: 0.0757 - accuracy: 0.9688 - auc: 0.9978 - val_loss: 0.0963 - val_accuracy: 0.9583 - val_auc: 0.9964\n",
      "Epoch 1038/10000\n",
      "6/6 [==============================] - 0s 6ms/step - loss: 0.0753 - accuracy: 0.9688 - auc: 0.9978 - val_loss: 0.0963 - val_accuracy: 0.9583 - val_auc: 0.9964\n",
      "Epoch 1039/10000\n",
      "6/6 [==============================] - 0s 6ms/step - loss: 0.0752 - accuracy: 0.9688 - auc: 0.9978 - val_loss: 0.0959 - val_accuracy: 0.9583 - val_auc: 0.9964\n",
      "Epoch 1040/10000\n",
      "6/6 [==============================] - 0s 6ms/step - loss: 0.0752 - accuracy: 0.9688 - auc: 0.9978 - val_loss: 0.0958 - val_accuracy: 0.9583 - val_auc: 0.9964\n",
      "Epoch 1041/10000\n",
      "6/6 [==============================] - 0s 6ms/step - loss: 0.0752 - accuracy: 0.9688 - auc: 0.9979 - val_loss: 0.0960 - val_accuracy: 0.9583 - val_auc: 0.9964\n",
      "Epoch 1042/10000\n",
      "6/6 [==============================] - 0s 5ms/step - loss: 0.0751 - accuracy: 0.9688 - auc: 0.9979 - val_loss: 0.0958 - val_accuracy: 0.9583 - val_auc: 0.9964\n",
      "Epoch 1043/10000\n",
      "6/6 [==============================] - 0s 6ms/step - loss: 0.0750 - accuracy: 0.9688 - auc: 0.9979 - val_loss: 0.0958 - val_accuracy: 0.9583 - val_auc: 0.9964\n",
      "Epoch 1044/10000\n",
      "6/6 [==============================] - 0s 5ms/step - loss: 0.0750 - accuracy: 0.9688 - auc: 0.9979 - val_loss: 0.0955 - val_accuracy: 0.9583 - val_auc: 0.9964\n",
      "Epoch 1045/10000\n",
      "6/6 [==============================] - 0s 5ms/step - loss: 0.0749 - accuracy: 0.9688 - auc: 0.9979 - val_loss: 0.0954 - val_accuracy: 0.9583 - val_auc: 0.9964\n",
      "Epoch 1046/10000\n",
      "6/6 [==============================] - 0s 6ms/step - loss: 0.0749 - accuracy: 0.9688 - auc: 0.9978 - val_loss: 0.0954 - val_accuracy: 0.9583 - val_auc: 0.9964\n",
      "Epoch 1047/10000\n",
      "6/6 [==============================] - 0s 5ms/step - loss: 0.0750 - accuracy: 0.9688 - auc: 0.9978 - val_loss: 0.0952 - val_accuracy: 0.9583 - val_auc: 0.9964\n",
      "Epoch 1048/10000\n",
      "6/6 [==============================] - 0s 6ms/step - loss: 0.0747 - accuracy: 0.9688 - auc: 0.9979 - val_loss: 0.0958 - val_accuracy: 0.9583 - val_auc: 0.9964\n",
      "Epoch 1049/10000\n",
      "6/6 [==============================] - 0s 5ms/step - loss: 0.0746 - accuracy: 0.9688 - auc: 0.9979 - val_loss: 0.0960 - val_accuracy: 0.9583 - val_auc: 0.9964\n",
      "Epoch 1050/10000\n",
      "6/6 [==============================] - 0s 5ms/step - loss: 0.0747 - accuracy: 0.9688 - auc: 0.9979 - val_loss: 0.0956 - val_accuracy: 0.9583 - val_auc: 0.9964\n",
      "Epoch 1051/10000\n",
      "6/6 [==============================] - 0s 6ms/step - loss: 0.0747 - accuracy: 0.9688 - auc: 0.9978 - val_loss: 0.0966 - val_accuracy: 0.9583 - val_auc: 0.9964\n",
      "Epoch 1052/10000\n",
      "6/6 [==============================] - 0s 5ms/step - loss: 0.0746 - accuracy: 0.9688 - auc: 0.9979 - val_loss: 0.0969 - val_accuracy: 0.9583 - val_auc: 0.9964\n",
      "Epoch 1053/10000\n",
      "6/6 [==============================] - 0s 6ms/step - loss: 0.0746 - accuracy: 0.9688 - auc: 0.9979 - val_loss: 0.0962 - val_accuracy: 0.9583 - val_auc: 0.9964\n",
      "Epoch 1054/10000\n",
      "6/6 [==============================] - 0s 6ms/step - loss: 0.0744 - accuracy: 0.9688 - auc: 0.9979 - val_loss: 0.0956 - val_accuracy: 0.9583 - val_auc: 0.9964\n",
      "Epoch 1055/10000\n",
      "6/6 [==============================] - 0s 5ms/step - loss: 0.0742 - accuracy: 0.9688 - auc: 0.9979 - val_loss: 0.0955 - val_accuracy: 0.9583 - val_auc: 0.9964\n",
      "Epoch 1056/10000\n",
      "6/6 [==============================] - 0s 6ms/step - loss: 0.0744 - accuracy: 0.9688 - auc: 0.9979 - val_loss: 0.0962 - val_accuracy: 0.9583 - val_auc: 0.9964\n",
      "Epoch 1057/10000\n",
      "6/6 [==============================] - 0s 6ms/step - loss: 0.0746 - accuracy: 0.9688 - auc: 0.9979 - val_loss: 0.0952 - val_accuracy: 0.9583 - val_auc: 0.9964\n",
      "Epoch 1058/10000\n",
      "6/6 [==============================] - 0s 6ms/step - loss: 0.0741 - accuracy: 0.9688 - auc: 0.9979 - val_loss: 0.0951 - val_accuracy: 0.9583 - val_auc: 0.9964\n",
      "Epoch 1059/10000\n",
      "6/6 [==============================] - 0s 6ms/step - loss: 0.0741 - accuracy: 0.9688 - auc: 0.9979 - val_loss: 0.0956 - val_accuracy: 0.9583 - val_auc: 0.9964\n",
      "Epoch 1060/10000\n",
      "6/6 [==============================] - 0s 6ms/step - loss: 0.0741 - accuracy: 0.9688 - auc: 0.9979 - val_loss: 0.0954 - val_accuracy: 0.9583 - val_auc: 0.9964\n",
      "Epoch 1061/10000\n",
      "6/6 [==============================] - 0s 6ms/step - loss: 0.0740 - accuracy: 0.9688 - auc: 0.9980 - val_loss: 0.0959 - val_accuracy: 0.9583 - val_auc: 0.9964\n",
      "Epoch 1062/10000\n",
      "6/6 [==============================] - 0s 6ms/step - loss: 0.0741 - accuracy: 0.9688 - auc: 0.9979 - val_loss: 0.0964 - val_accuracy: 0.9583 - val_auc: 0.9964\n",
      "Epoch 1063/10000\n",
      "6/6 [==============================] - 0s 5ms/step - loss: 0.0739 - accuracy: 0.9688 - auc: 0.9981 - val_loss: 0.0960 - val_accuracy: 0.9583 - val_auc: 0.9964\n",
      "Epoch 1064/10000\n",
      "6/6 [==============================] - 0s 5ms/step - loss: 0.0741 - accuracy: 0.9688 - auc: 0.9979 - val_loss: 0.0949 - val_accuracy: 0.9583 - val_auc: 0.9964\n",
      "Epoch 1065/10000\n",
      "6/6 [==============================] - 0s 6ms/step - loss: 0.0738 - accuracy: 0.9688 - auc: 0.9980 - val_loss: 0.0953 - val_accuracy: 0.9583 - val_auc: 0.9964\n",
      "Epoch 1066/10000\n",
      "6/6 [==============================] - 0s 6ms/step - loss: 0.0738 - accuracy: 0.9688 - auc: 0.9979 - val_loss: 0.0959 - val_accuracy: 0.9583 - val_auc: 0.9964\n",
      "Epoch 1067/10000\n",
      "6/6 [==============================] - 0s 6ms/step - loss: 0.0737 - accuracy: 0.9688 - auc: 0.9979 - val_loss: 0.0952 - val_accuracy: 0.9583 - val_auc: 0.9964\n",
      "Epoch 1068/10000\n",
      "6/6 [==============================] - 0s 6ms/step - loss: 0.0739 - accuracy: 0.9688 - auc: 0.9979 - val_loss: 0.0963 - val_accuracy: 0.9583 - val_auc: 0.9964\n",
      "Epoch 1069/10000\n",
      "6/6 [==============================] - 0s 6ms/step - loss: 0.0735 - accuracy: 0.9688 - auc: 0.9979 - val_loss: 0.0958 - val_accuracy: 0.9583 - val_auc: 0.9964\n",
      "Epoch 1070/10000\n",
      "6/6 [==============================] - 0s 5ms/step - loss: 0.0734 - accuracy: 0.9688 - auc: 0.9981 - val_loss: 0.0956 - val_accuracy: 0.9583 - val_auc: 0.9964\n",
      "Epoch 1071/10000\n",
      "6/6 [==============================] - 0s 5ms/step - loss: 0.0736 - accuracy: 0.9688 - auc: 0.9981 - val_loss: 0.0958 - val_accuracy: 0.9583 - val_auc: 0.9964\n",
      "Epoch 1072/10000\n",
      "6/6 [==============================] - 0s 5ms/step - loss: 0.0733 - accuracy: 0.9688 - auc: 0.9980 - val_loss: 0.0958 - val_accuracy: 0.9583 - val_auc: 0.9964\n",
      "Epoch 1073/10000\n",
      "6/6 [==============================] - 0s 6ms/step - loss: 0.0736 - accuracy: 0.9688 - auc: 0.9981 - val_loss: 0.0950 - val_accuracy: 0.9583 - val_auc: 0.9964\n",
      "Epoch 1074/10000\n",
      "6/6 [==============================] - 0s 6ms/step - loss: 0.0736 - accuracy: 0.9688 - auc: 0.9979 - val_loss: 0.0959 - val_accuracy: 0.9583 - val_auc: 0.9964\n",
      "Epoch 1075/10000\n",
      "6/6 [==============================] - 0s 6ms/step - loss: 0.0734 - accuracy: 0.9688 - auc: 0.9980 - val_loss: 0.0950 - val_accuracy: 0.9583 - val_auc: 0.9964\n",
      "Epoch 1076/10000\n",
      "6/6 [==============================] - 0s 5ms/step - loss: 0.0732 - accuracy: 0.9688 - auc: 0.9980 - val_loss: 0.0954 - val_accuracy: 0.9583 - val_auc: 0.9964\n",
      "Epoch 1077/10000\n",
      "6/6 [==============================] - 0s 5ms/step - loss: 0.0732 - accuracy: 0.9688 - auc: 0.9980 - val_loss: 0.0954 - val_accuracy: 0.9583 - val_auc: 0.9964\n",
      "Epoch 1078/10000\n",
      "6/6 [==============================] - 0s 6ms/step - loss: 0.0730 - accuracy: 0.9688 - auc: 0.9980 - val_loss: 0.0955 - val_accuracy: 0.9583 - val_auc: 0.9964\n",
      "Epoch 1079/10000\n",
      "6/6 [==============================] - 0s 6ms/step - loss: 0.0732 - accuracy: 0.9688 - auc: 0.9981 - val_loss: 0.0949 - val_accuracy: 0.9583 - val_auc: 0.9964\n",
      "Epoch 1080/10000\n",
      "6/6 [==============================] - 0s 6ms/step - loss: 0.0730 - accuracy: 0.9688 - auc: 0.9979 - val_loss: 0.0958 - val_accuracy: 0.9583 - val_auc: 0.9964\n"
     ]
    },
    {
     "name": "stdout",
     "output_type": "stream",
     "text": [
      "Epoch 1081/10000\n",
      "6/6 [==============================] - 0s 6ms/step - loss: 0.0729 - accuracy: 0.9688 - auc: 0.9979 - val_loss: 0.0963 - val_accuracy: 0.9583 - val_auc: 0.9964\n",
      "Epoch 1082/10000\n",
      "6/6 [==============================] - 0s 6ms/step - loss: 0.0729 - accuracy: 0.9688 - auc: 0.9981 - val_loss: 0.0957 - val_accuracy: 0.9583 - val_auc: 0.9964\n",
      "Epoch 1083/10000\n",
      "6/6 [==============================] - 0s 6ms/step - loss: 0.0730 - accuracy: 0.9688 - auc: 0.9980 - val_loss: 0.0962 - val_accuracy: 0.9583 - val_auc: 0.9964\n",
      "Epoch 1084/10000\n",
      "6/6 [==============================] - 0s 6ms/step - loss: 0.0727 - accuracy: 0.9688 - auc: 0.9981 - val_loss: 0.0959 - val_accuracy: 0.9583 - val_auc: 0.9964\n",
      "Epoch 1085/10000\n",
      "6/6 [==============================] - 0s 6ms/step - loss: 0.0728 - accuracy: 0.9688 - auc: 0.9979 - val_loss: 0.0949 - val_accuracy: 0.9583 - val_auc: 0.9964\n",
      "Epoch 1086/10000\n",
      "6/6 [==============================] - 0s 6ms/step - loss: 0.0727 - accuracy: 0.9688 - auc: 0.9980 - val_loss: 0.0949 - val_accuracy: 0.9583 - val_auc: 0.9964\n",
      "Epoch 1087/10000\n",
      "6/6 [==============================] - 0s 6ms/step - loss: 0.0726 - accuracy: 0.9688 - auc: 0.9980 - val_loss: 0.0949 - val_accuracy: 0.9583 - val_auc: 0.9964\n",
      "Epoch 1088/10000\n",
      "6/6 [==============================] - 0s 6ms/step - loss: 0.0726 - accuracy: 0.9688 - auc: 0.9980 - val_loss: 0.0956 - val_accuracy: 0.9583 - val_auc: 0.9964\n",
      "Epoch 1089/10000\n",
      "6/6 [==============================] - 0s 6ms/step - loss: 0.0724 - accuracy: 0.9688 - auc: 0.9980 - val_loss: 0.0955 - val_accuracy: 0.9583 - val_auc: 0.9964\n",
      "Epoch 1090/10000\n",
      "6/6 [==============================] - 0s 6ms/step - loss: 0.0725 - accuracy: 0.9688 - auc: 0.9980 - val_loss: 0.0959 - val_accuracy: 0.9583 - val_auc: 0.9964\n",
      "Epoch 1091/10000\n",
      "6/6 [==============================] - 0s 6ms/step - loss: 0.0726 - accuracy: 0.9688 - auc: 0.9980 - val_loss: 0.0950 - val_accuracy: 0.9583 - val_auc: 0.9964\n",
      "Epoch 1092/10000\n",
      "6/6 [==============================] - 0s 6ms/step - loss: 0.0723 - accuracy: 0.9688 - auc: 0.9980 - val_loss: 0.0954 - val_accuracy: 0.9583 - val_auc: 0.9964\n",
      "Epoch 1093/10000\n",
      "6/6 [==============================] - 0s 5ms/step - loss: 0.0722 - accuracy: 0.9688 - auc: 0.9981 - val_loss: 0.0954 - val_accuracy: 0.9583 - val_auc: 0.9964\n",
      "Epoch 1094/10000\n",
      "6/6 [==============================] - 0s 5ms/step - loss: 0.0722 - accuracy: 0.9688 - auc: 0.9980 - val_loss: 0.0955 - val_accuracy: 0.9583 - val_auc: 0.9964\n",
      "Epoch 1095/10000\n",
      "6/6 [==============================] - 0s 5ms/step - loss: 0.0723 - accuracy: 0.9688 - auc: 0.9980 - val_loss: 0.0958 - val_accuracy: 0.9583 - val_auc: 0.9964\n",
      "Epoch 1096/10000\n",
      "6/6 [==============================] - 0s 6ms/step - loss: 0.0720 - accuracy: 0.9688 - auc: 0.9981 - val_loss: 0.0957 - val_accuracy: 0.9583 - val_auc: 0.9964\n",
      "Epoch 1097/10000\n",
      "6/6 [==============================] - 0s 6ms/step - loss: 0.0722 - accuracy: 0.9688 - auc: 0.9980 - val_loss: 0.0960 - val_accuracy: 0.9583 - val_auc: 0.9964\n",
      "Epoch 1098/10000\n",
      "6/6 [==============================] - 0s 6ms/step - loss: 0.0721 - accuracy: 0.9688 - auc: 0.9981 - val_loss: 0.0955 - val_accuracy: 0.9583 - val_auc: 0.9964\n",
      "Epoch 1099/10000\n",
      "6/6 [==============================] - 0s 6ms/step - loss: 0.0721 - accuracy: 0.9688 - auc: 0.9980 - val_loss: 0.0959 - val_accuracy: 0.9583 - val_auc: 0.9964\n",
      "Epoch 1100/10000\n",
      "6/6 [==============================] - 0s 7ms/step - loss: 0.0720 - accuracy: 0.9688 - auc: 0.9981 - val_loss: 0.0949 - val_accuracy: 0.9583 - val_auc: 0.9964\n",
      "Epoch 1101/10000\n",
      "6/6 [==============================] - 0s 6ms/step - loss: 0.0719 - accuracy: 0.9688 - auc: 0.9981 - val_loss: 0.0951 - val_accuracy: 0.9583 - val_auc: 0.9964\n",
      "Epoch 1102/10000\n",
      "6/6 [==============================] - 0s 6ms/step - loss: 0.0718 - accuracy: 0.9688 - auc: 0.9981 - val_loss: 0.0953 - val_accuracy: 0.9583 - val_auc: 0.9964\n",
      "Epoch 1103/10000\n",
      "6/6 [==============================] - 0s 7ms/step - loss: 0.0718 - accuracy: 0.9688 - auc: 0.9981 - val_loss: 0.0954 - val_accuracy: 0.9583 - val_auc: 0.9964\n",
      "Epoch 1104/10000\n",
      "6/6 [==============================] - 0s 10ms/step - loss: 0.0716 - accuracy: 0.9688 - auc: 0.9981 - val_loss: 0.0950 - val_accuracy: 0.9583 - val_auc: 0.9964\n",
      "Epoch 1105/10000\n",
      "6/6 [==============================] - 0s 7ms/step - loss: 0.0722 - accuracy: 0.9688 - auc: 0.9979 - val_loss: 0.0941 - val_accuracy: 0.9583 - val_auc: 0.9964\n",
      "Epoch 1106/10000\n",
      "6/6 [==============================] - 0s 7ms/step - loss: 0.0716 - accuracy: 0.9688 - auc: 0.9980 - val_loss: 0.0944 - val_accuracy: 0.9583 - val_auc: 0.9964\n",
      "Epoch 1107/10000\n",
      "6/6 [==============================] - 0s 6ms/step - loss: 0.0716 - accuracy: 0.9688 - auc: 0.9981 - val_loss: 0.0948 - val_accuracy: 0.9583 - val_auc: 0.9964\n",
      "Epoch 1108/10000\n",
      "6/6 [==============================] - 0s 6ms/step - loss: 0.0716 - accuracy: 0.9688 - auc: 0.9981 - val_loss: 0.0955 - val_accuracy: 0.9583 - val_auc: 0.9964\n",
      "Epoch 1109/10000\n",
      "6/6 [==============================] - 0s 10ms/step - loss: 0.0720 - accuracy: 0.9688 - auc: 0.9980 - val_loss: 0.0968 - val_accuracy: 0.9583 - val_auc: 0.9964\n",
      "Epoch 1110/10000\n",
      "6/6 [==============================] - 0s 7ms/step - loss: 0.0714 - accuracy: 0.9688 - auc: 0.9981 - val_loss: 0.0960 - val_accuracy: 0.9583 - val_auc: 0.9964\n",
      "Epoch 1111/10000\n",
      "6/6 [==============================] - 0s 6ms/step - loss: 0.0718 - accuracy: 0.9688 - auc: 0.9980 - val_loss: 0.0949 - val_accuracy: 0.9583 - val_auc: 0.9964\n",
      "Epoch 1112/10000\n",
      "6/6 [==============================] - 0s 6ms/step - loss: 0.0713 - accuracy: 0.9688 - auc: 0.9981 - val_loss: 0.0952 - val_accuracy: 0.9583 - val_auc: 0.9964\n",
      "Epoch 1113/10000\n",
      "6/6 [==============================] - 0s 6ms/step - loss: 0.0714 - accuracy: 0.9688 - auc: 0.9981 - val_loss: 0.0949 - val_accuracy: 0.9583 - val_auc: 0.9964\n",
      "Epoch 1114/10000\n",
      "6/6 [==============================] - 0s 6ms/step - loss: 0.0714 - accuracy: 0.9688 - auc: 0.9980 - val_loss: 0.0958 - val_accuracy: 0.9583 - val_auc: 0.9955\n",
      "Epoch 1115/10000\n",
      "6/6 [==============================] - 0s 11ms/step - loss: 0.0712 - accuracy: 0.9688 - auc: 0.9981 - val_loss: 0.0959 - val_accuracy: 0.9583 - val_auc: 0.9955\n",
      "Epoch 1116/10000\n",
      "6/6 [==============================] - 0s 6ms/step - loss: 0.0712 - accuracy: 0.9688 - auc: 0.9981 - val_loss: 0.0951 - val_accuracy: 0.9583 - val_auc: 0.9964\n",
      "Epoch 1117/10000\n",
      "6/6 [==============================] - 0s 6ms/step - loss: 0.0711 - accuracy: 0.9688 - auc: 0.9981 - val_loss: 0.0953 - val_accuracy: 0.9583 - val_auc: 0.9964\n",
      "Epoch 1118/10000\n",
      "6/6 [==============================] - 0s 6ms/step - loss: 0.0710 - accuracy: 0.9688 - auc: 0.9981 - val_loss: 0.0956 - val_accuracy: 0.9583 - val_auc: 0.9955\n",
      "Epoch 1119/10000\n",
      "6/6 [==============================] - 0s 6ms/step - loss: 0.0710 - accuracy: 0.9688 - auc: 0.9981 - val_loss: 0.0953 - val_accuracy: 0.9583 - val_auc: 0.9955\n",
      "Epoch 1120/10000\n",
      "6/6 [==============================] - 0s 6ms/step - loss: 0.0713 - accuracy: 0.9688 - auc: 0.9980 - val_loss: 0.0961 - val_accuracy: 0.9583 - val_auc: 0.9946\n",
      "Epoch 1121/10000\n",
      "6/6 [==============================] - 0s 6ms/step - loss: 0.0711 - accuracy: 0.9688 - auc: 0.9980 - val_loss: 0.0947 - val_accuracy: 0.9583 - val_auc: 0.9964\n",
      "Epoch 1122/10000\n",
      "6/6 [==============================] - 0s 6ms/step - loss: 0.0710 - accuracy: 0.9688 - auc: 0.9980 - val_loss: 0.0950 - val_accuracy: 0.9583 - val_auc: 0.9964\n",
      "Epoch 1123/10000\n",
      "6/6 [==============================] - 0s 6ms/step - loss: 0.0711 - accuracy: 0.9688 - auc: 0.9980 - val_loss: 0.0945 - val_accuracy: 0.9583 - val_auc: 0.9955\n",
      "Epoch 1124/10000\n",
      "6/6 [==============================] - 0s 6ms/step - loss: 0.0708 - accuracy: 0.9688 - auc: 0.9981 - val_loss: 0.0943 - val_accuracy: 0.9583 - val_auc: 0.9955\n",
      "Epoch 1125/10000\n",
      "6/6 [==============================] - 0s 6ms/step - loss: 0.0707 - accuracy: 0.9688 - auc: 0.9981 - val_loss: 0.0949 - val_accuracy: 0.9583 - val_auc: 0.9946\n",
      "Epoch 1126/10000\n",
      "6/6 [==============================] - 0s 6ms/step - loss: 0.0707 - accuracy: 0.9688 - auc: 0.9981 - val_loss: 0.0954 - val_accuracy: 0.9583 - val_auc: 0.9955\n",
      "Epoch 1127/10000\n"
     ]
    },
    {
     "name": "stdout",
     "output_type": "stream",
     "text": [
      "6/6 [==============================] - 0s 6ms/step - loss: 0.0705 - accuracy: 0.9688 - auc: 0.9981 - val_loss: 0.0955 - val_accuracy: 0.9583 - val_auc: 0.9946\n",
      "Epoch 1128/10000\n",
      "6/6 [==============================] - 0s 6ms/step - loss: 0.0705 - accuracy: 0.9688 - auc: 0.9981 - val_loss: 0.0956 - val_accuracy: 0.9583 - val_auc: 0.9946\n",
      "Epoch 1129/10000\n",
      "6/6 [==============================] - 0s 6ms/step - loss: 0.0708 - accuracy: 0.9688 - auc: 0.9981 - val_loss: 0.0964 - val_accuracy: 0.9583 - val_auc: 0.9946\n",
      "Epoch 1130/10000\n",
      "6/6 [==============================] - 0s 6ms/step - loss: 0.0705 - accuracy: 0.9688 - auc: 0.9982 - val_loss: 0.0955 - val_accuracy: 0.9583 - val_auc: 0.9946\n",
      "Epoch 1131/10000\n",
      "6/6 [==============================] - 0s 6ms/step - loss: 0.0703 - accuracy: 0.9688 - auc: 0.9981 - val_loss: 0.0953 - val_accuracy: 0.9583 - val_auc: 0.9946\n",
      "Epoch 1132/10000\n",
      "6/6 [==============================] - 0s 6ms/step - loss: 0.0707 - accuracy: 0.9688 - auc: 0.9980 - val_loss: 0.0945 - val_accuracy: 0.9583 - val_auc: 0.9946\n",
      "Epoch 1133/10000\n",
      "6/6 [==============================] - 0s 7ms/step - loss: 0.0705 - accuracy: 0.9688 - auc: 0.9981 - val_loss: 0.0953 - val_accuracy: 0.9583 - val_auc: 0.9946\n",
      "Epoch 1134/10000\n",
      "6/6 [==============================] - 0s 9ms/step - loss: 0.0702 - accuracy: 0.9688 - auc: 0.9981 - val_loss: 0.0951 - val_accuracy: 0.9583 - val_auc: 0.9946\n",
      "Epoch 1135/10000\n",
      "6/6 [==============================] - 0s 7ms/step - loss: 0.0703 - accuracy: 0.9688 - auc: 0.9981 - val_loss: 0.0949 - val_accuracy: 0.9583 - val_auc: 0.9946\n",
      "Epoch 1136/10000\n",
      "6/6 [==============================] - 0s 9ms/step - loss: 0.0703 - accuracy: 0.9688 - auc: 0.9981 - val_loss: 0.0947 - val_accuracy: 0.9583 - val_auc: 0.9946\n",
      "Epoch 1137/10000\n",
      "6/6 [==============================] - 0s 6ms/step - loss: 0.0701 - accuracy: 0.9688 - auc: 0.9981 - val_loss: 0.0954 - val_accuracy: 0.9583 - val_auc: 0.9946\n",
      "Epoch 1138/10000\n",
      "6/6 [==============================] - 0s 6ms/step - loss: 0.0701 - accuracy: 0.9688 - auc: 0.9981 - val_loss: 0.0957 - val_accuracy: 0.9583 - val_auc: 0.9946\n",
      "Epoch 1139/10000\n",
      "6/6 [==============================] - 0s 6ms/step - loss: 0.0704 - accuracy: 0.9688 - auc: 0.9981 - val_loss: 0.0951 - val_accuracy: 0.9583 - val_auc: 0.9946\n",
      "Epoch 1140/10000\n",
      "6/6 [==============================] - 0s 6ms/step - loss: 0.0701 - accuracy: 0.9688 - auc: 0.9981 - val_loss: 0.0951 - val_accuracy: 0.9583 - val_auc: 0.9946\n",
      "Epoch 1141/10000\n",
      "6/6 [==============================] - 0s 6ms/step - loss: 0.0699 - accuracy: 0.9688 - auc: 0.9981 - val_loss: 0.0953 - val_accuracy: 0.9583 - val_auc: 0.9946\n",
      "Epoch 1142/10000\n",
      "6/6 [==============================] - 0s 6ms/step - loss: 0.0700 - accuracy: 0.9688 - auc: 0.9981 - val_loss: 0.0952 - val_accuracy: 0.9583 - val_auc: 0.9946\n",
      "Epoch 1143/10000\n",
      "6/6 [==============================] - 0s 6ms/step - loss: 0.0700 - accuracy: 0.9688 - auc: 0.9981 - val_loss: 0.0955 - val_accuracy: 0.9583 - val_auc: 0.9946\n",
      "Epoch 1144/10000\n",
      "6/6 [==============================] - 0s 11ms/step - loss: 0.0700 - accuracy: 0.9688 - auc: 0.9981 - val_loss: 0.0949 - val_accuracy: 0.9583 - val_auc: 0.9946\n",
      "Epoch 1145/10000\n",
      "6/6 [==============================] - 0s 6ms/step - loss: 0.0700 - accuracy: 0.9688 - auc: 0.9981 - val_loss: 0.0958 - val_accuracy: 0.9583 - val_auc: 0.9946\n",
      "Epoch 1146/10000\n",
      "6/6 [==============================] - 0s 6ms/step - loss: 0.0697 - accuracy: 0.9688 - auc: 0.9981 - val_loss: 0.0957 - val_accuracy: 0.9583 - val_auc: 0.9946\n",
      "Epoch 1147/10000\n",
      "6/6 [==============================] - 0s 8ms/step - loss: 0.0697 - accuracy: 0.9688 - auc: 0.9982 - val_loss: 0.0956 - val_accuracy: 0.9583 - val_auc: 0.9946\n",
      "Epoch 1148/10000\n",
      "6/6 [==============================] - 0s 7ms/step - loss: 0.0696 - accuracy: 0.9688 - auc: 0.9982 - val_loss: 0.0952 - val_accuracy: 0.9583 - val_auc: 0.9946\n",
      "Epoch 1149/10000\n",
      "6/6 [==============================] - 0s 7ms/step - loss: 0.0699 - accuracy: 0.9688 - auc: 0.9981 - val_loss: 0.0957 - val_accuracy: 0.9583 - val_auc: 0.9946\n",
      "Epoch 1150/10000\n",
      "6/6 [==============================] - 0s 11ms/step - loss: 0.0695 - accuracy: 0.9688 - auc: 0.9982 - val_loss: 0.0954 - val_accuracy: 0.9583 - val_auc: 0.9946\n",
      "Epoch 1151/10000\n",
      "6/6 [==============================] - 0s 8ms/step - loss: 0.0696 - accuracy: 0.9688 - auc: 0.9981 - val_loss: 0.0953 - val_accuracy: 0.9583 - val_auc: 0.9946\n",
      "Epoch 1152/10000\n",
      "6/6 [==============================] - 0s 7ms/step - loss: 0.0695 - accuracy: 0.9688 - auc: 0.9981 - val_loss: 0.0948 - val_accuracy: 0.9583 - val_auc: 0.9946\n",
      "Epoch 1153/10000\n",
      "6/6 [==============================] - 0s 8ms/step - loss: 0.0695 - accuracy: 0.9688 - auc: 0.9981 - val_loss: 0.0949 - val_accuracy: 0.9583 - val_auc: 0.9946\n",
      "Epoch 1154/10000\n",
      "6/6 [==============================] - 0s 12ms/step - loss: 0.0694 - accuracy: 0.9688 - auc: 0.9982 - val_loss: 0.0952 - val_accuracy: 0.9583 - val_auc: 0.9946\n",
      "Epoch 1155/10000\n",
      "6/6 [==============================] - 0s 10ms/step - loss: 0.0695 - accuracy: 0.9688 - auc: 0.9982 - val_loss: 0.0948 - val_accuracy: 0.9583 - val_auc: 0.9946\n",
      "Epoch 1156/10000\n",
      "6/6 [==============================] - 0s 7ms/step - loss: 0.0694 - accuracy: 0.9688 - auc: 0.9981 - val_loss: 0.0953 - val_accuracy: 0.9583 - val_auc: 0.9946\n",
      "Epoch 1157/10000\n",
      "6/6 [==============================] - 0s 7ms/step - loss: 0.0693 - accuracy: 0.9688 - auc: 0.9982 - val_loss: 0.0952 - val_accuracy: 0.9583 - val_auc: 0.9946\n",
      "Epoch 1158/10000\n",
      "6/6 [==============================] - 0s 7ms/step - loss: 0.0693 - accuracy: 0.9688 - auc: 0.9981 - val_loss: 0.0949 - val_accuracy: 0.9583 - val_auc: 0.9946\n",
      "Epoch 1159/10000\n",
      "6/6 [==============================] - 0s 7ms/step - loss: 0.0697 - accuracy: 0.9688 - auc: 0.9982 - val_loss: 0.0956 - val_accuracy: 0.9583 - val_auc: 0.9946\n",
      "Epoch 1160/10000\n",
      "6/6 [==============================] - 0s 7ms/step - loss: 0.0692 - accuracy: 0.9688 - auc: 0.9982 - val_loss: 0.0953 - val_accuracy: 0.9583 - val_auc: 0.9946\n",
      "Epoch 1161/10000\n",
      "6/6 [==============================] - 0s 7ms/step - loss: 0.0692 - accuracy: 0.9688 - auc: 0.9982 - val_loss: 0.0957 - val_accuracy: 0.9583 - val_auc: 0.9946\n",
      "Epoch 1162/10000\n",
      "6/6 [==============================] - 0s 6ms/step - loss: 0.0691 - accuracy: 0.9688 - auc: 0.9982 - val_loss: 0.0954 - val_accuracy: 0.9583 - val_auc: 0.9946\n",
      "Epoch 1163/10000\n",
      "6/6 [==============================] - 0s 6ms/step - loss: 0.0691 - accuracy: 0.9688 - auc: 0.9982 - val_loss: 0.0956 - val_accuracy: 0.9583 - val_auc: 0.9946\n",
      "Epoch 1164/10000\n",
      "6/6 [==============================] - 0s 6ms/step - loss: 0.0690 - accuracy: 0.9688 - auc: 0.9982 - val_loss: 0.0955 - val_accuracy: 0.9583 - val_auc: 0.9946\n",
      "Epoch 1165/10000\n",
      "6/6 [==============================] - 0s 6ms/step - loss: 0.0690 - accuracy: 0.9688 - auc: 0.9981 - val_loss: 0.0952 - val_accuracy: 0.9583 - val_auc: 0.9946\n",
      "Epoch 1166/10000\n",
      "6/6 [==============================] - 0s 6ms/step - loss: 0.0689 - accuracy: 0.9688 - auc: 0.9982 - val_loss: 0.0948 - val_accuracy: 0.9583 - val_auc: 0.9946\n",
      "Epoch 1167/10000\n",
      "6/6 [==============================] - 0s 7ms/step - loss: 0.0689 - accuracy: 0.9688 - auc: 0.9982 - val_loss: 0.0951 - val_accuracy: 0.9583 - val_auc: 0.9946\n",
      "Epoch 1168/10000\n",
      "6/6 [==============================] - 0s 25ms/step - loss: 0.0690 - accuracy: 0.9688 - auc: 0.9982 - val_loss: 0.0958 - val_accuracy: 0.9583 - val_auc: 0.9946\n",
      "Epoch 1169/10000\n",
      "6/6 [==============================] - 0s 8ms/step - loss: 0.0688 - accuracy: 0.9688 - auc: 0.9983 - val_loss: 0.0949 - val_accuracy: 0.9583 - val_auc: 0.9946\n",
      "Epoch 1170/10000\n",
      "6/6 [==============================] - 0s 6ms/step - loss: 0.0691 - accuracy: 0.9688 - auc: 0.9981 - val_loss: 0.0943 - val_accuracy: 0.9583 - val_auc: 0.9946\n",
      "Epoch 1171/10000\n",
      "6/6 [==============================] - 0s 6ms/step - loss: 0.0687 - accuracy: 0.9688 - auc: 0.9982 - val_loss: 0.0944 - val_accuracy: 0.9583 - val_auc: 0.9946\n",
      "Epoch 1172/10000\n",
      "6/6 [==============================] - 0s 6ms/step - loss: 0.0686 - accuracy: 0.9688 - auc: 0.9983 - val_loss: 0.0950 - val_accuracy: 0.9583 - val_auc: 0.9946\n",
      "Epoch 1173/10000\n"
     ]
    },
    {
     "name": "stdout",
     "output_type": "stream",
     "text": [
      "6/6 [==============================] - 0s 6ms/step - loss: 0.0685 - accuracy: 0.9688 - auc: 0.9982 - val_loss: 0.0955 - val_accuracy: 0.9583 - val_auc: 0.9946\n",
      "Epoch 1174/10000\n",
      "6/6 [==============================] - 0s 6ms/step - loss: 0.0687 - accuracy: 0.9688 - auc: 0.9981 - val_loss: 0.0959 - val_accuracy: 0.9583 - val_auc: 0.9946\n",
      "Epoch 1175/10000\n",
      "6/6 [==============================] - 0s 6ms/step - loss: 0.0688 - accuracy: 0.9688 - auc: 0.9982 - val_loss: 0.0952 - val_accuracy: 0.9583 - val_auc: 0.9946\n",
      "Epoch 1176/10000\n",
      "6/6 [==============================] - 0s 8ms/step - loss: 0.0684 - accuracy: 0.9688 - auc: 0.9982 - val_loss: 0.0954 - val_accuracy: 0.9583 - val_auc: 0.9946\n",
      "Epoch 1177/10000\n",
      "6/6 [==============================] - 0s 6ms/step - loss: 0.0685 - accuracy: 0.9688 - auc: 0.9982 - val_loss: 0.0953 - val_accuracy: 0.9583 - val_auc: 0.9946\n",
      "Epoch 1178/10000\n",
      "6/6 [==============================] - 0s 6ms/step - loss: 0.0685 - accuracy: 0.9688 - auc: 0.9982 - val_loss: 0.0948 - val_accuracy: 0.9583 - val_auc: 0.9946\n",
      "Epoch 1179/10000\n",
      "6/6 [==============================] - 0s 6ms/step - loss: 0.0685 - accuracy: 0.9688 - auc: 0.9981 - val_loss: 0.0954 - val_accuracy: 0.9583 - val_auc: 0.9946\n",
      "Epoch 1180/10000\n",
      "6/6 [==============================] - 0s 6ms/step - loss: 0.0685 - accuracy: 0.9688 - auc: 0.9982 - val_loss: 0.0961 - val_accuracy: 0.9583 - val_auc: 0.9946\n",
      "Epoch 1181/10000\n",
      "6/6 [==============================] - 0s 6ms/step - loss: 0.0683 - accuracy: 0.9688 - auc: 0.9983 - val_loss: 0.0956 - val_accuracy: 0.9583 - val_auc: 0.9946\n",
      "Epoch 1182/10000\n",
      "6/6 [==============================] - 0s 6ms/step - loss: 0.0682 - accuracy: 0.9688 - auc: 0.9982 - val_loss: 0.0952 - val_accuracy: 0.9583 - val_auc: 0.9946\n",
      "Epoch 1183/10000\n",
      "6/6 [==============================] - 0s 6ms/step - loss: 0.0683 - accuracy: 0.9688 - auc: 0.9982 - val_loss: 0.0952 - val_accuracy: 0.9583 - val_auc: 0.9946\n",
      "Epoch 1184/10000\n",
      "6/6 [==============================] - 0s 6ms/step - loss: 0.0683 - accuracy: 0.9688 - auc: 0.9981 - val_loss: 0.0952 - val_accuracy: 0.9583 - val_auc: 0.9946\n",
      "Epoch 1185/10000\n",
      "6/6 [==============================] - 0s 5ms/step - loss: 0.0682 - accuracy: 0.9688 - auc: 0.9983 - val_loss: 0.0948 - val_accuracy: 0.9583 - val_auc: 0.9946\n",
      "Epoch 1186/10000\n",
      "6/6 [==============================] - 0s 6ms/step - loss: 0.0683 - accuracy: 0.9688 - auc: 0.9982 - val_loss: 0.0951 - val_accuracy: 0.9583 - val_auc: 0.9946\n",
      "Epoch 1187/10000\n",
      "6/6 [==============================] - 0s 6ms/step - loss: 0.0681 - accuracy: 0.9688 - auc: 0.9982 - val_loss: 0.0949 - val_accuracy: 0.9583 - val_auc: 0.9946\n",
      "Epoch 1188/10000\n",
      "6/6 [==============================] - 0s 7ms/step - loss: 0.0683 - accuracy: 0.9688 - auc: 0.9981 - val_loss: 0.0942 - val_accuracy: 0.9583 - val_auc: 0.9946\n",
      "Epoch 1189/10000\n",
      "6/6 [==============================] - 0s 6ms/step - loss: 0.0681 - accuracy: 0.9688 - auc: 0.9981 - val_loss: 0.0952 - val_accuracy: 0.9583 - val_auc: 0.9946\n",
      "Epoch 1190/10000\n",
      "6/6 [==============================] - 0s 6ms/step - loss: 0.0681 - accuracy: 0.9688 - auc: 0.9981 - val_loss: 0.0948 - val_accuracy: 0.9583 - val_auc: 0.9946\n",
      "Epoch 1191/10000\n",
      "6/6 [==============================] - 0s 6ms/step - loss: 0.0683 - accuracy: 0.9688 - auc: 0.9982 - val_loss: 0.0958 - val_accuracy: 0.9583 - val_auc: 0.9946\n",
      "Epoch 1192/10000\n",
      "6/6 [==============================] - 0s 6ms/step - loss: 0.0679 - accuracy: 0.9688 - auc: 0.9982 - val_loss: 0.0953 - val_accuracy: 0.9583 - val_auc: 0.9946\n",
      "Epoch 1193/10000\n",
      "6/6 [==============================] - 0s 6ms/step - loss: 0.0679 - accuracy: 0.9688 - auc: 0.9982 - val_loss: 0.0953 - val_accuracy: 0.9583 - val_auc: 0.9946\n",
      "Epoch 1194/10000\n",
      "6/6 [==============================] - 0s 6ms/step - loss: 0.0679 - accuracy: 0.9688 - auc: 0.9982 - val_loss: 0.0945 - val_accuracy: 0.9583 - val_auc: 0.9946\n",
      "Epoch 1195/10000\n",
      "6/6 [==============================] - 0s 6ms/step - loss: 0.0677 - accuracy: 0.9688 - auc: 0.9982 - val_loss: 0.0948 - val_accuracy: 0.9583 - val_auc: 0.9946\n",
      "Epoch 1196/10000\n",
      "6/6 [==============================] - 0s 6ms/step - loss: 0.0677 - accuracy: 0.9688 - auc: 0.9982 - val_loss: 0.0948 - val_accuracy: 0.9583 - val_auc: 0.9946\n",
      "Epoch 1197/10000\n",
      "6/6 [==============================] - 0s 6ms/step - loss: 0.0677 - accuracy: 0.9688 - auc: 0.9983 - val_loss: 0.0948 - val_accuracy: 0.9583 - val_auc: 0.9946\n",
      "Epoch 1198/10000\n",
      "6/6 [==============================] - 0s 6ms/step - loss: 0.0678 - accuracy: 0.9688 - auc: 0.9981 - val_loss: 0.0959 - val_accuracy: 0.9583 - val_auc: 0.9946\n",
      "Epoch 1199/10000\n",
      "6/6 [==============================] - 0s 5ms/step - loss: 0.0677 - accuracy: 0.9688 - auc: 0.9982 - val_loss: 0.0962 - val_accuracy: 0.9583 - val_auc: 0.9946\n",
      "Epoch 1200/10000\n",
      "6/6 [==============================] - 0s 5ms/step - loss: 0.0678 - accuracy: 0.9688 - auc: 0.9981 - val_loss: 0.0956 - val_accuracy: 0.9583 - val_auc: 0.9946\n",
      "Epoch 1201/10000\n",
      "6/6 [==============================] - 0s 6ms/step - loss: 0.0676 - accuracy: 0.9688 - auc: 0.9981 - val_loss: 0.0953 - val_accuracy: 0.9583 - val_auc: 0.9946\n",
      "Epoch 1202/10000\n",
      "6/6 [==============================] - 0s 6ms/step - loss: 0.0676 - accuracy: 0.9688 - auc: 0.9983 - val_loss: 0.0953 - val_accuracy: 0.9583 - val_auc: 0.9946\n",
      "Epoch 1203/10000\n",
      "6/6 [==============================] - 0s 6ms/step - loss: 0.0674 - accuracy: 0.9688 - auc: 0.9983 - val_loss: 0.0954 - val_accuracy: 0.9583 - val_auc: 0.9946\n",
      "Epoch 1204/10000\n",
      "6/6 [==============================] - 0s 6ms/step - loss: 0.0677 - accuracy: 0.9688 - auc: 0.9983 - val_loss: 0.0963 - val_accuracy: 0.9583 - val_auc: 0.9946\n",
      "Epoch 1205/10000\n",
      "6/6 [==============================] - 0s 6ms/step - loss: 0.0674 - accuracy: 0.9688 - auc: 0.9983 - val_loss: 0.0954 - val_accuracy: 0.9583 - val_auc: 0.9946\n",
      "Epoch 1206/10000\n",
      "6/6 [==============================] - 0s 6ms/step - loss: 0.0674 - accuracy: 0.9688 - auc: 0.9982 - val_loss: 0.0948 - val_accuracy: 0.9583 - val_auc: 0.9946\n",
      "Epoch 1207/10000\n",
      "6/6 [==============================] - 0s 6ms/step - loss: 0.0674 - accuracy: 0.9688 - auc: 0.9981 - val_loss: 0.0946 - val_accuracy: 0.9583 - val_auc: 0.9946\n",
      "Epoch 1208/10000\n",
      "6/6 [==============================] - 0s 6ms/step - loss: 0.0673 - accuracy: 0.9688 - auc: 0.9982 - val_loss: 0.0945 - val_accuracy: 0.9583 - val_auc: 0.9946\n",
      "Epoch 1209/10000\n",
      "6/6 [==============================] - 0s 6ms/step - loss: 0.0672 - accuracy: 0.9688 - auc: 0.9983 - val_loss: 0.0946 - val_accuracy: 0.9583 - val_auc: 0.9946\n",
      "Epoch 1210/10000\n",
      "6/6 [==============================] - 0s 6ms/step - loss: 0.0673 - accuracy: 0.9688 - auc: 0.9982 - val_loss: 0.0953 - val_accuracy: 0.9583 - val_auc: 0.9946\n",
      "Epoch 1211/10000\n",
      "6/6 [==============================] - 0s 6ms/step - loss: 0.0677 - accuracy: 0.9688 - auc: 0.9981 - val_loss: 0.0944 - val_accuracy: 0.9583 - val_auc: 0.9946\n",
      "Epoch 1212/10000\n",
      "6/6 [==============================] - 0s 6ms/step - loss: 0.0677 - accuracy: 0.9688 - auc: 0.9983 - val_loss: 0.0959 - val_accuracy: 0.9583 - val_auc: 0.9946\n",
      "Epoch 1213/10000\n",
      "6/6 [==============================] - 0s 6ms/step - loss: 0.0671 - accuracy: 0.9688 - auc: 0.9983 - val_loss: 0.0953 - val_accuracy: 0.9583 - val_auc: 0.9946\n",
      "Epoch 1214/10000\n",
      "6/6 [==============================] - 0s 6ms/step - loss: 0.0671 - accuracy: 0.9688 - auc: 0.9983 - val_loss: 0.0948 - val_accuracy: 0.9583 - val_auc: 0.9946\n",
      "Epoch 1215/10000\n",
      "6/6 [==============================] - 0s 6ms/step - loss: 0.0671 - accuracy: 0.9688 - auc: 0.9982 - val_loss: 0.0948 - val_accuracy: 0.9583 - val_auc: 0.9946\n",
      "Epoch 1216/10000\n",
      "6/6 [==============================] - 0s 6ms/step - loss: 0.0671 - accuracy: 0.9688 - auc: 0.9982 - val_loss: 0.0947 - val_accuracy: 0.9583 - val_auc: 0.9946\n",
      "Epoch 1217/10000\n",
      "6/6 [==============================] - 0s 5ms/step - loss: 0.0671 - accuracy: 0.9688 - auc: 0.9982 - val_loss: 0.0954 - val_accuracy: 0.9583 - val_auc: 0.9946\n",
      "Epoch 1218/10000\n",
      "6/6 [==============================] - 0s 6ms/step - loss: 0.0671 - accuracy: 0.9688 - auc: 0.9983 - val_loss: 0.0960 - val_accuracy: 0.9583 - val_auc: 0.9946\n",
      "Epoch 1219/10000\n",
      "6/6 [==============================] - 0s 6ms/step - loss: 0.0669 - accuracy: 0.9688 - auc: 0.9983 - val_loss: 0.0955 - val_accuracy: 0.9583 - val_auc: 0.9946\n"
     ]
    },
    {
     "name": "stdout",
     "output_type": "stream",
     "text": [
      "Epoch 1220/10000\n",
      "6/6 [==============================] - 0s 6ms/step - loss: 0.0668 - accuracy: 0.9688 - auc: 0.9984 - val_loss: 0.0957 - val_accuracy: 0.9583 - val_auc: 0.9946\n",
      "Epoch 1221/10000\n",
      "6/6 [==============================] - 0s 6ms/step - loss: 0.0669 - accuracy: 0.9688 - auc: 0.9983 - val_loss: 0.0954 - val_accuracy: 0.9583 - val_auc: 0.9946\n",
      "Epoch 1222/10000\n",
      "6/6 [==============================] - 0s 6ms/step - loss: 0.0667 - accuracy: 0.9688 - auc: 0.9982 - val_loss: 0.0951 - val_accuracy: 0.9583 - val_auc: 0.9946\n",
      "Epoch 1223/10000\n",
      "6/6 [==============================] - 0s 5ms/step - loss: 0.0668 - accuracy: 0.9688 - auc: 0.9983 - val_loss: 0.0945 - val_accuracy: 0.9583 - val_auc: 0.9946\n",
      "Epoch 1224/10000\n",
      "6/6 [==============================] - 0s 6ms/step - loss: 0.0667 - accuracy: 0.9688 - auc: 0.9983 - val_loss: 0.0948 - val_accuracy: 0.9583 - val_auc: 0.9946\n",
      "Epoch 1225/10000\n",
      "6/6 [==============================] - 0s 6ms/step - loss: 0.0666 - accuracy: 0.9688 - auc: 0.9984 - val_loss: 0.0952 - val_accuracy: 0.9583 - val_auc: 0.9946\n",
      "Epoch 1226/10000\n",
      "6/6 [==============================] - 0s 6ms/step - loss: 0.0669 - accuracy: 0.9688 - auc: 0.9983 - val_loss: 0.0958 - val_accuracy: 0.9583 - val_auc: 0.9946\n",
      "Epoch 1227/10000\n",
      "6/6 [==============================] - 0s 6ms/step - loss: 0.0666 - accuracy: 0.9688 - auc: 0.9984 - val_loss: 0.0954 - val_accuracy: 0.9583 - val_auc: 0.9946\n",
      "Epoch 1228/10000\n",
      "6/6 [==============================] - 0s 6ms/step - loss: 0.0668 - accuracy: 0.9688 - auc: 0.9983 - val_loss: 0.0946 - val_accuracy: 0.9583 - val_auc: 0.9946\n",
      "Epoch 1229/10000\n",
      "6/6 [==============================] - 0s 6ms/step - loss: 0.0667 - accuracy: 0.9688 - auc: 0.9984 - val_loss: 0.0956 - val_accuracy: 0.9583 - val_auc: 0.9946\n",
      "Epoch 1230/10000\n",
      "6/6 [==============================] - 0s 6ms/step - loss: 0.0666 - accuracy: 0.9688 - auc: 0.9982 - val_loss: 0.0952 - val_accuracy: 0.9583 - val_auc: 0.9946\n",
      "Epoch 1231/10000\n",
      "6/6 [==============================] - 0s 6ms/step - loss: 0.0665 - accuracy: 0.9688 - auc: 0.9983 - val_loss: 0.0948 - val_accuracy: 0.9583 - val_auc: 0.9946\n",
      "Epoch 1232/10000\n",
      "6/6 [==============================] - 0s 6ms/step - loss: 0.0665 - accuracy: 0.9688 - auc: 0.9983 - val_loss: 0.0949 - val_accuracy: 0.9583 - val_auc: 0.9946\n",
      "Epoch 1233/10000\n",
      "6/6 [==============================] - 0s 6ms/step - loss: 0.0664 - accuracy: 0.9688 - auc: 0.9984 - val_loss: 0.0948 - val_accuracy: 0.9583 - val_auc: 0.9946\n",
      "Epoch 1234/10000\n",
      "6/6 [==============================] - 0s 6ms/step - loss: 0.0663 - accuracy: 0.9688 - auc: 0.9984 - val_loss: 0.0953 - val_accuracy: 0.9583 - val_auc: 0.9946\n",
      "Epoch 1235/10000\n",
      "6/6 [==============================] - 0s 7ms/step - loss: 0.0663 - accuracy: 0.9688 - auc: 0.9984 - val_loss: 0.0953 - val_accuracy: 0.9583 - val_auc: 0.9946\n",
      "Epoch 1236/10000\n",
      "6/6 [==============================] - 0s 7ms/step - loss: 0.0663 - accuracy: 0.9688 - auc: 0.9983 - val_loss: 0.0953 - val_accuracy: 0.9583 - val_auc: 0.9946\n",
      "Epoch 1237/10000\n",
      "6/6 [==============================] - 0s 6ms/step - loss: 0.0663 - accuracy: 0.9688 - auc: 0.9984 - val_loss: 0.0952 - val_accuracy: 0.9583 - val_auc: 0.9946\n",
      "Epoch 1238/10000\n",
      "6/6 [==============================] - 0s 5ms/step - loss: 0.0662 - accuracy: 0.9688 - auc: 0.9983 - val_loss: 0.0950 - val_accuracy: 0.9583 - val_auc: 0.9946\n",
      "Epoch 1239/10000\n",
      "6/6 [==============================] - 0s 6ms/step - loss: 0.0661 - accuracy: 0.9688 - auc: 0.9984 - val_loss: 0.0951 - val_accuracy: 0.9583 - val_auc: 0.9946\n",
      "Epoch 1240/10000\n",
      "6/6 [==============================] - 0s 6ms/step - loss: 0.0662 - accuracy: 0.9688 - auc: 0.9984 - val_loss: 0.0951 - val_accuracy: 0.9583 - val_auc: 0.9946\n",
      "Epoch 1241/10000\n",
      "6/6 [==============================] - 0s 6ms/step - loss: 0.0662 - accuracy: 0.9688 - auc: 0.9983 - val_loss: 0.0958 - val_accuracy: 0.9583 - val_auc: 0.9946\n",
      "Epoch 1242/10000\n",
      "6/6 [==============================] - 0s 6ms/step - loss: 0.0661 - accuracy: 0.9688 - auc: 0.9985 - val_loss: 0.0955 - val_accuracy: 0.9583 - val_auc: 0.9946\n",
      "Epoch 1243/10000\n",
      "6/6 [==============================] - 0s 6ms/step - loss: 0.0660 - accuracy: 0.9688 - auc: 0.9984 - val_loss: 0.0955 - val_accuracy: 0.9583 - val_auc: 0.9946\n",
      "Epoch 1244/10000\n",
      "6/6 [==============================] - 0s 6ms/step - loss: 0.0660 - accuracy: 0.9688 - auc: 0.9984 - val_loss: 0.0950 - val_accuracy: 0.9583 - val_auc: 0.9946\n",
      "Epoch 1245/10000\n",
      "6/6 [==============================] - 0s 6ms/step - loss: 0.0663 - accuracy: 0.9688 - auc: 0.9984 - val_loss: 0.0944 - val_accuracy: 0.9583 - val_auc: 0.9946\n",
      "Epoch 1246/10000\n",
      "6/6 [==============================] - 0s 6ms/step - loss: 0.0660 - accuracy: 0.9688 - auc: 0.9984 - val_loss: 0.0951 - val_accuracy: 0.9583 - val_auc: 0.9946\n",
      "Epoch 1247/10000\n",
      "6/6 [==============================] - 0s 6ms/step - loss: 0.0659 - accuracy: 0.9688 - auc: 0.9984 - val_loss: 0.0954 - val_accuracy: 0.9583 - val_auc: 0.9946\n",
      "Epoch 1248/10000\n",
      "6/6 [==============================] - 0s 6ms/step - loss: 0.0658 - accuracy: 0.9688 - auc: 0.9984 - val_loss: 0.0955 - val_accuracy: 0.9583 - val_auc: 0.9946\n",
      "Epoch 1249/10000\n",
      "6/6 [==============================] - 0s 6ms/step - loss: 0.0660 - accuracy: 0.9688 - auc: 0.9984 - val_loss: 0.0954 - val_accuracy: 0.9583 - val_auc: 0.9946\n",
      "Epoch 1250/10000\n",
      "6/6 [==============================] - 0s 6ms/step - loss: 0.0658 - accuracy: 0.9688 - auc: 0.9985 - val_loss: 0.0952 - val_accuracy: 0.9583 - val_auc: 0.9946\n",
      "Epoch 1251/10000\n",
      "6/6 [==============================] - 0s 6ms/step - loss: 0.0658 - accuracy: 0.9688 - auc: 0.9984 - val_loss: 0.0953 - val_accuracy: 0.9583 - val_auc: 0.9946\n",
      "Epoch 1252/10000\n",
      "6/6 [==============================] - 0s 6ms/step - loss: 0.0658 - accuracy: 0.9688 - auc: 0.9984 - val_loss: 0.0958 - val_accuracy: 0.9583 - val_auc: 0.9946\n",
      "Epoch 1253/10000\n",
      "6/6 [==============================] - 0s 6ms/step - loss: 0.0657 - accuracy: 0.9688 - auc: 0.9984 - val_loss: 0.0953 - val_accuracy: 0.9583 - val_auc: 0.9946\n",
      "Epoch 1254/10000\n",
      "6/6 [==============================] - 0s 6ms/step - loss: 0.0657 - accuracy: 0.9688 - auc: 0.9985 - val_loss: 0.0952 - val_accuracy: 0.9583 - val_auc: 0.9946\n",
      "Epoch 1255/10000\n",
      "6/6 [==============================] - 0s 6ms/step - loss: 0.0657 - accuracy: 0.9688 - auc: 0.9984 - val_loss: 0.0952 - val_accuracy: 0.9583 - val_auc: 0.9946\n",
      "Epoch 1256/10000\n",
      "6/6 [==============================] - 0s 5ms/step - loss: 0.0658 - accuracy: 0.9688 - auc: 0.9983 - val_loss: 0.0946 - val_accuracy: 0.9583 - val_auc: 0.9946\n",
      "Epoch 1257/10000\n",
      "6/6 [==============================] - 0s 6ms/step - loss: 0.0658 - accuracy: 0.9688 - auc: 0.9984 - val_loss: 0.0958 - val_accuracy: 0.9583 - val_auc: 0.9946\n",
      "Epoch 1258/10000\n",
      "6/6 [==============================] - 0s 6ms/step - loss: 0.0657 - accuracy: 0.9688 - auc: 0.9983 - val_loss: 0.0959 - val_accuracy: 0.9583 - val_auc: 0.9946\n",
      "Epoch 1259/10000\n",
      "6/6 [==============================] - 0s 6ms/step - loss: 0.0657 - accuracy: 0.9688 - auc: 0.9984 - val_loss: 0.0953 - val_accuracy: 0.9583 - val_auc: 0.9946\n"
     ]
    }
   ],
   "source": [
    "history = model.fit(X_train, y_train, epochs = 10000, batch_size = 32, validation_split = 0.2, callbacks=[trainCallback])"
   ]
  },
  {
   "cell_type": "code",
   "execution_count": 15,
   "metadata": {
    "cell_style": "split",
    "slideshow": {
     "slide_type": "slide"
    }
   },
   "outputs": [
    {
     "name": "stdout",
     "output_type": "stream",
     "text": [
      "2/2 [==============================] - 0s 1ms/step\n"
     ]
    },
    {
     "data": {
      "text/plain": [
       "array([[9.9573052e-01],\n",
       "       [9.9137628e-01],\n",
       "       [9.7483456e-01],\n",
       "       [9.9737430e-01],\n",
       "       [1.9061874e-08]], dtype=float32)"
      ]
     },
     "execution_count": 15,
     "metadata": {},
     "output_type": "execute_result"
    }
   ],
   "source": [
    "# predict method outputs probability of\n",
    "# being class 1\n",
    "y_proba = model.predict(X_test)\n",
    "y_proba[0:5]"
   ]
  },
  {
   "cell_type": "code",
   "execution_count": 16,
   "metadata": {
    "cell_style": "split",
    "slideshow": {
     "slide_type": "fragment"
    }
   },
   "outputs": [
    {
     "data": {
      "text/plain": [
       "array([[1],\n",
       "       [1],\n",
       "       [1],\n",
       "       [1],\n",
       "       [0]])"
      ]
     },
     "execution_count": 16,
     "metadata": {},
     "output_type": "execute_result"
    }
   ],
   "source": [
    "# getting class predictions\n",
    "y_pred = (y_proba > 0.5).astype('int')\n",
    "y_pred[0:5]"
   ]
  },
  {
   "cell_type": "code",
   "execution_count": 17,
   "metadata": {
    "slideshow": {
     "slide_type": "slide"
    }
   },
   "outputs": [
    {
     "name": "stdout",
     "output_type": "stream",
     "text": [
      "0.9833333492279053 0.9988775849342346\n"
     ]
    }
   ],
   "source": [
    "# returns loss + results of metrics used\n",
    "_, test_accuracy, test_AUC = model.evaluate(X_test, y_test, verbose=0)\n",
    "print(test_accuracy, test_AUC)"
   ]
  },
  {
   "cell_type": "code",
   "execution_count": 18,
   "metadata": {
    "cell_style": "center",
    "slideshow": {
     "slide_type": "slide"
    }
   },
   "outputs": [
    {
     "data": {
      "image/png": "[encoded data removed]",
      "text/plain": [
       "<Figure size 640x480 with 2 Axes>"
      ]
     },
     "metadata": {},
     "output_type": "display_data"
    }
   ],
   "source": [
    "cm = confusion_matrix(y_test, y_pred)\n",
    "disp = ConfusionMatrixDisplay(confusion_matrix=cm)\n",
    "\n",
    "disp.plot(cmap=plt.cm.Blues)\n",
    "plt.show()"
   ]
  },
  {
   "cell_type": "markdown",
   "metadata": {
    "slideshow": {
     "slide_type": "slide"
    }
   },
   "source": [
    "View decision boundary"
   ]
  },
  {
   "cell_type": "code",
   "execution_count": 19,
   "metadata": {
    "slideshow": {
     "slide_type": "slide"
    }
   },
   "outputs": [
    {
     "name": "stdout",
     "output_type": "stream",
     "text": [
      "80/80 [==============================] - 0s 393us/step\n"
     ]
    },
    {
     "data": {
      "image/png": "[encoded data removed]",
      "text/plain": [
       "<Figure size 640x480 with 1 Axes>"
      ]
     },
     "metadata": {},
     "output_type": "display_data"
    }
   ],
   "source": [
    "x_min, x_max = X[:, 0].min() - 1, X[:, 0].max() + 1\n",
    "y_min, y_max = X[:, 1].min() - 1, X[:, 1].max() + 1\n",
    "xx, yy = np.meshgrid(np.arange(x_min, x_max, 0.1), np.arange(y_min, y_max, 0.1))\n",
    "\n",
    "f, ax = plt.subplots()\n",
    "\n",
    "Z = (model.predict(np.c_[xx.ravel(), yy.ravel()]) > 0.5).astype('int')\n",
    "Z = Z.reshape(xx.shape)\n",
    "ax.contourf(xx, yy, Z, alpha=0.4)\n",
    "ax.scatter(X[:, 0], X[:, 1], c = y, s=30, edgecolor=\"k\")\n",
    "ax.set_xlabel('X1')\n",
    "ax.set_ylabel('X2')\n",
    "ax.set_title('Decision Boundary: Shallow Network')\n",
    "plt.show()"
   ]
  },
  {
   "cell_type": "markdown",
   "metadata": {
    "slideshow": {
     "slide_type": "slide"
    }
   },
   "source": [
    "The model object returns a history method:\n",
    "- history attribute is a dictionary storing:\n",
    "   - training/validation losses.\n",
    "   - metrics on train/validation sets."
   ]
  },
  {
   "cell_type": "code",
   "execution_count": 20,
   "metadata": {
    "cell_style": "center",
    "slideshow": {
     "slide_type": "fragment"
    }
   },
   "outputs": [
    {
     "data": {
      "text/html": [
       "<div>\n",
       "<style scoped>\n",
       "    .dataframe tbody tr th:only-of-type {\n",
       "        vertical-align: middle;\n",
       "    }\n",
       "\n",
       "    .dataframe tbody tr th {\n",
       "        vertical-align: top;\n",
       "    }\n",
       "\n",
       "    .dataframe thead th {\n",
       "        text-align: right;\n",
       "    }\n",
       "</style>\n",
       "<table border=\"1\" class=\"dataframe\">\n",
       "  <thead>\n",
       "    <tr style=\"text-align: right;\">\n",
       "      <th></th>\n",
       "      <th>loss</th>\n",
       "      <th>accuracy</th>\n",
       "      <th>auc</th>\n",
       "      <th>val_loss</th>\n",
       "      <th>val_accuracy</th>\n",
       "      <th>val_auc</th>\n",
       "    </tr>\n",
       "    <tr>\n",
       "      <th>epochs</th>\n",
       "      <th></th>\n",
       "      <th></th>\n",
       "      <th></th>\n",
       "      <th></th>\n",
       "      <th></th>\n",
       "      <th></th>\n",
       "    </tr>\n",
       "  </thead>\n",
       "  <tbody>\n",
       "    <tr>\n",
       "      <th>0</th>\n",
       "      <td>0.687923</td>\n",
       "      <td>0.520833</td>\n",
       "      <td>0.558907</td>\n",
       "      <td>0.692222</td>\n",
       "      <td>0.500000</td>\n",
       "      <td>0.691964</td>\n",
       "    </tr>\n",
       "    <tr>\n",
       "      <th>1</th>\n",
       "      <td>0.664680</td>\n",
       "      <td>0.656250</td>\n",
       "      <td>0.733555</td>\n",
       "      <td>0.671784</td>\n",
       "      <td>0.562500</td>\n",
       "      <td>0.842857</td>\n",
       "    </tr>\n",
       "    <tr>\n",
       "      <th>2</th>\n",
       "      <td>0.642554</td>\n",
       "      <td>0.708333</td>\n",
       "      <td>0.845969</td>\n",
       "      <td>0.652274</td>\n",
       "      <td>0.583333</td>\n",
       "      <td>0.950893</td>\n",
       "    </tr>\n",
       "    <tr>\n",
       "      <th>3</th>\n",
       "      <td>0.622964</td>\n",
       "      <td>0.755208</td>\n",
       "      <td>0.909349</td>\n",
       "      <td>0.633363</td>\n",
       "      <td>0.666667</td>\n",
       "      <td>0.972321</td>\n",
       "    </tr>\n",
       "    <tr>\n",
       "      <th>4</th>\n",
       "      <td>0.603178</td>\n",
       "      <td>0.802083</td>\n",
       "      <td>0.940929</td>\n",
       "      <td>0.615838</td>\n",
       "      <td>0.729167</td>\n",
       "      <td>0.970536</td>\n",
       "    </tr>\n",
       "  </tbody>\n",
       "</table>\n",
       "</div>"
      ],
      "text/plain": [
       "            loss  accuracy       auc  val_loss  val_accuracy   val_auc\n",
       "epochs                                                                \n",
       "0       0.687923  0.520833  0.558907  0.692222      0.500000  0.691964\n",
       "1       0.664680  0.656250  0.733555  0.671784      0.562500  0.842857\n",
       "2       0.642554  0.708333  0.845969  0.652274      0.583333  0.950893\n",
       "3       0.622964  0.755208  0.909349  0.633363      0.666667  0.972321\n",
       "4       0.603178  0.802083  0.940929  0.615838      0.729167  0.970536"
      ]
     },
     "execution_count": 20,
     "metadata": {},
     "output_type": "execute_result"
    }
   ],
   "source": [
    "train_accuracy = history.history['loss']\n",
    "validation_accuracy = history.history['val_loss']\n",
    "train_history = pd.DataFrame(history.history)\n",
    "train_history.index.name = 'epochs'\n",
    "train_history.head()"
   ]
  },
  {
   "cell_type": "markdown",
   "metadata": {
    "slideshow": {
     "slide_type": "slide"
    }
   },
   "source": [
    "Plotting history:"
   ]
  },
  {
   "cell_type": "code",
   "execution_count": 21,
   "metadata": {
    "cell_style": "split",
    "slideshow": {
     "slide_type": "slide"
    }
   },
   "outputs": [
    {
     "data": {
      "image/png": "[encoded data removed]",
      "text/plain": [
       "<Figure size 640x480 with 1 Axes>"
      ]
     },
     "metadata": {},
     "output_type": "display_data"
    }
   ],
   "source": [
    "col_list = ['loss', 'val_loss']\n",
    "train_history[col_list].plot()\n",
    "plt.ylabel('Binary cross entropy')\n",
    "plt.title('Training loss history')\n",
    "plt.show()"
   ]
  },
  {
   "cell_type": "code",
   "execution_count": 22,
   "metadata": {
    "cell_style": "split",
    "slideshow": {
     "slide_type": "fragment"
    }
   },
   "outputs": [
    {
     "data": {
      "image/png": "[encoded data removed]",
      "text/plain": [
       "<Figure size 640x480 with 1 Axes>"
      ]
     },
     "metadata": {},
     "output_type": "display_data"
    }
   ],
   "source": [
    "col_list = ['accuracy', 'val_accuracy']\n",
    "train_history[col_list].plot()\n",
    "plt.ylabel('Classification Accuracy')\n",
    "plt.title('Training loss history')\n",
    "plt.show()"
   ]
  },
  {
   "cell_type": "markdown",
   "metadata": {
    "cell_style": "center",
    "slideshow": {
     "slide_type": "slide"
    }
   },
   "source": [
    "#### Using neural networks to solve some harder problems"
   ]
  },
  {
   "cell_type": "markdown",
   "metadata": {
    "slideshow": {
     "slide_type": "slide"
    }
   },
   "source": [
    "#### Image classificaton of hand-written digits\n",
    "\n",
    "- The MNIST dataset: a classic benchmark for neural network image classification"
   ]
  },
  {
   "cell_type": "code",
   "execution_count": 23,
   "metadata": {
    "slideshow": {
     "slide_type": "slide"
    }
   },
   "outputs": [],
   "source": [
    "from tensorflow.keras import datasets\n",
    "from tensorflow.keras.utils import to_categorical # for target labels\n",
    "from tensorflow.keras.layers import Flatten # takes 2D input and turns into 1D array"
   ]
  },
  {
   "cell_type": "code",
   "execution_count": 24,
   "metadata": {
    "cell_style": "center",
    "slideshow": {
     "slide_type": "slide"
    }
   },
   "outputs": [],
   "source": [
    "# load in the data\n",
    "(x_train, y_train), (x_test, y_test) = datasets.mnist.load_data()"
   ]
  },
  {
   "cell_type": "code",
   "execution_count": 25,
   "metadata": {
    "scrolled": true,
    "slideshow": {
     "slide_type": "slide"
    }
   },
   "outputs": [
    {
     "data": {
      "image/png": "[encoded data removed]",
      "text/plain": [
       "<Figure size 640x480 with 9 Axes>"
      ]
     },
     "metadata": {},
     "output_type": "display_data"
    }
   ],
   "source": [
    "for i in range(9):  \n",
    "    plt.subplot(330 + 1 + i)\n",
    "    plt.imshow(x_train[i], cmap=pyplot.get_cmap('gray'))\n",
    "plt.show()"
   ]
  },
  {
   "cell_type": "markdown",
   "metadata": {
    "cell_style": "split",
    "slideshow": {
     "slide_type": "slide"
    }
   },
   "source": [
    "Good practice to normalize/standardize feature inputs:\n",
    "- makes learning faster (optimization doesn't depend on variable scale)\n"
   ]
  },
  {
   "cell_type": "markdown",
   "metadata": {
    "cell_style": "split",
    "slideshow": {
     "slide_type": "fragment"
    }
   },
   "source": [
    "<img src = \"Images/normalize_nn.png\" >"
   ]
  },
  {
   "cell_type": "markdown",
   "metadata": {
    "slideshow": {
     "slide_type": "fragment"
    }
   },
   "source": [
    "Another reason:\n",
    "- keeping values small helps keeps weights stable"
   ]
  },
  {
   "cell_type": "code",
   "execution_count": 26,
   "metadata": {
    "slideshow": {
     "slide_type": "slide"
    }
   },
   "outputs": [
    {
     "data": {
      "text/plain": [
       "array([[0., 0., 0., ..., 1., 0., 0.],\n",
       "       [0., 0., 1., ..., 0., 0., 0.],\n",
       "       [0., 1., 0., ..., 0., 0., 0.],\n",
       "       ...,\n",
       "       [0., 0., 0., ..., 0., 0., 0.],\n",
       "       [0., 0., 0., ..., 0., 0., 0.],\n",
       "       [0., 0., 0., ..., 0., 0., 0.]], dtype=float32)"
      ]
     },
     "execution_count": 26,
     "metadata": {},
     "output_type": "execute_result"
    }
   ],
   "source": [
    "x_train = x_train/255 # normalization\n",
    "x_test = x_test/255\n",
    "\n",
    "# Keras requires multi-class labels to be one-hot encoded\n",
    "y_tr_one_hot = to_categorical(y_train)\n",
    "y_tt_one_hot = to_categorical(y_test)\n",
    "y_tt_one_hot"
   ]
  },
  {
   "cell_type": "markdown",
   "metadata": {
    "heading_collapsed": true,
    "hidden": true,
    "slideshow": {
     "slide_type": "slide"
    }
   },
   "source": [
    "#### Sequential model: add another hidden layer\n",
    "\n",
    "- additional layer will help us learn more complex features\n",
    "- note: we've added a few more units in first hidden layer as well."
   ]
  },
  {
   "cell_type": "code",
   "execution_count": 27,
   "metadata": {
    "slideshow": {
     "slide_type": "fragment"
    }
   },
   "outputs": [],
   "source": [
    "model_images = Sequential()\n",
    "model_images.add(Flatten(input_shape=(28, 28))) # flattens each 28x28 image into a vector\n",
    "model_images.add(Dense(32, activation='relu'))\n",
    "model_images.add(Dense(8, activation='relu'))\n",
    "model_images.add(Dense(10, activation='softmax')) # number of units = number of target classes"
   ]
  },
  {
   "cell_type": "code",
   "execution_count": 28,
   "metadata": {
    "slideshow": {
     "slide_type": "fragment"
    }
   },
   "outputs": [],
   "source": [
    "model_images.compile(optimizer='Adam', loss='categorical_crossentropy', metrics=['accuracy'] )"
   ]
  },
  {
   "cell_type": "markdown",
   "metadata": {
    "heading_collapsed": true,
    "hidden": true,
    "slideshow": {
     "slide_type": "slide"
    }
   },
   "source": [
    "Let's train the model.\n",
    "\n",
    "- Here we will use **validation** loss: stopping to prevent overfitting."
   ]
  },
  {
   "cell_type": "code",
   "execution_count": 29,
   "metadata": {
    "slideshow": {
     "slide_type": "fragment"
    }
   },
   "outputs": [],
   "source": [
    "valcallback = EarlyStopping(monitor='val_loss', mode='min', verbose = 1, patience = 2)"
   ]
  },
  {
   "cell_type": "code",
   "execution_count": 30,
   "metadata": {
    "scrolled": true,
    "slideshow": {
     "slide_type": "slide"
    }
   },
   "outputs": [
    {
     "name": "stdout",
     "output_type": "stream",
     "text": [
      "Epoch 1/100\n",
      "1500/1500 [==============================] - 2s 973us/step - loss: 0.5186 - accuracy: 0.8431 - val_loss: 0.2442 - val_accuracy: 0.9311\n",
      "Epoch 2/100\n",
      "1500/1500 [==============================] - 1s 849us/step - loss: 0.2229 - accuracy: 0.9354 - val_loss: 0.1911 - val_accuracy: 0.9449\n",
      "Epoch 3/100\n",
      "1500/1500 [==============================] - 1s 896us/step - loss: 0.1729 - accuracy: 0.9494 - val_loss: 0.1640 - val_accuracy: 0.9535\n",
      "Epoch 4/100\n",
      "1500/1500 [==============================] - 1s 847us/step - loss: 0.1455 - accuracy: 0.9574 - val_loss: 0.1514 - val_accuracy: 0.9555\n",
      "Epoch 5/100\n",
      "1500/1500 [==============================] - 1s 848us/step - loss: 0.1253 - accuracy: 0.9626 - val_loss: 0.1474 - val_accuracy: 0.9532\n",
      "Epoch 6/100\n",
      "1500/1500 [==============================] - 1s 844us/step - loss: 0.1104 - accuracy: 0.9671 - val_loss: 0.1429 - val_accuracy: 0.9587\n",
      "Epoch 7/100\n",
      "1500/1500 [==============================] - 1s 853us/step - loss: 0.0983 - accuracy: 0.9702 - val_loss: 0.1431 - val_accuracy: 0.9575\n",
      "Epoch 8/100\n",
      "1500/1500 [==============================] - 1s 850us/step - loss: 0.0905 - accuracy: 0.9730 - val_loss: 0.1353 - val_accuracy: 0.9611\n",
      "Epoch 9/100\n",
      "1500/1500 [==============================] - 1s 853us/step - loss: 0.0831 - accuracy: 0.9749 - val_loss: 0.1320 - val_accuracy: 0.9629\n",
      "Epoch 10/100\n",
      "1500/1500 [==============================] - 1s 851us/step - loss: 0.0769 - accuracy: 0.9761 - val_loss: 0.1367 - val_accuracy: 0.9628\n",
      "Epoch 11/100\n",
      "1500/1500 [==============================] - 1s 845us/step - loss: 0.0714 - accuracy: 0.9783 - val_loss: 0.1394 - val_accuracy: 0.9613\n",
      "Epoch 12/100\n",
      "1500/1500 [==============================] - 1s 851us/step - loss: 0.0667 - accuracy: 0.9788 - val_loss: 0.1329 - val_accuracy: 0.9637\n",
      "Epoch 13/100\n",
      "1500/1500 [==============================] - 1s 882us/step - loss: 0.0634 - accuracy: 0.9800 - val_loss: 0.1387 - val_accuracy: 0.9622\n",
      "Epoch 14/100\n",
      "1500/1500 [==============================] - 1s 856us/step - loss: 0.0579 - accuracy: 0.9821 - val_loss: 0.1376 - val_accuracy: 0.9628\n",
      "Epoch 15/100\n",
      "1500/1500 [==============================] - 1s 847us/step - loss: 0.0558 - accuracy: 0.9823 - val_loss: 0.1453 - val_accuracy: 0.9622\n",
      "Epoch 16/100\n",
      "1500/1500 [==============================] - 1s 842us/step - loss: 0.0514 - accuracy: 0.9837 - val_loss: 0.1484 - val_accuracy: 0.9612\n",
      "Epoch 17/100\n",
      "1500/1500 [==============================] - 1s 848us/step - loss: 0.0492 - accuracy: 0.9849 - val_loss: 0.1466 - val_accuracy: 0.9614\n",
      "Epoch 18/100\n",
      "1500/1500 [==============================] - 1s 853us/step - loss: 0.0468 - accuracy: 0.9850 - val_loss: 0.1487 - val_accuracy: 0.9642\n",
      "Epoch 19/100\n",
      "1500/1500 [==============================] - 1s 847us/step - loss: 0.0435 - accuracy: 0.9863 - val_loss: 0.1558 - val_accuracy: 0.9627\n",
      "Epoch 20/100\n",
      "1500/1500 [==============================] - 1s 843us/step - loss: 0.0425 - accuracy: 0.9865 - val_loss: 0.1673 - val_accuracy: 0.9605\n",
      "Epoch 21/100\n",
      "1500/1500 [==============================] - 1s 855us/step - loss: 0.0403 - accuracy: 0.9870 - val_loss: 0.1675 - val_accuracy: 0.9624\n",
      "Epoch 22/100\n",
      "1500/1500 [==============================] - 1s 848us/step - loss: 0.0357 - accuracy: 0.9885 - val_loss: 0.1590 - val_accuracy: 0.9622\n",
      "Epoch 23/100\n",
      "1500/1500 [==============================] - 1s 848us/step - loss: 0.0353 - accuracy: 0.9892 - val_loss: 0.1713 - val_accuracy: 0.9623\n",
      "Epoch 24/100\n",
      "1500/1500 [==============================] - 1s 848us/step - loss: 0.0330 - accuracy: 0.9895 - val_loss: 0.1735 - val_accuracy: 0.9610\n",
      "Epoch 25/100\n",
      "1500/1500 [==============================] - 1s 852us/step - loss: 0.0320 - accuracy: 0.9899 - val_loss: 0.1786 - val_accuracy: 0.9626\n",
      "Epoch 26/100\n",
      "1500/1500 [==============================] - 1s 853us/step - loss: 0.0304 - accuracy: 0.9907 - val_loss: 0.1709 - val_accuracy: 0.9627\n",
      "Epoch 27/100\n",
      "1500/1500 [==============================] - 1s 878us/step - loss: 0.0294 - accuracy: 0.9902 - val_loss: 0.1769 - val_accuracy: 0.9618\n",
      "Epoch 28/100\n",
      "1500/1500 [==============================] - 1s 877us/step - loss: 0.0275 - accuracy: 0.9912 - val_loss: 0.1811 - val_accuracy: 0.9616\n",
      "Epoch 29/100\n",
      "1500/1500 [==============================] - 1s 859us/step - loss: 0.0267 - accuracy: 0.9912 - val_loss: 0.1851 - val_accuracy: 0.9625\n",
      "Epoch 30/100\n",
      "1500/1500 [==============================] - 1s 861us/step - loss: 0.0246 - accuracy: 0.9923 - val_loss: 0.1814 - val_accuracy: 0.9624\n",
      "Epoch 31/100\n",
      "1500/1500 [==============================] - 1s 875us/step - loss: 0.0247 - accuracy: 0.9916 - val_loss: 0.1926 - val_accuracy: 0.9607\n",
      "Epoch 32/100\n",
      "1500/1500 [==============================] - 1s 873us/step - loss: 0.0218 - accuracy: 0.9931 - val_loss: 0.1902 - val_accuracy: 0.9625\n",
      "Epoch 33/100\n",
      "1500/1500 [==============================] - 1s 872us/step - loss: 0.0219 - accuracy: 0.9929 - val_loss: 0.2184 - val_accuracy: 0.9572\n",
      "Epoch 34/100\n",
      "1500/1500 [==============================] - 1s 860us/step - loss: 0.0203 - accuracy: 0.9934 - val_loss: 0.2057 - val_accuracy: 0.9606\n",
      "Epoch 35/100\n",
      "1500/1500 [==============================] - 1s 854us/step - loss: 0.0200 - accuracy: 0.9934 - val_loss: 0.2214 - val_accuracy: 0.9569\n",
      "Epoch 36/100\n",
      "1500/1500 [==============================] - 1s 863us/step - loss: 0.0201 - accuracy: 0.9934 - val_loss: 0.2105 - val_accuracy: 0.9604\n",
      "Epoch 37/100\n",
      "1500/1500 [==============================] - 1s 848us/step - loss: 0.0180 - accuracy: 0.9941 - val_loss: 0.2089 - val_accuracy: 0.9626\n",
      "Epoch 38/100\n",
      "1500/1500 [==============================] - 1s 845us/step - loss: 0.0178 - accuracy: 0.9939 - val_loss: 0.2086 - val_accuracy: 0.9620\n",
      "Epoch 39/100\n",
      "1500/1500 [==============================] - 1s 844us/step - loss: 0.0175 - accuracy: 0.9944 - val_loss: 0.2336 - val_accuracy: 0.9584\n",
      "Epoch 40/100\n",
      "1500/1500 [==============================] - 1s 838us/step - loss: 0.0155 - accuracy: 0.9948 - val_loss: 0.2210 - val_accuracy: 0.9603\n",
      "Epoch 41/100\n",
      "1500/1500 [==============================] - 1s 851us/step - loss: 0.0152 - accuracy: 0.9951 - val_loss: 0.2282 - val_accuracy: 0.9595\n",
      "Epoch 42/100\n",
      "1500/1500 [==============================] - 1s 851us/step - loss: 0.0146 - accuracy: 0.9952 - val_loss: 0.2684 - val_accuracy: 0.9573\n",
      "Epoch 43/100\n",
      "1500/1500 [==============================] - 1s 862us/step - loss: 0.0162 - accuracy: 0.9948 - val_loss: 0.2382 - val_accuracy: 0.9605\n",
      "Epoch 44/100\n",
      "1500/1500 [==============================] - 1s 855us/step - loss: 0.0128 - accuracy: 0.9957 - val_loss: 0.2343 - val_accuracy: 0.9607\n",
      "Epoch 45/100\n",
      "1500/1500 [==============================] - 1s 845us/step - loss: 0.0140 - accuracy: 0.9953 - val_loss: 0.2499 - val_accuracy: 0.9602\n",
      "Epoch 46/100\n",
      "1500/1500 [==============================] - 1s 858us/step - loss: 0.0148 - accuracy: 0.9949 - val_loss: 0.2416 - val_accuracy: 0.9610\n",
      "Epoch 47/100\n",
      "1500/1500 [==============================] - 1s 840us/step - loss: 0.0132 - accuracy: 0.9959 - val_loss: 0.2525 - val_accuracy: 0.9590\n",
      "Epoch 48/100\n",
      "1500/1500 [==============================] - 1s 845us/step - loss: 0.0125 - accuracy: 0.9960 - val_loss: 0.2651 - val_accuracy: 0.9586\n",
      "Epoch 49/100\n",
      "1500/1500 [==============================] - 1s 838us/step - loss: 0.0146 - accuracy: 0.9949 - val_loss: 0.2568 - val_accuracy: 0.9600\n",
      "Epoch 50/100\n",
      "1500/1500 [==============================] - 1s 877us/step - loss: 0.0102 - accuracy: 0.9970 - val_loss: 0.2663 - val_accuracy: 0.9588\n",
      "Epoch 51/100\n",
      "1500/1500 [==============================] - 1s 831us/step - loss: 0.0115 - accuracy: 0.9964 - val_loss: 0.2914 - val_accuracy: 0.9557\n",
      "Epoch 52/100\n",
      "1500/1500 [==============================] - 1s 850us/step - loss: 0.0099 - accuracy: 0.9965 - val_loss: 0.2630 - val_accuracy: 0.9605\n",
      "Epoch 53/100\n",
      "1500/1500 [==============================] - 1s 838us/step - loss: 0.0124 - accuracy: 0.9955 - val_loss: 0.2718 - val_accuracy: 0.9597\n",
      "Epoch 54/100\n",
      "1500/1500 [==============================] - 1s 837us/step - loss: 0.0097 - accuracy: 0.9969 - val_loss: 0.2739 - val_accuracy: 0.9566\n",
      "Epoch 55/100\n",
      "1500/1500 [==============================] - 1s 835us/step - loss: 0.0111 - accuracy: 0.9965 - val_loss: 0.2890 - val_accuracy: 0.9595\n",
      "Epoch 56/100\n"
     ]
    },
    {
     "name": "stdout",
     "output_type": "stream",
     "text": [
      "1500/1500 [==============================] - 1s 834us/step - loss: 0.0109 - accuracy: 0.9961 - val_loss: 0.2788 - val_accuracy: 0.9612\n",
      "Epoch 57/100\n",
      "1500/1500 [==============================] - 1s 839us/step - loss: 0.0093 - accuracy: 0.9973 - val_loss: 0.2812 - val_accuracy: 0.9603\n",
      "Epoch 58/100\n",
      "1500/1500 [==============================] - 1s 839us/step - loss: 0.0112 - accuracy: 0.9964 - val_loss: 0.2913 - val_accuracy: 0.9594\n",
      "Epoch 59/100\n",
      "1500/1500 [==============================] - 1s 840us/step - loss: 0.0100 - accuracy: 0.9967 - val_loss: 0.2868 - val_accuracy: 0.9590\n",
      "Epoch 60/100\n",
      "1500/1500 [==============================] - 1s 849us/step - loss: 0.0117 - accuracy: 0.9963 - val_loss: 0.3238 - val_accuracy: 0.9574\n",
      "Epoch 61/100\n",
      "1500/1500 [==============================] - 1s 837us/step - loss: 0.0093 - accuracy: 0.9968 - val_loss: 0.3018 - val_accuracy: 0.9595\n",
      "Epoch 62/100\n",
      "1500/1500 [==============================] - 1s 833us/step - loss: 0.0084 - accuracy: 0.9975 - val_loss: 0.3197 - val_accuracy: 0.9583\n",
      "Epoch 63/100\n",
      "1500/1500 [==============================] - 1s 836us/step - loss: 0.0118 - accuracy: 0.9960 - val_loss: 0.2875 - val_accuracy: 0.9610\n",
      "Epoch 64/100\n",
      "1500/1500 [==============================] - 1s 835us/step - loss: 0.0086 - accuracy: 0.9973 - val_loss: 0.2994 - val_accuracy: 0.9605\n",
      "Epoch 65/100\n",
      "1500/1500 [==============================] - 1s 839us/step - loss: 0.0104 - accuracy: 0.9965 - val_loss: 0.3000 - val_accuracy: 0.9597\n",
      "Epoch 66/100\n",
      "1500/1500 [==============================] - 1s 837us/step - loss: 0.0084 - accuracy: 0.9975 - val_loss: 0.2986 - val_accuracy: 0.9624\n",
      "Epoch 67/100\n",
      "1500/1500 [==============================] - 1s 826us/step - loss: 0.0074 - accuracy: 0.9975 - val_loss: 0.3156 - val_accuracy: 0.9603\n",
      "Epoch 68/100\n",
      "1500/1500 [==============================] - 1s 829us/step - loss: 0.0109 - accuracy: 0.9966 - val_loss: 0.3236 - val_accuracy: 0.9590\n",
      "Epoch 69/100\n",
      "1500/1500 [==============================] - 1s 827us/step - loss: 0.0102 - accuracy: 0.9965 - val_loss: 0.3442 - val_accuracy: 0.9569\n",
      "Epoch 70/100\n",
      "1500/1500 [==============================] - 1s 829us/step - loss: 0.0058 - accuracy: 0.9981 - val_loss: 0.3248 - val_accuracy: 0.9596\n",
      "Epoch 71/100\n",
      "1500/1500 [==============================] - 1s 840us/step - loss: 0.0091 - accuracy: 0.9970 - val_loss: 0.3344 - val_accuracy: 0.9585\n",
      "Epoch 72/100\n",
      "1500/1500 [==============================] - 1s 826us/step - loss: 0.0087 - accuracy: 0.9971 - val_loss: 0.3181 - val_accuracy: 0.9612\n",
      "Epoch 73/100\n",
      "1500/1500 [==============================] - 1s 828us/step - loss: 0.0080 - accuracy: 0.9973 - val_loss: 0.3331 - val_accuracy: 0.9588\n",
      "Epoch 74/100\n",
      "1500/1500 [==============================] - 1s 827us/step - loss: 0.0102 - accuracy: 0.9965 - val_loss: 0.3184 - val_accuracy: 0.9602\n",
      "Epoch 75/100\n",
      "1500/1500 [==============================] - 1s 858us/step - loss: 0.0078 - accuracy: 0.9975 - val_loss: 0.3552 - val_accuracy: 0.9587\n"
     ]
    }
   ],
   "source": [
    "history_mnist = model_images.fit(x_train, y_tr_one_hot, epochs=100, batch_size= 32, validation_split = 0.2, \n",
    "                 callbacks = [trainCallback] )"
   ]
  },
  {
   "cell_type": "code",
   "execution_count": 31,
   "metadata": {
    "cell_style": "center",
    "slideshow": {
     "slide_type": "slide"
    }
   },
   "outputs": [
    {
     "name": "stdout",
     "output_type": "stream",
     "text": [
      "313/313 [==============================] - 0s 444us/step\n"
     ]
    },
    {
     "data": {
      "text/plain": [
       "array([[3.3761588e-17, 1.1438723e-21, 1.0889260e-11, ..., 1.0000000e+00,\n",
       "        2.2604058e-22, 1.9663833e-17],\n",
       "       [2.8611241e-18, 9.1775386e-22, 1.0000000e+00, ..., 5.9695886e-38,\n",
       "        7.5135024e-28, 0.0000000e+00],\n",
       "       [9.9442122e-20, 1.0000000e+00, 2.6396782e-12, ..., 6.4120211e-09,\n",
       "        1.6727969e-09, 9.8128276e-13],\n",
       "       ...,\n",
       "       [6.0927043e-35, 1.5678779e-21, 9.7583810e-36, ..., 3.1728962e-21,\n",
       "        6.5674448e-17, 1.4360846e-13],\n",
       "       [0.0000000e+00, 2.3994428e-30, 0.0000000e+00, ..., 0.0000000e+00,\n",
       "        2.0681970e-22, 2.9389399e-37],\n",
       "       [7.3188011e-14, 1.7282173e-19, 7.3562611e-23, ..., 5.4075180e-37,\n",
       "        7.0264841e-18, 4.8055144e-28]], dtype=float32)"
      ]
     },
     "execution_count": 31,
     "metadata": {},
     "output_type": "execute_result"
    }
   ],
   "source": [
    "# probability for each class\n",
    "y_proba = model_images.predict(x_test)\n",
    "y_proba"
   ]
  },
  {
   "cell_type": "code",
   "execution_count": 32,
   "metadata": {
    "cell_style": "center",
    "slideshow": {
     "slide_type": "fragment"
    }
   },
   "outputs": [
    {
     "data": {
      "text/plain": [
       "[0.34466880559921265, 0.9599000215530396]"
      ]
     },
     "execution_count": 32,
     "metadata": {},
     "output_type": "execute_result"
    }
   ],
   "source": [
    "model_images.evaluate(x_test, y_tt_one_hot, verbose = 0)"
   ]
  },
  {
   "cell_type": "code",
   "execution_count": 33,
   "metadata": {
    "cell_style": "split",
    "slideshow": {
     "slide_type": "slide"
    }
   },
   "outputs": [
    {
     "data": {
      "image/png": "[encoded data removed]",
      "text/plain": [
       "<Figure size 640x480 with 1 Axes>"
      ]
     },
     "metadata": {},
     "output_type": "display_data"
    }
   ],
   "source": [
    "train_mnist_history = pd.DataFrame(history_mnist.history)\n",
    "train_mnist_history.index.name = 'epochs'\n",
    "\n",
    "col_list = ['loss', 'val_loss']\n",
    "train_mnist_history[col_list].plot()\n",
    "plt.ylabel('Categorical cross entropy')\n",
    "plt.title('Training loss history')\n",
    "plt.show()"
   ]
  },
  {
   "cell_type": "code",
   "execution_count": 34,
   "metadata": {
    "cell_style": "split",
    "slideshow": {
     "slide_type": "slide"
    }
   },
   "outputs": [
    {
     "data": {
      "image/png": "[encoded data removed]",
      "text/plain": [
       "<Figure size 640x480 with 1 Axes>"
      ]
     },
     "metadata": {},
     "output_type": "display_data"
    }
   ],
   "source": [
    "col_list = ['accuracy', 'val_accuracy']\n",
    "train_mnist_history[col_list].plot()\n",
    "plt.ylabel('Accuracy')\n",
    "plt.title('Training loss history')\n",
    "plt.show()"
   ]
  },
  {
   "cell_type": "markdown",
   "metadata": {
    "cell_style": "split",
    "slideshow": {
     "slide_type": "fragment"
    }
   },
   "source": [
    "Clearly, some overfitting."
   ]
  },
  {
   "cell_type": "markdown",
   "metadata": {
    "slideshow": {
     "slide_type": "slide"
    }
   },
   "source": [
    "Getting the class predictions from softmax probabilities."
   ]
  },
  {
   "cell_type": "code",
   "execution_count": 35,
   "metadata": {
    "slideshow": {
     "slide_type": "fragment"
    }
   },
   "outputs": [
    {
     "data": {
      "text/plain": [
       "array([7, 2, 1, ..., 4, 5, 6])"
      ]
     },
     "execution_count": 35,
     "metadata": {},
     "output_type": "execute_result"
    }
   ],
   "source": [
    "# argmax axis = -1 gets the column index of maximum probability for each row.\n",
    "# column index corresponds to digit classes (numbers 0 -9)\n",
    "predicted = np.argmax(y_proba, axis=-1)\n",
    "predicted"
   ]
  },
  {
   "cell_type": "markdown",
   "metadata": {
    "slideshow": {
     "slide_type": "slide"
    }
   },
   "source": [
    "Let's look at our classifier did on the test set in more detail."
   ]
  },
  {
   "cell_type": "code",
   "execution_count": 36,
   "metadata": {
    "cell_style": "split",
    "scrolled": true,
    "slideshow": {
     "slide_type": "fragment"
    }
   },
   "outputs": [
    {
     "data": {
      "image/png": "[encoded data removed]",
      "text/plain": [
       "<Figure size 640x480 with 2 Axes>"
      ]
     },
     "metadata": {},
     "output_type": "display_data"
    }
   ],
   "source": [
    "cm_digits = confusion_matrix(y_test, predicted)\n",
    "disp = ConfusionMatrixDisplay(\n",
    "    confusion_matrix=cm_digits)\n",
    "\n",
    "disp.plot(cmap=plt.cm.Blues)\n",
    "plt.show()"
   ]
  },
  {
   "cell_type": "markdown",
   "metadata": {
    "cell_style": "split",
    "slideshow": {
     "slide_type": "fragment"
    }
   },
   "source": [
    "Not bad:\n",
    "- but in the context of many tasks this is not yet a viable system.\n",
    "- e.g., reading checks, etc"
   ]
  },
  {
   "cell_type": "markdown",
   "metadata": {
    "cell_style": "split",
    "slideshow": {
     "slide_type": "fragment"
    }
   },
   "source": [
    "- Next steps: increasing network complexity / train longer but not overfitting\n",
    "- getting better fitting and test-set generalization"
   ]
  },
  {
   "cell_type": "markdown",
   "metadata": {
    "slideshow": {
     "slide_type": "slide"
    }
   },
   "source": [
    "<center><b>Network Regularization</b></center>"
   ]
  }
 ],
 "metadata": {
  "celltoolbar": "Slideshow",
  "kernelspec": {
   "display_name": "new-learn",
   "language": "python",
   "name": "new-learn"
  },
  "language_info": {
   "codemirror_mode": {
    "name": "ipython",
    "version": 3
   },
   "file_extension": ".py",
   "mimetype": "text/x-python",
   "name": "python",
   "nbconvert_exporter": "python",
   "pygments_lexer": "ipython3",
   "version": "3.11.5"
  }
 },
 "nbformat": 4,
 "nbformat_minor": 4
}
