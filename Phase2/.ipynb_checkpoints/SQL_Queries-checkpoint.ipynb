{
 "cells": [
  {
   "cell_type": "markdown",
   "metadata": {
    "slideshow": {
     "slide_type": "slide"
    }
   },
   "source": [
    "<div style=\"color:white;\n",
    "           display:fill;\n",
    "           border-radius:5px;\n",
    "           background-color:#5642C5;\n",
    "           font-size:200%;\n",
    "           font-family:Arial;letter-spacing:0.5px\">\n",
    "\n",
    "<p width = 20%, style=\"padding: 10px;\n",
    "              color:white;\">\n",
    "SQL: Introduction and Basic Querying\n",
    "</p>\n",
    "</div>\n",
    "\n",
    "Data Science Cohort Live NYC August 2023\n",
    "<p>Phase 2</p>\n",
    "<br>\n",
    "<br>\n",
    "\n",
    "<div align = \"right\">\n",
    "<img src=\"Images/flatiron-school-logo.png\" align = \"right\" width=\"200\"/>\n",
    "</div>\n",
    "    "
   ]
  },
  {
   "cell_type": "markdown",
   "metadata": {
    "cell_style": "center",
    "slideshow": {
     "slide_type": "slide"
    }
   },
   "source": [
    "#### Databases\n",
    "\n",
    "Data for organizations: typically stored in a **database**.\n",
    "\n",
    "- Database: organized collection of structured information.\n",
    "- Typically fairly large and hosted by dedicated servers.\n",
    "- A database controlled by a database management system (DBMS).\n",
    "\n"
   ]
  },
  {
   "cell_type": "markdown",
   "metadata": {
    "cell_style": "center",
    "slideshow": {
     "slide_type": "slide"
    }
   },
   "source": [
    "<div align = \"center\">\n",
    "    <center><img src=\"Images/dbms.jpg\" align = \"center\" width=\"500\"/></center>\n",
    "</div>"
   ]
  },
  {
   "cell_type": "markdown",
   "metadata": {
    "cell_style": "center",
    "slideshow": {
     "slide_type": "fragment"
    }
   },
   "source": [
    "With DBMS: store, update, share, and access specific subset of database. \n",
    "\n",
    "- CSVs and JSONs are often extracts of some data from a database."
   ]
  },
  {
   "cell_type": "markdown",
   "metadata": {
    "slideshow": {
     "slide_type": "slide"
    }
   },
   "source": [
    "#### The relational database\n",
    "<br>\n",
    "<div align = \"center\">\n",
    "    <center><img src=\"Images/tables_relational.png\" align = \"center\" width=\"700\"/></center>\n",
    "</div>\n",
    "  "
   ]
  },
  {
   "cell_type": "markdown",
   "metadata": {
    "slideshow": {
     "slide_type": "fragment"
    }
   },
   "source": [
    "Tables are linked together by relationships.\n",
    "\n",
    "  Why relational databases are great and what came before (first 5 modules): <br>\n",
    "  https://mariadb.com/kb/en/database-theory/"
   ]
  },
  {
   "cell_type": "markdown",
   "metadata": {
    "slideshow": {
     "slide_type": "slide"
    }
   },
   "source": [
    "Common DBMS for Relational Databases\n",
    "<br>\n",
    "<div>\n",
    "    <center><img src=\"Images/postgresql.png\"  width=\"200\"/></center>\n",
    "    <center><img src=\"Images/mysql.png\"  width=\"300\"/></center>\n",
    "    <center><img src=\"Images/SQLite-Python.jpg\" align = \"center\" width=\"200\"/></center>\n",
    "</div>\n",
    "      \n",
    "</div>"
   ]
  },
  {
   "cell_type": "markdown",
   "metadata": {
    "slideshow": {
     "slide_type": "slide"
    }
   },
   "source": [
    "#### Structured Query Language\n",
    "\n",
    "- De-facto king of languages for interacting with relational databases and their DBMS.\n",
    "- Invaluable for you in almost any data role. \n",
    "- You will use it often to get the data that you need for your analyses.\n",
    "\n",
    "Let's get into using SQL!\n"
   ]
  },
  {
   "cell_type": "code",
   "execution_count": 1,
   "metadata": {
    "slideshow": {
     "slide_type": "slide"
    }
   },
   "outputs": [],
   "source": [
    "# import sqlite\n",
    "import sqlite3\n",
    "import pandas as pd"
   ]
  },
  {
   "cell_type": "markdown",
   "metadata": {
    "cell_style": "split",
    "slideshow": {
     "slide_type": "slide"
    }
   },
   "source": [
    "Interacting with a sqlite database.\n",
    "- Connect to database \n",
    "- Create interface to ask database for stuff\n",
    "- After connection established:\n",
    "    1. Execute query \n",
    "    2. Fetch result \n",
    "- Close connection to database when done with queries.\n"
   ]
  },
  {
   "cell_type": "markdown",
   "metadata": {
    "cell_style": "split",
    "slideshow": {
     "slide_type": "fragment"
    }
   },
   "source": [
    "Commands:\n",
    "- conn = sqlite3.connect(database)\n",
    "- cursor_obj = connection.cursor()\n",
    "- Query database/get result:\n",
    "    1. cursor.execute(SQL_query)\n",
    "    2. cursor.fetchall()\n",
    "- connection.close()"
   ]
  },
  {
   "cell_type": "markdown",
   "metadata": {
    "slideshow": {
     "slide_type": "slide"
    }
   },
   "source": [
    "First, we'll use the sqlite3 package to create a connection to the database, which is currently just stored in that file on our hard drive."
   ]
  },
  {
   "cell_type": "code",
   "execution_count": 2,
   "metadata": {
    "slideshow": {
     "slide_type": "fragment"
    }
   },
   "outputs": [],
   "source": [
    "con = sqlite3.connect('data/flights.db')"
   ]
  },
  {
   "cell_type": "markdown",
   "metadata": {
    "slideshow": {
     "slide_type": "fragment"
    }
   },
   "source": [
    "Next, we'll create a cursor to interact with the database. Like the cursor for your mouse interacts with pixels on your screen, this cursor will allow us to interact with the elements of the database.\n",
    "\n"
   ]
  },
  {
   "cell_type": "code",
   "execution_count": 3,
   "metadata": {
    "slideshow": {
     "slide_type": "fragment"
    }
   },
   "outputs": [],
   "source": [
    "cursor_obj = con.cursor()"
   ]
  },
  {
   "cell_type": "markdown",
   "metadata": {
    "slideshow": {
     "slide_type": "slide"
    }
   },
   "source": [
    "See tables in the sqlite database via command line."
   ]
  },
  {
   "cell_type": "code",
   "execution_count": 4,
   "metadata": {
    "slideshow": {
     "slide_type": "fragment"
    }
   },
   "outputs": [
    {
     "name": "stdout",
     "output_type": "stream",
     "text": [
      "airlines  airports  routes  \n"
     ]
    }
   ],
   "source": [
    "%%bash \n",
    "\n",
    "sqlite3 data/flights.db\n",
    ".tables"
   ]
  },
  {
   "cell_type": "markdown",
   "metadata": {
    "slideshow": {
     "slide_type": "slide"
    }
   },
   "source": [
    "Get schema of sqlite database: whole or single table"
   ]
  },
  {
   "cell_type": "code",
   "execution_count": 5,
   "metadata": {
    "scrolled": true,
    "slideshow": {
     "slide_type": "fragment"
    }
   },
   "outputs": [
    {
     "name": "stdout",
     "output_type": "stream",
     "text": [
      "CREATE TABLE airports (\n",
      "[index] INTEGER,\n",
      "  [id] TEXT,\n",
      "  [name] TEXT,\n",
      "  [city] TEXT,\n",
      "  [country] TEXT,\n",
      "  [code] TEXT,\n",
      "  [icao] TEXT,\n",
      "  [latitude] TEXT,\n",
      "  [longitude] TEXT,\n",
      "  [altitude] TEXT,\n",
      "  [offset] TEXT,\n",
      "  [dst] TEXT,\n",
      "  [timezone] TEXT\n",
      ");\n",
      "CREATE INDEX ix_airports_index ON airports ([index]);\n"
     ]
    }
   ],
   "source": [
    "%%bash\n",
    "sqlite3 data/flights.db\n",
    ".schema airports"
   ]
  },
  {
   "cell_type": "markdown",
   "metadata": {
    "slideshow": {
     "slide_type": "slide"
    }
   },
   "source": [
    "#### SELECT statement\n",
    "\n",
    "Let's explore the following clauses and structure:\n",
    "\n",
    "```sql\n",
    "SELECT columns ( * for all fields)\n",
    "FROM table\n",
    "WHERE condition\n",
    "ORDER BY columns\n",
    "LIMIT number (limits to first n entries of table)\n",
    "```"
   ]
  },
  {
   "cell_type": "markdown",
   "metadata": {
    "slideshow": {
     "slide_type": "slide"
    }
   },
   "source": [
    "#### Example\n",
    "\n",
    "Use the cursor object to execute and retrieve the results of the following query:\n",
    "\n",
    "Retrieve all fields for the first five entries of the database."
   ]
  },
  {
   "cell_type": "code",
   "execution_count": 6,
   "metadata": {
    "cell_style": "split",
    "slideshow": {
     "slide_type": "fragment"
    }
   },
   "outputs": [],
   "source": [
    "# EXECUTE THAT QUERY\n",
    "\n",
    "query = cursor_obj.execute(\"\"\"\n",
    "SELECT *\n",
    "FROM airports\n",
    "LIMIT 5\n",
    "\"\"\")"
   ]
  },
  {
   "cell_type": "code",
   "execution_count": 7,
   "metadata": {
    "cell_style": "split",
    "scrolled": true,
    "slideshow": {
     "slide_type": "fragment"
    }
   },
   "outputs": [
    {
     "data": {
      "text/plain": [
       "[(0,\n",
       "  '1',\n",
       "  'Goroka',\n",
       "  'Goroka',\n",
       "  'Papua New Guinea',\n",
       "  'GKA',\n",
       "  'AYGA',\n",
       "  '-6.081689',\n",
       "  '145.391881',\n",
       "  '5282',\n",
       "  '10',\n",
       "  'U',\n",
       "  'Pacific/Port_Moresby'),\n",
       " (1,\n",
       "  '2',\n",
       "  'Madang',\n",
       "  'Madang',\n",
       "  'Papua New Guinea',\n",
       "  'MAG',\n",
       "  'AYMD',\n",
       "  '-5.207083',\n",
       "  '145.7887',\n",
       "  '20',\n",
       "  '10',\n",
       "  'U',\n",
       "  'Pacific/Port_Moresby'),\n",
       " (2,\n",
       "  '3',\n",
       "  'Mount Hagen',\n",
       "  'Mount Hagen',\n",
       "  'Papua New Guinea',\n",
       "  'HGU',\n",
       "  'AYMH',\n",
       "  '-5.826789',\n",
       "  '144.295861',\n",
       "  '5388',\n",
       "  '10',\n",
       "  'U',\n",
       "  'Pacific/Port_Moresby'),\n",
       " (3,\n",
       "  '4',\n",
       "  'Nadzab',\n",
       "  'Nadzab',\n",
       "  'Papua New Guinea',\n",
       "  'LAE',\n",
       "  'AYNZ',\n",
       "  '-6.569828',\n",
       "  '146.726242',\n",
       "  '239',\n",
       "  '10',\n",
       "  'U',\n",
       "  'Pacific/Port_Moresby'),\n",
       " (4,\n",
       "  '5',\n",
       "  'Port Moresby Jacksons Intl',\n",
       "  'Port Moresby',\n",
       "  'Papua New Guinea',\n",
       "  'POM',\n",
       "  'AYPY',\n",
       "  '-9.443383',\n",
       "  '147.22005',\n",
       "  '146',\n",
       "  '10',\n",
       "  'U',\n",
       "  'Pacific/Port_Moresby')]"
      ]
     },
     "execution_count": 7,
     "metadata": {},
     "output_type": "execute_result"
    }
   ],
   "source": [
    "# FETCH THE RESULTS\n",
    "\n",
    "query.fetchall()"
   ]
  },
  {
   "cell_type": "markdown",
   "metadata": {
    "cell_style": "center",
    "slideshow": {
     "slide_type": "slide"
    }
   },
   "source": [
    "- execute, fetchall protocol gets data in python list form.\n",
    "- can issue commands to create things in database.\n",
    "\n",
    "Now close the connection to the database when you are done."
   ]
  },
  {
   "cell_type": "code",
   "execution_count": 8,
   "metadata": {
    "slideshow": {
     "slide_type": "fragment"
    }
   },
   "outputs": [
    {
     "data": {
      "text/plain": [
       "<sqlite3.Connection at 0x7ff6123ae6c0>"
      ]
     },
     "execution_count": 8,
     "metadata": {},
     "output_type": "execute_result"
    }
   ],
   "source": [
    "con.close()\n",
    "con"
   ]
  },
  {
   "cell_type": "markdown",
   "metadata": {
    "slideshow": {
     "slide_type": "slide"
    }
   },
   "source": [
    "When *just retrieving* tabular data:\n",
    "\n",
    "- Pandas has pd.read_sql(query, database_connection) command."
   ]
  },
  {
   "cell_type": "code",
   "execution_count": 9,
   "metadata": {
    "slideshow": {
     "slide_type": "slide"
    }
   },
   "outputs": [],
   "source": [
    "airports_query = \\\n",
    "\"\"\"\n",
    "SELECT *\n",
    "FROM airports\n",
    "\"\"\""
   ]
  },
  {
   "cell_type": "markdown",
   "metadata": {
    "slideshow": {
     "slide_type": "fragment"
    }
   },
   "source": [
    "Make sure you have a connection to the sql database open."
   ]
  },
  {
   "cell_type": "code",
   "execution_count": 10,
   "metadata": {
    "slideshow": {
     "slide_type": "fragment"
    }
   },
   "outputs": [],
   "source": [
    "con = sqlite3.connect('data/flights.db')"
   ]
  },
  {
   "cell_type": "code",
   "execution_count": 11,
   "metadata": {
    "scrolled": true,
    "slideshow": {
     "slide_type": "slide"
    }
   },
   "outputs": [
    {
     "data": {
      "text/html": [
       "<div>\n",
       "<style scoped>\n",
       "    .dataframe tbody tr th:only-of-type {\n",
       "        vertical-align: middle;\n",
       "    }\n",
       "\n",
       "    .dataframe tbody tr th {\n",
       "        vertical-align: top;\n",
       "    }\n",
       "\n",
       "    .dataframe thead th {\n",
       "        text-align: right;\n",
       "    }\n",
       "</style>\n",
       "<table border=\"1\" class=\"dataframe\">\n",
       "  <thead>\n",
       "    <tr style=\"text-align: right;\">\n",
       "      <th></th>\n",
       "      <th>index</th>\n",
       "      <th>id</th>\n",
       "      <th>name</th>\n",
       "      <th>city</th>\n",
       "      <th>country</th>\n",
       "      <th>code</th>\n",
       "      <th>icao</th>\n",
       "      <th>latitude</th>\n",
       "      <th>longitude</th>\n",
       "      <th>altitude</th>\n",
       "      <th>offset</th>\n",
       "      <th>dst</th>\n",
       "      <th>timezone</th>\n",
       "    </tr>\n",
       "  </thead>\n",
       "  <tbody>\n",
       "    <tr>\n",
       "      <th>0</th>\n",
       "      <td>0</td>\n",
       "      <td>1</td>\n",
       "      <td>Goroka</td>\n",
       "      <td>Goroka</td>\n",
       "      <td>Papua New Guinea</td>\n",
       "      <td>GKA</td>\n",
       "      <td>AYGA</td>\n",
       "      <td>-6.081689</td>\n",
       "      <td>145.391881</td>\n",
       "      <td>5282</td>\n",
       "      <td>10</td>\n",
       "      <td>U</td>\n",
       "      <td>Pacific/Port_Moresby</td>\n",
       "    </tr>\n",
       "    <tr>\n",
       "      <th>1</th>\n",
       "      <td>1</td>\n",
       "      <td>2</td>\n",
       "      <td>Madang</td>\n",
       "      <td>Madang</td>\n",
       "      <td>Papua New Guinea</td>\n",
       "      <td>MAG</td>\n",
       "      <td>AYMD</td>\n",
       "      <td>-5.207083</td>\n",
       "      <td>145.7887</td>\n",
       "      <td>20</td>\n",
       "      <td>10</td>\n",
       "      <td>U</td>\n",
       "      <td>Pacific/Port_Moresby</td>\n",
       "    </tr>\n",
       "    <tr>\n",
       "      <th>2</th>\n",
       "      <td>2</td>\n",
       "      <td>3</td>\n",
       "      <td>Mount Hagen</td>\n",
       "      <td>Mount Hagen</td>\n",
       "      <td>Papua New Guinea</td>\n",
       "      <td>HGU</td>\n",
       "      <td>AYMH</td>\n",
       "      <td>-5.826789</td>\n",
       "      <td>144.295861</td>\n",
       "      <td>5388</td>\n",
       "      <td>10</td>\n",
       "      <td>U</td>\n",
       "      <td>Pacific/Port_Moresby</td>\n",
       "    </tr>\n",
       "    <tr>\n",
       "      <th>3</th>\n",
       "      <td>3</td>\n",
       "      <td>4</td>\n",
       "      <td>Nadzab</td>\n",
       "      <td>Nadzab</td>\n",
       "      <td>Papua New Guinea</td>\n",
       "      <td>LAE</td>\n",
       "      <td>AYNZ</td>\n",
       "      <td>-6.569828</td>\n",
       "      <td>146.726242</td>\n",
       "      <td>239</td>\n",
       "      <td>10</td>\n",
       "      <td>U</td>\n",
       "      <td>Pacific/Port_Moresby</td>\n",
       "    </tr>\n",
       "    <tr>\n",
       "      <th>4</th>\n",
       "      <td>4</td>\n",
       "      <td>5</td>\n",
       "      <td>Port Moresby Jacksons Intl</td>\n",
       "      <td>Port Moresby</td>\n",
       "      <td>Papua New Guinea</td>\n",
       "      <td>POM</td>\n",
       "      <td>AYPY</td>\n",
       "      <td>-9.443383</td>\n",
       "      <td>147.22005</td>\n",
       "      <td>146</td>\n",
       "      <td>10</td>\n",
       "      <td>U</td>\n",
       "      <td>Pacific/Port_Moresby</td>\n",
       "    </tr>\n",
       "  </tbody>\n",
       "</table>\n",
       "</div>"
      ],
      "text/plain": [
       "   index id                        name          city           country code  \\\n",
       "0      0  1                      Goroka        Goroka  Papua New Guinea  GKA   \n",
       "1      1  2                      Madang        Madang  Papua New Guinea  MAG   \n",
       "2      2  3                 Mount Hagen   Mount Hagen  Papua New Guinea  HGU   \n",
       "3      3  4                      Nadzab        Nadzab  Papua New Guinea  LAE   \n",
       "4      4  5  Port Moresby Jacksons Intl  Port Moresby  Papua New Guinea  POM   \n",
       "\n",
       "   icao   latitude   longitude altitude offset dst              timezone  \n",
       "0  AYGA  -6.081689  145.391881     5282     10   U  Pacific/Port_Moresby  \n",
       "1  AYMD  -5.207083    145.7887       20     10   U  Pacific/Port_Moresby  \n",
       "2  AYMH  -5.826789  144.295861     5388     10   U  Pacific/Port_Moresby  \n",
       "3  AYNZ  -6.569828  146.726242      239     10   U  Pacific/Port_Moresby  \n",
       "4  AYPY  -9.443383   147.22005      146     10   U  Pacific/Port_Moresby  "
      ]
     },
     "execution_count": 11,
     "metadata": {},
     "output_type": "execute_result"
    }
   ],
   "source": [
    "# requires reference to open database connection\n",
    "query_result_df = pd.read_sql(airports_query, con)\n",
    "query_result_df.head()"
   ]
  },
  {
   "cell_type": "markdown",
   "metadata": {
    "slideshow": {
     "slide_type": "slide"
    }
   },
   "source": [
    "Selecting particular columns:"
   ]
  },
  {
   "cell_type": "code",
   "execution_count": 12,
   "metadata": {
    "hidden": true,
    "slideshow": {
     "slide_type": "fragment"
    }
   },
   "outputs": [
    {
     "data": {
      "text/html": [
       "<div>\n",
       "<style scoped>\n",
       "    .dataframe tbody tr th:only-of-type {\n",
       "        vertical-align: middle;\n",
       "    }\n",
       "\n",
       "    .dataframe tbody tr th {\n",
       "        vertical-align: top;\n",
       "    }\n",
       "\n",
       "    .dataframe thead th {\n",
       "        text-align: right;\n",
       "    }\n",
       "</style>\n",
       "<table border=\"1\" class=\"dataframe\">\n",
       "  <thead>\n",
       "    <tr style=\"text-align: right;\">\n",
       "      <th></th>\n",
       "      <th>city</th>\n",
       "      <th>country</th>\n",
       "    </tr>\n",
       "  </thead>\n",
       "  <tbody>\n",
       "    <tr>\n",
       "      <th>0</th>\n",
       "      <td>Goroka</td>\n",
       "      <td>Papua New Guinea</td>\n",
       "    </tr>\n",
       "    <tr>\n",
       "      <th>1</th>\n",
       "      <td>Madang</td>\n",
       "      <td>Papua New Guinea</td>\n",
       "    </tr>\n",
       "    <tr>\n",
       "      <th>2</th>\n",
       "      <td>Mount Hagen</td>\n",
       "      <td>Papua New Guinea</td>\n",
       "    </tr>\n",
       "    <tr>\n",
       "      <th>3</th>\n",
       "      <td>Nadzab</td>\n",
       "      <td>Papua New Guinea</td>\n",
       "    </tr>\n",
       "    <tr>\n",
       "      <th>4</th>\n",
       "      <td>Port Moresby</td>\n",
       "      <td>Papua New Guinea</td>\n",
       "    </tr>\n",
       "  </tbody>\n",
       "</table>\n",
       "</div>"
      ],
      "text/plain": [
       "           city           country\n",
       "0        Goroka  Papua New Guinea\n",
       "1        Madang  Papua New Guinea\n",
       "2   Mount Hagen  Papua New Guinea\n",
       "3        Nadzab  Papua New Guinea\n",
       "4  Port Moresby  Papua New Guinea"
      ]
     },
     "execution_count": 12,
     "metadata": {},
     "output_type": "execute_result"
    }
   ],
   "source": [
    "query_result_df = pd.read_sql(\"\"\"\n",
    "\n",
    "SELECT city, country \n",
    "FROM airports\n",
    "\n",
    "\"\"\", con)\n",
    "\n",
    "query_result_df.head(5)"
   ]
  },
  {
   "cell_type": "markdown",
   "metadata": {
    "heading_collapsed": true,
    "hidden": true,
    "slideshow": {
     "slide_type": "slide"
    }
   },
   "source": [
    "#### DISTINCT\n",
    "- Select only unique results of query."
   ]
  },
  {
   "cell_type": "code",
   "execution_count": 13,
   "metadata": {
    "hidden": true,
    "slideshow": {
     "slide_type": "fragment"
    }
   },
   "outputs": [
    {
     "data": {
      "text/html": [
       "<div>\n",
       "<style scoped>\n",
       "    .dataframe tbody tr th:only-of-type {\n",
       "        vertical-align: middle;\n",
       "    }\n",
       "\n",
       "    .dataframe tbody tr th {\n",
       "        vertical-align: top;\n",
       "    }\n",
       "\n",
       "    .dataframe thead th {\n",
       "        text-align: right;\n",
       "    }\n",
       "</style>\n",
       "<table border=\"1\" class=\"dataframe\">\n",
       "  <thead>\n",
       "    <tr style=\"text-align: right;\">\n",
       "      <th></th>\n",
       "      <th>country</th>\n",
       "    </tr>\n",
       "  </thead>\n",
       "  <tbody>\n",
       "    <tr>\n",
       "      <th>0</th>\n",
       "      <td>Papua New Guinea</td>\n",
       "    </tr>\n",
       "    <tr>\n",
       "      <th>1</th>\n",
       "      <td>Greenland</td>\n",
       "    </tr>\n",
       "    <tr>\n",
       "      <th>2</th>\n",
       "      <td>Iceland</td>\n",
       "    </tr>\n",
       "    <tr>\n",
       "      <th>3</th>\n",
       "      <td>Canada</td>\n",
       "    </tr>\n",
       "    <tr>\n",
       "      <th>4</th>\n",
       "      <td>Algeria</td>\n",
       "    </tr>\n",
       "  </tbody>\n",
       "</table>\n",
       "</div>"
      ],
      "text/plain": [
       "            country\n",
       "0  Papua New Guinea\n",
       "1         Greenland\n",
       "2           Iceland\n",
       "3            Canada\n",
       "4           Algeria"
      ]
     },
     "execution_count": 13,
     "metadata": {},
     "output_type": "execute_result"
    }
   ],
   "source": [
    "query_result = pd.read_sql(\"\"\"\n",
    "\n",
    "SELECT DISTINCT country\n",
    "FROM airports\n",
    "\n",
    "\"\"\", con)\n",
    "\n",
    "query_result.head()"
   ]
  },
  {
   "cell_type": "markdown",
   "metadata": {
    "slideshow": {
     "slide_type": "slide"
    }
   },
   "source": [
    "**Example**\n",
    "\n",
    "Get a list of the distinct cities in the database and store it as a pandas Series. What is the number of cities represented in this database? "
   ]
  },
  {
   "cell_type": "code",
   "execution_count": 14,
   "metadata": {
    "slideshow": {
     "slide_type": "fragment"
    }
   },
   "outputs": [
    {
     "data": {
      "text/html": [
       "<div>\n",
       "<style scoped>\n",
       "    .dataframe tbody tr th:only-of-type {\n",
       "        vertical-align: middle;\n",
       "    }\n",
       "\n",
       "    .dataframe tbody tr th {\n",
       "        vertical-align: top;\n",
       "    }\n",
       "\n",
       "    .dataframe thead th {\n",
       "        text-align: right;\n",
       "    }\n",
       "</style>\n",
       "<table border=\"1\" class=\"dataframe\">\n",
       "  <thead>\n",
       "    <tr style=\"text-align: right;\">\n",
       "      <th></th>\n",
       "      <th>city</th>\n",
       "    </tr>\n",
       "  </thead>\n",
       "  <tbody>\n",
       "    <tr>\n",
       "      <th>0</th>\n",
       "      <td>Goroka</td>\n",
       "    </tr>\n",
       "    <tr>\n",
       "      <th>1</th>\n",
       "      <td>Madang</td>\n",
       "    </tr>\n",
       "    <tr>\n",
       "      <th>2</th>\n",
       "      <td>Mount Hagen</td>\n",
       "    </tr>\n",
       "    <tr>\n",
       "      <th>3</th>\n",
       "      <td>Nadzab</td>\n",
       "    </tr>\n",
       "    <tr>\n",
       "      <th>4</th>\n",
       "      <td>Port Moresby</td>\n",
       "    </tr>\n",
       "  </tbody>\n",
       "</table>\n",
       "</div>"
      ],
      "text/plain": [
       "           city\n",
       "0        Goroka\n",
       "1        Madang\n",
       "2   Mount Hagen\n",
       "3        Nadzab\n",
       "4  Port Moresby"
      ]
     },
     "execution_count": 14,
     "metadata": {},
     "output_type": "execute_result"
    }
   ],
   "source": [
    "query_result = pd.read_sql(\"\"\"\n",
    "\n",
    "SELECT DISTINCT city\n",
    "FROM airports\n",
    "\n",
    "\"\"\", con)\n",
    "   \n",
    "query_result.head()"
   ]
  },
  {
   "cell_type": "code",
   "execution_count": 15,
   "metadata": {
    "cell_style": "center",
    "slideshow": {
     "slide_type": "fragment"
    }
   },
   "outputs": [],
   "source": [
    "query_series = query_result['city']"
   ]
  },
  {
   "cell_type": "code",
   "execution_count": 16,
   "metadata": {},
   "outputs": [
    {
     "data": {
      "text/plain": [
       "(6977,)"
      ]
     },
     "execution_count": 16,
     "metadata": {},
     "output_type": "execute_result"
    }
   ],
   "source": [
    "query_series.shape"
   ]
  },
  {
   "cell_type": "markdown",
   "metadata": {
    "slideshow": {
     "slide_type": "slide"
    }
   },
   "source": [
    "**Example**\n",
    "\n",
    "Get the cities for each airport in the database and store it as a pandas Series. \n",
    "\n",
    "Then get me the number of airports in each city and the number of unique cities. You can use Pandas functions for this."
   ]
  },
  {
   "cell_type": "code",
   "execution_count": 17,
   "metadata": {
    "slideshow": {
     "slide_type": "fragment"
    }
   },
   "outputs": [
    {
     "data": {
      "text/plain": [
       "London          21\n",
       "New York        13\n",
       "Hong Kong       12\n",
       "Berlin          10\n",
       "Paris           10\n",
       "                ..\n",
       "Villa Garzon     1\n",
       "Lewa Downs       1\n",
       "Calicut          1\n",
       "Saskatoon        1\n",
       "Koszalin         1\n",
       "Name: city, Length: 6977, dtype: int64"
      ]
     },
     "execution_count": 17,
     "metadata": {},
     "output_type": "execute_result"
    }
   ],
   "source": [
    "cities = pd.read_sql(\"\"\"\n",
    "SELECT city, name\n",
    "FROM airports\n",
    "\n",
    "\"\"\", con)\n",
    "\n",
    "cities[\"city\"].value_counts()"
   ]
  },
  {
   "cell_type": "markdown",
   "metadata": {
    "slideshow": {
     "slide_type": "slide"
    }
   },
   "source": [
    "#### AS modifier\n",
    "\n",
    "`AS`: renaming a column in the query and returned result."
   ]
  },
  {
   "cell_type": "code",
   "execution_count": 18,
   "metadata": {
    "hidden": true,
    "scrolled": true,
    "slideshow": {
     "slide_type": "fragment"
    }
   },
   "outputs": [
    {
     "data": {
      "text/html": [
       "<div>\n",
       "<style scoped>\n",
       "    .dataframe tbody tr th:only-of-type {\n",
       "        vertical-align: middle;\n",
       "    }\n",
       "\n",
       "    .dataframe tbody tr th {\n",
       "        vertical-align: top;\n",
       "    }\n",
       "\n",
       "    .dataframe thead th {\n",
       "        text-align: right;\n",
       "    }\n",
       "</style>\n",
       "<table border=\"1\" class=\"dataframe\">\n",
       "  <thead>\n",
       "    <tr style=\"text-align: right;\">\n",
       "      <th></th>\n",
       "      <th>Airport_City</th>\n",
       "      <th>Airport Country</th>\n",
       "    </tr>\n",
       "  </thead>\n",
       "  <tbody>\n",
       "    <tr>\n",
       "      <th>0</th>\n",
       "      <td>Goroka</td>\n",
       "      <td>Papua New Guinea</td>\n",
       "    </tr>\n",
       "    <tr>\n",
       "      <th>1</th>\n",
       "      <td>Madang</td>\n",
       "      <td>Papua New Guinea</td>\n",
       "    </tr>\n",
       "    <tr>\n",
       "      <th>2</th>\n",
       "      <td>Mount Hagen</td>\n",
       "      <td>Papua New Guinea</td>\n",
       "    </tr>\n",
       "    <tr>\n",
       "      <th>3</th>\n",
       "      <td>Nadzab</td>\n",
       "      <td>Papua New Guinea</td>\n",
       "    </tr>\n",
       "    <tr>\n",
       "      <th>4</th>\n",
       "      <td>Port Moresby</td>\n",
       "      <td>Papua New Guinea</td>\n",
       "    </tr>\n",
       "  </tbody>\n",
       "</table>\n",
       "</div>"
      ],
      "text/plain": [
       "   Airport_City   Airport Country\n",
       "0        Goroka  Papua New Guinea\n",
       "1        Madang  Papua New Guinea\n",
       "2   Mount Hagen  Papua New Guinea\n",
       "3        Nadzab  Papua New Guinea\n",
       "4  Port Moresby  Papua New Guinea"
      ]
     },
     "execution_count": 18,
     "metadata": {},
     "output_type": "execute_result"
    }
   ],
   "source": [
    "sql_query = pd.read_sql(\"\"\"\n",
    "\n",
    "SELECT city AS Airport_City, \n",
    "       country AS \"Airport Country\"\n",
    "FROM airports\n",
    "\n",
    "\"\"\", con)\n",
    "\n",
    "sql_query.head()"
   ]
  },
  {
   "cell_type": "markdown",
   "metadata": {
    "slideshow": {
     "slide_type": "slide"
    }
   },
   "source": [
    "Some SQL dialects do not require the AS statement:"
   ]
  },
  {
   "cell_type": "code",
   "execution_count": 19,
   "metadata": {
    "slideshow": {
     "slide_type": "fragment"
    }
   },
   "outputs": [
    {
     "data": {
      "text/html": [
       "<div>\n",
       "<style scoped>\n",
       "    .dataframe tbody tr th:only-of-type {\n",
       "        vertical-align: middle;\n",
       "    }\n",
       "\n",
       "    .dataframe tbody tr th {\n",
       "        vertical-align: top;\n",
       "    }\n",
       "\n",
       "    .dataframe thead th {\n",
       "        text-align: right;\n",
       "    }\n",
       "</style>\n",
       "<table border=\"1\" class=\"dataframe\">\n",
       "  <thead>\n",
       "    <tr style=\"text-align: right;\">\n",
       "      <th></th>\n",
       "      <th>Airport City</th>\n",
       "      <th>Airport Country</th>\n",
       "    </tr>\n",
       "  </thead>\n",
       "  <tbody>\n",
       "    <tr>\n",
       "      <th>0</th>\n",
       "      <td>Goroka</td>\n",
       "      <td>Papua New Guinea</td>\n",
       "    </tr>\n",
       "    <tr>\n",
       "      <th>1</th>\n",
       "      <td>Madang</td>\n",
       "      <td>Papua New Guinea</td>\n",
       "    </tr>\n",
       "    <tr>\n",
       "      <th>2</th>\n",
       "      <td>Mount Hagen</td>\n",
       "      <td>Papua New Guinea</td>\n",
       "    </tr>\n",
       "    <tr>\n",
       "      <th>3</th>\n",
       "      <td>Nadzab</td>\n",
       "      <td>Papua New Guinea</td>\n",
       "    </tr>\n",
       "    <tr>\n",
       "      <th>4</th>\n",
       "      <td>Port Moresby</td>\n",
       "      <td>Papua New Guinea</td>\n",
       "    </tr>\n",
       "  </tbody>\n",
       "</table>\n",
       "</div>"
      ],
      "text/plain": [
       "   Airport City   Airport Country\n",
       "0        Goroka  Papua New Guinea\n",
       "1        Madang  Papua New Guinea\n",
       "2   Mount Hagen  Papua New Guinea\n",
       "3        Nadzab  Papua New Guinea\n",
       "4  Port Moresby  Papua New Guinea"
      ]
     },
     "execution_count": 19,
     "metadata": {},
     "output_type": "execute_result"
    }
   ],
   "source": [
    "sql_query = pd.read_sql(\"\"\"\n",
    "\n",
    "SELECT city \"Airport City\", \n",
    "       country \"Airport Country\"\n",
    "FROM airports\n",
    "\n",
    "\"\"\", con)\n",
    "\n",
    "sql_query.head()"
   ]
  },
  {
   "cell_type": "markdown",
   "metadata": {
    "cell_style": "center",
    "hidden": true,
    "slideshow": {
     "slide_type": "slide"
    }
   },
   "source": [
    "#### Functions\n",
    "Can use predefined functions in SELECT statements:\n",
    "<br>\n",
    "<br>\n",
    "SELECT FUNCTION(columns)\n",
    "<br>\n",
    "FROM table\n",
    "\n",
    "Applies function to the each column and spits out new table."
   ]
  },
  {
   "cell_type": "markdown",
   "metadata": {
    "cell_style": "center",
    "slideshow": {
     "slide_type": "slide"
    }
   },
   "source": [
    "Functions can be: \n",
    "- Transformations on columns:\n",
    "    - Convert each element in a string column to upper case.\n",
    "- Aggregation:\n",
    "    - statistic on each field in a table \n",
    "    - e.g. max, min, mean, sum, etc."
   ]
  },
  {
   "cell_type": "markdown",
   "metadata": {
    "slideshow": {
     "slide_type": "slide"
    }
   },
   "source": [
    "#### Transformation"
   ]
  },
  {
   "cell_type": "code",
   "execution_count": 20,
   "metadata": {
    "hidden": true,
    "scrolled": true,
    "slideshow": {
     "slide_type": "fragment"
    }
   },
   "outputs": [
    {
     "data": {
      "text/html": [
       "<div>\n",
       "<style scoped>\n",
       "    .dataframe tbody tr th:only-of-type {\n",
       "        vertical-align: middle;\n",
       "    }\n",
       "\n",
       "    .dataframe tbody tr th {\n",
       "        vertical-align: top;\n",
       "    }\n",
       "\n",
       "    .dataframe thead th {\n",
       "        text-align: right;\n",
       "    }\n",
       "</style>\n",
       "<table border=\"1\" class=\"dataframe\">\n",
       "  <thead>\n",
       "    <tr style=\"text-align: right;\">\n",
       "      <th></th>\n",
       "      <th>AIRPORT NAMES IN CAPS</th>\n",
       "      <th>Airport Name Length</th>\n",
       "    </tr>\n",
       "  </thead>\n",
       "  <tbody>\n",
       "    <tr>\n",
       "      <th>0</th>\n",
       "      <td>GOROKA</td>\n",
       "      <td>6</td>\n",
       "    </tr>\n",
       "    <tr>\n",
       "      <th>1</th>\n",
       "      <td>MADANG</td>\n",
       "      <td>6</td>\n",
       "    </tr>\n",
       "    <tr>\n",
       "      <th>2</th>\n",
       "      <td>MOUNT HAGEN</td>\n",
       "      <td>11</td>\n",
       "    </tr>\n",
       "    <tr>\n",
       "      <th>3</th>\n",
       "      <td>NADZAB</td>\n",
       "      <td>6</td>\n",
       "    </tr>\n",
       "    <tr>\n",
       "      <th>4</th>\n",
       "      <td>PORT MORESBY JACKSONS INTL</td>\n",
       "      <td>26</td>\n",
       "    </tr>\n",
       "  </tbody>\n",
       "</table>\n",
       "</div>"
      ],
      "text/plain": [
       "        AIRPORT NAMES IN CAPS  Airport Name Length\n",
       "0                      GOROKA                    6\n",
       "1                      MADANG                    6\n",
       "2                 MOUNT HAGEN                   11\n",
       "3                      NADZAB                    6\n",
       "4  PORT MORESBY JACKSONS INTL                   26"
      ]
     },
     "execution_count": 20,
     "metadata": {},
     "output_type": "execute_result"
    }
   ],
   "source": [
    "sql_query_df = pd.read_sql(\"\"\"\n",
    "\n",
    "SELECT UPPER(name) AS \"AIRPORT NAMES IN CAPS\",\n",
    "       LENGTH(name) AS \"Airport Name Length\"\n",
    "       \n",
    "FROM airports\n",
    "\n",
    "\"\"\", con)\n",
    "\n",
    "sql_query_df.head()"
   ]
  },
  {
   "cell_type": "markdown",
   "metadata": {
    "heading_collapsed": true,
    "hidden": true,
    "slideshow": {
     "slide_type": "slide"
    }
   },
   "source": [
    "#### Aggregation\n",
    "- MAX()\n",
    "- MIN()\n",
    "- SUM()\n",
    "- AVG()\n",
    "- COUNT()"
   ]
  },
  {
   "cell_type": "markdown",
   "metadata": {
    "slideshow": {
     "slide_type": "slide"
    }
   },
   "source": [
    "Get count of entries in table:"
   ]
  },
  {
   "cell_type": "code",
   "execution_count": 21,
   "metadata": {
    "slideshow": {
     "slide_type": "fragment"
    }
   },
   "outputs": [
    {
     "data": {
      "text/html": [
       "<div>\n",
       "<style scoped>\n",
       "    .dataframe tbody tr th:only-of-type {\n",
       "        vertical-align: middle;\n",
       "    }\n",
       "\n",
       "    .dataframe tbody tr th {\n",
       "        vertical-align: top;\n",
       "    }\n",
       "\n",
       "    .dataframe thead th {\n",
       "        text-align: right;\n",
       "    }\n",
       "</style>\n",
       "<table border=\"1\" class=\"dataframe\">\n",
       "  <thead>\n",
       "    <tr style=\"text-align: right;\">\n",
       "      <th></th>\n",
       "      <th>count</th>\n",
       "    </tr>\n",
       "  </thead>\n",
       "  <tbody>\n",
       "    <tr>\n",
       "      <th>0</th>\n",
       "      <td>8107</td>\n",
       "    </tr>\n",
       "  </tbody>\n",
       "</table>\n",
       "</div>"
      ],
      "text/plain": [
       "   count\n",
       "0   8107"
      ]
     },
     "execution_count": 21,
     "metadata": {},
     "output_type": "execute_result"
    }
   ],
   "source": [
    "sql_query_df = pd.read_sql(\"\"\"\n",
    "\n",
    "SELECT COUNT(*) AS count\n",
    "FROM airports\n",
    "\n",
    "\n",
    "\"\"\", con)\n",
    "\n",
    "sql_query_df"
   ]
  },
  {
   "cell_type": "markdown",
   "metadata": {
    "slideshow": {
     "slide_type": "slide"
    }
   },
   "source": [
    "Get count of non-missing entries in a given field:\n",
    "\n",
    "\n",
    "SELECT COUNT(field_name)\n",
    "FROM table"
   ]
  },
  {
   "cell_type": "code",
   "execution_count": 22,
   "metadata": {
    "slideshow": {
     "slide_type": "fragment"
    }
   },
   "outputs": [
    {
     "data": {
      "text/html": [
       "<div>\n",
       "<style scoped>\n",
       "    .dataframe tbody tr th:only-of-type {\n",
       "        vertical-align: middle;\n",
       "    }\n",
       "\n",
       "    .dataframe tbody tr th {\n",
       "        vertical-align: top;\n",
       "    }\n",
       "\n",
       "    .dataframe thead th {\n",
       "        text-align: right;\n",
       "    }\n",
       "</style>\n",
       "<table border=\"1\" class=\"dataframe\">\n",
       "  <thead>\n",
       "    <tr style=\"text-align: right;\">\n",
       "      <th></th>\n",
       "      <th>code_count</th>\n",
       "    </tr>\n",
       "  </thead>\n",
       "  <tbody>\n",
       "    <tr>\n",
       "      <th>0</th>\n",
       "      <td>5880</td>\n",
       "    </tr>\n",
       "  </tbody>\n",
       "</table>\n",
       "</div>"
      ],
      "text/plain": [
       "   code_count\n",
       "0        5880"
      ]
     },
     "execution_count": 22,
     "metadata": {},
     "output_type": "execute_result"
    }
   ],
   "source": [
    "sql_query_df = pd.read_sql(\"\"\"\n",
    "\n",
    "SELECT COUNT(code) as code_count\n",
    "FROM airports\n",
    "\n",
    "\n",
    "\n",
    "\"\"\", con)\n",
    "\n",
    "sql_query_df"
   ]
  },
  {
   "cell_type": "markdown",
   "metadata": {
    "slideshow": {
     "slide_type": "slide"
    }
   },
   "source": [
    "Distinct countries in country field of airports table:"
   ]
  },
  {
   "cell_type": "code",
   "execution_count": 23,
   "metadata": {
    "slideshow": {
     "slide_type": "fragment"
    }
   },
   "outputs": [
    {
     "data": {
      "text/html": [
       "<div>\n",
       "<style scoped>\n",
       "    .dataframe tbody tr th:only-of-type {\n",
       "        vertical-align: middle;\n",
       "    }\n",
       "\n",
       "    .dataframe tbody tr th {\n",
       "        vertical-align: top;\n",
       "    }\n",
       "\n",
       "    .dataframe thead th {\n",
       "        text-align: right;\n",
       "    }\n",
       "</style>\n",
       "<table border=\"1\" class=\"dataframe\">\n",
       "  <thead>\n",
       "    <tr style=\"text-align: right;\">\n",
       "      <th></th>\n",
       "      <th>country_count</th>\n",
       "    </tr>\n",
       "  </thead>\n",
       "  <tbody>\n",
       "    <tr>\n",
       "      <th>0</th>\n",
       "      <td>240</td>\n",
       "    </tr>\n",
       "  </tbody>\n",
       "</table>\n",
       "</div>"
      ],
      "text/plain": [
       "   country_count\n",
       "0            240"
      ]
     },
     "execution_count": 23,
     "metadata": {},
     "output_type": "execute_result"
    }
   ],
   "source": [
    "sql_query_df = pd.read_sql(\"\"\"\n",
    "\n",
    "SELECT COUNT(DISTINCT country) as country_count\n",
    "FROM airports\n",
    "\n",
    "\n",
    "\"\"\", con)\n",
    "\n",
    "sql_query_df"
   ]
  },
  {
   "cell_type": "markdown",
   "metadata": {
    "slideshow": {
     "slide_type": "slide"
    }
   },
   "source": [
    "Let's take a look at our original table again."
   ]
  },
  {
   "cell_type": "code",
   "execution_count": 24,
   "metadata": {
    "cell_style": "center",
    "hidden": true,
    "slideshow": {
     "slide_type": "fragment"
    }
   },
   "outputs": [
    {
     "data": {
      "text/html": [
       "<div>\n",
       "<style scoped>\n",
       "    .dataframe tbody tr th:only-of-type {\n",
       "        vertical-align: middle;\n",
       "    }\n",
       "\n",
       "    .dataframe tbody tr th {\n",
       "        vertical-align: top;\n",
       "    }\n",
       "\n",
       "    .dataframe thead th {\n",
       "        text-align: right;\n",
       "    }\n",
       "</style>\n",
       "<table border=\"1\" class=\"dataframe\">\n",
       "  <thead>\n",
       "    <tr style=\"text-align: right;\">\n",
       "      <th></th>\n",
       "      <th>index</th>\n",
       "      <th>id</th>\n",
       "      <th>name</th>\n",
       "      <th>city</th>\n",
       "      <th>country</th>\n",
       "      <th>code</th>\n",
       "      <th>icao</th>\n",
       "      <th>latitude</th>\n",
       "      <th>longitude</th>\n",
       "      <th>altitude</th>\n",
       "      <th>offset</th>\n",
       "      <th>dst</th>\n",
       "      <th>timezone</th>\n",
       "    </tr>\n",
       "  </thead>\n",
       "  <tbody>\n",
       "    <tr>\n",
       "      <th>0</th>\n",
       "      <td>0</td>\n",
       "      <td>1</td>\n",
       "      <td>Goroka</td>\n",
       "      <td>Goroka</td>\n",
       "      <td>Papua New Guinea</td>\n",
       "      <td>GKA</td>\n",
       "      <td>AYGA</td>\n",
       "      <td>-6.081689</td>\n",
       "      <td>145.391881</td>\n",
       "      <td>5282</td>\n",
       "      <td>10</td>\n",
       "      <td>U</td>\n",
       "      <td>Pacific/Port_Moresby</td>\n",
       "    </tr>\n",
       "    <tr>\n",
       "      <th>1</th>\n",
       "      <td>1</td>\n",
       "      <td>2</td>\n",
       "      <td>Madang</td>\n",
       "      <td>Madang</td>\n",
       "      <td>Papua New Guinea</td>\n",
       "      <td>MAG</td>\n",
       "      <td>AYMD</td>\n",
       "      <td>-5.207083</td>\n",
       "      <td>145.7887</td>\n",
       "      <td>20</td>\n",
       "      <td>10</td>\n",
       "      <td>U</td>\n",
       "      <td>Pacific/Port_Moresby</td>\n",
       "    </tr>\n",
       "    <tr>\n",
       "      <th>2</th>\n",
       "      <td>2</td>\n",
       "      <td>3</td>\n",
       "      <td>Mount Hagen</td>\n",
       "      <td>Mount Hagen</td>\n",
       "      <td>Papua New Guinea</td>\n",
       "      <td>HGU</td>\n",
       "      <td>AYMH</td>\n",
       "      <td>-5.826789</td>\n",
       "      <td>144.295861</td>\n",
       "      <td>5388</td>\n",
       "      <td>10</td>\n",
       "      <td>U</td>\n",
       "      <td>Pacific/Port_Moresby</td>\n",
       "    </tr>\n",
       "    <tr>\n",
       "      <th>3</th>\n",
       "      <td>3</td>\n",
       "      <td>4</td>\n",
       "      <td>Nadzab</td>\n",
       "      <td>Nadzab</td>\n",
       "      <td>Papua New Guinea</td>\n",
       "      <td>LAE</td>\n",
       "      <td>AYNZ</td>\n",
       "      <td>-6.569828</td>\n",
       "      <td>146.726242</td>\n",
       "      <td>239</td>\n",
       "      <td>10</td>\n",
       "      <td>U</td>\n",
       "      <td>Pacific/Port_Moresby</td>\n",
       "    </tr>\n",
       "    <tr>\n",
       "      <th>4</th>\n",
       "      <td>4</td>\n",
       "      <td>5</td>\n",
       "      <td>Port Moresby Jacksons Intl</td>\n",
       "      <td>Port Moresby</td>\n",
       "      <td>Papua New Guinea</td>\n",
       "      <td>POM</td>\n",
       "      <td>AYPY</td>\n",
       "      <td>-9.443383</td>\n",
       "      <td>147.22005</td>\n",
       "      <td>146</td>\n",
       "      <td>10</td>\n",
       "      <td>U</td>\n",
       "      <td>Pacific/Port_Moresby</td>\n",
       "    </tr>\n",
       "  </tbody>\n",
       "</table>\n",
       "</div>"
      ],
      "text/plain": [
       "   index id                        name          city           country code  \\\n",
       "0      0  1                      Goroka        Goroka  Papua New Guinea  GKA   \n",
       "1      1  2                      Madang        Madang  Papua New Guinea  MAG   \n",
       "2      2  3                 Mount Hagen   Mount Hagen  Papua New Guinea  HGU   \n",
       "3      3  4                      Nadzab        Nadzab  Papua New Guinea  LAE   \n",
       "4      4  5  Port Moresby Jacksons Intl  Port Moresby  Papua New Guinea  POM   \n",
       "\n",
       "   icao   latitude   longitude altitude offset dst              timezone  \n",
       "0  AYGA  -6.081689  145.391881     5282     10   U  Pacific/Port_Moresby  \n",
       "1  AYMD  -5.207083    145.7887       20     10   U  Pacific/Port_Moresby  \n",
       "2  AYMH  -5.826789  144.295861     5388     10   U  Pacific/Port_Moresby  \n",
       "3  AYNZ  -6.569828  146.726242      239     10   U  Pacific/Port_Moresby  \n",
       "4  AYPY  -9.443383   147.22005      146     10   U  Pacific/Port_Moresby  "
      ]
     },
     "execution_count": 24,
     "metadata": {},
     "output_type": "execute_result"
    }
   ],
   "source": [
    "sql_query_df = pd.read_sql(\"\"\"\n",
    "\n",
    "SELECT * \n",
    "FROM airports\n",
    "LIMIT 5\n",
    "\n",
    "\"\"\", con)\n",
    "\n",
    "sql_query_df"
   ]
  },
  {
   "cell_type": "markdown",
   "metadata": {
    "slideshow": {
     "slide_type": "slide"
    }
   },
   "source": [
    "Get maximum altitude in dataset along with corresponding airport. "
   ]
  },
  {
   "cell_type": "code",
   "execution_count": 25,
   "metadata": {
    "hidden": true,
    "slideshow": {
     "slide_type": "fragment"
    }
   },
   "outputs": [
    {
     "data": {
      "text/html": [
       "<div>\n",
       "<style scoped>\n",
       "    .dataframe tbody tr th:only-of-type {\n",
       "        vertical-align: middle;\n",
       "    }\n",
       "\n",
       "    .dataframe tbody tr th {\n",
       "        vertical-align: top;\n",
       "    }\n",
       "\n",
       "    .dataframe thead th {\n",
       "        text-align: right;\n",
       "    }\n",
       "</style>\n",
       "<table border=\"1\" class=\"dataframe\">\n",
       "  <thead>\n",
       "    <tr style=\"text-align: right;\">\n",
       "      <th></th>\n",
       "      <th>Airport Name</th>\n",
       "      <th>Altitude (ft)</th>\n",
       "    </tr>\n",
       "  </thead>\n",
       "  <tbody>\n",
       "    <tr>\n",
       "      <th>0</th>\n",
       "      <td>Dauphin Barker</td>\n",
       "      <td>999</td>\n",
       "    </tr>\n",
       "  </tbody>\n",
       "</table>\n",
       "</div>"
      ],
      "text/plain": [
       "     Airport Name Altitude (ft)\n",
       "0  Dauphin Barker           999"
      ]
     },
     "execution_count": 25,
     "metadata": {},
     "output_type": "execute_result"
    }
   ],
   "source": [
    "sql_query_df = pd.read_sql(\"\"\"\n",
    "\n",
    "SELECT name AS \"Airport Name\", \n",
    "    MAX(altitude) AS \"Altitude (ft)\"      \n",
    "FROM airports\n",
    "\n",
    "\"\"\", con)\n",
    "\n",
    "sql_query_df"
   ]
  },
  {
   "cell_type": "markdown",
   "metadata": {
    "slideshow": {
     "slide_type": "slide"
    }
   },
   "source": [
    "Something is wrong here. Make sure that your column is the right datatype for the function to avoid unexpected results."
   ]
  },
  {
   "cell_type": "code",
   "execution_count": 26,
   "metadata": {
    "slideshow": {
     "slide_type": "fragment"
    }
   },
   "outputs": [
    {
     "name": "stdout",
     "output_type": "stream",
     "text": [
      "CREATE TABLE airports (\n",
      "[index] INTEGER,\n",
      "  [id] TEXT,\n",
      "  [name] TEXT,\n",
      "  [city] TEXT,\n",
      "  [country] TEXT,\n",
      "  [code] TEXT,\n",
      "  [icao] TEXT,\n",
      "  [latitude] TEXT,\n",
      "  [longitude] TEXT,\n",
      "  [altitude] TEXT,\n",
      "  [offset] TEXT,\n",
      "  [dst] TEXT,\n",
      "  [timezone] TEXT\n",
      ");\n",
      "CREATE INDEX ix_airports_index ON airports ([index]);\n"
     ]
    }
   ],
   "source": [
    "%%bash\n",
    "sqlite3 data/flights.db\n",
    ".schema airports"
   ]
  },
  {
   "cell_type": "markdown",
   "metadata": {
    "heading_collapsed": true,
    "hidden": true,
    "slideshow": {
     "slide_type": "slide"
    }
   },
   "source": [
    "#### `CAST()`\n",
    "\n",
    "- can enforce typing on a given field."
   ]
  },
  {
   "cell_type": "code",
   "execution_count": 27,
   "metadata": {
    "hidden": true,
    "slideshow": {
     "slide_type": "fragment"
    }
   },
   "outputs": [
    {
     "data": {
      "text/html": [
       "<div>\n",
       "<style scoped>\n",
       "    .dataframe tbody tr th:only-of-type {\n",
       "        vertical-align: middle;\n",
       "    }\n",
       "\n",
       "    .dataframe tbody tr th {\n",
       "        vertical-align: top;\n",
       "    }\n",
       "\n",
       "    .dataframe thead th {\n",
       "        text-align: right;\n",
       "    }\n",
       "</style>\n",
       "<table border=\"1\" class=\"dataframe\">\n",
       "  <thead>\n",
       "    <tr style=\"text-align: right;\">\n",
       "      <th></th>\n",
       "      <th>Airport Name</th>\n",
       "      <th>Altitude (ft)</th>\n",
       "    </tr>\n",
       "  </thead>\n",
       "  <tbody>\n",
       "    <tr>\n",
       "      <th>0</th>\n",
       "      <td>Yading Daocheng</td>\n",
       "      <td>14472.0</td>\n",
       "    </tr>\n",
       "  </tbody>\n",
       "</table>\n",
       "</div>"
      ],
      "text/plain": [
       "      Airport Name  Altitude (ft)\n",
       "0  Yading Daocheng        14472.0"
      ]
     },
     "execution_count": 27,
     "metadata": {},
     "output_type": "execute_result"
    }
   ],
   "source": [
    "sql_query_df = pd.read_sql(\"\"\"\n",
    "\n",
    "SELECT name AS \"Airport Name\", \n",
    "       MAX(CAST(altitude as float)) AS \"Altitude (ft)\"\n",
    "       \n",
    "FROM airports\n",
    "\n",
    "\"\"\", con)\n",
    "\n",
    "sql_query_df"
   ]
  },
  {
   "cell_type": "markdown",
   "metadata": {
    "slideshow": {
     "slide_type": "slide"
    }
   },
   "source": [
    "Let's get the average altitude:"
   ]
  },
  {
   "cell_type": "code",
   "execution_count": null,
   "metadata": {
    "slideshow": {
     "slide_type": "fragment"
    }
   },
   "outputs": [],
   "source": [
    "sql_query_df = pd.read_sql(\"\"\"\n",
    "\n",
    "SELECT AVG(CAST(altitude as int)) AS \"Average Altitude (ft)\"\n",
    "FROM airports\n",
    "\n",
    "\"\"\", con)\n",
    "\n",
    "sql_query_df"
   ]
  },
  {
   "cell_type": "markdown",
   "metadata": {
    "slideshow": {
     "slide_type": "slide"
    }
   },
   "source": [
    "#### Exercise\n",
    "\n",
    "\n",
    "Which country has the northern-most airport? \n",
    "\n",
    "> _Hint: Look for the highest latitude_"
   ]
  },
  {
   "cell_type": "code",
   "execution_count": 28,
   "metadata": {
    "slideshow": {
     "slide_type": "fragment"
    }
   },
   "outputs": [
    {
     "data": {
      "text/html": [
       "<div>\n",
       "<style scoped>\n",
       "    .dataframe tbody tr th:only-of-type {\n",
       "        vertical-align: middle;\n",
       "    }\n",
       "\n",
       "    .dataframe tbody tr th {\n",
       "        vertical-align: top;\n",
       "    }\n",
       "\n",
       "    .dataframe thead th {\n",
       "        text-align: right;\n",
       "    }\n",
       "</style>\n",
       "<table border=\"1\" class=\"dataframe\">\n",
       "  <thead>\n",
       "    <tr style=\"text-align: right;\">\n",
       "      <th></th>\n",
       "      <th>airport_name</th>\n",
       "      <th>country</th>\n",
       "      <th>MAX(CAST(latitude as int))</th>\n",
       "    </tr>\n",
       "  </thead>\n",
       "  <tbody>\n",
       "    <tr>\n",
       "      <th>0</th>\n",
       "      <td>Alert</td>\n",
       "      <td>Canada</td>\n",
       "      <td>82</td>\n",
       "    </tr>\n",
       "  </tbody>\n",
       "</table>\n",
       "</div>"
      ],
      "text/plain": [
       "  airport_name country  MAX(CAST(latitude as int))\n",
       "0        Alert  Canada                          82"
      ]
     },
     "execution_count": 28,
     "metadata": {},
     "output_type": "execute_result"
    }
   ],
   "source": [
    "pd.read_sql(\"\"\"\n",
    "\n",
    "SELECT name AS airport_name, country, MAX(CAST(latitude as int))\n",
    "FROM airports\n",
    "\n",
    "\n",
    "\"\"\", con)"
   ]
  },
  {
   "cell_type": "markdown",
   "metadata": {
    "hidden": true,
    "slideshow": {
     "slide_type": "fragment"
    }
   },
   "source": [
    "<details>\n",
    "    <summary><b><u>Click Here for Answer Code</u></b></summary>\n",
    "\n",
    "```python \n",
    "pd.read_sql(\"\"\"\n",
    "            \n",
    "SELECT name AS airport_name, country, MAX(CAST(latitude as int))\n",
    "FROM airports\n",
    "\n",
    "\n",
    "\"\"\", con)\n",
    "\n",
    "```\n",
    "</details>"
   ]
  },
  {
   "cell_type": "markdown",
   "metadata": {
    "slideshow": {
     "slide_type": "slide"
    }
   },
   "source": [
    "So far:\n",
    "- Selecting fields (columns) and computing functions of them.\n",
    "\n",
    "Want to: \n",
    "- Select records (rows) matching particular criteria."
   ]
  },
  {
   "cell_type": "markdown",
   "metadata": {
    "cell_style": "center",
    "heading_collapsed": true,
    "hidden": true,
    "slideshow": {
     "slide_type": "slide"
    }
   },
   "source": [
    "#### WHERE: Selecting rows via filtering\n",
    "\n",
    "SELECT columns\n",
    "<br>\n",
    "FROM table\n",
    "<br>\n",
    "WHERE filter_column meets condition"
   ]
  },
  {
   "cell_type": "markdown",
   "metadata": {
    "cell_style": "center",
    "slideshow": {
     "slide_type": "slide"
    }
   },
   "source": [
    "#### Filtering by comparison: WHERE statement\n",
    "\n",
    "Commonly filter by how column compares to a value.\n",
    "\n",
    "SELECT column1, column2 \n",
    "FROM table\n",
    "WHERE column2 > number\n",
    "\n",
    "| Operator | Meaning | \n",
    "| --- | --- |\n",
    "| \\= | equal |\n",
    "| \\<> | not equal |\n",
    "| \\<  |  less than |\n",
    "| \\> | greater than |\n",
    "| \\<=  | less than or equal to |\n",
    "| \\>= | greater than or equal to |\n"
   ]
  },
  {
   "cell_type": "markdown",
   "metadata": {
    "slideshow": {
     "slide_type": "slide"
    }
   },
   "source": [
    "**Example**\n",
    "\n",
    "Get a airport, their name, city and country for which the airport's altitude is less than sea level."
   ]
  },
  {
   "cell_type": "code",
   "execution_count": 29,
   "metadata": {
    "hidden": true,
    "slideshow": {
     "slide_type": "fragment"
    }
   },
   "outputs": [
    {
     "data": {
      "text/html": [
       "<div>\n",
       "<style scoped>\n",
       "    .dataframe tbody tr th:only-of-type {\n",
       "        vertical-align: middle;\n",
       "    }\n",
       "\n",
       "    .dataframe tbody tr th {\n",
       "        vertical-align: top;\n",
       "    }\n",
       "\n",
       "    .dataframe thead th {\n",
       "        text-align: right;\n",
       "    }\n",
       "</style>\n",
       "<table border=\"1\" class=\"dataframe\">\n",
       "  <thead>\n",
       "    <tr style=\"text-align: right;\">\n",
       "      <th></th>\n",
       "      <th>name</th>\n",
       "      <th>city</th>\n",
       "      <th>country</th>\n",
       "      <th>altit</th>\n",
       "    </tr>\n",
       "  </thead>\n",
       "  <tbody>\n",
       "    <tr>\n",
       "      <th>0</th>\n",
       "      <td>Schiphol</td>\n",
       "      <td>Amsterdam</td>\n",
       "      <td>Netherlands</td>\n",
       "      <td>-11</td>\n",
       "    </tr>\n",
       "    <tr>\n",
       "      <th>1</th>\n",
       "      <td>Lelystad</td>\n",
       "      <td>Lelystad</td>\n",
       "      <td>Netherlands</td>\n",
       "      <td>-13</td>\n",
       "    </tr>\n",
       "    <tr>\n",
       "      <th>2</th>\n",
       "      <td>Rotterdam</td>\n",
       "      <td>Rotterdam</td>\n",
       "      <td>Netherlands</td>\n",
       "      <td>-15</td>\n",
       "    </tr>\n",
       "    <tr>\n",
       "      <th>3</th>\n",
       "      <td>Alexandria Intl</td>\n",
       "      <td>Alexandria</td>\n",
       "      <td>Egypt</td>\n",
       "      <td>-6</td>\n",
       "    </tr>\n",
       "    <tr>\n",
       "      <th>4</th>\n",
       "      <td>En Yahav</td>\n",
       "      <td>Eyn-yahav</td>\n",
       "      <td>Israel</td>\n",
       "      <td>-164</td>\n",
       "    </tr>\n",
       "    <tr>\n",
       "      <th>5</th>\n",
       "      <td>I Bar Yehuda</td>\n",
       "      <td>Metzada</td>\n",
       "      <td>Israel</td>\n",
       "      <td>-1266</td>\n",
       "    </tr>\n",
       "    <tr>\n",
       "      <th>6</th>\n",
       "      <td>Rasht</td>\n",
       "      <td>Rasht</td>\n",
       "      <td>Iran</td>\n",
       "      <td>-40</td>\n",
       "    </tr>\n",
       "    <tr>\n",
       "      <th>7</th>\n",
       "      <td>Ramsar</td>\n",
       "      <td>Ramsar</td>\n",
       "      <td>Iran</td>\n",
       "      <td>-70</td>\n",
       "    </tr>\n",
       "    <tr>\n",
       "      <th>8</th>\n",
       "      <td>Astrakhan</td>\n",
       "      <td>Astrakhan</td>\n",
       "      <td>Russia</td>\n",
       "      <td>-65</td>\n",
       "    </tr>\n",
       "    <tr>\n",
       "      <th>9</th>\n",
       "      <td>Imperial Co</td>\n",
       "      <td>Imperial</td>\n",
       "      <td>United States</td>\n",
       "      <td>-54</td>\n",
       "    </tr>\n",
       "    <tr>\n",
       "      <th>10</th>\n",
       "      <td>El Centro Naf</td>\n",
       "      <td>El Centro</td>\n",
       "      <td>United States</td>\n",
       "      <td>-42</td>\n",
       "    </tr>\n",
       "    <tr>\n",
       "      <th>11</th>\n",
       "      <td>Noshahr Airport</td>\n",
       "      <td>Noshahr</td>\n",
       "      <td>Iran</td>\n",
       "      <td>-61</td>\n",
       "    </tr>\n",
       "    <tr>\n",
       "      <th>12</th>\n",
       "      <td>Gorgan Airport</td>\n",
       "      <td>Gorgan</td>\n",
       "      <td>Iran</td>\n",
       "      <td>-24</td>\n",
       "    </tr>\n",
       "  </tbody>\n",
       "</table>\n",
       "</div>"
      ],
      "text/plain": [
       "               name        city        country  altit\n",
       "0          Schiphol   Amsterdam    Netherlands    -11\n",
       "1          Lelystad    Lelystad    Netherlands    -13\n",
       "2         Rotterdam   Rotterdam    Netherlands    -15\n",
       "3   Alexandria Intl  Alexandria          Egypt     -6\n",
       "4          En Yahav   Eyn-yahav         Israel   -164\n",
       "5      I Bar Yehuda     Metzada         Israel  -1266\n",
       "6             Rasht       Rasht           Iran    -40\n",
       "7            Ramsar      Ramsar           Iran    -70\n",
       "8         Astrakhan   Astrakhan         Russia    -65\n",
       "9       Imperial Co    Imperial  United States    -54\n",
       "10    El Centro Naf   El Centro  United States    -42\n",
       "11  Noshahr Airport     Noshahr           Iran    -61\n",
       "12   Gorgan Airport      Gorgan           Iran    -24"
      ]
     },
     "execution_count": 29,
     "metadata": {},
     "output_type": "execute_result"
    }
   ],
   "source": [
    "sql_query_df = pd.read_sql(\"\"\"\n",
    "SELECT name, city, country,\n",
    "CAST(altitude AS int) AS altit\n",
    "\n",
    "FROM airports\n",
    "\n",
    "WHERE altit < 0\n",
    "\n",
    "\n",
    "\"\"\", con)\n",
    "\n",
    "sql_query_df"
   ]
  },
  {
   "cell_type": "markdown",
   "metadata": {
    "slideshow": {
     "slide_type": "slide"
    }
   },
   "source": [
    "#### NOT operator\n",
    "- Before conditional in `WHERE` clause.\n",
    "- Negates conditional."
   ]
  },
  {
   "cell_type": "code",
   "execution_count": 30,
   "metadata": {
    "slideshow": {
     "slide_type": "slide"
    }
   },
   "outputs": [
    {
     "data": {
      "text/html": [
       "<div>\n",
       "<style scoped>\n",
       "    .dataframe tbody tr th:only-of-type {\n",
       "        vertical-align: middle;\n",
       "    }\n",
       "\n",
       "    .dataframe tbody tr th {\n",
       "        vertical-align: top;\n",
       "    }\n",
       "\n",
       "    .dataframe thead th {\n",
       "        text-align: right;\n",
       "    }\n",
       "</style>\n",
       "<table border=\"1\" class=\"dataframe\">\n",
       "  <thead>\n",
       "    <tr style=\"text-align: right;\">\n",
       "      <th></th>\n",
       "      <th>Airport Name</th>\n",
       "      <th>Airport Latitude</th>\n",
       "      <th>Altitude (ft)</th>\n",
       "    </tr>\n",
       "  </thead>\n",
       "  <tbody>\n",
       "    <tr>\n",
       "      <th>0</th>\n",
       "      <td>El Alto Intl</td>\n",
       "      <td>-16</td>\n",
       "      <td>13325</td>\n",
       "    </tr>\n",
       "    <tr>\n",
       "      <th>1</th>\n",
       "      <td>Capitan Nicolas Rojas</td>\n",
       "      <td>-19</td>\n",
       "      <td>12913</td>\n",
       "    </tr>\n",
       "    <tr>\n",
       "      <th>2</th>\n",
       "      <td>Juliaca</td>\n",
       "      <td>-15</td>\n",
       "      <td>12552</td>\n",
       "    </tr>\n",
       "    <tr>\n",
       "      <th>3</th>\n",
       "      <td>Lhasa-Gonggar</td>\n",
       "      <td>29</td>\n",
       "      <td>13136</td>\n",
       "    </tr>\n",
       "    <tr>\n",
       "      <th>4</th>\n",
       "      <td>Qamdo Bangda Airport</td>\n",
       "      <td>30</td>\n",
       "      <td>14219</td>\n",
       "    </tr>\n",
       "    <tr>\n",
       "      <th>5</th>\n",
       "      <td>Irkutsk-2</td>\n",
       "      <td>52</td>\n",
       "      <td>13411</td>\n",
       "    </tr>\n",
       "    <tr>\n",
       "      <th>6</th>\n",
       "      <td>Yushu Batang</td>\n",
       "      <td>32</td>\n",
       "      <td>13000</td>\n",
       "    </tr>\n",
       "    <tr>\n",
       "      <th>7</th>\n",
       "      <td>Gunsa</td>\n",
       "      <td>32</td>\n",
       "      <td>13780</td>\n",
       "    </tr>\n",
       "    <tr>\n",
       "      <th>8</th>\n",
       "      <td>Kangding Airport</td>\n",
       "      <td>30</td>\n",
       "      <td>14042</td>\n",
       "    </tr>\n",
       "    <tr>\n",
       "      <th>9</th>\n",
       "      <td>Copacabana Airport</td>\n",
       "      <td>-16</td>\n",
       "      <td>12591</td>\n",
       "    </tr>\n",
       "    <tr>\n",
       "      <th>10</th>\n",
       "      <td>Yading Daocheng</td>\n",
       "      <td>29</td>\n",
       "      <td>14472</td>\n",
       "    </tr>\n",
       "  </tbody>\n",
       "</table>\n",
       "</div>"
      ],
      "text/plain": [
       "             Airport Name  Airport Latitude  Altitude (ft)\n",
       "0            El Alto Intl               -16          13325\n",
       "1   Capitan Nicolas Rojas               -19          12913\n",
       "2                 Juliaca               -15          12552\n",
       "3           Lhasa-Gonggar                29          13136\n",
       "4    Qamdo Bangda Airport                30          14219\n",
       "5               Irkutsk-2                52          13411\n",
       "6            Yushu Batang                32          13000\n",
       "7                   Gunsa                32          13780\n",
       "8        Kangding Airport                30          14042\n",
       "9      Copacabana Airport               -16          12591\n",
       "10        Yading Daocheng                29          14472"
      ]
     },
     "execution_count": 30,
     "metadata": {},
     "output_type": "execute_result"
    }
   ],
   "source": [
    "sql_query_df = pd.read_sql(\"\"\"\n",
    "\n",
    "SELECT name AS \"Airport Name\", \n",
    "       CAST(latitude AS int) AS \"Airport Latitude\",\n",
    "       CAST(altitude AS int) AS \"Altitude (ft)\"\n",
    "       \n",
    "FROM airports\n",
    "\n",
    "WHERE NOT \"Altitude (ft)\" <= 12500\n",
    "\n",
    "\"\"\", con)\n",
    "\n",
    "sql_query_df"
   ]
  },
  {
   "cell_type": "markdown",
   "metadata": {
    "slideshow": {
     "slide_type": "slide"
    }
   },
   "source": [
    "#### Chaining conditionals for filtering\n",
    "- AND\n",
    "- OR\n"
   ]
  },
  {
   "cell_type": "markdown",
   "metadata": {
    "slideshow": {
     "slide_type": "fragment"
    }
   },
   "source": [
    "#### AND\n",
    "Get all airports with:\n",
    "- Altitude > 12500 ft.\n",
    "- Latitude > 30 degrees"
   ]
  },
  {
   "cell_type": "code",
   "execution_count": null,
   "metadata": {
    "slideshow": {
     "slide_type": "slide"
    }
   },
   "outputs": [],
   "source": [
    "sql_query_df = pd.read_sql(\"\"\"\n",
    "\n",
    "SELECT name AS \"Airport Name\", \n",
    "       CAST(latitude AS int) AS \"Airport Latitude\",\n",
    "       CAST(altitude AS int) AS \"Altitude (ft)\"\n",
    "       \n",
    "FROM airports\n",
    "\n",
    "WHERE \"Altitude (ft)\" > 12500 AND \"Airport Latitude\" > 30\n",
    "\n",
    "\"\"\", con)\n",
    "\n",
    "sql_query_df"
   ]
  },
  {
   "cell_type": "markdown",
   "metadata": {
    "slideshow": {
     "slide_type": "slide"
    }
   },
   "source": [
    "#### OR\n",
    "Get all airports and their latitude/longitude in Iceland or Denmark."
   ]
  },
  {
   "cell_type": "code",
   "execution_count": null,
   "metadata": {
    "slideshow": {
     "slide_type": "slide"
    }
   },
   "outputs": [],
   "source": [
    "sql_query_df = pd.read_sql(\"\"\"\n",
    "\n",
    "SELECT name AS \"Airport Name\", \n",
    "        country,\n",
    "       CAST(latitude AS int) AS \"Latitude\",\n",
    "       CAST(longitude AS int) AS \"Longitude\"\n",
    "       \n",
    "FROM airports\n",
    "\n",
    "WHERE country = \"Iceland\" OR country = \"Denmark\"\n",
    "\n",
    "\"\"\", con)\n",
    "\n",
    "sql_query_df.head(12)"
   ]
  },
  {
   "cell_type": "markdown",
   "metadata": {
    "slideshow": {
     "slide_type": "slide"
    }
   },
   "source": [
    "#### Exercise\n",
    "\n",
    "Get the name, lat/long, and altitude for the airport with the maximum altitude considering only airports in Chile and Argentina."
   ]
  },
  {
   "cell_type": "code",
   "execution_count": null,
   "metadata": {
    "slideshow": {
     "slide_type": "fragment"
    }
   },
   "outputs": [],
   "source": []
  },
  {
   "cell_type": "markdown",
   "metadata": {
    "slideshow": {
     "slide_type": "fragment"
    }
   },
   "source": [
    "<details>\n",
    "    <summary><b><u>Click Here for Answer Code</u></b></summary>\n",
    "\n",
    "```python \n",
    "sql_query_df = pd.read_sql(\"\"\"\n",
    "\n",
    "SELECT name AS airport_name,\n",
    "    CAST(latitude as float) AS latitude,\n",
    "    CAST(longitude as float) AS longitude,\n",
    "    MAX(CAST(altitude as int)) AS altitude\n",
    "    \n",
    "    FROM airports\n",
    "    \n",
    "    WHERE country = \"Chile\" OR country = \"Argentina\"\n",
    "    \n",
    "\n",
    "\"\"\", con)\n",
    "\n",
    "sql_query_df\n",
    "\n",
    "```\n",
    "</details>"
   ]
  },
  {
   "cell_type": "markdown",
   "metadata": {
    "slideshow": {
     "slide_type": "slide"
    }
   },
   "source": [
    "#### BETWEEN\n",
    "\n",
    "- Writing multiple inequalities for selecting ranges with `WHERE` statement: annoying.\n",
    "\n",
    "- BETWEEN ... AND ... solves this problem.\n"
   ]
  },
  {
   "cell_type": "markdown",
   "metadata": {
    "slideshow": {
     "slide_type": "fragment"
    }
   },
   "source": [
    "#### Example \n",
    "Get the airport name, country, latitude, and longitude where latitude is between 48 and 51."
   ]
  },
  {
   "cell_type": "code",
   "execution_count": null,
   "metadata": {
    "slideshow": {
     "slide_type": "slide"
    }
   },
   "outputs": [],
   "source": [
    "sql_query_df = pd.read_sql(\"\"\"\n",
    "\n",
    "SELECT name AS \"Airport Name\", \n",
    "        country,\n",
    "       CAST(latitude AS int) AS \"Latitude\",\n",
    "       CAST(longitude AS int) AS \"Longitude\"\n",
    "       \n",
    "FROM airports\n",
    "\n",
    "WHERE Latitude BETWEEN 48 AND 51\n",
    "\"\"\", con)\n",
    "\n",
    "sql_query_df"
   ]
  },
  {
   "cell_type": "markdown",
   "metadata": {
    "slideshow": {
     "slide_type": "slide"
    }
   },
   "source": [
    " #### Exercise\n",
    "Get the name, lat/long, and altitude for the airports with altitude between 0 and 2000 ft considering only airports in Chile and Argentina."
   ]
  },
  {
   "cell_type": "code",
   "execution_count": null,
   "metadata": {
    "slideshow": {
     "slide_type": "fragment"
    }
   },
   "outputs": [],
   "source": []
  },
  {
   "cell_type": "markdown",
   "metadata": {
    "slideshow": {
     "slide_type": "fragment"
    }
   },
   "source": [
    "\n",
    "<details>\n",
    "    <summary><b><u>Click Here for Answer Code</u></b></summary>\n",
    "\n",
    "```python\n",
    "sql_query_df = pd.read_sql(\"\"\"\n",
    "\n",
    "SELECT name, country,\n",
    "CAST(latitude as float) AS latit,\n",
    "CAST(longitude as float) AS longit,\n",
    "CAST(altitude as int) AS altit\n",
    "\n",
    "FROM airports\n",
    "\n",
    "WHERE ( (country == 'Chile') OR (country == 'Argentina') )\n",
    "AND \n",
    "altit BETWEEN 0 AND 2000\n",
    "\n",
    "\n",
    "\"\"\", con)\n",
    "\n",
    "sql_query_df\n",
    "\n",
    "```\n",
    "</details>"
   ]
  },
  {
   "cell_type": "markdown",
   "metadata": {
    "slideshow": {
     "slide_type": "slide"
    }
   },
   "source": [
    "#### IN / NOT IN\n",
    "\n",
    "- Get all records with a given field taking on a set of values.\n",
    "\n",
    "SELECT col1, col2 <br> \n",
    "FROM table <br>\n",
    "WHERE col1 IN (col_value1, col_value2, ...) <br>"
   ]
  },
  {
   "cell_type": "markdown",
   "metadata": {
    "slideshow": {
     "slide_type": "slide"
    }
   },
   "source": [
    "#### Example\n",
    "\n",
    "Get name, latitude, longitude for airports in Brazil, Argentina, Chile, and Uruguay"
   ]
  },
  {
   "cell_type": "code",
   "execution_count": null,
   "metadata": {
    "slideshow": {
     "slide_type": "slide"
    }
   },
   "outputs": [],
   "source": [
    "\n",
    "sql_query_df = pd.read_sql(\"\"\"\n",
    "\n",
    "SELECT name AS \"Airport Name\", \n",
    "        country,\n",
    "       CAST(latitude AS int) AS \"Latitude\",\n",
    "       CAST(longitude AS int) AS \"Longitude\"\n",
    "       \n",
    "FROM airports\n",
    "\n",
    "WHERE country IN (\"Argentina\", \"Brazil\", \"Chile\", \"Uruguay\")\n",
    "\"\"\", con)\n",
    "\n",
    "sql_query_df\n"
   ]
  },
  {
   "cell_type": "markdown",
   "metadata": {
    "heading_collapsed": true,
    "hidden": true,
    "slideshow": {
     "slide_type": "slide"
    }
   },
   "source": [
    "##### Filtering rows with null (or no null) values in `WHERE` statement\n",
    "- IS NULL\n",
    "- IS NOT NULL\n",
    "\n",
    "The `IS` operator:\n",
    "- necessary when working with `NULL` values \n",
    "- Cannot use = or <> operators here.  "
   ]
  },
  {
   "cell_type": "code",
   "execution_count": null,
   "metadata": {
    "hidden": true,
    "slideshow": {
     "slide_type": "slide"
    }
   },
   "outputs": [],
   "source": [
    "pd.read_sql(\"\"\"\n",
    "\n",
    "SELECT name AS \"Airport Name\",\n",
    "       code AS \"Airport Code\"\n",
    "       \n",
    "FROM airports\n",
    "\n",
    "WHERE \"Airport Code\" IS NULL\n",
    "\n",
    "\"\"\", con)"
   ]
  },
  {
   "cell_type": "markdown",
   "metadata": {
    "slideshow": {
     "slide_type": "slide"
    }
   },
   "source": [
    "#### Exercise:\n",
    "\n",
    "Get the count of records with nulls in the code column of the airport table"
   ]
  },
  {
   "cell_type": "code",
   "execution_count": null,
   "metadata": {
    "slideshow": {
     "slide_type": "fragment"
    }
   },
   "outputs": [],
   "source": []
  },
  {
   "cell_type": "markdown",
   "metadata": {
    "slideshow": {
     "slide_type": "fragment"
    }
   },
   "source": [
    "<details>\n",
    "    <summary><b><u>Click Here for Answer Code</u></b></summary>\n",
    "\n",
    "```python \n",
    "pd.read_sql(\"\"\"\n",
    "\n",
    "SELECT COUNT(*)\n",
    "FROM airports\n",
    "WHERE code IS NULL\n",
    "\n",
    "\"\"\", con)\n",
    "```\n",
    "</details>"
   ]
  },
  {
   "cell_type": "markdown",
   "metadata": {
    "heading_collapsed": true,
    "hidden": true,
    "slideshow": {
     "slide_type": "slide"
    }
   },
   "source": [
    "#### ORDER BY: Sorting Results"
   ]
  },
  {
   "cell_type": "markdown",
   "metadata": {
    "hidden": true,
    "slideshow": {
     "slide_type": "fragment"
    }
   },
   "source": [
    "Use `ORDER BY` to identify the column(s) you want to sort on:\n",
    "- `ASC` for ascending order (default)\n",
    "- `DESC` for descending order\n",
    "\n"
   ]
  },
  {
   "cell_type": "markdown",
   "metadata": {
    "cell_style": "center",
    "slideshow": {
     "slide_type": "slide"
    }
   },
   "source": [
    "Get the name and code of airports with:\n",
    "- top 10 highest altitudes.\n",
    "- in order of decreasing altitude. \n",
    "\n",
    "Then get lowest 10 in increasing order."
   ]
  },
  {
   "cell_type": "code",
   "execution_count": null,
   "metadata": {
    "cell_style": "center",
    "hidden": true,
    "scrolled": true,
    "slideshow": {
     "slide_type": "slide"
    }
   },
   "outputs": [],
   "source": [
    "pd.read_sql(\"\"\"\n",
    "\n",
    "SELECT name AS \"Airport Name\", \n",
    "       code,\n",
    "       CAST(altitude AS int) AS \"Altitude (ft)\"\n",
    "       \n",
    "FROM airports\n",
    "\n",
    "ORDER BY \"Altitude (ft)\" DESC\n",
    "\n",
    "LIMIT 10\n",
    "         \n",
    "\"\"\", con)"
   ]
  },
  {
   "cell_type": "markdown",
   "metadata": {
    "cell_style": "split",
    "slideshow": {
     "slide_type": "slide"
    }
   },
   "source": [
    "Ordering on multiple columns:\n",
    "\n",
    "- Can order on one column first and then on another.\n",
    "\n"
   ]
  },
  {
   "cell_type": "markdown",
   "metadata": {
    "cell_style": "split",
    "slideshow": {
     "slide_type": "fragment"
    }
   },
   "source": [
    "#### Example\n",
    "Order by:\n",
    "- decreasing latitudes\n",
    "- increasing longitudes\n",
    "- Altitude > 10000 ft."
   ]
  },
  {
   "cell_type": "code",
   "execution_count": null,
   "metadata": {
    "hidden": true,
    "scrolled": true,
    "slideshow": {
     "slide_type": "fragment"
    }
   },
   "outputs": [],
   "source": [
    "pd.read_sql(\"\"\"\n",
    "\n",
    "SELECT name AS \"Airport Name\",\n",
    "       CAST(altitude AS int) AS \"Altitude (ft)\",\n",
    "       CAST(latitude AS int) AS \"Airport Latitude\",\n",
    "       CAST(longitude AS int) AS \"Airport Longitude\"    \n",
    "FROM airports\n",
    "WHERE \"Altitude (ft)\" > 10000\n",
    "ORDER BY \"Airport Latitude\" DESC, \"Airport Longitude\" \n",
    "\n",
    "\"\"\", con)"
   ]
  },
  {
   "cell_type": "markdown",
   "metadata": {
    "slideshow": {
     "slide_type": "slide"
    }
   },
   "source": [
    "#### CASE WHEN STATEMENTS\n",
    "Use `CASE` to create new columns using conditional logic:\n",
    "\n",
    "E.g. partition altitudes into high, medium and low."
   ]
  },
  {
   "cell_type": "code",
   "execution_count": null,
   "metadata": {
    "slideshow": {
     "slide_type": "slide"
    }
   },
   "outputs": [],
   "source": [
    "sql_query = pd.read_sql(\"\"\"\n",
    "\n",
    "SELECT name AS \"Airport Name\", \n",
    "       CAST(altitude AS int) AS \"Altitude (ft)\",\n",
    "       CASE \n",
    "            WHEN CAST(altitude AS int) > 1000 THEN \"High\"\n",
    "            WHEN CAST(altitude AS int) < 100 THEN \"Low\"\n",
    "            ELSE \"Moderate\"\n",
    "       END AS \"Altitude Category\"\n",
    "       \n",
    "FROM airports\n",
    "         \n",
    "LIMIT 20\n",
    "\n",
    "\"\"\", con)\n",
    "\n",
    "sql_query"
   ]
  },
  {
   "cell_type": "markdown",
   "metadata": {
    "slideshow": {
     "slide_type": "slide"
    }
   },
   "source": [
    "# Exercises"
   ]
  },
  {
   "cell_type": "markdown",
   "metadata": {
    "slideshow": {
     "slide_type": "fragment"
    }
   },
   "source": [
    "## Country List\n"
   ]
  },
  {
   "cell_type": "markdown",
   "metadata": {
    "slideshow": {
     "slide_type": "fragment"
    }
   },
   "source": [
    "Create a list of countries with airports and order them alphabetically A-Z.\n",
    "\n",
    "> _Hint: You will need to remove duplicates._"
   ]
  },
  {
   "cell_type": "code",
   "execution_count": null,
   "metadata": {
    "slideshow": {
     "slide_type": "fragment"
    }
   },
   "outputs": [],
   "source": []
  },
  {
   "cell_type": "markdown",
   "metadata": {
    "slideshow": {
     "slide_type": "fragment"
    }
   },
   "source": [
    "<details>\n",
    "    <summary><b><u>Click Here for Answer Code</u></b></summary>\n",
    "\n",
    "```python \n",
    "pd.read_sql(\"\"\"\n",
    "\n",
    "SELECT DISTINCT country\n",
    "FROM airports\n",
    "ORDER BY country ASC\n",
    "\n",
    "\"\"\", con)\n",
    "```\n",
    "</details>"
   ]
  },
  {
   "cell_type": "markdown",
   "metadata": {
    "slideshow": {
     "slide_type": "slide"
    }
   },
   "source": [
    "## Southern Airports"
   ]
  },
  {
   "cell_type": "markdown",
   "metadata": {
    "slideshow": {
     "slide_type": "fragment"
    }
   },
   "source": [
    "Get the name, country and latitude of the 10 southern-most airports. \n",
    "\n",
    "> _Hint: Look for the smallest latitude._"
   ]
  },
  {
   "cell_type": "code",
   "execution_count": null,
   "metadata": {
    "slideshow": {
     "slide_type": "fragment"
    }
   },
   "outputs": [],
   "source": []
  },
  {
   "cell_type": "markdown",
   "metadata": {
    "slideshow": {
     "slide_type": "fragment"
    }
   },
   "source": [
    "<details>\n",
    "    <summary><b><u>Click Here for Answer Code</u></b></summary>\n",
    "\n",
    "```python \n",
    "pd.read_sql(\"\"\"\n",
    "\n",
    "SELECT name, country, CAST(latitude AS int) AS \"Airport Latitude\"\n",
    "FROM airports\n",
    "ORDER BY \"Airport Latitude\" ASC\n",
    "LIMIT 10\n",
    "\n",
    "\"\"\", con)\n",
    "``` \n",
    "</details>"
   ]
  },
  {
   "cell_type": "markdown",
   "metadata": {
    "slideshow": {
     "slide_type": "slide"
    }
   },
   "source": [
    "## Active UK Airlines"
   ]
  },
  {
   "cell_type": "markdown",
   "metadata": {
    "slideshow": {
     "slide_type": "fragment"
    }
   },
   "source": [
    "Create a list of active airlines in the United Kingdom from the airlines table. \n",
    "\n",
    "> _Hint: You will need to explore the airlines table to figure out how to do this._"
   ]
  },
  {
   "cell_type": "code",
   "execution_count": null,
   "metadata": {
    "slideshow": {
     "slide_type": "fragment"
    }
   },
   "outputs": [],
   "source": []
  },
  {
   "cell_type": "markdown",
   "metadata": {
    "slideshow": {
     "slide_type": "fragment"
    }
   },
   "source": [
    "<details>\n",
    "    <summary><b><u>Click Here for Answer Code</u></b></summary>\n",
    "\n",
    "```python \n",
    "pd.read_sql(\"\"\"\n",
    "\n",
    "SELECT name\n",
    "FROM airlines\n",
    "WHERE active='Y'\n",
    "AND country='United Kingdom'\n",
    "\n",
    "\"\"\", con)\n",
    "```\n",
    "</details>"
   ]
  },
  {
   "cell_type": "markdown",
   "metadata": {
    "slideshow": {
     "slide_type": "slide"
    }
   },
   "source": [
    "**Exercise**\n",
    "\n",
    "- Partition the airports into three latitude regions: \n",
    "\n",
    "- northern (>= 30), central (30,-30), and southern zones (<=-30).\n",
    "\n",
    "Get me all the airports in the central and southern zones:\n",
    "- whose altitude is greater than 3000 ft.\n",
    "- and anywhere but in Brazil, Venezuela, Papua New Guinea, South Africa and Madagascar"
   ]
  },
  {
   "cell_type": "code",
   "execution_count": null,
   "metadata": {
    "slideshow": {
     "slide_type": "fragment"
    }
   },
   "outputs": [],
   "source": []
  },
  {
   "cell_type": "markdown",
   "metadata": {
    "slideshow": {
     "slide_type": "fragment"
    }
   },
   "source": [
    "<details>\n",
    "    <summary><b><u>Click Here for Answer Code</u></b></summary>\n",
    "\n",
    "```python \n",
    "sql_query = pd.read_sql(\"\"\"\n",
    "\n",
    "SELECT name AS \"Airport Name\", country,\n",
    "       CAST(altitude AS int) AS \"Altitude (ft)\",\n",
    "       CAST(latitude AS float) AS \"Latitude (deg)\",\n",
    "       CASE \n",
    "            WHEN CAST(latitude AS float) >= 30 THEN \"Northern\"\n",
    "            WHEN CAST(latitude AS float) <= -30 THEN \"Southern\"\n",
    "            ELSE \"Central\"\n",
    "       END lat_category\n",
    "       \n",
    "FROM airports\n",
    "\n",
    "WHERE \"Altitude (ft)\" > 3000\n",
    "AND\n",
    "lat_category IN (\"Central\", \"Southern\")\n",
    "AND\n",
    "country NOT IN (\"Brazil\", \"Venezuela\", \"Papua New Guinea\", \"South Africa\", \"Madagascar\")\n",
    "\n",
    "\n",
    "\"\"\", con)\n",
    "\n",
    "sql_query\n",
    "```\n",
    "</details>"
   ]
  }
 ],
 "metadata": {
  "kernelspec": {
   "display_name": "Python (learn-env)",
   "language": "python",
   "name": "learn-env"
  },
  "language_info": {
   "codemirror_mode": {
    "name": "ipython",
    "version": 3
   },
   "file_extension": ".py",
   "mimetype": "text/x-python",
   "name": "python",
   "nbconvert_exporter": "python",
   "pygments_lexer": "ipython3",
   "version": "3.8.5"
  }
 },
 "nbformat": 4,
 "nbformat_minor": 5
}
